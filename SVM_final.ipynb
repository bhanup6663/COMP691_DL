{
 "cells": [
  {
   "cell_type": "code",
   "id": "initial_id",
   "metadata": {
    "collapsed": true,
    "ExecuteTime": {
     "end_time": "2024-04-23T17:51:05.251680Z",
     "start_time": "2024-04-23T17:51:05.248222Z"
    }
   },
   "source": [
    "import torch\n",
    "import torchvision.transforms as transforms\n",
    "import numpy as np\n",
    "import torchvision\n",
    "from sklearn.svm import SVC\n",
    "from sklearn.metrics import accuracy_score\n",
    "from sklearn.preprocessing import StandardScaler\n",
    "from torch.utils.data import Subset\n"
   ],
   "outputs": [],
   "execution_count": 7
  },
  {
   "metadata": {
    "ExecuteTime": {
     "end_time": "2024-04-23T17:51:05.265401Z",
     "start_time": "2024-04-23T17:51:05.259691Z"
    }
   },
   "cell_type": "code",
   "source": [
    "\n",
    "# Define CIFAR-10 mean and standard deviation\n",
    "mean = [0.4914, 0.4822, 0.4465]\n",
    "std = [0.2023, 0.1994, 0.2010]\n",
    "\n",
    "# Define transformations for training and validation data\n",
    "train_transform = transforms.Compose([\n",
    "    transforms.RandomHorizontalFlip(p=0.5),\n",
    "    transforms.RandomRotation(degrees=10),\n",
    "    transforms.RandomCrop(32, padding=4),\n",
    "    transforms.ColorJitter(brightness=0.2, contrast=0.2, saturation=0.2, hue=0.1),\n",
    "    transforms.ToTensor(),\n",
    "    transforms.Normalize(mean=mean, std=std)\n",
    "])\n",
    "\n",
    "val_transform = transforms.Compose([\n",
    "    transforms.ToTensor(),\n",
    "    transforms.Normalize(mean=mean, std=std)\n",
    "])\n",
    "\n"
   ],
   "id": "957281a5cb3f02e7",
   "outputs": [],
   "execution_count": 8
  },
  {
   "metadata": {
    "ExecuteTime": {
     "end_time": "2024-04-23T17:51:06.032718Z",
     "start_time": "2024-04-23T17:51:05.266407Z"
    }
   },
   "cell_type": "code",
   "source": [
    "# Define number of classes and samples per class\n",
    "num_classes = 2\n",
    "num_samples_per_class = 25\n",
    "\n",
    "# Load CIFAR-10 dataset\n",
    "cifar_data = torchvision.datasets.CIFAR10(root='./data', train=True, download=True, transform=train_transform)\n",
    "\n",
    "# Select random classes for training\n",
    "random_classes = np.random.choice(range(10), num_classes, replace=False)\n",
    "selected_indices_train = []\n",
    "selected_indices_val = []\n",
    "\n",
    "# Select samples for training and validation\n",
    "for i in random_classes:\n",
    "    class_indices = np.where(np.array(cifar_data.targets) == i)[0]\n",
    "    selected_indices_train.extend(np.random.choice(class_indices, num_samples_per_class, replace=False))\n",
    "    remaining_indices = list(set(class_indices) - set(selected_indices_train))\n",
    "    selected_indices_val.extend(remaining_indices)\n",
    "\n"
   ],
   "id": "2887d49653f41d97",
   "outputs": [
    {
     "name": "stdout",
     "output_type": "stream",
     "text": [
      "Files already downloaded and verified\n"
     ]
    }
   ],
   "execution_count": 9
  },
  {
   "metadata": {
    "ExecuteTime": {
     "end_time": "2024-04-23T17:51:12.492113Z",
     "start_time": "2024-04-23T17:51:06.033723Z"
    }
   },
   "cell_type": "code",
   "source": [
    "# Create Subset datasets for training and validation\n",
    "train_data = Subset(cifar_data, selected_indices_train)\n",
    "val_data = Subset(cifar_data, selected_indices_val)\n",
    "\n",
    "# Create DataLoader for training and validation datasets\n",
    "train_loader = torch.utils.data.DataLoader(train_data, batch_size=len(train_data), shuffle=True)\n",
    "val_loader = torch.utils.data.DataLoader(val_data, batch_size=len(val_data), shuffle=False)\n",
    "\n",
    "# Extract features and labels from training and validation datasets\n",
    "train_features, train_labels = next(iter(train_loader))\n",
    "val_features, val_labels = next(iter(val_loader))\n",
    "\n",
    "train_features = train_features.view(train_features.size(0), -1).numpy()\n",
    "val_features = val_features.view(val_features.size(0), -1).numpy()\n",
    "\n",
    "# Normalize features using StandardScaler\n",
    "scaler = StandardScaler()\n",
    "train_features_scaled = scaler.fit_transform(train_features)\n",
    "val_features_scaled = scaler.transform(val_features)\n"
   ],
   "id": "6f18d71e09c84bbf",
   "outputs": [],
   "execution_count": 10
  },
  {
   "metadata": {
    "ExecuteTime": {
     "end_time": "2024-04-23T17:51:18.498949Z",
     "start_time": "2024-04-23T17:51:12.493625Z"
    }
   },
   "cell_type": "code",
   "source": [
    "\n",
    "# Define SVM model hyperparameters\n",
    "hyperparameters = [\n",
    "    {'C': 0.5, 'gamma': 'scale', 'random_seed': 2},\n",
    "    {'C': 1.0, 'gamma': 'scale', 'random_seed': 1},\n",
    "    {'C': 2.0, 'gamma': 'scale', 'random_seed': 2},\n",
    "    {'C': 3.0, 'gamma': 'scale', 'random_seed': 1},\n",
    "    {'C': 0.5, 'gamma': 'scale', 'random_seed': 1},\n",
    "    {'C': 1.0, 'gamma': 'auto', 'random_seed': 2},\n",
    "    {'C': 2.0, 'gamma': 'auto', 'random_seed': 1},\n",
    "    {'C': 3.0, 'gamma': 'auto', 'random_seed': 2},\n",
    "]\n",
    "\n",
    "# Train SVM models with different hyperparameters\n",
    "svm_models = []\n",
    "svm_accuracies = []\n",
    "for params in hyperparameters:\n",
    "    # Initialize SVM model with specified hyperparameters\n",
    "    model = SVC(kernel='rbf', C=params['C'], gamma=params['gamma'], random_state=params['random_seed'])\n",
    "\n",
    "    # Train model\n",
    "    model.fit(train_features_scaled, train_labels)\n",
    "\n",
    "    # Add trained model to list\n",
    "    svm_models.append(model)\n",
    "\n",
    "    # Predict on validation set\n",
    "    val_predictions = model.predict(val_features_scaled)\n",
    "\n",
    "    # Calculate accuracy\n",
    "    accuracy = accuracy_score(val_labels, val_predictions)\n",
    "    print(\"Taken Parameters: {}\".format(params))\n",
    "    print(\"Accuracy: {}\".format(accuracy))\n",
    "    svm_accuracies.append(accuracy)\n",
    "\n",
    "# Find the best hyperparameter combination and its accuracy\n",
    "best_idx = np.argmax(svm_accuracies)\n",
    "best_hyperparams = hyperparameters[best_idx]\n",
    "best_accuracy = svm_accuracies[best_idx]\n",
    "\n",
    "print(\"Best Hyperparameters:\")\n",
    "print(best_hyperparams)\n",
    "print(f\"Best Accuracy: {best_accuracy * 100:.2f}%\")\n",
    "\n"
   ],
   "id": "a9db40e9db0b2b29",
   "outputs": [
    {
     "name": "stdout",
     "output_type": "stream",
     "text": [
      "Taken Parameters: {'C': 0.5, 'gamma': 'scale', 'random_seed': 2}\n",
      "Accuracy: 0.6212060301507538\n",
      "Taken Parameters: {'C': 1.0, 'gamma': 'scale', 'random_seed': 1}\n",
      "Accuracy: 0.6203015075376884\n",
      "Taken Parameters: {'C': 2.0, 'gamma': 'scale', 'random_seed': 2}\n",
      "Accuracy: 0.6236180904522614\n",
      "Taken Parameters: {'C': 3.0, 'gamma': 'scale', 'random_seed': 1}\n",
      "Accuracy: 0.624321608040201\n",
      "Taken Parameters: {'C': 0.5, 'gamma': 'scale', 'random_seed': 1}\n",
      "Accuracy: 0.6212060301507538\n",
      "Taken Parameters: {'C': 1.0, 'gamma': 'auto', 'random_seed': 2}\n",
      "Accuracy: 0.6203015075376884\n",
      "Taken Parameters: {'C': 2.0, 'gamma': 'auto', 'random_seed': 1}\n",
      "Accuracy: 0.6236180904522614\n",
      "Taken Parameters: {'C': 3.0, 'gamma': 'auto', 'random_seed': 2}\n",
      "Accuracy: 0.624321608040201\n",
      "Best Hyperparameters:\n",
      "{'C': 3.0, 'gamma': 'scale', 'random_seed': 1}\n",
      "Best Accuracy: 62.43%\n"
     ]
    }
   ],
   "execution_count": 11
  },
  {
   "metadata": {
    "ExecuteTime": {
     "end_time": "2024-04-23T17:51:23.903121Z",
     "start_time": "2024-04-23T17:51:18.499954Z"
    }
   },
   "cell_type": "code",
   "source": [
    "# Predictions from individual SVM models\n",
    "individual_predictions = [model.predict(val_features_scaled) for model in svm_models]\n",
    "\n",
    "# Ensemble predictions by averaging\n",
    "ensemble_predictions_avg = np.mean(individual_predictions, axis=0)\n",
    "\n",
    "# Ensemble predictions by voting\n",
    "ensemble_predictions_vote = np.round(np.mean(individual_predictions, axis=0))\n",
    "\n",
    "# Convert ensemble predictions to discrete values (0 or 1)\n",
    "ensemble_predictions_avg_discrete = np.round(ensemble_predictions_avg)\n",
    "ensemble_predictions_vote_discrete = np.round(ensemble_predictions_vote)\n",
    "\n",
    "# Calculate accuracy for ensemble predictions\n",
    "accuracy_avg_discrete = accuracy_score(val_labels, ensemble_predictions_avg_discrete)\n",
    "accuracy_vote_discrete = accuracy_score(val_labels, ensemble_predictions_vote_discrete)\n",
    "\n",
    "print(\"Ensemble Accuracy (Averaging) after conversion: {:.2f}%\".format(accuracy_avg_discrete * 100))\n",
    "print(\"Ensemble Accuracy (Voting) after conversion: {:.2f}%\".format(accuracy_vote_discrete * 100))"
   ],
   "id": "afb6c867928cd1a4",
   "outputs": [
    {
     "name": "stdout",
     "output_type": "stream",
     "text": [
      "Ensemble Accuracy (Averaging) after conversion: 62.38%\n",
      "Ensemble Accuracy (Voting) after conversion: 62.38%\n"
     ]
    }
   ],
   "execution_count": 12
  }
 ],
 "metadata": {
  "kernelspec": {
   "display_name": "Python 3",
   "language": "python",
   "name": "python3"
  },
  "language_info": {
   "codemirror_mode": {
    "name": "ipython",
    "version": 2
   },
   "file_extension": ".py",
   "mimetype": "text/x-python",
   "name": "python",
   "nbconvert_exporter": "python",
   "pygments_lexer": "ipython2",
   "version": "2.7.6"
  }
 },
 "nbformat": 4,
 "nbformat_minor": 5
}
