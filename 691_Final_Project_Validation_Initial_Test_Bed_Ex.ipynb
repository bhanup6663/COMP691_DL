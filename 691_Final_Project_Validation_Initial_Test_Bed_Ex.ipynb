{
  "nbformat": 4,
  "nbformat_minor": 0,
  "metadata": {
    "colab": {
      "provenance": [],
      "include_colab_link": true
    },
    "kernelspec": {
      "name": "python3",
      "display_name": "Python 3"
    },
    "accelerator": "GPU",
    "gpuClass": "standard"
  },
  "cells": [
    {
      "cell_type": "markdown",
      "metadata": {
        "id": "view-in-github",
        "colab_type": "text"
      },
      "source": [
        "<a href=\"https://colab.research.google.com/github/bhanup6663/COMP691_DL/blob/main/691_Final_Project_Validation_Initial_Test_Bed_Ex.ipynb\" target=\"_parent\"><img src=\"https://colab.research.google.com/assets/colab-badge.svg\" alt=\"Open In Colab\"/></a>"
      ]
    },
    {
      "cell_type": "markdown",
      "metadata": {
        "id": "vV6DxGkPeQDD"
      },
      "source": [
        "***Challenge 1***"
      ]
    },
    {
      "cell_type": "markdown",
      "metadata": {
        "id": "72hfgxjTd_lk"
      },
      "source": [
        "Here the goal is to train on 25 samples. In this preliminary testbed the evaluation will be done on a 2000 sample validation set. Note in the end the final evaluation will be done on the full CIFAR-10 test set as well as potentially a separate dataset. The validation samples here should not be used for training in any way, the final evaluation will provide only random samples of 25 from a datasource that is not the CIFAR-10 training data."
      ]
    },
    {
      "cell_type": "markdown",
      "metadata": {
        "id": "zk0Ilt_-duk2"
      },
      "source": [
        "Feel free to modify this testbed to your liking, including the normalization transformations etc. Note however the final evaluation testbed will have a rigid set of components where you will need to place your answer. The only constraint is the data. Refer to the full project instructions for more information.\n"
      ]
    },
    {
      "cell_type": "markdown",
      "metadata": {
        "id": "MWyBTUe3idZI"
      },
      "source": [
        "Setup training functions. Again you are free to fully modify this testbed in your prototyping within the constraints of the data used. You can use tools outside of pytorch for training models if desired as well although the torchvision dataloaders will still be useful for interacting with the cifar-10 dataset."
      ]
    },
    {
      "cell_type": "code",
      "metadata": {
        "id": "N7soYNWEedl9"
      },
      "source": [
        "def train(model, device, train_loader, optimizer, epoch, display=True):\n",
        "    model.train()\n",
        "    for batch_idx, (data, target) in enumerate(train_loader):\n",
        "        data, target = data.to(device), target.to(device)\n",
        "        optimizer.zero_grad()\n",
        "        output = model(data)\n",
        "        loss = F.cross_entropy(output, target)\n",
        "        loss.backward()\n",
        "        optimizer.step()\n",
        "    if display:\n",
        "      print('Train Epoch: {} [{}/{} ({:.0f}%)]\\tLoss: {:.6f}'.format(\n",
        "          epoch, batch_idx * len(data), len(train_loader.dataset),\n",
        "          100. * batch_idx / len(train_loader), loss.item()))\n",
        "\n",
        "def test(model, device, test_loader):\n",
        "    model.eval()\n",
        "    test_loss = 0\n",
        "    correct = 0\n",
        "    with torch.no_grad():\n",
        "        for data, target in test_loader:\n",
        "            data, target = data.to(device), target.to(device)\n",
        "            output = model(data)\n",
        "            test_loss += F.cross_entropy(output, target, size_average=False).item() # sum up batch loss\n",
        "            pred = output.max(1, keepdim=True)[1] # get the index of the max log-probability\n",
        "            correct += pred.eq(target.view_as(pred)).sum().item()\n",
        "\n",
        "    test_loss /= len(test_loader.dataset)\n",
        "    print('\\nTest set: Average loss: {:.4f}, Accuracy: {}/{} ({:.2f}%)\\n'.format(\n",
        "        test_loss, correct, len(test_loader.dataset),\n",
        "        100. * correct / len(test_loader.dataset)))\n",
        "    return 100. * correct / len(test_loader.dataset)"
      ],
      "execution_count": null,
      "outputs": []
    },
    {
      "cell_type": "code",
      "metadata": {
        "id": "G4hpe7QbQFnr"
      },
      "source": [
        "import torch\n",
        "import torch.nn as nn\n",
        "import torch.nn.functional as F\n",
        "\n",
        "class Net(torch.nn.Module):\n",
        "    def __init__(self):\n",
        "        super(Net, self).__init__()\n",
        "        self.layers = nn.ModuleList()\n",
        "\n",
        "        self.layers+=[nn.Conv2d(3, 16,  kernel_size=3) ,\n",
        "                      nn.ReLU(inplace=True)]\n",
        "        self.layers+=[nn.Conv2d(16, 16,  kernel_size=3, stride=2),\n",
        "                      nn.ReLU(inplace=True)]\n",
        "        self.layers+=[nn.Conv2d(16, 32,  kernel_size=3),\n",
        "                      nn.ReLU(inplace=True)]\n",
        "        self.layers+=[nn.Conv2d(32, 32,  kernel_size=3, stride=2),\n",
        "                      nn.ReLU(inplace=True)]\n",
        "        self.fc = nn.Linear(32*5*5, 10)\n",
        "    def forward(self, x):\n",
        "        for i in range(len(self.layers)):\n",
        "          x = self.layers[i](x)\n",
        "        x = x.view(-1, 32*5*5)\n",
        "        x = self.fc(x)\n",
        "        return x"
      ],
      "execution_count": null,
      "outputs": []
    },
    {
      "cell_type": "markdown",
      "metadata": {
        "id": "jPjWBE4MerTX"
      },
      "source": [
        "The below tries  2 random problem instances. In your development you may choose to prototype with 1 problem instances but keep in mind for small sample problems the variance is high so continously evaluating on several subsets will be important."
      ]
    },
    {
      "cell_type": "code",
      "metadata": {
        "id": "6v7xU1HMelJ3",
        "colab": {
          "base_uri": "https://localhost:8080/"
        },
        "outputId": "677cbc50-9576-471d-da15-82ee12de8a1d"
      },
      "source": [
        "from numpy.random import RandomState\n",
        "import numpy as np\n",
        "import torch.optim as optim\n",
        "from torch.utils.data import Subset\n",
        "\n",
        "\n",
        "from torchvision import datasets, transforms\n",
        "normalize = transforms.Normalize((0.4914, 0.4822, 0.4465), (0.247, 0.243, 0.261))\n",
        "\n",
        "transform_val = transforms.Compose([transforms.ToTensor(), normalize]) #careful to keep this one same\n",
        "transform_train = transforms.Compose([transforms.ToTensor(), normalize])\n",
        "\n",
        "use_cuda = torch.cuda.is_available()\n",
        "device = torch.device(\"cuda\" if use_cuda else \"cpu\")\n",
        "\n",
        "##### Cifar Data\n",
        "cifar_data = datasets.CIFAR10(root='.',train=True, transform=transform_train, download=True)\n",
        "\n",
        "#We need two copies of this due to weird dataset api\n",
        "cifar_data_val = datasets.CIFAR10(root='.',train=True, transform=transform_val, download=True)\n",
        "\n",
        "\n",
        "accs = []\n",
        "\n",
        "for seed in range(1, 5):\n",
        "  prng = RandomState(seed)\n",
        "  random_permute = prng.permutation(np.arange(0, 1000))\n",
        "  classes =  prng.permutation(np.arange(0,10))\n",
        "  indx_train = np.concatenate([np.where(np.array(cifar_data.targets) == classe)[0][random_permute[0:25]] for classe in classes[0:2]])\n",
        "  indx_val = np.concatenate([np.where(np.array(cifar_data.targets) == classe)[0][random_permute[25:225]] for classe in classes[0:2]])\n",
        "\n",
        "\n",
        "  train_data = Subset(cifar_data, indx_train)\n",
        "  val_data = Subset(cifar_data_val, indx_val)\n",
        "\n",
        "  print('Num Samples For Training %d Num Samples For Val %d'%(train_data.indices.shape[0],val_data.indices.shape[0]))\n",
        "\n",
        "  train_loader = torch.utils.data.DataLoader(train_data,\n",
        "                                             batch_size=128,\n",
        "                                             shuffle=True)\n",
        "\n",
        "  val_loader = torch.utils.data.DataLoader(val_data,\n",
        "                                           batch_size=128,\n",
        "                                           shuffle=False)\n",
        "\n",
        "\n",
        "  model = Net()\n",
        "  model.to(device)\n",
        "  optimizer = torch.optim.SGD(model.parameters(),lr=0.01, momentum=0.9,\n",
        "                              weight_decay=0.0005)\n",
        "  for epoch in range(100):\n",
        "    train(model, device, train_loader, optimizer, epoch, display=epoch%5==0)\n",
        "\n",
        "  accs.append(test(model, device, val_loader))\n",
        "\n",
        "accs = np.array(accs)\n",
        "print('Acc over 5 instances: %.2f +- %.2f'%(accs.mean(),accs.std()))\n"
      ],
      "execution_count": null,
      "outputs": [
        {
          "output_type": "stream",
          "name": "stdout",
          "text": [
            "Files already downloaded and verified\n",
            "Files already downloaded and verified\n",
            "Num Samples For Training 50 Num Samples For Val 400\n",
            "Train Epoch: 0 [0/50 (0%)]\tLoss: 2.283005\n",
            "Train Epoch: 5 [0/50 (0%)]\tLoss: 2.170101\n",
            "Train Epoch: 10 [0/50 (0%)]\tLoss: 1.618046\n",
            "Train Epoch: 15 [0/50 (0%)]\tLoss: 0.676998\n",
            "Train Epoch: 20 [0/50 (0%)]\tLoss: 2.002836\n",
            "Train Epoch: 25 [0/50 (0%)]\tLoss: 0.703720\n",
            "Train Epoch: 30 [0/50 (0%)]\tLoss: 0.718259\n",
            "Train Epoch: 35 [0/50 (0%)]\tLoss: 0.701275\n",
            "Train Epoch: 40 [0/50 (0%)]\tLoss: 0.668043\n",
            "Train Epoch: 45 [0/50 (0%)]\tLoss: 0.596942\n",
            "Train Epoch: 50 [0/50 (0%)]\tLoss: 0.526378\n",
            "Train Epoch: 55 [0/50 (0%)]\tLoss: 0.517902\n",
            "Train Epoch: 60 [0/50 (0%)]\tLoss: 0.449490\n",
            "Train Epoch: 65 [0/50 (0%)]\tLoss: 0.415434\n",
            "Train Epoch: 70 [0/50 (0%)]\tLoss: 0.364471\n",
            "Train Epoch: 75 [0/50 (0%)]\tLoss: 0.318103\n",
            "Train Epoch: 80 [0/50 (0%)]\tLoss: 0.261956\n",
            "Train Epoch: 85 [0/50 (0%)]\tLoss: 0.207526\n",
            "Train Epoch: 90 [0/50 (0%)]\tLoss: 0.152335\n",
            "Train Epoch: 95 [0/50 (0%)]\tLoss: 0.104358\n"
          ]
        },
        {
          "output_type": "stream",
          "name": "stderr",
          "text": [
            "/usr/local/lib/python3.8/dist-packages/torch/nn/_reduction.py:42: UserWarning: size_average and reduce args will be deprecated, please use reduction='sum' instead.\n",
            "  warnings.warn(warning.format(ret))\n"
          ]
        },
        {
          "output_type": "stream",
          "name": "stdout",
          "text": [
            "\n",
            "Test set: Average loss: 2.2565, Accuracy: 245/400 (61.25%)\n",
            "\n",
            "Num Samples For Training 50 Num Samples For Val 400\n",
            "Train Epoch: 0 [0/50 (0%)]\tLoss: 2.338250\n",
            "Train Epoch: 5 [0/50 (0%)]\tLoss: 2.185163\n",
            "Train Epoch: 10 [0/50 (0%)]\tLoss: 1.239303\n",
            "Train Epoch: 15 [0/50 (0%)]\tLoss: 0.644484\n",
            "Train Epoch: 20 [0/50 (0%)]\tLoss: 1.474201\n",
            "Train Epoch: 25 [0/50 (0%)]\tLoss: 1.109224\n",
            "Train Epoch: 30 [0/50 (0%)]\tLoss: 0.759124\n",
            "Train Epoch: 35 [0/50 (0%)]\tLoss: 0.679691\n",
            "Train Epoch: 40 [0/50 (0%)]\tLoss: 0.596090\n",
            "Train Epoch: 45 [0/50 (0%)]\tLoss: 0.561836\n",
            "Train Epoch: 50 [0/50 (0%)]\tLoss: 0.530404\n",
            "Train Epoch: 55 [0/50 (0%)]\tLoss: 0.522164\n",
            "Train Epoch: 60 [0/50 (0%)]\tLoss: 0.491065\n",
            "Train Epoch: 65 [0/50 (0%)]\tLoss: 0.474978\n",
            "Train Epoch: 70 [0/50 (0%)]\tLoss: 0.444914\n",
            "Train Epoch: 75 [0/50 (0%)]\tLoss: 0.418884\n",
            "Train Epoch: 80 [0/50 (0%)]\tLoss: 0.384521\n",
            "Train Epoch: 85 [0/50 (0%)]\tLoss: 0.351082\n",
            "Train Epoch: 90 [0/50 (0%)]\tLoss: 0.321335\n",
            "Train Epoch: 95 [0/50 (0%)]\tLoss: 0.289329\n",
            "\n",
            "Test set: Average loss: 1.1744, Accuracy: 258/400 (64.50%)\n",
            "\n",
            "Num Samples For Training 50 Num Samples For Val 400\n",
            "Train Epoch: 0 [0/50 (0%)]\tLoss: 2.307143\n",
            "Train Epoch: 5 [0/50 (0%)]\tLoss: 2.176641\n",
            "Train Epoch: 10 [0/50 (0%)]\tLoss: 1.692408\n",
            "Train Epoch: 15 [0/50 (0%)]\tLoss: 0.680839\n",
            "Train Epoch: 20 [0/50 (0%)]\tLoss: 0.597480\n",
            "Train Epoch: 25 [0/50 (0%)]\tLoss: 0.640078\n",
            "Train Epoch: 30 [0/50 (0%)]\tLoss: 0.746481\n",
            "Train Epoch: 35 [0/50 (0%)]\tLoss: 0.957002\n",
            "Train Epoch: 40 [0/50 (0%)]\tLoss: 0.841501\n",
            "Train Epoch: 45 [0/50 (0%)]\tLoss: 0.735172\n",
            "Train Epoch: 50 [0/50 (0%)]\tLoss: 0.693543\n",
            "Train Epoch: 55 [0/50 (0%)]\tLoss: 0.637682\n",
            "Train Epoch: 60 [0/50 (0%)]\tLoss: 0.565287\n",
            "Train Epoch: 65 [0/50 (0%)]\tLoss: 0.481928\n",
            "Train Epoch: 70 [0/50 (0%)]\tLoss: 0.443901\n",
            "Train Epoch: 75 [0/50 (0%)]\tLoss: 0.396930\n",
            "Train Epoch: 80 [0/50 (0%)]\tLoss: 0.364872\n",
            "Train Epoch: 85 [0/50 (0%)]\tLoss: 0.328892\n",
            "Train Epoch: 90 [0/50 (0%)]\tLoss: 0.290510\n",
            "Train Epoch: 95 [0/50 (0%)]\tLoss: 0.237811\n",
            "\n",
            "Test set: Average loss: 0.4021, Accuracy: 330/400 (82.50%)\n",
            "\n",
            "Num Samples For Training 50 Num Samples For Val 400\n",
            "Train Epoch: 0 [0/50 (0%)]\tLoss: 2.283873\n",
            "Train Epoch: 5 [0/50 (0%)]\tLoss: 2.163081\n",
            "Train Epoch: 10 [0/50 (0%)]\tLoss: 1.519470\n",
            "Train Epoch: 15 [0/50 (0%)]\tLoss: 0.621312\n",
            "Train Epoch: 20 [0/50 (0%)]\tLoss: 0.605264\n",
            "Train Epoch: 25 [0/50 (0%)]\tLoss: 0.590217\n",
            "Train Epoch: 30 [0/50 (0%)]\tLoss: 0.571409\n",
            "Train Epoch: 35 [0/50 (0%)]\tLoss: 0.419285\n",
            "Train Epoch: 40 [0/50 (0%)]\tLoss: 0.395066\n",
            "Train Epoch: 45 [0/50 (0%)]\tLoss: 0.324982\n",
            "Train Epoch: 50 [0/50 (0%)]\tLoss: 0.287644\n",
            "Train Epoch: 55 [0/50 (0%)]\tLoss: 0.237861\n",
            "Train Epoch: 60 [0/50 (0%)]\tLoss: 0.194277\n",
            "Train Epoch: 65 [0/50 (0%)]\tLoss: 0.156064\n",
            "Train Epoch: 70 [0/50 (0%)]\tLoss: 0.117292\n",
            "Train Epoch: 75 [0/50 (0%)]\tLoss: 0.084801\n",
            "Train Epoch: 80 [0/50 (0%)]\tLoss: 0.055965\n",
            "Train Epoch: 85 [0/50 (0%)]\tLoss: 0.034279\n",
            "Train Epoch: 90 [0/50 (0%)]\tLoss: 0.021448\n",
            "Train Epoch: 95 [0/50 (0%)]\tLoss: 0.013349\n",
            "\n",
            "Test set: Average loss: 4.4977, Accuracy: 254/400 (63.50%)\n",
            "\n",
            "Acc over 5 instances: 67.94 +- 8.49\n"
          ]
        }
      ]
    },
    {
      "cell_type": "markdown",
      "metadata": {
        "id": "A8GlJkOdfYY0"
      },
      "source": [
        "***Challenge 2***\n",
        "\n",
        "You may use the same testbed but without the constraints on external datasets or models trained on exeternal datasets. You may not however use any of the CIFAR-10 training set."
      ]
    },
    {
      "cell_type": "code",
      "metadata": {
        "colab": {
          "base_uri": "https://localhost:8080/"
        },
        "id": "dktQa6mWiHYZ",
        "outputId": "1cd0358e-3695-476f-f08a-afb2aee194f6"
      },
      "source": [
        "import torchvision.models as models\n",
        "\n",
        "from numpy.random import RandomState\n",
        "import numpy as np\n",
        "import torch\n",
        "import torch.optim as optim\n",
        "from torch.utils.data import Subset\n",
        "\n",
        "\n",
        "from torchvision import datasets, transforms\n",
        "normalize = transforms.Normalize(mean=[0.485, 0.456, 0.406],\n",
        "                                  std=[0.229, 0.224, 0.225])\n",
        "\n",
        "# We resize images to allow using imagenet pre-trained models, is there a better way?\n",
        "resize = transforms.Resize(224)\n",
        "\n",
        "transform_val = transforms.Compose([resize, transforms.ToTensor(), normalize]) #careful to keep this one same\n",
        "transform_train = transforms.Compose([resize, transforms.ToTensor(), normalize])\n",
        "\n",
        "use_cuda = torch.cuda.is_available()\n",
        "device = torch.device(\"cuda\" if use_cuda else \"cpu\")\n",
        "print(device) # you will really need gpu's for this part\n",
        "\n",
        "##### Cifar Data\n",
        "cifar_data = datasets.CIFAR10(root='.',train=True, transform=transform_train, download=True)\n",
        "\n",
        "#We need two copies of this due to weird dataset api\n",
        "cifar_data_val = datasets.CIFAR10(root='.',train=True, transform=transform_val, download=True)\n",
        "\n",
        "accs = []\n",
        "\n",
        "for seed in range(1, 5):\n",
        "  prng = RandomState(seed)\n",
        "  random_permute = prng.permutation(np.arange(0, 5000))\n",
        "  classes =  prng.permutation(np.arange(0,10))\n",
        "  indx_train = np.concatenate([np.where(np.array(cifar_data.targets) == classe)[0][random_permute[0:25]] for classe in classes[0:2]])\n",
        "  indx_val = np.concatenate([np.where(np.array(cifar_data.targets) == classe)[0][random_permute[25:225]] for classe in classes[0:2]])\n",
        "\n",
        "  train_data = Subset(cifar_data, indx_train)\n",
        "  val_data = Subset(cifar_data_val, indx_val)\n",
        "\n",
        "  print('Num Samples For Training %d Num Samples For Val %d'%(train_data.indices.shape[0],val_data.indices.shape[0]))\n",
        "\n",
        "  train_loader = torch.utils.data.DataLoader(train_data,\n",
        "                                             batch_size=128,\n",
        "                                             shuffle=True)\n",
        "\n",
        "  val_loader = torch.utils.data.DataLoader(val_data,\n",
        "                                           batch_size=128,\n",
        "                                           shuffle=False)\n",
        "\n",
        "\n",
        "  model = models.alexnet(pretrained=True)\n",
        "  model.classifier = nn.Linear(256 * 6 * 6, 10)\n",
        "  optimizer = torch.optim.SGD(model.classifier.parameters(),\n",
        "                              lr=0.01, momentum=0.9,\n",
        "                              weight_decay=0.0005)\n",
        "  model.to(device)\n",
        "  for epoch in range(10):\n",
        "    train(model, device, train_loader, optimizer, epoch, display=True)\n",
        "\n",
        "  accs.append(test(model, device, val_loader))\n",
        "\n",
        "accs = np.array(accs)\n",
        "print('Acc over 2 instances: %.2f +- %.2f'%(accs.mean(),accs.std()))"
      ],
      "execution_count": null,
      "outputs": [
        {
          "output_type": "stream",
          "name": "stdout",
          "text": [
            "cuda\n",
            "Files already downloaded and verified\n",
            "Files already downloaded and verified\n",
            "Num Samples For Training 50 Num Samples For Val 400\n",
            "Train Epoch: 0 [0/50 (0%)]\tLoss: 2.680167\n",
            "Train Epoch: 1 [0/50 (0%)]\tLoss: 0.257684\n",
            "Train Epoch: 2 [0/50 (0%)]\tLoss: 0.397602\n",
            "Train Epoch: 3 [0/50 (0%)]\tLoss: 0.000331\n",
            "Train Epoch: 4 [0/50 (0%)]\tLoss: 0.000522\n",
            "Train Epoch: 5 [0/50 (0%)]\tLoss: 0.004421\n",
            "Train Epoch: 6 [0/50 (0%)]\tLoss: 0.020716\n",
            "Train Epoch: 7 [0/50 (0%)]\tLoss: 0.022789\n",
            "Train Epoch: 8 [0/50 (0%)]\tLoss: 0.006187\n",
            "Train Epoch: 9 [0/50 (0%)]\tLoss: 0.001184\n",
            "\n",
            "Test set: Average loss: 1.2059, Accuracy: 336/400 (84.00%)\n",
            "\n",
            "Num Samples For Training 50 Num Samples For Val 400\n",
            "Train Epoch: 0 [0/50 (0%)]\tLoss: 2.374002\n",
            "Train Epoch: 1 [0/50 (0%)]\tLoss: 0.742562\n",
            "Train Epoch: 2 [0/50 (0%)]\tLoss: 2.292957\n",
            "Train Epoch: 3 [0/50 (0%)]\tLoss: 0.015623\n",
            "Train Epoch: 4 [0/50 (0%)]\tLoss: 0.341959\n",
            "Train Epoch: 5 [0/50 (0%)]\tLoss: 0.516503\n",
            "Train Epoch: 6 [0/50 (0%)]\tLoss: 0.216402\n",
            "Train Epoch: 7 [0/50 (0%)]\tLoss: 0.010273\n",
            "Train Epoch: 8 [0/50 (0%)]\tLoss: 0.000000\n",
            "Train Epoch: 9 [0/50 (0%)]\tLoss: 0.000000\n",
            "\n",
            "Test set: Average loss: 0.3219, Accuracy: 380/400 (95.00%)\n",
            "\n",
            "Num Samples For Training 50 Num Samples For Val 400\n",
            "Train Epoch: 0 [0/50 (0%)]\tLoss: 2.431916\n",
            "Train Epoch: 1 [0/50 (0%)]\tLoss: 0.283807\n",
            "Train Epoch: 2 [0/50 (0%)]\tLoss: 1.095099\n",
            "Train Epoch: 3 [0/50 (0%)]\tLoss: 0.243775\n",
            "Train Epoch: 4 [0/50 (0%)]\tLoss: 0.272980\n",
            "Train Epoch: 5 [0/50 (0%)]\tLoss: 0.001044\n",
            "Train Epoch: 6 [0/50 (0%)]\tLoss: 0.047019\n",
            "Train Epoch: 7 [0/50 (0%)]\tLoss: 0.107358\n",
            "Train Epoch: 8 [0/50 (0%)]\tLoss: 0.059909\n",
            "Train Epoch: 9 [0/50 (0%)]\tLoss: 0.004315\n",
            "\n",
            "Test set: Average loss: 0.5498, Accuracy: 366/400 (91.50%)\n",
            "\n",
            "Num Samples For Training 50 Num Samples For Val 400\n",
            "Train Epoch: 0 [0/50 (0%)]\tLoss: 2.631050\n",
            "Train Epoch: 1 [0/50 (0%)]\tLoss: 0.673960\n",
            "Train Epoch: 2 [0/50 (0%)]\tLoss: 6.375646\n",
            "Train Epoch: 3 [0/50 (0%)]\tLoss: 0.021613\n",
            "Train Epoch: 4 [0/50 (0%)]\tLoss: 3.167251\n",
            "Train Epoch: 5 [0/50 (0%)]\tLoss: 0.002365\n",
            "Train Epoch: 6 [0/50 (0%)]\tLoss: 0.284596\n",
            "Train Epoch: 7 [0/50 (0%)]\tLoss: 0.842632\n",
            "Train Epoch: 8 [0/50 (0%)]\tLoss: 0.235349\n",
            "Train Epoch: 9 [0/50 (0%)]\tLoss: 0.079008\n",
            "\n",
            "Test set: Average loss: 1.0893, Accuracy: 344/400 (86.00%)\n",
            "\n",
            "Acc over 2 instances: 89.12 +- 4.36\n"
          ]
        }
      ]
    }
  ]
}