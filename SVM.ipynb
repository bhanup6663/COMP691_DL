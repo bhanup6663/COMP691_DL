{
 "cells": [
  {
   "cell_type": "code",
   "execution_count": 12,
   "id": "d0bfc35e",
   "metadata": {},
   "outputs": [],
   "source": [
    "import torch\n",
    "import torchvision.transforms as transforms\n",
    "import numpy as np\n",
    "import torchvision\n",
    "from sklearn.svm import SVC\n",
    "from sklearn.metrics import accuracy_score\n",
    "from numpy.random import RandomState\n",
    "from sklearn.preprocessing import StandardScaler\n",
    "from torch.utils.data import Subset"
   ]
  },
  {
   "cell_type": "code",
   "execution_count": 13,
   "id": "c68ac642",
   "metadata": {},
   "outputs": [],
   "source": [
    "mean = [0.4914, 0.4822, 0.4465]\n",
    "std = [0.2023, 0.1994, 0.2010]\n",
    "\n",
    "# Define transformations for training and validation data\n",
    "train_transform = transforms.Compose([\n",
    "    transforms.RandomHorizontalFlip(p=0.5),\n",
    "    transforms.RandomRotation(degrees=10), \n",
    "    transforms.RandomCrop(32, padding=4),  \n",
    "    transforms.ColorJitter(brightness=0.2, contrast=0.2, saturation=0.2, hue=0.1),  \n",
    "    transforms.ToTensor(),  \n",
    "    transforms.Normalize(mean=[0.4914, 0.4822, 0.4465], std=[0.2023, 0.1994, 0.2010])\n",
    "])\n",
    "\n",
    "val_transform = transforms.Compose([\n",
    "    transforms.ToTensor(),\n",
    "    transforms.Normalize(mean=[0.4914, 0.4822, 0.4465], std=[0.2023, 0.1994, 0.2010])\n",
    "])"
   ]
  },
  {
   "cell_type": "code",
   "execution_count": 14,
   "id": "770c2b35",
   "metadata": {},
   "outputs": [
    {
     "name": "stdout",
     "output_type": "stream",
     "text": [
      "Files already downloaded and verified\n"
     ]
    }
   ],
   "source": [
    "num_classes = 2\n",
    "num_samples_per_class = 25\n",
    "\n",
    "cifar_data = torchvision.datasets.CIFAR10(root='./data', train=True, download=True, transform=train_transform)\n",
    "random_classes = np.random.choice(range(10), num_classes, replace=False)\n",
    "selected_indices_train = []\n",
    "selected_indices_val = []\n",
    "\n",
    "\n",
    "for i in random_classes:\n",
    "    class_indices = np.where(np.array(cifar_data.targets) == i)[0]\n",
    "    selected_indices_train.extend(np.random.choice(class_indices, num_samples_per_class, replace=False))\n",
    "    remaining_indices = list(set(class_indices) - set(selected_indices_train))\n",
    "    selected_indices_val.extend(remaining_indices)"
   ]
  },
  {
   "cell_type": "code",
   "execution_count": 15,
   "id": "8a9e7568",
   "metadata": {},
   "outputs": [],
   "source": [
    "train_data = Subset(cifar_data, selected_indices_train)\n",
    "val_data = Subset(cifar_data, selected_indices_val)\n",
    "\n",
    "# Create DataLoader for training and validation datasets\n",
    "train_loader = torch.utils.data.DataLoader(train_data, batch_size=len(train_data), shuffle=True)\n",
    "val_loader = torch.utils.data.DataLoader(val_data, batch_size=len(val_data), shuffle=False)\n",
    "\n",
    "# Extract features and labels from training and validation datasets\n",
    "train_features, train_labels = next(iter(train_loader))\n",
    "val_features, val_labels = next(iter(val_loader))\n",
    "\n",
    "train_features = train_features.view(train_features.size(0), -1).numpy()\n",
    "val_features = val_features.view(val_features.size(0), -1).numpy()\n",
    "\n",
    "# Normalize features using StandardScaler\n",
    "scaler = StandardScaler()\n",
    "train_features_scaled = scaler.fit_transform(train_features)\n",
    "val_features_scaled = scaler.transform(val_features)\n"
   ]
  },
  {
   "cell_type": "code",
   "execution_count": 16,
   "id": "c66be5fa",
   "metadata": {},
   "outputs": [
    {
     "name": "stdout",
     "output_type": "stream",
     "text": [
      "Validation Accuracy: 74.08%\n"
     ]
    }
   ],
   "source": [
    "model = SVC(kernel='rbf', C=1.0, gamma='auto')  # Adjust gamma value\n",
    "model.fit(train_features_scaled, train_labels)\n",
    "\n",
    "# Predict on validation set\n",
    "val_predictions = model.predict(val_features_scaled)\n",
    "\n",
    "# Calculate accuracy\n",
    "accuracy = accuracy_score(val_labels, val_predictions)\n",
    "print(\"Validation Accuracy: {:.2f}%\".format(accuracy * 100))"
   ]
  },
  {
   "cell_type": "code",
   "execution_count": 18,
   "id": "e97afd7c",
   "metadata": {},
   "outputs": [],
   "source": [
    "hyperparameters = [\n",
    "    {'C': 1.0, 'gamma': 'scale', 'random_seed': 1},\n",
    "    {'C': 0.5, 'gamma': 'scale', 'random_seed': 2},\n",
    "    {'C': 1.5, 'gamma': 'scale', 'random_seed': 1},\n",
    "    {'C': 0.5, 'gamma': 'auto', 'random_seed': 2},\n",
    "    {'C': 0.5, 'gamma': 'auto', 'random_seed': 1},\n",
    "    {'C': 0.5, 'gamma': 'auto', 'random_seed': 2},\n",
    "]"
   ]
  },
  {
   "cell_type": "code",
   "execution_count": 19,
   "id": "8cc832a3",
   "metadata": {},
   "outputs": [],
   "source": [
    "svm_models = []\n",
    "for params in hyperparameters:\n",
    "    # Initialize SVM model with specified hyperparameters\n",
    "    model = SVC(kernel='rbf', C=params['C'], gamma=params['gamma'], random_state=params['random_seed'])\n",
    "    \n",
    "    # Train model\n",
    "    model.fit(train_features_scaled, train_labels)\n",
    "    \n",
    "    # Add trained model to list\n",
    "    svm_models.append(model)"
   ]
  },
  {
   "cell_type": "code",
   "execution_count": 21,
   "id": "ad9de5b6",
   "metadata": {},
   "outputs": [
    {
     "name": "stdout",
     "output_type": "stream",
     "text": [
      "Ensemble Accuracy (Averaging) after conversion: 69.11%\n",
      "Ensemble Accuracy (Voting) after conversion: 69.11%\n"
     ]
    }
   ],
   "source": [
    "individual_predictions = []\n",
    "for model in svm_models:\n",
    "    predictions = model.predict(val_features_scaled)\n",
    "    individual_predictions.append(predictions)\n",
    "\n",
    "ensemble_predictions_avg_discrete = np.round(ensemble_predictions_avg)\n",
    "ensemble_predictions_vote_discrete = np.round(ensemble_predictions_vote)\n",
    "\n",
    "accuracy_avg_discrete = accuracy_score(val_labels, ensemble_predictions_avg_discrete)\n",
    "accuracy_vote_discrete = accuracy_score(val_labels, ensemble_predictions_vote_discrete)\n",
    "\n",
    "print(\"Ensemble Accuracy (Averaging) after conversion: {:.2f}%\".format(accuracy_avg_discrete * 100))\n",
    "print(\"Ensemble Accuracy (Voting) after conversion: {:.2f}%\".format(accuracy_vote_discrete * 100))"
   ]
  },
  {
   "cell_type": "code",
   "execution_count": null,
   "id": "cb6dcfed",
   "metadata": {},
   "outputs": [],
   "source": []
  },
  {
   "cell_type": "code",
   "execution_count": null,
   "id": "a34aed3c",
   "metadata": {},
   "outputs": [],
   "source": []
  }
 ],
 "metadata": {
  "kernelspec": {
   "display_name": "Python 3 (ipykernel)",
   "language": "python",
   "name": "python3"
  },
  "language_info": {
   "codemirror_mode": {
    "name": "ipython",
    "version": 3
   },
   "file_extension": ".py",
   "mimetype": "text/x-python",
   "name": "python",
   "nbconvert_exporter": "python",
   "pygments_lexer": "ipython3",
   "version": "3.11.5"
  }
 },
 "nbformat": 4,
 "nbformat_minor": 5
}
