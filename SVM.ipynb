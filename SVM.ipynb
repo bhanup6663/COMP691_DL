{
  "nbformat": 4,
  "nbformat_minor": 0,
  "metadata": {
    "colab": {
      "provenance": [],
      "authorship_tag": "ABX9TyM/nkPWeobgcEuEsHwdZrB7",
      "include_colab_link": true
    },
    "kernelspec": {
      "name": "python3",
      "display_name": "Python 3"
    },
    "language_info": {
      "name": "python"
    }
  },
  "cells": [
    {
      "cell_type": "markdown",
      "metadata": {
        "id": "view-in-github",
        "colab_type": "text"
      },
      "source": [
        "<a href=\"https://colab.research.google.com/github/bhanup6663/COMP691_DL/blob/Niloofar/SVM.ipynb\" target=\"_parent\"><img src=\"https://colab.research.google.com/assets/colab-badge.svg\" alt=\"Open In Colab\"/></a>"
      ]
    },
    {
      "cell_type": "code",
      "source": [
        "#Cell1\n",
        "import numpy as np\n",
        "from sklearn.discriminant_analysis import LinearDiscriminantAnalysis as LDA\n",
        "from sklearn.svm import SVC\n",
        "from sklearn.pipeline import Pipeline\n",
        "from sklearn.model_selection import GridSearchCV\n",
        "from sklearn.metrics import accuracy_score, classification_report\n",
        "from torchvision import datasets, transforms\n",
        "from torch.utils.data import DataLoader, Subset\n",
        "import random\n",
        "from sklearn.model_selection import train_test_split\n"
      ],
      "metadata": {
        "id": "eV0lVV0u3Xcl"
      },
      "execution_count": 33,
      "outputs": []
    },
    {
      "cell_type": "code",
      "source": [
        "#Cell 2\n",
        "random.seed(42)\n",
        "np.random.seed(42)\n",
        "\n",
        "transform = transforms.Compose([\n",
        "    transforms.ToTensor(),\n",
        "    transforms.Normalize((0.5, 0.5, 0.5), (0.5, 0.5, 0.5))\n",
        "])\n",
        "\n",
        "train_dataset = datasets.CIFAR10(root='./data', train=True, download=True, transform=transform)\n",
        "test_dataset = datasets.CIFAR10(root='./data', train=False, download=True, transform=transform)"
      ],
      "metadata": {
        "colab": {
          "base_uri": "https://localhost:8080/"
        },
        "id": "AbINPKkX9bmR",
        "outputId": "490f40fe-9796-442e-d913-e5fe52295224"
      },
      "execution_count": 34,
      "outputs": [
        {
          "output_type": "stream",
          "name": "stdout",
          "text": [
            "Files already downloaded and verified\n",
            "Files already downloaded and verified\n"
          ]
        }
      ]
    },
    {
      "cell_type": "code",
      "source": [
        "#Cell 3\n",
        "\n",
        "def filter_and_sample_by_class(dataset, classes, samples_per_class):\n",
        "    indices = []\n",
        "    for cls in classes:\n",
        "        cls_indices = [i for i, (_, label) in enumerate(dataset) if label == cls]\n",
        "        sampled_indices = random.sample(cls_indices, samples_per_class)\n",
        "        indices.extend(sampled_indices)\n",
        "    return Subset(dataset, indices)\n",
        "\n",
        "classes = random.sample(range(10), 2)\n",
        "filtered_train_dataset = filter_and_sample_by_class(train_dataset, classes, 25)\n",
        "filtered_test_dataset = filter_and_sample_by_class(test_dataset, classes, 1000)\n",
        "\n",
        "train_loader = DataLoader(filtered_train_dataset, batch_size=len(filtered_train_dataset), shuffle=True)\n",
        "test_loader = DataLoader(filtered_test_dataset, batch_size=len(filtered_test_dataset), shuffle=False)\n"
      ],
      "metadata": {
        "id": "Atv9ZNYvDiQw"
      },
      "execution_count": 35,
      "outputs": []
    },
    {
      "cell_type": "code",
      "source": [
        "#Cell 4\n",
        "\n",
        "\n",
        "def extract_features_and_labels(loader):\n",
        "    for images, labels in loader:\n",
        "        features = images.view(images.size(0), -1).numpy()\n",
        "        labels = labels.numpy()\n",
        "        return features, labels\n",
        "\n",
        "x_train, y_train = extract_features_and_labels(train_loader)\n",
        "x_test, y_test = extract_features_and_labels(test_loader)\n",
        "\n",
        "pipeline = Pipeline([\n",
        "    ('lda', LDA(n_components=1)),\n",
        "    ('svc', SVC(random_state=42))\n",
        "])\n",
        "\n",
        "param_grid = {\n",
        "    'svc__C': [0.1, 1, 10],\n",
        "    'svc__kernel': ['linear']\n",
        "}\n",
        "\n",
        "grid_search = GridSearchCV(pipeline, param_grid, cv=3, n_jobs=-1, verbose=3)\n",
        "\n",
        "grid_search.fit(x_train, y_train)\n",
        "\n",
        "print(f\"Best Parameters: {grid_search.best_params_}\")\n",
        "best_model = grid_search.best_estimator_\n",
        "predictions = best_model.predict(x_test)\n",
        "validation_accuracy = accuracy_score(y_test, predictions) * 100\n"
      ],
      "metadata": {
        "colab": {
          "base_uri": "https://localhost:8080/"
        },
        "id": "RWT0y01lNQZl",
        "outputId": "d0a9a421-8c0c-45d1-c911-2bbfcf1898a5"
      },
      "execution_count": 36,
      "outputs": [
        {
          "output_type": "stream",
          "name": "stdout",
          "text": [
            "Fitting 3 folds for each of 3 candidates, totalling 9 fits\n",
            "Best Parameters: {'svc__C': 1, 'svc__kernel': 'linear'}\n"
          ]
        }
      ]
    },
    {
      "cell_type": "code",
      "source": [
        "# #Cell 5\n",
        "X_train, X_val, y_train, y_val = train_test_split(x_train, y_train, test_size=0.2, random_state=42)\n",
        "\n",
        "best_accuracy = 0\n",
        "best_epoch = -1\n",
        "best_model = None\n",
        "\n",
        "for epoch in range(10):  # Simulating epochs\n",
        "    print(f\"Epoch {epoch + 1}/10\")\n",
        "\n",
        "    grid_search.fit(X_train, y_train)\n",
        "\n",
        "\n",
        "    current_model = grid_search.best_estimator_\n",
        "    predictions = current_model.predict(X_val)\n",
        "    current_accuracy = accuracy_score(y_val, predictions)\n",
        "    print(f\"Validation Accuracy: {current_accuracy:.2f}%\")\n",
        "\n",
        "    if current_accuracy > best_accuracy:\n",
        "        best_accuracy = current_accuracy\n",
        "        best_model = current_model\n",
        "        best_epoch = epoch\n",
        "\n",
        "print(f\"Best Epoch: {best_epoch + 1}\")\n",
        "print(f\"Best Validation Accuracy: {best_accuracy:.2f}%\")\n",
        "\n",
        "predictions = best_model.predict(x_test)\n",
        "test_accuracy = accuracy_score(y_test, predictions) * 100\n",
        "print(f\"Test Accuracy: {test_accuracy:.2f}%\")\n",
        "print(classification_report(y_test, predictions))"
      ],
      "metadata": {
        "colab": {
          "base_uri": "https://localhost:8080/"
        },
        "id": "FJxBsXvpMzye",
        "outputId": "0903ed3f-7566-45e9-b147-09c2650c9d2e"
      },
      "execution_count": 37,
      "outputs": [
        {
          "output_type": "stream",
          "name": "stdout",
          "text": [
            "Epoch 1/10\n",
            "Fitting 3 folds for each of 3 candidates, totalling 9 fits\n",
            "Validation Accuracy: 0.90%\n",
            "Epoch 2/10\n",
            "Fitting 3 folds for each of 3 candidates, totalling 9 fits\n",
            "Validation Accuracy: 0.90%\n",
            "Epoch 3/10\n",
            "Fitting 3 folds for each of 3 candidates, totalling 9 fits\n",
            "Validation Accuracy: 0.90%\n",
            "Epoch 4/10\n",
            "Fitting 3 folds for each of 3 candidates, totalling 9 fits\n",
            "Validation Accuracy: 0.90%\n",
            "Epoch 5/10\n",
            "Fitting 3 folds for each of 3 candidates, totalling 9 fits\n",
            "Validation Accuracy: 0.90%\n",
            "Epoch 6/10\n",
            "Fitting 3 folds for each of 3 candidates, totalling 9 fits\n",
            "Validation Accuracy: 0.90%\n",
            "Epoch 7/10\n",
            "Fitting 3 folds for each of 3 candidates, totalling 9 fits\n",
            "Validation Accuracy: 0.90%\n",
            "Epoch 8/10\n",
            "Fitting 3 folds for each of 3 candidates, totalling 9 fits\n",
            "Validation Accuracy: 0.90%\n",
            "Epoch 9/10\n",
            "Fitting 3 folds for each of 3 candidates, totalling 9 fits\n",
            "Validation Accuracy: 0.90%\n",
            "Epoch 10/10\n",
            "Fitting 3 folds for each of 3 candidates, totalling 9 fits\n",
            "Validation Accuracy: 0.90%\n",
            "Best Epoch: 1\n",
            "Best Validation Accuracy: 0.90%\n",
            "Test Accuracy: 72.55%\n",
            "              precision    recall  f1-score   support\n",
            "\n",
            "           0       0.70      0.80      0.74      1000\n",
            "           1       0.76      0.65      0.70      1000\n",
            "\n",
            "    accuracy                           0.73      2000\n",
            "   macro avg       0.73      0.73      0.72      2000\n",
            "weighted avg       0.73      0.73      0.72      2000\n",
            "\n"
          ]
        }
      ]
    }
  ]
}