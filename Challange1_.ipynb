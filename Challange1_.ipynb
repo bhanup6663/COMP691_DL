{
  "nbformat": 4,
  "nbformat_minor": 0,
  "metadata": {
    "colab": {
      "provenance": [],
      "gpuType": "T4",
      "authorship_tag": "ABX9TyPn+H8dx/fhBJk3ToWjBYTc",
      "include_colab_link": true
    },
    "kernelspec": {
      "name": "python3",
      "display_name": "Python 3"
    },
    "language_info": {
      "name": "python"
    },
    "accelerator": "GPU"
  },
  "cells": [
    {
      "cell_type": "markdown",
      "metadata": {
        "id": "view-in-github",
        "colab_type": "text"
      },
      "source": [
        "<a href=\"https://colab.research.google.com/github/bhanup6663/COMP691_DL/blob/main/Challange1_.ipynb\" target=\"_parent\"><img src=\"https://colab.research.google.com/assets/colab-badge.svg\" alt=\"Open In Colab\"/></a>"
      ]
    },
    {
      "cell_type": "markdown",
      "source": [
        "XGBOOST-Bayesian"
      ],
      "metadata": {
        "id": "j8ADh8WJxZRN"
      }
    },
    {
      "cell_type": "code",
      "execution_count": 1,
      "metadata": {
        "id": "VL8nv8wixOh3"
      },
      "outputs": [],
      "source": [
        "import numpy as np\n",
        "import torchvision\n",
        "from torchvision import datasets, transforms\n",
        "from torchvision.transforms import Grayscale\n",
        "from sklearn.decomposition import PCA\n",
        "from sklearn.model_selection import train_test_split, GridSearchCV\n",
        "from hyperopt import hp, fmin, tpe, Trials, STATUS_OK\n",
        "from sklearn.metrics import accuracy_score\n",
        "from xgboost import XGBClassifier\n",
        "import torch"
      ]
    },
    {
      "cell_type": "code",
      "source": [
        "train_transform = transforms.Compose([\n",
        "    transforms.RandomHorizontalFlip(p=0.5),\n",
        "    transforms.RandomRotation(degrees=10),\n",
        "    transforms.RandomCrop(32, padding=4),\n",
        "    transforms.ColorJitter(brightness=0.2, contrast=0.2, saturation=0.2, hue=0.1),\n",
        "    transforms.ToTensor(),\n",
        "    transforms.Normalize(mean=[0.4914, 0.4822, 0.4465], std=[0.2023, 0.1994, 0.2010])\n",
        "])\n",
        "\n",
        "test_transform = transforms.Compose([\n",
        "    transforms.ToTensor(),\n",
        "    transforms.Normalize(mean=[0.4914, 0.4822, 0.4465], std=[0.2023, 0.1994, 0.2010])\n",
        "])"
      ],
      "metadata": {
        "id": "rwIaJhJuxVN4"
      },
      "execution_count": 2,
      "outputs": []
    },
    {
      "cell_type": "code",
      "source": [
        "trainset = datasets.CIFAR10(root='./data', train=True, download=True, transform=train_transform)\n",
        "testset = datasets.CIFAR10(root='./data', train=False, download=True, transform=test_transform)"
      ],
      "metadata": {
        "colab": {
          "base_uri": "https://localhost:8080/"
        },
        "id": "oZxA6OVqxpIA",
        "outputId": "6d779365-dc2a-4fd0-c0ec-0c9717109b24"
      },
      "execution_count": 3,
      "outputs": [
        {
          "output_type": "stream",
          "name": "stdout",
          "text": [
            "Downloading https://www.cs.toronto.edu/~kriz/cifar-10-python.tar.gz to ./data/cifar-10-python.tar.gz\n"
          ]
        },
        {
          "output_type": "stream",
          "name": "stderr",
          "text": [
            "100%|██████████| 170498071/170498071 [00:04<00:00, 40961279.75it/s]\n"
          ]
        },
        {
          "output_type": "stream",
          "name": "stdout",
          "text": [
            "Extracting ./data/cifar-10-python.tar.gz to ./data\n",
            "Files already downloaded and verified\n"
          ]
        }
      ]
    },
    {
      "cell_type": "code",
      "source": [
        "selected_classes = np.random.choice(range(10), 2, replace=False)"
      ],
      "metadata": {
        "id": "_3Uut8Yoxtkx"
      },
      "execution_count": 4,
      "outputs": []
    },
    {
      "cell_type": "code",
      "source": [
        "print(selected_classes)"
      ],
      "metadata": {
        "colab": {
          "base_uri": "https://localhost:8080/"
        },
        "id": "_FfOtNldxwm4",
        "outputId": "6da6089a-4dde-4608-f5e1-6fe0b7a29ab8"
      },
      "execution_count": 5,
      "outputs": [
        {
          "output_type": "stream",
          "name": "stdout",
          "text": [
            "[4 8]\n"
          ]
        }
      ]
    },
    {
      "cell_type": "code",
      "source": [
        "class_mapping = {original: new for new, original in enumerate(selected_classes)}"
      ],
      "metadata": {
        "id": "C-09supGx1rF"
      },
      "execution_count": 6,
      "outputs": []
    },
    {
      "cell_type": "code",
      "source": [
        "train_indices = []\n",
        "test_indices = []\n",
        "\n",
        "for idx, (image, label) in enumerate(trainset):\n",
        "    if label in selected_classes:\n",
        "        train_indices.append(idx)\n",
        "\n",
        "for idx, (image, label) in enumerate(testset):\n",
        "    if label in selected_classes:\n",
        "        test_indices.append(idx)\n",
        "\n",
        "# Shuffle the indices\n",
        "np.random.shuffle(train_indices)\n",
        "np.random.shuffle(test_indices)\n",
        "\n",
        "# Check if enough samples are found for training and testing\n",
        "if len(train_indices) < 25 or len(test_indices) < 2000:\n",
        "    raise ValueError(\"Insufficient samples found for training or testing.\")"
      ],
      "metadata": {
        "id": "dgKVgYbGx5_u"
      },
      "execution_count": 7,
      "outputs": []
    },
    {
      "cell_type": "code",
      "source": [
        "train_indices = train_indices[:25]\n",
        "test_indices = test_indices[:2000]\n",
        "\n",
        "trainloader = torch.utils.data.DataLoader(trainset, batch_size=25, sampler=torch.utils.data.SubsetRandomSampler(train_indices))\n",
        "testloader = torch.utils.data.DataLoader(testset, batch_size=2000, sampler=torch.utils.data.SubsetRandomSampler(test_indices))"
      ],
      "metadata": {
        "id": "HloGfVd9x-zw"
      },
      "execution_count": 8,
      "outputs": []
    },
    {
      "cell_type": "code",
      "source": [
        "train_data = []\n",
        "train_labels = []\n",
        "test_data = []\n",
        "test_labels = []\n",
        "\n",
        "for images, labels in trainloader:\n",
        "    for image, label in zip(images, labels):\n",
        "        train_data.append(image.numpy().flatten())\n",
        "        train_labels.append(label.item())\n",
        "\n",
        "for images, labels in testloader:\n",
        "    for image, label in zip(images, labels):\n",
        "        test_data.append(image.numpy().flatten())\n",
        "        test_labels.append(label.item())"
      ],
      "metadata": {
        "id": "XymWTPQcyCJA"
      },
      "execution_count": 9,
      "outputs": []
    },
    {
      "cell_type": "code",
      "source": [
        "train_data = np.array(train_data)\n",
        "train_labels = np.array(train_labels)\n",
        "test_data = np.array(test_data)\n",
        "test_labels = np.array(test_labels)\n",
        "\n",
        "train_remapped = np.array([class_mapping[label] for label in train_labels])\n",
        "test_remapped = np.array([class_mapping[label] for label in test_labels])"
      ],
      "metadata": {
        "id": "qI1e7kNHyLJz"
      },
      "execution_count": 10,
      "outputs": []
    },
    {
      "cell_type": "code",
      "source": [
        "pca = PCA(n_components=0.70)\n",
        "X_train_pca = pca.fit_transform(np.array(train_data))\n",
        "X_test_pca = pca.transform(np.array(test_data))"
      ],
      "metadata": {
        "id": "1vYml3vJyN1O"
      },
      "execution_count": 11,
      "outputs": []
    },
    {
      "cell_type": "code",
      "source": [
        "X_train, X_val, y_train, y_val = train_test_split(X_train_pca, np.array(train_remapped), test_size=0.2, stratify=train_remapped)"
      ],
      "metadata": {
        "id": "e6dyBUbTyQC0"
      },
      "execution_count": 12,
      "outputs": []
    },
    {
      "cell_type": "code",
      "source": [
        "def objective(space):\n",
        "    model = XGBClassifier(\n",
        "        n_estimators=int(space['n_estimators']),\n",
        "        max_depth=int(space['max_depth']),\n",
        "        learning_rate=space['learning_rate'],\n",
        "        subsample=space['subsample'],\n",
        "        colsample_bytree=space['colsample_bytree'],\n",
        "        reg_lambda=space['lambda'],\n",
        "        objective='multi:softmax',\n",
        "        eval_metric='mlogloss',\n",
        "        use_label_encoder=False,\n",
        "        num_class=2,  # Make sure this is correctly set\n",
        "        tree_method='gpu_hist',\n",
        "        device='gpu',  # Updated from gpu_id to device\n",
        "        seed=42,\n",
        "        early_stopping_rounds=10  # Moved here as per deprecation warning\n",
        "    )\n",
        "\n",
        "    eval_set = [(X_val, y_val)]\n",
        "    model.fit(X_train, y_train, eval_set=eval_set, verbose=False)\n",
        "\n",
        "    predictions = model.predict(X_val)\n",
        "    accuracy = accuracy_score(y_val, predictions)\n",
        "    return {'loss': -accuracy, 'status': STATUS_OK}"
      ],
      "metadata": {
        "id": "8VqQr4ShyUbv"
      },
      "execution_count": 13,
      "outputs": []
    },
    {
      "cell_type": "code",
      "source": [
        "space = {\n",
        "    'n_estimators': hp.quniform('n_estimators', 50, 300, 25),  # Widen the range to allow more trees\n",
        "    'max_depth': hp.choice('max_depth', [3, 4, 5, 6, 7]),  # Narrow down based on typical good performers\n",
        "    'learning_rate': hp.uniform('learning_rate', 0.01, 0.2),  # Focus on a range that's typically more effective\n",
        "    'subsample': hp.uniform('subsample', 0.5, 1.0),  # Narrow to focus on higher subsampling rates\n",
        "    'colsample_bytree': hp.uniform('colsample_bytree', 0.4, 0.8),  # Adjust to focus on a moderate range\n",
        "    'lambda': hp.uniform('lambda', 0.5, 2),  # Broaden to explore the impact of regularization more\n",
        "}\n"
      ],
      "metadata": {
        "id": "ReQ3YJPjyp4s"
      },
      "execution_count": 14,
      "outputs": []
    },
    {
      "cell_type": "code",
      "source": [
        "trials = Trials()\n",
        "best_hyperparams = fmin(fn=objective,\n",
        "                        space=space,\n",
        "                        algo=tpe.suggest,\n",
        "                        max_evals=100,\n",
        "                        trials=trials)\n",
        "\n",
        "print(f\"Best hyperparameters: {best_hyperparams}\")"
      ],
      "metadata": {
        "colab": {
          "base_uri": "https://localhost:8080/"
        },
        "id": "-yJNe-2wyt4Q",
        "outputId": "7efbd12f-d1d6-4c9f-ca79-818d37cb9d78"
      },
      "execution_count": 15,
      "outputs": [
        {
          "output_type": "stream",
          "name": "stdout",
          "text": [
            "\r  0%|          | 0/100 [00:00<?, ?trial/s, best loss=?]"
          ]
        },
        {
          "output_type": "stream",
          "name": "stderr",
          "text": [
            "/usr/local/lib/python3.10/dist-packages/xgboost/core.py:160: UserWarning: [22:36:41] WARNING: /workspace/src/common/error_msg.cc:27: The tree method `gpu_hist` is deprecated since 2.0.0. To use GPU training, set the `device` parameter to CUDA instead.\n",
            "\n",
            "    E.g. tree_method = \"hist\", device = \"cuda\"\n",
            "\n",
            "  warnings.warn(smsg, UserWarning)\n",
            "\n"
          ]
        },
        {
          "output_type": "stream",
          "name": "stdout",
          "text": [
            "\r  1%|          | 1/100 [00:00<01:25,  1.15trial/s, best loss: -0.8]"
          ]
        },
        {
          "output_type": "stream",
          "name": "stderr",
          "text": [
            "/usr/local/lib/python3.10/dist-packages/xgboost/core.py:160: UserWarning: [22:36:42] WARNING: /workspace/src/common/error_msg.cc:27: The tree method `gpu_hist` is deprecated since 2.0.0. To use GPU training, set the `device` parameter to CUDA instead.\n",
            "\n",
            "    E.g. tree_method = \"hist\", device = \"cuda\"\n",
            "\n",
            "  warnings.warn(smsg, UserWarning)\n",
            "\n",
            "/usr/local/lib/python3.10/dist-packages/xgboost/core.py:160: UserWarning: [22:36:42] WARNING: /workspace/src/common/error_msg.cc:58: Falling back to prediction using DMatrix due to mismatched devices. This might lead to higher memory usage and slower performance. XGBoost is running on: cuda:0, while the input data is on: cpu.\n",
            "Potential solutions:\n",
            "- Use a data structure that matches the device ordinal in the booster.\n",
            "- Set the device for booster before call to inplace_predict.\n",
            "\n",
            "This warning will only be shown once.\n",
            "\n",
            "  warnings.warn(smsg, UserWarning)\n",
            "\n",
            "/usr/local/lib/python3.10/dist-packages/xgboost/core.py:160: UserWarning: [22:36:42] WARNING: /workspace/src/common/error_msg.cc:27: The tree method `gpu_hist` is deprecated since 2.0.0. To use GPU training, set the `device` parameter to CUDA instead.\n",
            "\n",
            "    E.g. tree_method = \"hist\", device = \"cuda\"\n",
            "\n",
            "  warnings.warn(smsg, UserWarning)\n",
            "\n"
          ]
        },
        {
          "output_type": "stream",
          "name": "stdout",
          "text": [
            "  3%|▎         | 3/100 [00:01<00:31,  3.06trial/s, best loss: -1.0]"
          ]
        },
        {
          "output_type": "stream",
          "name": "stderr",
          "text": [
            "/usr/local/lib/python3.10/dist-packages/xgboost/core.py:160: UserWarning: [22:36:42] WARNING: /workspace/src/common/error_msg.cc:27: The tree method `gpu_hist` is deprecated since 2.0.0. To use GPU training, set the `device` parameter to CUDA instead.\n",
            "\n",
            "    E.g. tree_method = \"hist\", device = \"cuda\"\n",
            "\n",
            "  warnings.warn(smsg, UserWarning)\n",
            "\n",
            "/usr/local/lib/python3.10/dist-packages/xgboost/core.py:160: UserWarning: [22:36:43] WARNING: /workspace/src/common/error_msg.cc:27: The tree method `gpu_hist` is deprecated since 2.0.0. To use GPU training, set the `device` parameter to CUDA instead.\n",
            "\n",
            "    E.g. tree_method = \"hist\", device = \"cuda\"\n",
            "\n",
            "  warnings.warn(smsg, UserWarning)\n",
            "\n"
          ]
        },
        {
          "output_type": "stream",
          "name": "stdout",
          "text": [
            "  5%|▌         | 5/100 [00:01<00:30,  3.10trial/s, best loss: -1.0]"
          ]
        },
        {
          "output_type": "stream",
          "name": "stderr",
          "text": [
            "/usr/local/lib/python3.10/dist-packages/xgboost/core.py:160: UserWarning: [22:36:43] WARNING: /workspace/src/common/error_msg.cc:27: The tree method `gpu_hist` is deprecated since 2.0.0. To use GPU training, set the `device` parameter to CUDA instead.\n",
            "\n",
            "    E.g. tree_method = \"hist\", device = \"cuda\"\n",
            "\n",
            "  warnings.warn(smsg, UserWarning)\n",
            "\n",
            "/usr/local/lib/python3.10/dist-packages/xgboost/core.py:160: UserWarning: [22:36:43] WARNING: /workspace/src/common/error_msg.cc:27: The tree method `gpu_hist` is deprecated since 2.0.0. To use GPU training, set the `device` parameter to CUDA instead.\n",
            "\n",
            "    E.g. tree_method = \"hist\", device = \"cuda\"\n",
            "\n",
            "  warnings.warn(smsg, UserWarning)\n",
            "\n"
          ]
        },
        {
          "output_type": "stream",
          "name": "stdout",
          "text": [
            "\r  6%|▌         | 6/100 [00:02<00:32,  2.92trial/s, best loss: -1.0]"
          ]
        },
        {
          "output_type": "stream",
          "name": "stderr",
          "text": [
            "/usr/local/lib/python3.10/dist-packages/xgboost/core.py:160: UserWarning: [22:36:44] WARNING: /workspace/src/common/error_msg.cc:27: The tree method `gpu_hist` is deprecated since 2.0.0. To use GPU training, set the `device` parameter to CUDA instead.\n",
            "\n",
            "    E.g. tree_method = \"hist\", device = \"cuda\"\n",
            "\n",
            "  warnings.warn(smsg, UserWarning)\n",
            "\n",
            "/usr/local/lib/python3.10/dist-packages/xgboost/core.py:160: UserWarning: [22:36:44] WARNING: /workspace/src/common/error_msg.cc:27: The tree method `gpu_hist` is deprecated since 2.0.0. To use GPU training, set the `device` parameter to CUDA instead.\n",
            "\n",
            "    E.g. tree_method = \"hist\", device = \"cuda\"\n",
            "\n",
            "  warnings.warn(smsg, UserWarning)\n",
            "\n"
          ]
        },
        {
          "output_type": "stream",
          "name": "stdout",
          "text": [
            "\r  7%|▋         | 7/100 [00:02<00:34,  2.66trial/s, best loss: -1.0]"
          ]
        },
        {
          "output_type": "stream",
          "name": "stderr",
          "text": [
            "/usr/local/lib/python3.10/dist-packages/xgboost/core.py:160: UserWarning: [22:36:44] WARNING: /workspace/src/common/error_msg.cc:27: The tree method `gpu_hist` is deprecated since 2.0.0. To use GPU training, set the `device` parameter to CUDA instead.\n",
            "\n",
            "    E.g. tree_method = \"hist\", device = \"cuda\"\n",
            "\n",
            "  warnings.warn(smsg, UserWarning)\n",
            "\n"
          ]
        },
        {
          "output_type": "stream",
          "name": "stdout",
          "text": [
            "  9%|▉         | 9/100 [00:03<00:26,  3.46trial/s, best loss: -1.0]"
          ]
        },
        {
          "output_type": "stream",
          "name": "stderr",
          "text": [
            "/usr/local/lib/python3.10/dist-packages/xgboost/core.py:160: UserWarning: [22:36:44] WARNING: /workspace/src/common/error_msg.cc:27: The tree method `gpu_hist` is deprecated since 2.0.0. To use GPU training, set the `device` parameter to CUDA instead.\n",
            "\n",
            "    E.g. tree_method = \"hist\", device = \"cuda\"\n",
            "\n",
            "  warnings.warn(smsg, UserWarning)\n",
            "\n",
            "/usr/local/lib/python3.10/dist-packages/xgboost/core.py:160: UserWarning: [22:36:44] WARNING: /workspace/src/common/error_msg.cc:27: The tree method `gpu_hist` is deprecated since 2.0.0. To use GPU training, set the `device` parameter to CUDA instead.\n",
            "\n",
            "    E.g. tree_method = \"hist\", device = \"cuda\"\n",
            "\n",
            "  warnings.warn(smsg, UserWarning)\n",
            "\n"
          ]
        },
        {
          "output_type": "stream",
          "name": "stdout",
          "text": [
            "\r 10%|█         | 10/100 [00:03<00:29,  3.10trial/s, best loss: -1.0]"
          ]
        },
        {
          "output_type": "stream",
          "name": "stderr",
          "text": [
            "/usr/local/lib/python3.10/dist-packages/xgboost/core.py:160: UserWarning: [22:36:45] WARNING: /workspace/src/common/error_msg.cc:27: The tree method `gpu_hist` is deprecated since 2.0.0. To use GPU training, set the `device` parameter to CUDA instead.\n",
            "\n",
            "    E.g. tree_method = \"hist\", device = \"cuda\"\n",
            "\n",
            "  warnings.warn(smsg, UserWarning)\n",
            "\n",
            "/usr/local/lib/python3.10/dist-packages/xgboost/core.py:160: UserWarning: [22:36:45] WARNING: /workspace/src/common/error_msg.cc:27: The tree method `gpu_hist` is deprecated since 2.0.0. To use GPU training, set the `device` parameter to CUDA instead.\n",
            "\n",
            "    E.g. tree_method = \"hist\", device = \"cuda\"\n",
            "\n",
            "  warnings.warn(smsg, UserWarning)\n",
            "\n"
          ]
        },
        {
          "output_type": "stream",
          "name": "stdout",
          "text": [
            " 12%|█▏        | 12/100 [00:03<00:22,  3.85trial/s, best loss: -1.0]"
          ]
        },
        {
          "output_type": "stream",
          "name": "stderr",
          "text": [
            "/usr/local/lib/python3.10/dist-packages/xgboost/core.py:160: UserWarning: [22:36:45] WARNING: /workspace/src/common/error_msg.cc:27: The tree method `gpu_hist` is deprecated since 2.0.0. To use GPU training, set the `device` parameter to CUDA instead.\n",
            "\n",
            "    E.g. tree_method = \"hist\", device = \"cuda\"\n",
            "\n",
            "  warnings.warn(smsg, UserWarning)\n",
            "\n",
            "/usr/local/lib/python3.10/dist-packages/xgboost/core.py:160: UserWarning: [22:36:45] WARNING: /workspace/src/common/error_msg.cc:27: The tree method `gpu_hist` is deprecated since 2.0.0. To use GPU training, set the `device` parameter to CUDA instead.\n",
            "\n",
            "    E.g. tree_method = \"hist\", device = \"cuda\"\n",
            "\n",
            "  warnings.warn(smsg, UserWarning)\n",
            "\n"
          ]
        },
        {
          "output_type": "stream",
          "name": "stdout",
          "text": [
            "\r 13%|█▎        | 13/100 [00:04<00:24,  3.49trial/s, best loss: -1.0]"
          ]
        },
        {
          "output_type": "stream",
          "name": "stderr",
          "text": [
            "/usr/local/lib/python3.10/dist-packages/xgboost/core.py:160: UserWarning: [22:36:46] WARNING: /workspace/src/common/error_msg.cc:27: The tree method `gpu_hist` is deprecated since 2.0.0. To use GPU training, set the `device` parameter to CUDA instead.\n",
            "\n",
            "    E.g. tree_method = \"hist\", device = \"cuda\"\n",
            "\n",
            "  warnings.warn(smsg, UserWarning)\n",
            "\n",
            "/usr/local/lib/python3.10/dist-packages/xgboost/core.py:160: UserWarning: [22:36:46] WARNING: /workspace/src/common/error_msg.cc:27: The tree method `gpu_hist` is deprecated since 2.0.0. To use GPU training, set the `device` parameter to CUDA instead.\n",
            "\n",
            "    E.g. tree_method = \"hist\", device = \"cuda\"\n",
            "\n",
            "  warnings.warn(smsg, UserWarning)\n",
            "\n"
          ]
        },
        {
          "output_type": "stream",
          "name": "stdout",
          "text": [
            "\r 14%|█▍        | 14/100 [00:04<00:24,  3.53trial/s, best loss: -1.0]"
          ]
        },
        {
          "output_type": "stream",
          "name": "stderr",
          "text": [
            "/usr/local/lib/python3.10/dist-packages/xgboost/core.py:160: UserWarning: [22:36:46] WARNING: /workspace/src/common/error_msg.cc:27: The tree method `gpu_hist` is deprecated since 2.0.0. To use GPU training, set the `device` parameter to CUDA instead.\n",
            "\n",
            "    E.g. tree_method = \"hist\", device = \"cuda\"\n",
            "\n",
            "  warnings.warn(smsg, UserWarning)\n",
            "\n"
          ]
        },
        {
          "output_type": "stream",
          "name": "stdout",
          "text": [
            "\r 15%|█▌        | 15/100 [00:05<00:37,  2.29trial/s, best loss: -1.0]"
          ]
        },
        {
          "output_type": "stream",
          "name": "stderr",
          "text": [
            "/usr/local/lib/python3.10/dist-packages/xgboost/core.py:160: UserWarning: [22:36:47] WARNING: /workspace/src/common/error_msg.cc:27: The tree method `gpu_hist` is deprecated since 2.0.0. To use GPU training, set the `device` parameter to CUDA instead.\n",
            "\n",
            "    E.g. tree_method = \"hist\", device = \"cuda\"\n",
            "\n",
            "  warnings.warn(smsg, UserWarning)\n",
            "\n",
            "/usr/local/lib/python3.10/dist-packages/xgboost/core.py:160: UserWarning: [22:36:47] WARNING: /workspace/src/common/error_msg.cc:27: The tree method `gpu_hist` is deprecated since 2.0.0. To use GPU training, set the `device` parameter to CUDA instead.\n",
            "\n",
            "    E.g. tree_method = \"hist\", device = \"cuda\"\n",
            "\n",
            "  warnings.warn(smsg, UserWarning)\n",
            "\n"
          ]
        },
        {
          "output_type": "stream",
          "name": "stdout",
          "text": [
            "\r 16%|█▌        | 16/100 [00:05<00:32,  2.56trial/s, best loss: -1.0]"
          ]
        },
        {
          "output_type": "stream",
          "name": "stderr",
          "text": [
            "/usr/local/lib/python3.10/dist-packages/xgboost/core.py:160: UserWarning: [22:36:47] WARNING: /workspace/src/common/error_msg.cc:27: The tree method `gpu_hist` is deprecated since 2.0.0. To use GPU training, set the `device` parameter to CUDA instead.\n",
            "\n",
            "    E.g. tree_method = \"hist\", device = \"cuda\"\n",
            "\n",
            "  warnings.warn(smsg, UserWarning)\n",
            "\n"
          ]
        },
        {
          "output_type": "stream",
          "name": "stdout",
          "text": [
            "\r 17%|█▋        | 17/100 [00:05<00:28,  2.88trial/s, best loss: -1.0]"
          ]
        },
        {
          "output_type": "stream",
          "name": "stderr",
          "text": [
            "/usr/local/lib/python3.10/dist-packages/xgboost/core.py:160: UserWarning: [22:36:47] WARNING: /workspace/src/common/error_msg.cc:27: The tree method `gpu_hist` is deprecated since 2.0.0. To use GPU training, set the `device` parameter to CUDA instead.\n",
            "\n",
            "    E.g. tree_method = \"hist\", device = \"cuda\"\n",
            "\n",
            "  warnings.warn(smsg, UserWarning)\n",
            "\n"
          ]
        },
        {
          "output_type": "stream",
          "name": "stdout",
          "text": [
            "\r 18%|█▊        | 18/100 [00:06<00:25,  3.18trial/s, best loss: -1.0]"
          ]
        },
        {
          "output_type": "stream",
          "name": "stderr",
          "text": [
            "/usr/local/lib/python3.10/dist-packages/xgboost/core.py:160: UserWarning: [22:36:47] WARNING: /workspace/src/common/error_msg.cc:27: The tree method `gpu_hist` is deprecated since 2.0.0. To use GPU training, set the `device` parameter to CUDA instead.\n",
            "\n",
            "    E.g. tree_method = \"hist\", device = \"cuda\"\n",
            "\n",
            "  warnings.warn(smsg, UserWarning)\n",
            "\n"
          ]
        },
        {
          "output_type": "stream",
          "name": "stdout",
          "text": [
            "\r 19%|█▉        | 19/100 [00:06<00:35,  2.28trial/s, best loss: -1.0]"
          ]
        },
        {
          "output_type": "stream",
          "name": "stderr",
          "text": [
            "/usr/local/lib/python3.10/dist-packages/xgboost/core.py:160: UserWarning: [22:36:48] WARNING: /workspace/src/common/error_msg.cc:27: The tree method `gpu_hist` is deprecated since 2.0.0. To use GPU training, set the `device` parameter to CUDA instead.\n",
            "\n",
            "    E.g. tree_method = \"hist\", device = \"cuda\"\n",
            "\n",
            "  warnings.warn(smsg, UserWarning)\n",
            "\n",
            "/usr/local/lib/python3.10/dist-packages/xgboost/core.py:160: UserWarning: [22:36:48] WARNING: /workspace/src/common/error_msg.cc:27: The tree method `gpu_hist` is deprecated since 2.0.0. To use GPU training, set the `device` parameter to CUDA instead.\n",
            "\n",
            "    E.g. tree_method = \"hist\", device = \"cuda\"\n",
            "\n",
            "  warnings.warn(smsg, UserWarning)\n",
            "\n"
          ]
        },
        {
          "output_type": "stream",
          "name": "stdout",
          "text": [
            " 21%|██        | 21/100 [00:07<00:25,  3.08trial/s, best loss: -1.0]"
          ]
        },
        {
          "output_type": "stream",
          "name": "stderr",
          "text": [
            "/usr/local/lib/python3.10/dist-packages/xgboost/core.py:160: UserWarning: [22:36:49] WARNING: /workspace/src/common/error_msg.cc:27: The tree method `gpu_hist` is deprecated since 2.0.0. To use GPU training, set the `device` parameter to CUDA instead.\n",
            "\n",
            "    E.g. tree_method = \"hist\", device = \"cuda\"\n",
            "\n",
            "  warnings.warn(smsg, UserWarning)\n",
            "\n",
            "/usr/local/lib/python3.10/dist-packages/xgboost/core.py:160: UserWarning: [22:36:49] WARNING: /workspace/src/common/error_msg.cc:27: The tree method `gpu_hist` is deprecated since 2.0.0. To use GPU training, set the `device` parameter to CUDA instead.\n",
            "\n",
            "    E.g. tree_method = \"hist\", device = \"cuda\"\n",
            "\n",
            "  warnings.warn(smsg, UserWarning)\n",
            "\n"
          ]
        },
        {
          "output_type": "stream",
          "name": "stdout",
          "text": [
            "\r 22%|██▏       | 22/100 [00:07<00:22,  3.39trial/s, best loss: -1.0]"
          ]
        },
        {
          "output_type": "stream",
          "name": "stderr",
          "text": [
            "/usr/local/lib/python3.10/dist-packages/xgboost/core.py:160: UserWarning: [22:36:49] WARNING: /workspace/src/common/error_msg.cc:27: The tree method `gpu_hist` is deprecated since 2.0.0. To use GPU training, set the `device` parameter to CUDA instead.\n",
            "\n",
            "    E.g. tree_method = \"hist\", device = \"cuda\"\n",
            "\n",
            "  warnings.warn(smsg, UserWarning)\n",
            "\n"
          ]
        },
        {
          "output_type": "stream",
          "name": "stdout",
          "text": [
            " 24%|██▍       | 24/100 [00:08<00:22,  3.35trial/s, best loss: -1.0]"
          ]
        },
        {
          "output_type": "stream",
          "name": "stderr",
          "text": [
            "/usr/local/lib/python3.10/dist-packages/xgboost/core.py:160: UserWarning: [22:36:49] WARNING: /workspace/src/common/error_msg.cc:27: The tree method `gpu_hist` is deprecated since 2.0.0. To use GPU training, set the `device` parameter to CUDA instead.\n",
            "\n",
            "    E.g. tree_method = \"hist\", device = \"cuda\"\n",
            "\n",
            "  warnings.warn(smsg, UserWarning)\n",
            "\n"
          ]
        },
        {
          "output_type": "stream",
          "name": "stdout",
          "text": [
            "\r 25%|██▌       | 25/100 [00:08<00:20,  3.74trial/s, best loss: -1.0]"
          ]
        },
        {
          "output_type": "stream",
          "name": "stderr",
          "text": [
            "/usr/local/lib/python3.10/dist-packages/xgboost/core.py:160: UserWarning: [22:36:50] WARNING: /workspace/src/common/error_msg.cc:27: The tree method `gpu_hist` is deprecated since 2.0.0. To use GPU training, set the `device` parameter to CUDA instead.\n",
            "\n",
            "    E.g. tree_method = \"hist\", device = \"cuda\"\n",
            "\n",
            "  warnings.warn(smsg, UserWarning)\n",
            "\n",
            "/usr/local/lib/python3.10/dist-packages/xgboost/core.py:160: UserWarning: [22:36:50] WARNING: /workspace/src/common/error_msg.cc:27: The tree method `gpu_hist` is deprecated since 2.0.0. To use GPU training, set the `device` parameter to CUDA instead.\n",
            "\n",
            "    E.g. tree_method = \"hist\", device = \"cuda\"\n",
            "\n",
            "  warnings.warn(smsg, UserWarning)\n",
            "\n"
          ]
        },
        {
          "output_type": "stream",
          "name": "stdout",
          "text": [
            "\r 26%|██▌       | 26/100 [00:08<00:20,  3.53trial/s, best loss: -1.0]"
          ]
        },
        {
          "output_type": "stream",
          "name": "stderr",
          "text": [
            "/usr/local/lib/python3.10/dist-packages/xgboost/core.py:160: UserWarning: [22:36:50] WARNING: /workspace/src/common/error_msg.cc:27: The tree method `gpu_hist` is deprecated since 2.0.0. To use GPU training, set the `device` parameter to CUDA instead.\n",
            "\n",
            "    E.g. tree_method = \"hist\", device = \"cuda\"\n",
            "\n",
            "  warnings.warn(smsg, UserWarning)\n",
            "\n"
          ]
        },
        {
          "output_type": "stream",
          "name": "stdout",
          "text": [
            " 28%|██▊       | 28/100 [00:09<00:18,  3.81trial/s, best loss: -1.0]"
          ]
        },
        {
          "output_type": "stream",
          "name": "stderr",
          "text": [
            "/usr/local/lib/python3.10/dist-packages/xgboost/core.py:160: UserWarning: [22:36:50] WARNING: /workspace/src/common/error_msg.cc:27: The tree method `gpu_hist` is deprecated since 2.0.0. To use GPU training, set the `device` parameter to CUDA instead.\n",
            "\n",
            "    E.g. tree_method = \"hist\", device = \"cuda\"\n",
            "\n",
            "  warnings.warn(smsg, UserWarning)\n",
            "\n",
            "/usr/local/lib/python3.10/dist-packages/xgboost/core.py:160: UserWarning: [22:36:51] WARNING: /workspace/src/common/error_msg.cc:27: The tree method `gpu_hist` is deprecated since 2.0.0. To use GPU training, set the `device` parameter to CUDA instead.\n",
            "\n",
            "    E.g. tree_method = \"hist\", device = \"cuda\"\n",
            "\n",
            "  warnings.warn(smsg, UserWarning)\n",
            "\n",
            "/usr/local/lib/python3.10/dist-packages/xgboost/core.py:160: UserWarning: [22:36:51] WARNING: /workspace/src/common/error_msg.cc:27: The tree method `gpu_hist` is deprecated since 2.0.0. To use GPU training, set the `device` parameter to CUDA instead.\n",
            "\n",
            "    E.g. tree_method = \"hist\", device = \"cuda\"\n",
            "\n",
            "  warnings.warn(smsg, UserWarning)\n",
            "\n"
          ]
        },
        {
          "output_type": "stream",
          "name": "stdout",
          "text": [
            "\r 29%|██▉       | 29/100 [00:09<00:22,  3.17trial/s, best loss: -1.0]"
          ]
        },
        {
          "output_type": "stream",
          "name": "stderr",
          "text": [
            "/usr/local/lib/python3.10/dist-packages/xgboost/core.py:160: UserWarning: [22:36:51] WARNING: /workspace/src/common/error_msg.cc:27: The tree method `gpu_hist` is deprecated since 2.0.0. To use GPU training, set the `device` parameter to CUDA instead.\n",
            "\n",
            "    E.g. tree_method = \"hist\", device = \"cuda\"\n",
            "\n",
            "  warnings.warn(smsg, UserWarning)\n",
            "\n"
          ]
        },
        {
          "output_type": "stream",
          "name": "stdout",
          "text": [
            "\r 30%|███       | 30/100 [00:10<00:27,  2.54trial/s, best loss: -1.0]"
          ]
        },
        {
          "output_type": "stream",
          "name": "stderr",
          "text": [
            "/usr/local/lib/python3.10/dist-packages/xgboost/core.py:160: UserWarning: [22:36:52] WARNING: /workspace/src/common/error_msg.cc:27: The tree method `gpu_hist` is deprecated since 2.0.0. To use GPU training, set the `device` parameter to CUDA instead.\n",
            "\n",
            "    E.g. tree_method = \"hist\", device = \"cuda\"\n",
            "\n",
            "  warnings.warn(smsg, UserWarning)\n",
            "\n",
            "/usr/local/lib/python3.10/dist-packages/xgboost/core.py:160: UserWarning: [22:36:52] WARNING: /workspace/src/common/error_msg.cc:27: The tree method `gpu_hist` is deprecated since 2.0.0. To use GPU training, set the `device` parameter to CUDA instead.\n",
            "\n",
            "    E.g. tree_method = \"hist\", device = \"cuda\"\n",
            "\n",
            "  warnings.warn(smsg, UserWarning)\n",
            "\n"
          ]
        },
        {
          "output_type": "stream",
          "name": "stdout",
          "text": [
            "\r 31%|███       | 31/100 [00:10<00:28,  2.41trial/s, best loss: -1.0]"
          ]
        },
        {
          "output_type": "stream",
          "name": "stderr",
          "text": [
            "/usr/local/lib/python3.10/dist-packages/xgboost/core.py:160: UserWarning: [22:36:52] WARNING: /workspace/src/common/error_msg.cc:27: The tree method `gpu_hist` is deprecated since 2.0.0. To use GPU training, set the `device` parameter to CUDA instead.\n",
            "\n",
            "    E.g. tree_method = \"hist\", device = \"cuda\"\n",
            "\n",
            "  warnings.warn(smsg, UserWarning)\n",
            "\n"
          ]
        },
        {
          "output_type": "stream",
          "name": "stdout",
          "text": [
            "\r 32%|███▏      | 32/100 [00:11<00:26,  2.55trial/s, best loss: -1.0]"
          ]
        },
        {
          "output_type": "stream",
          "name": "stderr",
          "text": [
            "/usr/local/lib/python3.10/dist-packages/xgboost/core.py:160: UserWarning: [22:36:52] WARNING: /workspace/src/common/error_msg.cc:27: The tree method `gpu_hist` is deprecated since 2.0.0. To use GPU training, set the `device` parameter to CUDA instead.\n",
            "\n",
            "    E.g. tree_method = \"hist\", device = \"cuda\"\n",
            "\n",
            "  warnings.warn(smsg, UserWarning)\n",
            "\n"
          ]
        },
        {
          "output_type": "stream",
          "name": "stdout",
          "text": [
            "\r 33%|███▎      | 33/100 [00:11<00:29,  2.29trial/s, best loss: -1.0]"
          ]
        },
        {
          "output_type": "stream",
          "name": "stderr",
          "text": [
            "/usr/local/lib/python3.10/dist-packages/xgboost/core.py:160: UserWarning: [22:36:53] WARNING: /workspace/src/common/error_msg.cc:27: The tree method `gpu_hist` is deprecated since 2.0.0. To use GPU training, set the `device` parameter to CUDA instead.\n",
            "\n",
            "    E.g. tree_method = \"hist\", device = \"cuda\"\n",
            "\n",
            "  warnings.warn(smsg, UserWarning)\n",
            "\n",
            "/usr/local/lib/python3.10/dist-packages/xgboost/core.py:160: UserWarning: [22:36:53] WARNING: /workspace/src/common/error_msg.cc:27: The tree method `gpu_hist` is deprecated since 2.0.0. To use GPU training, set the `device` parameter to CUDA instead.\n",
            "\n",
            "    E.g. tree_method = \"hist\", device = \"cuda\"\n",
            "\n",
            "  warnings.warn(smsg, UserWarning)\n",
            "\n"
          ]
        },
        {
          "output_type": "stream",
          "name": "stdout",
          "text": [
            "\r 34%|███▍      | 34/100 [00:12<00:31,  2.12trial/s, best loss: -1.0]"
          ]
        },
        {
          "output_type": "stream",
          "name": "stderr",
          "text": [
            "/usr/local/lib/python3.10/dist-packages/xgboost/core.py:160: UserWarning: [22:36:53] WARNING: /workspace/src/common/error_msg.cc:27: The tree method `gpu_hist` is deprecated since 2.0.0. To use GPU training, set the `device` parameter to CUDA instead.\n",
            "\n",
            "    E.g. tree_method = \"hist\", device = \"cuda\"\n",
            "\n",
            "  warnings.warn(smsg, UserWarning)\n",
            "\n"
          ]
        },
        {
          "output_type": "stream",
          "name": "stdout",
          "text": [
            "\r 35%|███▌      | 35/100 [00:12<00:32,  2.00trial/s, best loss: -1.0]"
          ]
        },
        {
          "output_type": "stream",
          "name": "stderr",
          "text": [
            "/usr/local/lib/python3.10/dist-packages/xgboost/core.py:160: UserWarning: [22:36:54] WARNING: /workspace/src/common/error_msg.cc:27: The tree method `gpu_hist` is deprecated since 2.0.0. To use GPU training, set the `device` parameter to CUDA instead.\n",
            "\n",
            "    E.g. tree_method = \"hist\", device = \"cuda\"\n",
            "\n",
            "  warnings.warn(smsg, UserWarning)\n",
            "\n",
            "/usr/local/lib/python3.10/dist-packages/xgboost/core.py:160: UserWarning: [22:36:54] WARNING: /workspace/src/common/error_msg.cc:27: The tree method `gpu_hist` is deprecated since 2.0.0. To use GPU training, set the `device` parameter to CUDA instead.\n",
            "\n",
            "    E.g. tree_method = \"hist\", device = \"cuda\"\n",
            "\n",
            "  warnings.warn(smsg, UserWarning)\n",
            "\n"
          ]
        },
        {
          "output_type": "stream",
          "name": "stdout",
          "text": [
            "\r 36%|███▌      | 36/100 [00:13<00:30,  2.07trial/s, best loss: -1.0]"
          ]
        },
        {
          "output_type": "stream",
          "name": "stderr",
          "text": [
            "/usr/local/lib/python3.10/dist-packages/xgboost/core.py:160: UserWarning: [22:36:55] WARNING: /workspace/src/common/error_msg.cc:27: The tree method `gpu_hist` is deprecated since 2.0.0. To use GPU training, set the `device` parameter to CUDA instead.\n",
            "\n",
            "    E.g. tree_method = \"hist\", device = \"cuda\"\n",
            "\n",
            "  warnings.warn(smsg, UserWarning)\n",
            "\n"
          ]
        },
        {
          "output_type": "stream",
          "name": "stdout",
          "text": [
            "\r 37%|███▋      | 37/100 [00:13<00:27,  2.32trial/s, best loss: -1.0]"
          ]
        },
        {
          "output_type": "stream",
          "name": "stderr",
          "text": [
            "/usr/local/lib/python3.10/dist-packages/xgboost/core.py:160: UserWarning: [22:36:55] WARNING: /workspace/src/common/error_msg.cc:27: The tree method `gpu_hist` is deprecated since 2.0.0. To use GPU training, set the `device` parameter to CUDA instead.\n",
            "\n",
            "    E.g. tree_method = \"hist\", device = \"cuda\"\n",
            "\n",
            "  warnings.warn(smsg, UserWarning)\n",
            "\n"
          ]
        },
        {
          "output_type": "stream",
          "name": "stdout",
          "text": [
            "\r 38%|███▊      | 38/100 [00:13<00:26,  2.36trial/s, best loss: -1.0]"
          ]
        },
        {
          "output_type": "stream",
          "name": "stderr",
          "text": [
            "/usr/local/lib/python3.10/dist-packages/xgboost/core.py:160: UserWarning: [22:36:55] WARNING: /workspace/src/common/error_msg.cc:27: The tree method `gpu_hist` is deprecated since 2.0.0. To use GPU training, set the `device` parameter to CUDA instead.\n",
            "\n",
            "    E.g. tree_method = \"hist\", device = \"cuda\"\n",
            "\n",
            "  warnings.warn(smsg, UserWarning)\n",
            "\n"
          ]
        },
        {
          "output_type": "stream",
          "name": "stdout",
          "text": [
            "\r 39%|███▉      | 39/100 [00:14<00:29,  2.07trial/s, best loss: -1.0]"
          ]
        },
        {
          "output_type": "stream",
          "name": "stderr",
          "text": [
            "/usr/local/lib/python3.10/dist-packages/xgboost/core.py:160: UserWarning: [22:36:56] WARNING: /workspace/src/common/error_msg.cc:27: The tree method `gpu_hist` is deprecated since 2.0.0. To use GPU training, set the `device` parameter to CUDA instead.\n",
            "\n",
            "    E.g. tree_method = \"hist\", device = \"cuda\"\n",
            "\n",
            "  warnings.warn(smsg, UserWarning)\n",
            "\n",
            "/usr/local/lib/python3.10/dist-packages/xgboost/core.py:160: UserWarning: [22:36:56] WARNING: /workspace/src/common/error_msg.cc:27: The tree method `gpu_hist` is deprecated since 2.0.0. To use GPU training, set the `device` parameter to CUDA instead.\n",
            "\n",
            "    E.g. tree_method = \"hist\", device = \"cuda\"\n",
            "\n",
            "  warnings.warn(smsg, UserWarning)\n",
            "\n"
          ]
        },
        {
          "output_type": "stream",
          "name": "stdout",
          "text": [
            "\r 40%|████      | 40/100 [00:15<00:34,  1.74trial/s, best loss: -1.0]"
          ]
        },
        {
          "output_type": "stream",
          "name": "stderr",
          "text": [
            "/usr/local/lib/python3.10/dist-packages/xgboost/core.py:160: UserWarning: [22:36:57] WARNING: /workspace/src/common/error_msg.cc:27: The tree method `gpu_hist` is deprecated since 2.0.0. To use GPU training, set the `device` parameter to CUDA instead.\n",
            "\n",
            "    E.g. tree_method = \"hist\", device = \"cuda\"\n",
            "\n",
            "  warnings.warn(smsg, UserWarning)\n",
            "\n",
            "/usr/local/lib/python3.10/dist-packages/xgboost/core.py:160: UserWarning: [22:36:57] WARNING: /workspace/src/common/error_msg.cc:27: The tree method `gpu_hist` is deprecated since 2.0.0. To use GPU training, set the `device` parameter to CUDA instead.\n",
            "\n",
            "    E.g. tree_method = \"hist\", device = \"cuda\"\n",
            "\n",
            "  warnings.warn(smsg, UserWarning)\n",
            "\n"
          ]
        },
        {
          "output_type": "stream",
          "name": "stdout",
          "text": [
            "\r 41%|████      | 41/100 [00:15<00:32,  1.84trial/s, best loss: -1.0]"
          ]
        },
        {
          "output_type": "stream",
          "name": "stderr",
          "text": [
            "/usr/local/lib/python3.10/dist-packages/xgboost/core.py:160: UserWarning: [22:36:57] WARNING: /workspace/src/common/error_msg.cc:27: The tree method `gpu_hist` is deprecated since 2.0.0. To use GPU training, set the `device` parameter to CUDA instead.\n",
            "\n",
            "    E.g. tree_method = \"hist\", device = \"cuda\"\n",
            "\n",
            "  warnings.warn(smsg, UserWarning)\n",
            "\n"
          ]
        },
        {
          "output_type": "stream",
          "name": "stdout",
          "text": [
            "\r 42%|████▏     | 42/100 [00:16<00:31,  1.85trial/s, best loss: -1.0]"
          ]
        },
        {
          "output_type": "stream",
          "name": "stderr",
          "text": [
            "/usr/local/lib/python3.10/dist-packages/xgboost/core.py:160: UserWarning: [22:36:58] WARNING: /workspace/src/common/error_msg.cc:27: The tree method `gpu_hist` is deprecated since 2.0.0. To use GPU training, set the `device` parameter to CUDA instead.\n",
            "\n",
            "    E.g. tree_method = \"hist\", device = \"cuda\"\n",
            "\n",
            "  warnings.warn(smsg, UserWarning)\n",
            "\n",
            "/usr/local/lib/python3.10/dist-packages/xgboost/core.py:160: UserWarning: [22:36:58] WARNING: /workspace/src/common/error_msg.cc:27: The tree method `gpu_hist` is deprecated since 2.0.0. To use GPU training, set the `device` parameter to CUDA instead.\n",
            "\n",
            "    E.g. tree_method = \"hist\", device = \"cuda\"\n",
            "\n",
            "  warnings.warn(smsg, UserWarning)\n",
            "\n"
          ]
        },
        {
          "output_type": "stream",
          "name": "stdout",
          "text": [
            " 44%|████▍     | 44/100 [00:16<00:21,  2.57trial/s, best loss: -1.0]"
          ]
        },
        {
          "output_type": "stream",
          "name": "stderr",
          "text": [
            "/usr/local/lib/python3.10/dist-packages/xgboost/core.py:160: UserWarning: [22:36:58] WARNING: /workspace/src/common/error_msg.cc:27: The tree method `gpu_hist` is deprecated since 2.0.0. To use GPU training, set the `device` parameter to CUDA instead.\n",
            "\n",
            "    E.g. tree_method = \"hist\", device = \"cuda\"\n",
            "\n",
            "  warnings.warn(smsg, UserWarning)\n",
            "\n"
          ]
        },
        {
          "output_type": "stream",
          "name": "stdout",
          "text": [
            "\r 45%|████▌     | 45/100 [00:16<00:16,  3.24trial/s, best loss: -1.0]"
          ]
        },
        {
          "output_type": "stream",
          "name": "stderr",
          "text": [
            "/usr/local/lib/python3.10/dist-packages/xgboost/core.py:160: UserWarning: [22:36:58] WARNING: /workspace/src/common/error_msg.cc:27: The tree method `gpu_hist` is deprecated since 2.0.0. To use GPU training, set the `device` parameter to CUDA instead.\n",
            "\n",
            "    E.g. tree_method = \"hist\", device = \"cuda\"\n",
            "\n",
            "  warnings.warn(smsg, UserWarning)\n",
            "\n",
            "/usr/local/lib/python3.10/dist-packages/xgboost/core.py:160: UserWarning: [22:36:58] WARNING: /workspace/src/common/error_msg.cc:27: The tree method `gpu_hist` is deprecated since 2.0.0. To use GPU training, set the `device` parameter to CUDA instead.\n",
            "\n",
            "    E.g. tree_method = \"hist\", device = \"cuda\"\n",
            "\n",
            "  warnings.warn(smsg, UserWarning)\n",
            "\n"
          ]
        },
        {
          "output_type": "stream",
          "name": "stdout",
          "text": [
            "\r 46%|████▌     | 46/100 [00:17<00:15,  3.56trial/s, best loss: -1.0]"
          ]
        },
        {
          "output_type": "stream",
          "name": "stderr",
          "text": [
            "/usr/local/lib/python3.10/dist-packages/xgboost/core.py:160: UserWarning: [22:36:58] WARNING: /workspace/src/common/error_msg.cc:27: The tree method `gpu_hist` is deprecated since 2.0.0. To use GPU training, set the `device` parameter to CUDA instead.\n",
            "\n",
            "    E.g. tree_method = \"hist\", device = \"cuda\"\n",
            "\n",
            "  warnings.warn(smsg, UserWarning)\n",
            "\n"
          ]
        },
        {
          "output_type": "stream",
          "name": "stdout",
          "text": [
            "\r 47%|████▋     | 47/100 [00:17<00:19,  2.71trial/s, best loss: -1.0]"
          ]
        },
        {
          "output_type": "stream",
          "name": "stderr",
          "text": [
            "/usr/local/lib/python3.10/dist-packages/xgboost/core.py:160: UserWarning: [22:36:59] WARNING: /workspace/src/common/error_msg.cc:27: The tree method `gpu_hist` is deprecated since 2.0.0. To use GPU training, set the `device` parameter to CUDA instead.\n",
            "\n",
            "    E.g. tree_method = \"hist\", device = \"cuda\"\n",
            "\n",
            "  warnings.warn(smsg, UserWarning)\n",
            "\n",
            "/usr/local/lib/python3.10/dist-packages/xgboost/core.py:160: UserWarning: [22:36:59] WARNING: /workspace/src/common/error_msg.cc:27: The tree method `gpu_hist` is deprecated since 2.0.0. To use GPU training, set the `device` parameter to CUDA instead.\n",
            "\n",
            "    E.g. tree_method = \"hist\", device = \"cuda\"\n",
            "\n",
            "  warnings.warn(smsg, UserWarning)\n",
            "\n"
          ]
        },
        {
          "output_type": "stream",
          "name": "stdout",
          "text": [
            " 49%|████▉     | 49/100 [00:18<00:15,  3.39trial/s, best loss: -1.0]"
          ]
        },
        {
          "output_type": "stream",
          "name": "stderr",
          "text": [
            "/usr/local/lib/python3.10/dist-packages/xgboost/core.py:160: UserWarning: [22:36:59] WARNING: /workspace/src/common/error_msg.cc:27: The tree method `gpu_hist` is deprecated since 2.0.0. To use GPU training, set the `device` parameter to CUDA instead.\n",
            "\n",
            "    E.g. tree_method = \"hist\", device = \"cuda\"\n",
            "\n",
            "  warnings.warn(smsg, UserWarning)\n",
            "\n",
            "/usr/local/lib/python3.10/dist-packages/xgboost/core.py:160: UserWarning: [22:36:59] WARNING: /workspace/src/common/error_msg.cc:27: The tree method `gpu_hist` is deprecated since 2.0.0. To use GPU training, set the `device` parameter to CUDA instead.\n",
            "\n",
            "    E.g. tree_method = \"hist\", device = \"cuda\"\n",
            "\n",
            "  warnings.warn(smsg, UserWarning)\n",
            "\n"
          ]
        },
        {
          "output_type": "stream",
          "name": "stdout",
          "text": [
            "\r 50%|█████     | 50/100 [00:18<00:13,  3.61trial/s, best loss: -1.0]"
          ]
        },
        {
          "output_type": "stream",
          "name": "stderr",
          "text": [
            "/usr/local/lib/python3.10/dist-packages/xgboost/core.py:160: UserWarning: [22:37:00] WARNING: /workspace/src/common/error_msg.cc:27: The tree method `gpu_hist` is deprecated since 2.0.0. To use GPU training, set the `device` parameter to CUDA instead.\n",
            "\n",
            "    E.g. tree_method = \"hist\", device = \"cuda\"\n",
            "\n",
            "  warnings.warn(smsg, UserWarning)\n",
            "\n",
            "/usr/local/lib/python3.10/dist-packages/xgboost/core.py:160: UserWarning: [22:37:00] WARNING: /workspace/src/common/error_msg.cc:27: The tree method `gpu_hist` is deprecated since 2.0.0. To use GPU training, set the `device` parameter to CUDA instead.\n",
            "\n",
            "    E.g. tree_method = \"hist\", device = \"cuda\"\n",
            "\n",
            "  warnings.warn(smsg, UserWarning)\n",
            "\n"
          ]
        },
        {
          "output_type": "stream",
          "name": "stdout",
          "text": [
            "\r 51%|█████     | 51/100 [00:18<00:18,  2.69trial/s, best loss: -1.0]"
          ]
        },
        {
          "output_type": "stream",
          "name": "stderr",
          "text": [
            "/usr/local/lib/python3.10/dist-packages/xgboost/core.py:160: UserWarning: [22:37:00] WARNING: /workspace/src/common/error_msg.cc:27: The tree method `gpu_hist` is deprecated since 2.0.0. To use GPU training, set the `device` parameter to CUDA instead.\n",
            "\n",
            "    E.g. tree_method = \"hist\", device = \"cuda\"\n",
            "\n",
            "  warnings.warn(smsg, UserWarning)\n",
            "\n"
          ]
        },
        {
          "output_type": "stream",
          "name": "stdout",
          "text": [
            " 53%|█████▎    | 53/100 [00:19<00:13,  3.52trial/s, best loss: -1.0]"
          ]
        },
        {
          "output_type": "stream",
          "name": "stderr",
          "text": [
            "/usr/local/lib/python3.10/dist-packages/xgboost/core.py:160: UserWarning: [22:37:01] WARNING: /workspace/src/common/error_msg.cc:27: The tree method `gpu_hist` is deprecated since 2.0.0. To use GPU training, set the `device` parameter to CUDA instead.\n",
            "\n",
            "    E.g. tree_method = \"hist\", device = \"cuda\"\n",
            "\n",
            "  warnings.warn(smsg, UserWarning)\n",
            "\n",
            "/usr/local/lib/python3.10/dist-packages/xgboost/core.py:160: UserWarning: [22:37:01] WARNING: /workspace/src/common/error_msg.cc:27: The tree method `gpu_hist` is deprecated since 2.0.0. To use GPU training, set the `device` parameter to CUDA instead.\n",
            "\n",
            "    E.g. tree_method = \"hist\", device = \"cuda\"\n",
            "\n",
            "  warnings.warn(smsg, UserWarning)\n",
            "\n",
            "/usr/local/lib/python3.10/dist-packages/xgboost/core.py:160: UserWarning: [22:37:01] WARNING: /workspace/src/common/error_msg.cc:27: The tree method `gpu_hist` is deprecated since 2.0.0. To use GPU training, set the `device` parameter to CUDA instead.\n",
            "\n",
            "    E.g. tree_method = \"hist\", device = \"cuda\"\n",
            "\n",
            "  warnings.warn(smsg, UserWarning)\n",
            "\n"
          ]
        },
        {
          "output_type": "stream",
          "name": "stdout",
          "text": [
            "\r 54%|█████▍    | 54/100 [00:19<00:11,  4.02trial/s, best loss: -1.0]"
          ]
        },
        {
          "output_type": "stream",
          "name": "stderr",
          "text": [
            "/usr/local/lib/python3.10/dist-packages/xgboost/core.py:160: UserWarning: [22:37:01] WARNING: /workspace/src/common/error_msg.cc:27: The tree method `gpu_hist` is deprecated since 2.0.0. To use GPU training, set the `device` parameter to CUDA instead.\n",
            "\n",
            "    E.g. tree_method = \"hist\", device = \"cuda\"\n",
            "\n",
            "  warnings.warn(smsg, UserWarning)\n",
            "\n"
          ]
        },
        {
          "output_type": "stream",
          "name": "stdout",
          "text": [
            " 56%|█████▌    | 56/100 [00:19<00:09,  4.82trial/s, best loss: -1.0]"
          ]
        },
        {
          "output_type": "stream",
          "name": "stderr",
          "text": [
            "/usr/local/lib/python3.10/dist-packages/xgboost/core.py:160: UserWarning: [22:37:01] WARNING: /workspace/src/common/error_msg.cc:27: The tree method `gpu_hist` is deprecated since 2.0.0. To use GPU training, set the `device` parameter to CUDA instead.\n",
            "\n",
            "    E.g. tree_method = \"hist\", device = \"cuda\"\n",
            "\n",
            "  warnings.warn(smsg, UserWarning)\n",
            "\n",
            "/usr/local/lib/python3.10/dist-packages/xgboost/core.py:160: UserWarning: [22:37:01] WARNING: /workspace/src/common/error_msg.cc:27: The tree method `gpu_hist` is deprecated since 2.0.0. To use GPU training, set the `device` parameter to CUDA instead.\n",
            "\n",
            "    E.g. tree_method = \"hist\", device = \"cuda\"\n",
            "\n",
            "  warnings.warn(smsg, UserWarning)\n",
            "\n"
          ]
        },
        {
          "output_type": "stream",
          "name": "stdout",
          "text": [
            "\r 57%|█████▋    | 57/100 [00:20<00:08,  5.26trial/s, best loss: -1.0]"
          ]
        },
        {
          "output_type": "stream",
          "name": "stderr",
          "text": [
            "/usr/local/lib/python3.10/dist-packages/xgboost/core.py:160: UserWarning: [22:37:01] WARNING: /workspace/src/common/error_msg.cc:27: The tree method `gpu_hist` is deprecated since 2.0.0. To use GPU training, set the `device` parameter to CUDA instead.\n",
            "\n",
            "    E.g. tree_method = \"hist\", device = \"cuda\"\n",
            "\n",
            "  warnings.warn(smsg, UserWarning)\n",
            "\n"
          ]
        },
        {
          "output_type": "stream",
          "name": "stdout",
          "text": [
            "\r 58%|█████▊    | 58/100 [00:20<00:09,  4.64trial/s, best loss: -1.0]"
          ]
        },
        {
          "output_type": "stream",
          "name": "stderr",
          "text": [
            "/usr/local/lib/python3.10/dist-packages/xgboost/core.py:160: UserWarning: [22:37:02] WARNING: /workspace/src/common/error_msg.cc:27: The tree method `gpu_hist` is deprecated since 2.0.0. To use GPU training, set the `device` parameter to CUDA instead.\n",
            "\n",
            "    E.g. tree_method = \"hist\", device = \"cuda\"\n",
            "\n",
            "  warnings.warn(smsg, UserWarning)\n",
            "\n",
            "/usr/local/lib/python3.10/dist-packages/xgboost/core.py:160: UserWarning: [22:37:02] WARNING: /workspace/src/common/error_msg.cc:27: The tree method `gpu_hist` is deprecated since 2.0.0. To use GPU training, set the `device` parameter to CUDA instead.\n",
            "\n",
            "    E.g. tree_method = \"hist\", device = \"cuda\"\n",
            "\n",
            "  warnings.warn(smsg, UserWarning)\n",
            "\n"
          ]
        },
        {
          "output_type": "stream",
          "name": "stdout",
          "text": [
            " 60%|██████    | 60/100 [00:21<00:10,  3.71trial/s, best loss: -1.0]"
          ]
        },
        {
          "output_type": "stream",
          "name": "stderr",
          "text": [
            "/usr/local/lib/python3.10/dist-packages/xgboost/core.py:160: UserWarning: [22:37:02] WARNING: /workspace/src/common/error_msg.cc:27: The tree method `gpu_hist` is deprecated since 2.0.0. To use GPU training, set the `device` parameter to CUDA instead.\n",
            "\n",
            "    E.g. tree_method = \"hist\", device = \"cuda\"\n",
            "\n",
            "  warnings.warn(smsg, UserWarning)\n",
            "\n",
            "/usr/local/lib/python3.10/dist-packages/xgboost/core.py:160: UserWarning: [22:37:02] WARNING: /workspace/src/common/error_msg.cc:27: The tree method `gpu_hist` is deprecated since 2.0.0. To use GPU training, set the `device` parameter to CUDA instead.\n",
            "\n",
            "    E.g. tree_method = \"hist\", device = \"cuda\"\n",
            "\n",
            "  warnings.warn(smsg, UserWarning)\n",
            "\n"
          ]
        },
        {
          "output_type": "stream",
          "name": "stdout",
          "text": [
            "\r 61%|██████    | 61/100 [00:21<00:09,  4.33trial/s, best loss: -1.0]"
          ]
        },
        {
          "output_type": "stream",
          "name": "stderr",
          "text": [
            "/usr/local/lib/python3.10/dist-packages/xgboost/core.py:160: UserWarning: [22:37:03] WARNING: /workspace/src/common/error_msg.cc:27: The tree method `gpu_hist` is deprecated since 2.0.0. To use GPU training, set the `device` parameter to CUDA instead.\n",
            "\n",
            "    E.g. tree_method = \"hist\", device = \"cuda\"\n",
            "\n",
            "  warnings.warn(smsg, UserWarning)\n",
            "\n"
          ]
        },
        {
          "output_type": "stream",
          "name": "stdout",
          "text": [
            " 63%|██████▎   | 63/100 [00:21<00:08,  4.18trial/s, best loss: -1.0]"
          ]
        },
        {
          "output_type": "stream",
          "name": "stderr",
          "text": [
            "/usr/local/lib/python3.10/dist-packages/xgboost/core.py:160: UserWarning: [22:37:03] WARNING: /workspace/src/common/error_msg.cc:27: The tree method `gpu_hist` is deprecated since 2.0.0. To use GPU training, set the `device` parameter to CUDA instead.\n",
            "\n",
            "    E.g. tree_method = \"hist\", device = \"cuda\"\n",
            "\n",
            "  warnings.warn(smsg, UserWarning)\n",
            "\n",
            "/usr/local/lib/python3.10/dist-packages/xgboost/core.py:160: UserWarning: [22:37:03] WARNING: /workspace/src/common/error_msg.cc:27: The tree method `gpu_hist` is deprecated since 2.0.0. To use GPU training, set the `device` parameter to CUDA instead.\n",
            "\n",
            "    E.g. tree_method = \"hist\", device = \"cuda\"\n",
            "\n",
            "  warnings.warn(smsg, UserWarning)\n",
            "\n"
          ]
        },
        {
          "output_type": "stream",
          "name": "stdout",
          "text": [
            "\r 64%|██████▍   | 64/100 [00:21<00:08,  4.36trial/s, best loss: -1.0]"
          ]
        },
        {
          "output_type": "stream",
          "name": "stderr",
          "text": [
            "/usr/local/lib/python3.10/dist-packages/xgboost/core.py:160: UserWarning: [22:37:03] WARNING: /workspace/src/common/error_msg.cc:27: The tree method `gpu_hist` is deprecated since 2.0.0. To use GPU training, set the `device` parameter to CUDA instead.\n",
            "\n",
            "    E.g. tree_method = \"hist\", device = \"cuda\"\n",
            "\n",
            "  warnings.warn(smsg, UserWarning)\n",
            "\n"
          ]
        },
        {
          "output_type": "stream",
          "name": "stdout",
          "text": [
            "\r 65%|██████▌   | 65/100 [00:22<00:09,  3.82trial/s, best loss: -1.0]"
          ]
        },
        {
          "output_type": "stream",
          "name": "stderr",
          "text": [
            "/usr/local/lib/python3.10/dist-packages/xgboost/core.py:160: UserWarning: [22:37:04] WARNING: /workspace/src/common/error_msg.cc:27: The tree method `gpu_hist` is deprecated since 2.0.0. To use GPU training, set the `device` parameter to CUDA instead.\n",
            "\n",
            "    E.g. tree_method = \"hist\", device = \"cuda\"\n",
            "\n",
            "  warnings.warn(smsg, UserWarning)\n",
            "\n",
            "/usr/local/lib/python3.10/dist-packages/xgboost/core.py:160: UserWarning: [22:37:04] WARNING: /workspace/src/common/error_msg.cc:27: The tree method `gpu_hist` is deprecated since 2.0.0. To use GPU training, set the `device` parameter to CUDA instead.\n",
            "\n",
            "    E.g. tree_method = \"hist\", device = \"cuda\"\n",
            "\n",
            "  warnings.warn(smsg, UserWarning)\n",
            "\n"
          ]
        },
        {
          "output_type": "stream",
          "name": "stdout",
          "text": [
            "\r 66%|██████▌   | 66/100 [00:22<00:08,  4.00trial/s, best loss: -1.0]"
          ]
        },
        {
          "output_type": "stream",
          "name": "stderr",
          "text": [
            "/usr/local/lib/python3.10/dist-packages/xgboost/core.py:160: UserWarning: [22:37:04] WARNING: /workspace/src/common/error_msg.cc:27: The tree method `gpu_hist` is deprecated since 2.0.0. To use GPU training, set the `device` parameter to CUDA instead.\n",
            "\n",
            "    E.g. tree_method = \"hist\", device = \"cuda\"\n",
            "\n",
            "  warnings.warn(smsg, UserWarning)\n",
            "\n"
          ]
        },
        {
          "output_type": "stream",
          "name": "stdout",
          "text": [
            " 68%|██████▊   | 68/100 [00:23<00:08,  3.87trial/s, best loss: -1.0]"
          ]
        },
        {
          "output_type": "stream",
          "name": "stderr",
          "text": [
            "/usr/local/lib/python3.10/dist-packages/xgboost/core.py:160: UserWarning: [22:37:04] WARNING: /workspace/src/common/error_msg.cc:27: The tree method `gpu_hist` is deprecated since 2.0.0. To use GPU training, set the `device` parameter to CUDA instead.\n",
            "\n",
            "    E.g. tree_method = \"hist\", device = \"cuda\"\n",
            "\n",
            "  warnings.warn(smsg, UserWarning)\n",
            "\n",
            "/usr/local/lib/python3.10/dist-packages/xgboost/core.py:160: UserWarning: [22:37:04] WARNING: /workspace/src/common/error_msg.cc:27: The tree method `gpu_hist` is deprecated since 2.0.0. To use GPU training, set the `device` parameter to CUDA instead.\n",
            "\n",
            "    E.g. tree_method = \"hist\", device = \"cuda\"\n",
            "\n",
            "  warnings.warn(smsg, UserWarning)\n",
            "\n"
          ]
        },
        {
          "output_type": "stream",
          "name": "stdout",
          "text": [
            "\r 69%|██████▉   | 69/100 [00:23<00:08,  3.58trial/s, best loss: -1.0]"
          ]
        },
        {
          "output_type": "stream",
          "name": "stderr",
          "text": [
            "/usr/local/lib/python3.10/dist-packages/xgboost/core.py:160: UserWarning: [22:37:05] WARNING: /workspace/src/common/error_msg.cc:27: The tree method `gpu_hist` is deprecated since 2.0.0. To use GPU training, set the `device` parameter to CUDA instead.\n",
            "\n",
            "    E.g. tree_method = \"hist\", device = \"cuda\"\n",
            "\n",
            "  warnings.warn(smsg, UserWarning)\n",
            "\n",
            "/usr/local/lib/python3.10/dist-packages/xgboost/core.py:160: UserWarning: [22:37:05] WARNING: /workspace/src/common/error_msg.cc:27: The tree method `gpu_hist` is deprecated since 2.0.0. To use GPU training, set the `device` parameter to CUDA instead.\n",
            "\n",
            "    E.g. tree_method = \"hist\", device = \"cuda\"\n",
            "\n",
            "  warnings.warn(smsg, UserWarning)\n",
            "\n"
          ]
        },
        {
          "output_type": "stream",
          "name": "stdout",
          "text": [
            " 71%|███████   | 71/100 [00:23<00:06,  4.23trial/s, best loss: -1.0]"
          ]
        },
        {
          "output_type": "stream",
          "name": "stderr",
          "text": [
            "/usr/local/lib/python3.10/dist-packages/xgboost/core.py:160: UserWarning: [22:37:05] WARNING: /workspace/src/common/error_msg.cc:27: The tree method `gpu_hist` is deprecated since 2.0.0. To use GPU training, set the `device` parameter to CUDA instead.\n",
            "\n",
            "    E.g. tree_method = \"hist\", device = \"cuda\"\n",
            "\n",
            "  warnings.warn(smsg, UserWarning)\n",
            "\n",
            "/usr/local/lib/python3.10/dist-packages/xgboost/core.py:160: UserWarning: [22:37:05] WARNING: /workspace/src/common/error_msg.cc:27: The tree method `gpu_hist` is deprecated since 2.0.0. To use GPU training, set the `device` parameter to CUDA instead.\n",
            "\n",
            "    E.g. tree_method = \"hist\", device = \"cuda\"\n",
            "\n",
            "  warnings.warn(smsg, UserWarning)\n",
            "\n"
          ]
        },
        {
          "output_type": "stream",
          "name": "stdout",
          "text": [
            " 73%|███████▎  | 73/100 [00:24<00:05,  5.19trial/s, best loss: -1.0]"
          ]
        },
        {
          "output_type": "stream",
          "name": "stderr",
          "text": [
            "/usr/local/lib/python3.10/dist-packages/xgboost/core.py:160: UserWarning: [22:37:05] WARNING: /workspace/src/common/error_msg.cc:27: The tree method `gpu_hist` is deprecated since 2.0.0. To use GPU training, set the `device` parameter to CUDA instead.\n",
            "\n",
            "    E.g. tree_method = \"hist\", device = \"cuda\"\n",
            "\n",
            "  warnings.warn(smsg, UserWarning)\n",
            "\n",
            "/usr/local/lib/python3.10/dist-packages/xgboost/core.py:160: UserWarning: [22:37:05] WARNING: /workspace/src/common/error_msg.cc:27: The tree method `gpu_hist` is deprecated since 2.0.0. To use GPU training, set the `device` parameter to CUDA instead.\n",
            "\n",
            "    E.g. tree_method = \"hist\", device = \"cuda\"\n",
            "\n",
            "  warnings.warn(smsg, UserWarning)\n",
            "\n"
          ]
        },
        {
          "output_type": "stream",
          "name": "stdout",
          "text": [
            "\r 74%|███████▍  | 74/100 [00:24<00:05,  4.65trial/s, best loss: -1.0]"
          ]
        },
        {
          "output_type": "stream",
          "name": "stderr",
          "text": [
            "/usr/local/lib/python3.10/dist-packages/xgboost/core.py:160: UserWarning: [22:37:06] WARNING: /workspace/src/common/error_msg.cc:27: The tree method `gpu_hist` is deprecated since 2.0.0. To use GPU training, set the `device` parameter to CUDA instead.\n",
            "\n",
            "    E.g. tree_method = \"hist\", device = \"cuda\"\n",
            "\n",
            "  warnings.warn(smsg, UserWarning)\n",
            "\n",
            "/usr/local/lib/python3.10/dist-packages/xgboost/core.py:160: UserWarning: [22:37:06] WARNING: /workspace/src/common/error_msg.cc:27: The tree method `gpu_hist` is deprecated since 2.0.0. To use GPU training, set the `device` parameter to CUDA instead.\n",
            "\n",
            "    E.g. tree_method = \"hist\", device = \"cuda\"\n",
            "\n",
            "  warnings.warn(smsg, UserWarning)\n",
            "\n"
          ]
        },
        {
          "output_type": "stream",
          "name": "stdout",
          "text": [
            "\r 75%|███████▌  | 75/100 [00:24<00:06,  3.91trial/s, best loss: -1.0]"
          ]
        },
        {
          "output_type": "stream",
          "name": "stderr",
          "text": [
            "/usr/local/lib/python3.10/dist-packages/xgboost/core.py:160: UserWarning: [22:37:06] WARNING: /workspace/src/common/error_msg.cc:27: The tree method `gpu_hist` is deprecated since 2.0.0. To use GPU training, set the `device` parameter to CUDA instead.\n",
            "\n",
            "    E.g. tree_method = \"hist\", device = \"cuda\"\n",
            "\n",
            "  warnings.warn(smsg, UserWarning)\n",
            "\n"
          ]
        },
        {
          "output_type": "stream",
          "name": "stdout",
          "text": [
            "\r 76%|███████▌  | 76/100 [00:24<00:06,  3.74trial/s, best loss: -1.0]"
          ]
        },
        {
          "output_type": "stream",
          "name": "stderr",
          "text": [
            "/usr/local/lib/python3.10/dist-packages/xgboost/core.py:160: UserWarning: [22:37:06] WARNING: /workspace/src/common/error_msg.cc:27: The tree method `gpu_hist` is deprecated since 2.0.0. To use GPU training, set the `device` parameter to CUDA instead.\n",
            "\n",
            "    E.g. tree_method = \"hist\", device = \"cuda\"\n",
            "\n",
            "  warnings.warn(smsg, UserWarning)\n",
            "\n"
          ]
        },
        {
          "output_type": "stream",
          "name": "stdout",
          "text": [
            "\r 77%|███████▋  | 77/100 [00:25<00:06,  3.81trial/s, best loss: -1.0]"
          ]
        },
        {
          "output_type": "stream",
          "name": "stderr",
          "text": [
            "/usr/local/lib/python3.10/dist-packages/xgboost/core.py:160: UserWarning: [22:37:07] WARNING: /workspace/src/common/error_msg.cc:27: The tree method `gpu_hist` is deprecated since 2.0.0. To use GPU training, set the `device` parameter to CUDA instead.\n",
            "\n",
            "    E.g. tree_method = \"hist\", device = \"cuda\"\n",
            "\n",
            "  warnings.warn(smsg, UserWarning)\n",
            "\n",
            "/usr/local/lib/python3.10/dist-packages/xgboost/core.py:160: UserWarning: [22:37:07] WARNING: /workspace/src/common/error_msg.cc:27: The tree method `gpu_hist` is deprecated since 2.0.0. To use GPU training, set the `device` parameter to CUDA instead.\n",
            "\n",
            "    E.g. tree_method = \"hist\", device = \"cuda\"\n",
            "\n",
            "  warnings.warn(smsg, UserWarning)\n",
            "\n"
          ]
        },
        {
          "output_type": "stream",
          "name": "stdout",
          "text": [
            " 79%|███████▉  | 79/100 [00:25<00:06,  3.37trial/s, best loss: -1.0]"
          ]
        },
        {
          "output_type": "stream",
          "name": "stderr",
          "text": [
            "/usr/local/lib/python3.10/dist-packages/xgboost/core.py:160: UserWarning: [22:37:07] WARNING: /workspace/src/common/error_msg.cc:27: The tree method `gpu_hist` is deprecated since 2.0.0. To use GPU training, set the `device` parameter to CUDA instead.\n",
            "\n",
            "    E.g. tree_method = \"hist\", device = \"cuda\"\n",
            "\n",
            "  warnings.warn(smsg, UserWarning)\n",
            "\n",
            "/usr/local/lib/python3.10/dist-packages/xgboost/core.py:160: UserWarning: [22:37:07] WARNING: /workspace/src/common/error_msg.cc:27: The tree method `gpu_hist` is deprecated since 2.0.0. To use GPU training, set the `device` parameter to CUDA instead.\n",
            "\n",
            "    E.g. tree_method = \"hist\", device = \"cuda\"\n",
            "\n",
            "  warnings.warn(smsg, UserWarning)\n",
            "\n"
          ]
        },
        {
          "output_type": "stream",
          "name": "stdout",
          "text": [
            " 81%|████████  | 81/100 [00:26<00:04,  3.95trial/s, best loss: -1.0]"
          ]
        },
        {
          "output_type": "stream",
          "name": "stderr",
          "text": [
            "/usr/local/lib/python3.10/dist-packages/xgboost/core.py:160: UserWarning: [22:37:08] WARNING: /workspace/src/common/error_msg.cc:27: The tree method `gpu_hist` is deprecated since 2.0.0. To use GPU training, set the `device` parameter to CUDA instead.\n",
            "\n",
            "    E.g. tree_method = \"hist\", device = \"cuda\"\n",
            "\n",
            "  warnings.warn(smsg, UserWarning)\n",
            "\n",
            "/usr/local/lib/python3.10/dist-packages/xgboost/core.py:160: UserWarning: [22:37:08] WARNING: /workspace/src/common/error_msg.cc:27: The tree method `gpu_hist` is deprecated since 2.0.0. To use GPU training, set the `device` parameter to CUDA instead.\n",
            "\n",
            "    E.g. tree_method = \"hist\", device = \"cuda\"\n",
            "\n",
            "  warnings.warn(smsg, UserWarning)\n",
            "\n",
            "/usr/local/lib/python3.10/dist-packages/xgboost/core.py:160: UserWarning: [22:37:08] WARNING: /workspace/src/common/error_msg.cc:27: The tree method `gpu_hist` is deprecated since 2.0.0. To use GPU training, set the `device` parameter to CUDA instead.\n",
            "\n",
            "    E.g. tree_method = \"hist\", device = \"cuda\"\n",
            "\n",
            "  warnings.warn(smsg, UserWarning)\n",
            "\n"
          ]
        },
        {
          "output_type": "stream",
          "name": "stdout",
          "text": [
            " 83%|████████▎ | 83/100 [00:26<00:03,  4.84trial/s, best loss: -1.0]"
          ]
        },
        {
          "output_type": "stream",
          "name": "stderr",
          "text": [
            "/usr/local/lib/python3.10/dist-packages/xgboost/core.py:160: UserWarning: [22:37:08] WARNING: /workspace/src/common/error_msg.cc:27: The tree method `gpu_hist` is deprecated since 2.0.0. To use GPU training, set the `device` parameter to CUDA instead.\n",
            "\n",
            "    E.g. tree_method = \"hist\", device = \"cuda\"\n",
            "\n",
            "  warnings.warn(smsg, UserWarning)\n",
            "\n",
            "/usr/local/lib/python3.10/dist-packages/xgboost/core.py:160: UserWarning: [22:37:08] WARNING: /workspace/src/common/error_msg.cc:27: The tree method `gpu_hist` is deprecated since 2.0.0. To use GPU training, set the `device` parameter to CUDA instead.\n",
            "\n",
            "    E.g. tree_method = \"hist\", device = \"cuda\"\n",
            "\n",
            "  warnings.warn(smsg, UserWarning)\n",
            "\n"
          ]
        },
        {
          "output_type": "stream",
          "name": "stdout",
          "text": [
            "\r 85%|████████▌ | 85/100 [00:26<00:02,  5.96trial/s, best loss: -1.0]"
          ]
        },
        {
          "output_type": "stream",
          "name": "stderr",
          "text": [
            "/usr/local/lib/python3.10/dist-packages/xgboost/core.py:160: UserWarning: [22:37:08] WARNING: /workspace/src/common/error_msg.cc:27: The tree method `gpu_hist` is deprecated since 2.0.0. To use GPU training, set the `device` parameter to CUDA instead.\n",
            "\n",
            "    E.g. tree_method = \"hist\", device = \"cuda\"\n",
            "\n",
            "  warnings.warn(smsg, UserWarning)\n",
            "\n",
            "/usr/local/lib/python3.10/dist-packages/xgboost/core.py:160: UserWarning: [22:37:08] WARNING: /workspace/src/common/error_msg.cc:27: The tree method `gpu_hist` is deprecated since 2.0.0. To use GPU training, set the `device` parameter to CUDA instead.\n",
            "\n",
            "    E.g. tree_method = \"hist\", device = \"cuda\"\n",
            "\n",
            "  warnings.warn(smsg, UserWarning)\n",
            "\n"
          ]
        },
        {
          "output_type": "stream",
          "name": "stdout",
          "text": [
            " 87%|████████▋ | 87/100 [00:27<00:01,  6.82trial/s, best loss: -1.0]"
          ]
        },
        {
          "output_type": "stream",
          "name": "stderr",
          "text": [
            "/usr/local/lib/python3.10/dist-packages/xgboost/core.py:160: UserWarning: [22:37:08] WARNING: /workspace/src/common/error_msg.cc:27: The tree method `gpu_hist` is deprecated since 2.0.0. To use GPU training, set the `device` parameter to CUDA instead.\n",
            "\n",
            "    E.g. tree_method = \"hist\", device = \"cuda\"\n",
            "\n",
            "  warnings.warn(smsg, UserWarning)\n",
            "\n",
            "/usr/local/lib/python3.10/dist-packages/xgboost/core.py:160: UserWarning: [22:37:09] WARNING: /workspace/src/common/error_msg.cc:27: The tree method `gpu_hist` is deprecated since 2.0.0. To use GPU training, set the `device` parameter to CUDA instead.\n",
            "\n",
            "    E.g. tree_method = \"hist\", device = \"cuda\"\n",
            "\n",
            "  warnings.warn(smsg, UserWarning)\n",
            "\n"
          ]
        },
        {
          "output_type": "stream",
          "name": "stdout",
          "text": [
            "\r 88%|████████▊ | 88/100 [00:27<00:02,  5.45trial/s, best loss: -1.0]"
          ]
        },
        {
          "output_type": "stream",
          "name": "stderr",
          "text": [
            "/usr/local/lib/python3.10/dist-packages/xgboost/core.py:160: UserWarning: [22:37:09] WARNING: /workspace/src/common/error_msg.cc:27: The tree method `gpu_hist` is deprecated since 2.0.0. To use GPU training, set the `device` parameter to CUDA instead.\n",
            "\n",
            "    E.g. tree_method = \"hist\", device = \"cuda\"\n",
            "\n",
            "  warnings.warn(smsg, UserWarning)\n",
            "\n"
          ]
        },
        {
          "output_type": "stream",
          "name": "stdout",
          "text": [
            "\r 89%|████████▉ | 89/100 [00:27<00:02,  4.63trial/s, best loss: -1.0]"
          ]
        },
        {
          "output_type": "stream",
          "name": "stderr",
          "text": [
            "/usr/local/lib/python3.10/dist-packages/xgboost/core.py:160: UserWarning: [22:37:09] WARNING: /workspace/src/common/error_msg.cc:27: The tree method `gpu_hist` is deprecated since 2.0.0. To use GPU training, set the `device` parameter to CUDA instead.\n",
            "\n",
            "    E.g. tree_method = \"hist\", device = \"cuda\"\n",
            "\n",
            "  warnings.warn(smsg, UserWarning)\n",
            "\n"
          ]
        },
        {
          "output_type": "stream",
          "name": "stdout",
          "text": [
            " 91%|█████████ | 91/100 [00:28<00:01,  4.64trial/s, best loss: -1.0]"
          ]
        },
        {
          "output_type": "stream",
          "name": "stderr",
          "text": [
            "/usr/local/lib/python3.10/dist-packages/xgboost/core.py:160: UserWarning: [22:37:09] WARNING: /workspace/src/common/error_msg.cc:27: The tree method `gpu_hist` is deprecated since 2.0.0. To use GPU training, set the `device` parameter to CUDA instead.\n",
            "\n",
            "    E.g. tree_method = \"hist\", device = \"cuda\"\n",
            "\n",
            "  warnings.warn(smsg, UserWarning)\n",
            "\n",
            "/usr/local/lib/python3.10/dist-packages/xgboost/core.py:160: UserWarning: [22:37:10] WARNING: /workspace/src/common/error_msg.cc:27: The tree method `gpu_hist` is deprecated since 2.0.0. To use GPU training, set the `device` parameter to CUDA instead.\n",
            "\n",
            "    E.g. tree_method = \"hist\", device = \"cuda\"\n",
            "\n",
            "  warnings.warn(smsg, UserWarning)\n",
            "\n",
            "/usr/local/lib/python3.10/dist-packages/xgboost/core.py:160: UserWarning: [22:37:10] WARNING: /workspace/src/common/error_msg.cc:27: The tree method `gpu_hist` is deprecated since 2.0.0. To use GPU training, set the `device` parameter to CUDA instead.\n",
            "\n",
            "    E.g. tree_method = \"hist\", device = \"cuda\"\n",
            "\n",
            "  warnings.warn(smsg, UserWarning)\n",
            "\n"
          ]
        },
        {
          "output_type": "stream",
          "name": "stdout",
          "text": [
            " 93%|█████████▎| 93/100 [00:28<00:01,  5.54trial/s, best loss: -1.0]"
          ]
        },
        {
          "output_type": "stream",
          "name": "stderr",
          "text": [
            "/usr/local/lib/python3.10/dist-packages/xgboost/core.py:160: UserWarning: [22:37:10] WARNING: /workspace/src/common/error_msg.cc:27: The tree method `gpu_hist` is deprecated since 2.0.0. To use GPU training, set the `device` parameter to CUDA instead.\n",
            "\n",
            "    E.g. tree_method = \"hist\", device = \"cuda\"\n",
            "\n",
            "  warnings.warn(smsg, UserWarning)\n",
            "\n",
            "/usr/local/lib/python3.10/dist-packages/xgboost/core.py:160: UserWarning: [22:37:10] WARNING: /workspace/src/common/error_msg.cc:27: The tree method `gpu_hist` is deprecated since 2.0.0. To use GPU training, set the `device` parameter to CUDA instead.\n",
            "\n",
            "    E.g. tree_method = \"hist\", device = \"cuda\"\n",
            "\n",
            "  warnings.warn(smsg, UserWarning)\n",
            "\n"
          ]
        },
        {
          "output_type": "stream",
          "name": "stdout",
          "text": [
            " 95%|█████████▌| 95/100 [00:28<00:00,  6.05trial/s, best loss: -1.0]"
          ]
        },
        {
          "output_type": "stream",
          "name": "stderr",
          "text": [
            "/usr/local/lib/python3.10/dist-packages/xgboost/core.py:160: UserWarning: [22:37:10] WARNING: /workspace/src/common/error_msg.cc:27: The tree method `gpu_hist` is deprecated since 2.0.0. To use GPU training, set the `device` parameter to CUDA instead.\n",
            "\n",
            "    E.g. tree_method = \"hist\", device = \"cuda\"\n",
            "\n",
            "  warnings.warn(smsg, UserWarning)\n",
            "\n",
            "/usr/local/lib/python3.10/dist-packages/xgboost/core.py:160: UserWarning: [22:37:10] WARNING: /workspace/src/common/error_msg.cc:27: The tree method `gpu_hist` is deprecated since 2.0.0. To use GPU training, set the `device` parameter to CUDA instead.\n",
            "\n",
            "    E.g. tree_method = \"hist\", device = \"cuda\"\n",
            "\n",
            "  warnings.warn(smsg, UserWarning)\n",
            "\n"
          ]
        },
        {
          "output_type": "stream",
          "name": "stdout",
          "text": [
            " 97%|█████████▋| 97/100 [00:29<00:00,  5.75trial/s, best loss: -1.0]"
          ]
        },
        {
          "output_type": "stream",
          "name": "stderr",
          "text": [
            "/usr/local/lib/python3.10/dist-packages/xgboost/core.py:160: UserWarning: [22:37:10] WARNING: /workspace/src/common/error_msg.cc:27: The tree method `gpu_hist` is deprecated since 2.0.0. To use GPU training, set the `device` parameter to CUDA instead.\n",
            "\n",
            "    E.g. tree_method = \"hist\", device = \"cuda\"\n",
            "\n",
            "  warnings.warn(smsg, UserWarning)\n",
            "\n",
            "/usr/local/lib/python3.10/dist-packages/xgboost/core.py:160: UserWarning: [22:37:10] WARNING: /workspace/src/common/error_msg.cc:27: The tree method `gpu_hist` is deprecated since 2.0.0. To use GPU training, set the `device` parameter to CUDA instead.\n",
            "\n",
            "    E.g. tree_method = \"hist\", device = \"cuda\"\n",
            "\n",
            "  warnings.warn(smsg, UserWarning)\n",
            "\n"
          ]
        },
        {
          "output_type": "stream",
          "name": "stdout",
          "text": [
            " 99%|█████████▉| 99/100 [00:29<00:00,  6.08trial/s, best loss: -1.0]"
          ]
        },
        {
          "output_type": "stream",
          "name": "stderr",
          "text": [
            "/usr/local/lib/python3.10/dist-packages/xgboost/core.py:160: UserWarning: [22:37:11] WARNING: /workspace/src/common/error_msg.cc:27: The tree method `gpu_hist` is deprecated since 2.0.0. To use GPU training, set the `device` parameter to CUDA instead.\n",
            "\n",
            "    E.g. tree_method = \"hist\", device = \"cuda\"\n",
            "\n",
            "  warnings.warn(smsg, UserWarning)\n",
            "\n",
            "/usr/local/lib/python3.10/dist-packages/xgboost/core.py:160: UserWarning: [22:37:11] WARNING: /workspace/src/common/error_msg.cc:27: The tree method `gpu_hist` is deprecated since 2.0.0. To use GPU training, set the `device` parameter to CUDA instead.\n",
            "\n",
            "    E.g. tree_method = \"hist\", device = \"cuda\"\n",
            "\n",
            "  warnings.warn(smsg, UserWarning)\n",
            "\n",
            "/usr/local/lib/python3.10/dist-packages/xgboost/core.py:160: UserWarning: [22:37:11] WARNING: /workspace/src/common/error_msg.cc:27: The tree method `gpu_hist` is deprecated since 2.0.0. To use GPU training, set the `device` parameter to CUDA instead.\n",
            "\n",
            "    E.g. tree_method = \"hist\", device = \"cuda\"\n",
            "\n",
            "  warnings.warn(smsg, UserWarning)\n",
            "\n"
          ]
        },
        {
          "output_type": "stream",
          "name": "stdout",
          "text": [
            "100%|██████████| 100/100 [00:29<00:00,  3.37trial/s, best loss: -1.0]\n",
            "Best hyperparameters: {'colsample_bytree': 0.5272014327939425, 'lambda': 0.8596654690757137, 'learning_rate': 0.12108884914164553, 'max_depth': 0, 'n_estimators': 250.0, 'subsample': 0.5028602630358373}\n"
          ]
        }
      ]
    },
    {
      "cell_type": "code",
      "source": [
        "best_n_estimators = int(best_hyperparams['n_estimators'])\n",
        "best_max_depth = int(best_hyperparams['max_depth'])\n",
        "best_learning_rate = best_hyperparams['learning_rate']\n",
        "best_subsample = best_hyperparams['subsample']\n",
        "best_colsample_bytree = best_hyperparams['colsample_bytree']\n",
        "best_lambda = best_hyperparams['lambda']"
      ],
      "metadata": {
        "id": "m8hb_33py0Nb"
      },
      "execution_count": 16,
      "outputs": []
    },
    {
      "cell_type": "code",
      "source": [
        "trained_model = XGBClassifier(\n",
        "    n_estimators=best_n_estimators,\n",
        "    max_depth=best_max_depth,\n",
        "    learning_rate=best_learning_rate,\n",
        "    subsample=best_subsample,\n",
        "    colsample_bytree=best_colsample_bytree,\n",
        "    reg_lambda=best_lambda,\n",
        "    objective='multi:softmax',\n",
        "    eval_metric='mlogloss',\n",
        "    use_label_encoder=False,\n",
        "    num_class=2,  # Assuming binary or two-class classification\n",
        "    tree_method='gpu_hist',\n",
        "    device='gpu',  # Or 'cpu' if not using GPU\n",
        "    seed=42\n",
        ")\n"
      ],
      "metadata": {
        "id": "4H0TsBMTy4Mg"
      },
      "execution_count": 17,
      "outputs": []
    },
    {
      "cell_type": "code",
      "source": [
        "trained_model.fit(X_train_pca, train_remapped)"
      ],
      "metadata": {
        "colab": {
          "base_uri": "https://localhost:8080/",
          "height": 361
        },
        "id": "SsLvD98Sy61T",
        "outputId": "a857a2c6-c41d-43f2-f1f7-dd24f5b7c120"
      },
      "execution_count": 18,
      "outputs": [
        {
          "output_type": "stream",
          "name": "stderr",
          "text": [
            "/usr/local/lib/python3.10/dist-packages/xgboost/core.py:160: UserWarning: [22:37:11] WARNING: /workspace/src/common/error_msg.cc:27: The tree method `gpu_hist` is deprecated since 2.0.0. To use GPU training, set the `device` parameter to CUDA instead.\n",
            "\n",
            "    E.g. tree_method = \"hist\", device = \"cuda\"\n",
            "\n",
            "  warnings.warn(smsg, UserWarning)\n"
          ]
        },
        {
          "output_type": "execute_result",
          "data": {
            "text/plain": [
              "XGBClassifier(base_score=None, booster=None, callbacks=None,\n",
              "              colsample_bylevel=None, colsample_bynode=None,\n",
              "              colsample_bytree=0.5272014327939425, device='gpu',\n",
              "              early_stopping_rounds=None, enable_categorical=False,\n",
              "              eval_metric='mlogloss', feature_types=None, gamma=None,\n",
              "              grow_policy=None, importance_type=None,\n",
              "              interaction_constraints=None, learning_rate=0.12108884914164553,\n",
              "              max_bin=None, max_cat_threshold=None, max_cat_to_onehot=None,\n",
              "              max_delta_step=None, max_depth=0, max_leaves=None,\n",
              "              min_child_weight=None, missing=nan, monotone_constraints=None,\n",
              "              multi_strategy=None, n_estimators=250, n_jobs=None, num_class=2,\n",
              "              num_parallel_tree=None, ...)"
            ],
            "text/html": [
              "<style>#sk-container-id-1 {color: black;background-color: white;}#sk-container-id-1 pre{padding: 0;}#sk-container-id-1 div.sk-toggleable {background-color: white;}#sk-container-id-1 label.sk-toggleable__label {cursor: pointer;display: block;width: 100%;margin-bottom: 0;padding: 0.3em;box-sizing: border-box;text-align: center;}#sk-container-id-1 label.sk-toggleable__label-arrow:before {content: \"▸\";float: left;margin-right: 0.25em;color: #696969;}#sk-container-id-1 label.sk-toggleable__label-arrow:hover:before {color: black;}#sk-container-id-1 div.sk-estimator:hover label.sk-toggleable__label-arrow:before {color: black;}#sk-container-id-1 div.sk-toggleable__content {max-height: 0;max-width: 0;overflow: hidden;text-align: left;background-color: #f0f8ff;}#sk-container-id-1 div.sk-toggleable__content pre {margin: 0.2em;color: black;border-radius: 0.25em;background-color: #f0f8ff;}#sk-container-id-1 input.sk-toggleable__control:checked~div.sk-toggleable__content {max-height: 200px;max-width: 100%;overflow: auto;}#sk-container-id-1 input.sk-toggleable__control:checked~label.sk-toggleable__label-arrow:before {content: \"▾\";}#sk-container-id-1 div.sk-estimator input.sk-toggleable__control:checked~label.sk-toggleable__label {background-color: #d4ebff;}#sk-container-id-1 div.sk-label input.sk-toggleable__control:checked~label.sk-toggleable__label {background-color: #d4ebff;}#sk-container-id-1 input.sk-hidden--visually {border: 0;clip: rect(1px 1px 1px 1px);clip: rect(1px, 1px, 1px, 1px);height: 1px;margin: -1px;overflow: hidden;padding: 0;position: absolute;width: 1px;}#sk-container-id-1 div.sk-estimator {font-family: monospace;background-color: #f0f8ff;border: 1px dotted black;border-radius: 0.25em;box-sizing: border-box;margin-bottom: 0.5em;}#sk-container-id-1 div.sk-estimator:hover {background-color: #d4ebff;}#sk-container-id-1 div.sk-parallel-item::after {content: \"\";width: 100%;border-bottom: 1px solid gray;flex-grow: 1;}#sk-container-id-1 div.sk-label:hover label.sk-toggleable__label {background-color: #d4ebff;}#sk-container-id-1 div.sk-serial::before {content: \"\";position: absolute;border-left: 1px solid gray;box-sizing: border-box;top: 0;bottom: 0;left: 50%;z-index: 0;}#sk-container-id-1 div.sk-serial {display: flex;flex-direction: column;align-items: center;background-color: white;padding-right: 0.2em;padding-left: 0.2em;position: relative;}#sk-container-id-1 div.sk-item {position: relative;z-index: 1;}#sk-container-id-1 div.sk-parallel {display: flex;align-items: stretch;justify-content: center;background-color: white;position: relative;}#sk-container-id-1 div.sk-item::before, #sk-container-id-1 div.sk-parallel-item::before {content: \"\";position: absolute;border-left: 1px solid gray;box-sizing: border-box;top: 0;bottom: 0;left: 50%;z-index: -1;}#sk-container-id-1 div.sk-parallel-item {display: flex;flex-direction: column;z-index: 1;position: relative;background-color: white;}#sk-container-id-1 div.sk-parallel-item:first-child::after {align-self: flex-end;width: 50%;}#sk-container-id-1 div.sk-parallel-item:last-child::after {align-self: flex-start;width: 50%;}#sk-container-id-1 div.sk-parallel-item:only-child::after {width: 0;}#sk-container-id-1 div.sk-dashed-wrapped {border: 1px dashed gray;margin: 0 0.4em 0.5em 0.4em;box-sizing: border-box;padding-bottom: 0.4em;background-color: white;}#sk-container-id-1 div.sk-label label {font-family: monospace;font-weight: bold;display: inline-block;line-height: 1.2em;}#sk-container-id-1 div.sk-label-container {text-align: center;}#sk-container-id-1 div.sk-container {/* jupyter's `normalize.less` sets `[hidden] { display: none; }` but bootstrap.min.css set `[hidden] { display: none !important; }` so we also need the `!important` here to be able to override the default hidden behavior on the sphinx rendered scikit-learn.org. See: https://github.com/scikit-learn/scikit-learn/issues/21755 */display: inline-block !important;position: relative;}#sk-container-id-1 div.sk-text-repr-fallback {display: none;}</style><div id=\"sk-container-id-1\" class=\"sk-top-container\"><div class=\"sk-text-repr-fallback\"><pre>XGBClassifier(base_score=None, booster=None, callbacks=None,\n",
              "              colsample_bylevel=None, colsample_bynode=None,\n",
              "              colsample_bytree=0.5272014327939425, device=&#x27;gpu&#x27;,\n",
              "              early_stopping_rounds=None, enable_categorical=False,\n",
              "              eval_metric=&#x27;mlogloss&#x27;, feature_types=None, gamma=None,\n",
              "              grow_policy=None, importance_type=None,\n",
              "              interaction_constraints=None, learning_rate=0.12108884914164553,\n",
              "              max_bin=None, max_cat_threshold=None, max_cat_to_onehot=None,\n",
              "              max_delta_step=None, max_depth=0, max_leaves=None,\n",
              "              min_child_weight=None, missing=nan, monotone_constraints=None,\n",
              "              multi_strategy=None, n_estimators=250, n_jobs=None, num_class=2,\n",
              "              num_parallel_tree=None, ...)</pre><b>In a Jupyter environment, please rerun this cell to show the HTML representation or trust the notebook. <br />On GitHub, the HTML representation is unable to render, please try loading this page with nbviewer.org.</b></div><div class=\"sk-container\" hidden><div class=\"sk-item\"><div class=\"sk-estimator sk-toggleable\"><input class=\"sk-toggleable__control sk-hidden--visually\" id=\"sk-estimator-id-1\" type=\"checkbox\" checked><label for=\"sk-estimator-id-1\" class=\"sk-toggleable__label sk-toggleable__label-arrow\">XGBClassifier</label><div class=\"sk-toggleable__content\"><pre>XGBClassifier(base_score=None, booster=None, callbacks=None,\n",
              "              colsample_bylevel=None, colsample_bynode=None,\n",
              "              colsample_bytree=0.5272014327939425, device=&#x27;gpu&#x27;,\n",
              "              early_stopping_rounds=None, enable_categorical=False,\n",
              "              eval_metric=&#x27;mlogloss&#x27;, feature_types=None, gamma=None,\n",
              "              grow_policy=None, importance_type=None,\n",
              "              interaction_constraints=None, learning_rate=0.12108884914164553,\n",
              "              max_bin=None, max_cat_threshold=None, max_cat_to_onehot=None,\n",
              "              max_delta_step=None, max_depth=0, max_leaves=None,\n",
              "              min_child_weight=None, missing=nan, monotone_constraints=None,\n",
              "              multi_strategy=None, n_estimators=250, n_jobs=None, num_class=2,\n",
              "              num_parallel_tree=None, ...)</pre></div></div></div></div></div>"
            ]
          },
          "metadata": {},
          "execution_count": 18
        }
      ]
    },
    {
      "cell_type": "code",
      "source": [
        "predictions = trained_model.predict(X_test_pca)"
      ],
      "metadata": {
        "id": "jiMP28U-y9pl"
      },
      "execution_count": 19,
      "outputs": []
    },
    {
      "cell_type": "code",
      "source": [
        "XGBoost_accuracy = accuracy_score(test_remapped, predictions)\n",
        "print(f'XGBoost Test Accuracy: {XGBoost_accuracy*100:.2f}%')"
      ],
      "metadata": {
        "colab": {
          "base_uri": "https://localhost:8080/"
        },
        "id": "wEHeXC4dzBMY",
        "outputId": "06aa9fd1-7e82-43a3-e8f6-11de8021bed7"
      },
      "execution_count": 20,
      "outputs": [
        {
          "output_type": "stream",
          "name": "stdout",
          "text": [
            "XGBoost Test Accuracy: 67.35%\n"
          ]
        }
      ]
    },
    {
      "cell_type": "markdown",
      "source": [
        "Custom CNN"
      ],
      "metadata": {
        "id": "ae3e2NTgzaVf"
      }
    },
    {
      "cell_type": "code",
      "source": [
        "import torch\n",
        "import torch.nn as nn\n",
        "import torch.optim as optim\n",
        "from torchvision import datasets, transforms\n",
        "from torch.utils.data import Dataset,DataLoader, Subset, random_split\n",
        "from sklearn.decomposition import PCA\n",
        "import numpy as np\n",
        "import matplotlib.pyplot as plt\n",
        "from sklearn.model_selection import KFold\n",
        "import torch.nn.functional as F\n",
        "from torch.optim.lr_scheduler import ReduceLROnPlateau"
      ],
      "metadata": {
        "id": "Lv2lkstnzdke"
      },
      "execution_count": 21,
      "outputs": []
    },
    {
      "cell_type": "code",
      "source": [
        "device = \"cuda\" if torch.cuda.is_available() else \"cpu\"\n",
        "print(device)"
      ],
      "metadata": {
        "colab": {
          "base_uri": "https://localhost:8080/"
        },
        "id": "mT1zsMaRziqi",
        "outputId": "3c5f95da-b2a6-40a6-c012-9d57aeeb84be"
      },
      "execution_count": 22,
      "outputs": [
        {
          "output_type": "stream",
          "name": "stdout",
          "text": [
            "cuda\n"
          ]
        }
      ]
    },
    {
      "cell_type": "code",
      "source": [
        "train_transform = transforms.Compose([\n",
        "    transforms.RandomHorizontalFlip(),\n",
        "    transforms.RandomCrop(32, padding=4),\n",
        "    transforms.RandomRotation(20),\n",
        "    transforms.ColorJitter(brightness=0.2, contrast=0.2, saturation=0.2, hue=0.1),\n",
        "    transforms.ToTensor(),\n",
        "    transforms.Normalize(mean=[0.4914, 0.4822, 0.4465], std=[0.247, 0.243, 0.261])\n",
        "])\n",
        "\n",
        "test_transform = transforms.Compose([\n",
        "    transforms.ToTensor(),\n",
        "    transforms.Normalize(mean=[0.4914, 0.4822, 0.4465], std=[0.247, 0.243, 0.261])\n",
        "])"
      ],
      "metadata": {
        "id": "3PcZBRcczn3W"
      },
      "execution_count": 23,
      "outputs": []
    },
    {
      "cell_type": "code",
      "source": [
        "trainset = datasets.CIFAR10(root='./data', train=True, download=True)\n",
        "testset = datasets.CIFAR10(root='./data', train=False, download=True, transform=test_transform)"
      ],
      "metadata": {
        "colab": {
          "base_uri": "https://localhost:8080/"
        },
        "id": "AZLpijKXzr7w",
        "outputId": "44f66199-6639-4dda-c88b-fc7b9825cb71"
      },
      "execution_count": 24,
      "outputs": [
        {
          "output_type": "stream",
          "name": "stdout",
          "text": [
            "Files already downloaded and verified\n",
            "Files already downloaded and verified\n"
          ]
        }
      ]
    },
    {
      "cell_type": "code",
      "source": [
        "class TransformSubset(Dataset):\n",
        "    def __init__(self, subset, transform=None):\n",
        "        self.subset = subset\n",
        "        self.transform = transform\n",
        "\n",
        "    def __len__(self):\n",
        "        return len(self.subset)\n",
        "\n",
        "    def __getitem__(self, idx):\n",
        "        x, y = self.subset[idx]\n",
        "        if self.transform:\n",
        "            x = self.transform(x)\n",
        "        return x, y"
      ],
      "metadata": {
        "id": "xQrT2HiszunH"
      },
      "execution_count": 25,
      "outputs": []
    },
    {
      "cell_type": "code",
      "source": [
        "class CustomCNN(nn.Module):\n",
        "    def __init__(self):\n",
        "        super(CustomCNN, self).__init__()\n",
        "        self.conv_layers = nn.Sequential(\n",
        "            nn.Conv2d(3, 32, kernel_size=3, padding=1),\n",
        "            nn.BatchNorm2d(32),\n",
        "            nn.ReLU(),\n",
        "            nn.Conv2d(32, 64, kernel_size=3, padding=1),\n",
        "            nn.BatchNorm2d(64),\n",
        "            nn.ReLU(),\n",
        "            nn.Conv2d(64, 64, kernel_size=3, padding=1),\n",
        "            nn.BatchNorm2d(64),\n",
        "            nn.ReLU(),\n",
        "            nn.MaxPool2d(kernel_size=2, stride=2),\n",
        "            nn.Dropout(0.25),\n",
        "            nn.Conv2d(64, 128, kernel_size=3, padding=1),\n",
        "            nn.BatchNorm2d(128),\n",
        "            nn.ReLU(),\n",
        "            nn.MaxPool2d(kernel_size=2, stride=2),\n",
        "        )\n",
        "        self.global_avg_pool = nn.AdaptiveAvgPool2d((1, 1))\n",
        "        self.fc_layers = nn.Sequential(\n",
        "            nn.Dropout(0.5),\n",
        "            nn.Linear(128, 512),\n",
        "            nn.ReLU(),\n",
        "            nn.Dropout(0.5),\n",
        "            nn.Linear(512, 10)\n",
        "        )\n",
        "\n",
        "    def forward(self, x):\n",
        "        x = self.conv_layers(x)\n",
        "        x = self.global_avg_pool(x)\n",
        "        x = torch.flatten(x, 1)\n",
        "        x = self.fc_layers(x)\n",
        "        return x"
      ],
      "metadata": {
        "id": "iLk_Cfl8zxAK"
      },
      "execution_count": 26,
      "outputs": []
    },
    {
      "cell_type": "code",
      "source": [
        "k_folds = 5\n",
        "kfold = KFold(n_splits=k_folds, shuffle=True, random_state=42)"
      ],
      "metadata": {
        "id": "hi6Ppgnzz06v"
      },
      "execution_count": 27,
      "outputs": []
    },
    {
      "cell_type": "code",
      "source": [
        "best_val_accuracy = 0\n",
        "best_model_weights = None"
      ],
      "metadata": {
        "id": "-GnSzhulz3nF"
      },
      "execution_count": 28,
      "outputs": []
    },
    {
      "cell_type": "code",
      "source": [
        "def train(model, device, train_loader, optimizer, criterion):\n",
        "    model.train()\n",
        "    total_loss = 0\n",
        "    correct = 0\n",
        "    total = 0\n",
        "    for batch_idx, (data, targets) in enumerate(train_loader):\n",
        "        data, targets = data.to(device), targets.to(device)\n",
        "        optimizer.zero_grad()\n",
        "        output = model(data)\n",
        "        loss = criterion(output, targets)\n",
        "        loss.backward()\n",
        "        optimizer.step()\n",
        "\n",
        "        total_loss += loss.item()\n",
        "        _, predicted = torch.max(output.data, 1)\n",
        "        total += targets.size(0)\n",
        "        correct += (predicted == targets).sum().item()\n",
        "    avg_loss = total_loss / len(train_loader)\n",
        "    accuracy = 100. * correct / total\n",
        "    return avg_loss, accuracy"
      ],
      "metadata": {
        "id": "fsVuNHkcz6Gf"
      },
      "execution_count": 29,
      "outputs": []
    },
    {
      "cell_type": "code",
      "source": [
        "def validate(model, device, val_loader, criterion):\n",
        "    model.eval()\n",
        "    total_loss = 0\n",
        "    correct = 0\n",
        "    total = 0\n",
        "    with torch.no_grad():\n",
        "        for batch_idx, (data, targets) in enumerate(val_loader):\n",
        "            data, targets = data.to(device), targets.to(device)\n",
        "            output = model(data)\n",
        "            loss = criterion(output, targets)\n",
        "\n",
        "            total_loss += loss.item()\n",
        "            _, predicted = torch.max(output.data, 1)\n",
        "            total += targets.size(0)\n",
        "            correct += (predicted == targets).sum().item()\n",
        "    avg_loss = total_loss / len(val_loader)\n",
        "    accuracy = 100. * correct / total\n",
        "    return avg_loss, accuracy"
      ],
      "metadata": {
        "id": "95RXjepHz81S"
      },
      "execution_count": 30,
      "outputs": []
    },
    {
      "cell_type": "code",
      "source": [
        "for fold, (train_ids, val_ids) in enumerate(kfold.split(trainset)):\n",
        "    print(f'FOLD {fold}')\n",
        "    print('--------------------------------')\n",
        "\n",
        "    train_indices = [i for i, (_, label) in enumerate(trainset) if label in selected_classes]\n",
        "\n",
        "    N = 25\n",
        "    class_counts = {label: 0 for label in selected_classes}\n",
        "    filtered_train_indices = []\n",
        "\n",
        "    for i in train_indices:\n",
        "        _, label = trainset[i]\n",
        "        if class_counts[label] < N:\n",
        "            filtered_train_indices.append(i)\n",
        "            class_counts[label] += 1\n",
        "\n",
        "\n",
        "    np.random.seed(42)\n",
        "    np.random.shuffle(filtered_train_indices)\n",
        "    split = int(0.8 * len(filtered_train_indices))\n",
        "    train_idx, val_idx = filtered_train_indices[:split], filtered_train_indices[split:]\n",
        "\n",
        "    train_subset = Subset(trainset, train_idx)\n",
        "    transformed_train_subset = TransformSubset(train_subset, transform=train_transform)\n",
        "\n",
        "    val_subset = Subset(trainset, val_idx)\n",
        "    transformed_val_subset = TransformSubset(val_subset, transform=test_transform)\n",
        "\n",
        "    train_loader = DataLoader(transformed_train_subset, batch_size=5, shuffle=True)\n",
        "    val_loader = DataLoader(transformed_val_subset, batch_size=5, shuffle=False)\n",
        "\n",
        "\n",
        "    # Init the neural network\n",
        "    model = CustomCNN().to(device)\n",
        "\n",
        "    # Initialize optimizer\n",
        "    optimizer = optim.Adam(model.parameters(), lr=0.01, weight_decay=0.005)\n",
        "    criterion = nn.CrossEntropyLoss()\n",
        "\n",
        "    # Initilization of scheduler\n",
        "    scheduler = ReduceLROnPlateau(optimizer, mode='min', factor=0.1, patience=3, verbose=True)\n",
        "\n",
        "\n",
        "    best_val_loss = float('inf')\n",
        "    patience_counter = 0\n",
        "    patience = 25\n",
        "\n",
        "\n",
        "    # Run the training loop for defined number of epochs\n",
        "    num_epochs = 50\n",
        "    for epoch in range(num_epochs):\n",
        "        # Print epoch\n",
        "        print(f'Starting epoch {epoch+1}')\n",
        "\n",
        "        # Perform training and validation\n",
        "        train_loss, train_accuracy = train(model, device, train_loader, optimizer, criterion)\n",
        "        val_loss, val_accuracy = validate(model, device, val_loader, criterion)\n",
        "\n",
        "        print(f'Train Loss: {train_loss:.4f}, Train Acc: {train_accuracy:.2f}%, Val Loss: {val_loss:.4f}, Val Acc: {val_accuracy:.2f}%')\n",
        "\n",
        "        # Save the model if it has the best val accuracy so far\n",
        "        if val_loss < best_val_loss:\n",
        "            best_val_loss = val_loss\n",
        "             # Save the best model weights\n",
        "            best_model_weights = model.state_dict().copy()\n",
        "            patience_counter = 0\n",
        "        else:\n",
        "            patience_counter += 1\n",
        "            # Stop training if no improvement\n",
        "            if patience_counter >= patience:\n",
        "                print(\"Early stopping triggered.\")\n",
        "                break\n",
        "\n",
        "        # Step the learning rate scheduler\n",
        "        scheduler.step(val_loss)\n",
        "\n",
        "    print('--------------------------------')\n",
        "\n",
        "# Save the best model weights\n",
        "torch.save(best_model_weights, 'CNN_best_model.pth')\n",
        "print(f'Best validation accuracy of {best_val_accuracy:.2f}% achieved, model saved as CNN_best_model.pth')"
      ],
      "metadata": {
        "colab": {
          "base_uri": "https://localhost:8080/"
        },
        "id": "TqTLV2H6z_hT",
        "outputId": "f1e30022-76c5-4916-e169-d8fd9fe67788"
      },
      "execution_count": 31,
      "outputs": [
        {
          "output_type": "stream",
          "name": "stdout",
          "text": [
            "FOLD 0\n",
            "--------------------------------\n"
          ]
        },
        {
          "output_type": "stream",
          "name": "stderr",
          "text": [
            "/usr/local/lib/python3.10/dist-packages/torch/optim/lr_scheduler.py:28: UserWarning: The verbose parameter is deprecated. Please use get_last_lr() to access the learning rate.\n",
            "  warnings.warn(\"The verbose parameter is deprecated. Please use get_last_lr() \"\n"
          ]
        },
        {
          "output_type": "stream",
          "name": "stdout",
          "text": [
            "Starting epoch 1\n",
            "Train Loss: 1.3393, Train Acc: 40.00%, Val Loss: 1.5199, Val Acc: 80.00%\n",
            "Starting epoch 2\n",
            "Train Loss: 0.8589, Train Acc: 72.50%, Val Loss: 1.8797, Val Acc: 40.00%\n",
            "Starting epoch 3\n",
            "Train Loss: 0.6696, Train Acc: 67.50%, Val Loss: 0.3986, Val Acc: 90.00%\n",
            "Starting epoch 4\n",
            "Train Loss: 0.7166, Train Acc: 70.00%, Val Loss: 0.4260, Val Acc: 80.00%\n",
            "Starting epoch 5\n",
            "Train Loss: 0.6617, Train Acc: 72.50%, Val Loss: 0.4396, Val Acc: 80.00%\n",
            "Starting epoch 6\n",
            "Train Loss: 0.9355, Train Acc: 80.00%, Val Loss: 0.4178, Val Acc: 80.00%\n",
            "Starting epoch 7\n",
            "Train Loss: 0.8882, Train Acc: 65.00%, Val Loss: 0.2145, Val Acc: 90.00%\n",
            "Starting epoch 8\n",
            "Train Loss: 0.4151, Train Acc: 82.50%, Val Loss: 0.2993, Val Acc: 90.00%\n",
            "Starting epoch 9\n",
            "Train Loss: 0.8163, Train Acc: 80.00%, Val Loss: 0.3189, Val Acc: 80.00%\n",
            "Starting epoch 10\n",
            "Train Loss: 0.9376, Train Acc: 62.50%, Val Loss: 0.3338, Val Acc: 90.00%\n",
            "Starting epoch 11\n",
            "Train Loss: 0.6438, Train Acc: 75.00%, Val Loss: 0.3375, Val Acc: 80.00%\n",
            "Starting epoch 12\n",
            "Train Loss: 0.3766, Train Acc: 80.00%, Val Loss: 0.3858, Val Acc: 70.00%\n",
            "Starting epoch 13\n",
            "Train Loss: 0.5231, Train Acc: 82.50%, Val Loss: 0.3735, Val Acc: 80.00%\n",
            "Starting epoch 14\n",
            "Train Loss: 0.3568, Train Acc: 85.00%, Val Loss: 0.3318, Val Acc: 90.00%\n",
            "Starting epoch 15\n",
            "Train Loss: 0.3425, Train Acc: 87.50%, Val Loss: 0.3289, Val Acc: 90.00%\n",
            "Starting epoch 16\n",
            "Train Loss: 0.5786, Train Acc: 80.00%, Val Loss: 0.3138, Val Acc: 90.00%\n",
            "Starting epoch 17\n",
            "Train Loss: 0.3218, Train Acc: 85.00%, Val Loss: 0.3092, Val Acc: 90.00%\n",
            "Starting epoch 18\n",
            "Train Loss: 0.7998, Train Acc: 87.50%, Val Loss: 0.3228, Val Acc: 90.00%\n",
            "Starting epoch 19\n",
            "Train Loss: 0.3456, Train Acc: 82.50%, Val Loss: 0.3242, Val Acc: 90.00%\n",
            "Starting epoch 20\n",
            "Train Loss: 0.4965, Train Acc: 87.50%, Val Loss: 0.2948, Val Acc: 90.00%\n",
            "Starting epoch 21\n",
            "Train Loss: 0.2864, Train Acc: 82.50%, Val Loss: 0.3117, Val Acc: 90.00%\n",
            "Starting epoch 22\n",
            "Train Loss: 0.3929, Train Acc: 80.00%, Val Loss: 0.2932, Val Acc: 90.00%\n",
            "Starting epoch 23\n",
            "Train Loss: 0.4831, Train Acc: 82.50%, Val Loss: 0.2993, Val Acc: 90.00%\n",
            "Starting epoch 24\n",
            "Train Loss: 0.4102, Train Acc: 77.50%, Val Loss: 0.3160, Val Acc: 90.00%\n",
            "Starting epoch 25\n",
            "Train Loss: 0.4838, Train Acc: 82.50%, Val Loss: 0.3273, Val Acc: 90.00%\n",
            "Starting epoch 26\n",
            "Train Loss: 0.7830, Train Acc: 80.00%, Val Loss: 0.2943, Val Acc: 90.00%\n",
            "Starting epoch 27\n",
            "Train Loss: 0.5906, Train Acc: 80.00%, Val Loss: 0.3019, Val Acc: 90.00%\n",
            "Starting epoch 28\n",
            "Train Loss: 0.5034, Train Acc: 80.00%, Val Loss: 0.3037, Val Acc: 90.00%\n",
            "Starting epoch 29\n",
            "Train Loss: 0.5251, Train Acc: 80.00%, Val Loss: 0.3175, Val Acc: 90.00%\n",
            "Starting epoch 30\n",
            "Train Loss: 0.5369, Train Acc: 75.00%, Val Loss: 0.3319, Val Acc: 90.00%\n",
            "Starting epoch 31\n",
            "Train Loss: 0.5193, Train Acc: 82.50%, Val Loss: 0.3172, Val Acc: 90.00%\n",
            "Starting epoch 32\n",
            "Train Loss: 0.3792, Train Acc: 90.00%, Val Loss: 0.3192, Val Acc: 90.00%\n",
            "Early stopping triggered.\n",
            "--------------------------------\n",
            "FOLD 1\n",
            "--------------------------------\n",
            "Starting epoch 1\n",
            "Train Loss: 0.9381, Train Acc: 52.50%, Val Loss: 9.9525, Val Acc: 40.00%\n",
            "Starting epoch 2\n",
            "Train Loss: 0.9241, Train Acc: 80.00%, Val Loss: 0.7699, Val Acc: 90.00%\n",
            "Starting epoch 3\n",
            "Train Loss: 1.5878, Train Acc: 57.50%, Val Loss: 0.6245, Val Acc: 60.00%\n",
            "Starting epoch 4\n",
            "Train Loss: 1.4927, Train Acc: 60.00%, Val Loss: 0.8276, Val Acc: 90.00%\n",
            "Starting epoch 5\n",
            "Train Loss: 1.6653, Train Acc: 70.00%, Val Loss: 0.4748, Val Acc: 80.00%\n",
            "Starting epoch 6\n",
            "Train Loss: 0.4804, Train Acc: 72.50%, Val Loss: 0.6420, Val Acc: 70.00%\n",
            "Starting epoch 7\n",
            "Train Loss: 0.4558, Train Acc: 82.50%, Val Loss: 0.6568, Val Acc: 70.00%\n",
            "Starting epoch 8\n",
            "Train Loss: 0.4276, Train Acc: 80.00%, Val Loss: 0.6297, Val Acc: 70.00%\n",
            "Starting epoch 9\n",
            "Train Loss: 0.3593, Train Acc: 80.00%, Val Loss: 0.3054, Val Acc: 90.00%\n",
            "Starting epoch 10\n",
            "Train Loss: 0.6307, Train Acc: 77.50%, Val Loss: 0.3995, Val Acc: 90.00%\n",
            "Starting epoch 11\n",
            "Train Loss: 0.5410, Train Acc: 67.50%, Val Loss: 0.5472, Val Acc: 80.00%\n",
            "Starting epoch 12\n",
            "Train Loss: 0.4692, Train Acc: 87.50%, Val Loss: 0.4344, Val Acc: 70.00%\n",
            "Starting epoch 13\n",
            "Train Loss: 0.5659, Train Acc: 72.50%, Val Loss: 0.7402, Val Acc: 70.00%\n",
            "Starting epoch 14\n",
            "Train Loss: 0.5025, Train Acc: 77.50%, Val Loss: 0.3618, Val Acc: 80.00%\n",
            "Starting epoch 15\n",
            "Train Loss: 0.3683, Train Acc: 80.00%, Val Loss: 0.2163, Val Acc: 90.00%\n",
            "Starting epoch 16\n",
            "Train Loss: 0.2024, Train Acc: 92.50%, Val Loss: 0.1716, Val Acc: 100.00%\n",
            "Starting epoch 17\n",
            "Train Loss: 0.5485, Train Acc: 75.00%, Val Loss: 0.1943, Val Acc: 90.00%\n",
            "Starting epoch 18\n",
            "Train Loss: 0.3729, Train Acc: 85.00%, Val Loss: 0.1982, Val Acc: 90.00%\n",
            "Starting epoch 19\n",
            "Train Loss: 0.3536, Train Acc: 82.50%, Val Loss: 0.1971, Val Acc: 90.00%\n",
            "Starting epoch 20\n",
            "Train Loss: 0.5481, Train Acc: 82.50%, Val Loss: 0.2097, Val Acc: 90.00%\n",
            "Starting epoch 21\n",
            "Train Loss: 0.3732, Train Acc: 80.00%, Val Loss: 0.1801, Val Acc: 100.00%\n",
            "Starting epoch 22\n",
            "Train Loss: 0.4366, Train Acc: 90.00%, Val Loss: 0.1621, Val Acc: 100.00%\n",
            "Starting epoch 23\n",
            "Train Loss: 0.2755, Train Acc: 80.00%, Val Loss: 0.1670, Val Acc: 100.00%\n",
            "Starting epoch 24\n",
            "Train Loss: 0.3129, Train Acc: 87.50%, Val Loss: 0.1561, Val Acc: 100.00%\n",
            "Starting epoch 25\n",
            "Train Loss: 0.2957, Train Acc: 87.50%, Val Loss: 0.1633, Val Acc: 100.00%\n",
            "Starting epoch 26\n",
            "Train Loss: 0.2692, Train Acc: 87.50%, Val Loss: 0.1561, Val Acc: 100.00%\n",
            "Starting epoch 27\n",
            "Train Loss: 0.6531, Train Acc: 72.50%, Val Loss: 0.1588, Val Acc: 100.00%\n",
            "Starting epoch 28\n",
            "Train Loss: 0.2486, Train Acc: 87.50%, Val Loss: 0.1547, Val Acc: 100.00%\n",
            "Starting epoch 29\n",
            "Train Loss: 0.5115, Train Acc: 75.00%, Val Loss: 0.1509, Val Acc: 100.00%\n",
            "Starting epoch 30\n",
            "Train Loss: 0.4732, Train Acc: 90.00%, Val Loss: 0.1552, Val Acc: 100.00%\n",
            "Starting epoch 31\n",
            "Train Loss: 0.3558, Train Acc: 90.00%, Val Loss: 0.1606, Val Acc: 100.00%\n",
            "Starting epoch 32\n",
            "Train Loss: 0.6327, Train Acc: 72.50%, Val Loss: 0.1568, Val Acc: 100.00%\n",
            "Starting epoch 33\n",
            "Train Loss: 0.3346, Train Acc: 87.50%, Val Loss: 0.1641, Val Acc: 100.00%\n",
            "Starting epoch 34\n",
            "Train Loss: 0.4140, Train Acc: 82.50%, Val Loss: 0.1568, Val Acc: 100.00%\n",
            "Starting epoch 35\n",
            "Train Loss: 0.3977, Train Acc: 85.00%, Val Loss: 0.1639, Val Acc: 100.00%\n",
            "Starting epoch 36\n",
            "Train Loss: 0.2102, Train Acc: 92.50%, Val Loss: 0.1597, Val Acc: 100.00%\n",
            "Starting epoch 37\n",
            "Train Loss: 0.3285, Train Acc: 85.00%, Val Loss: 0.1622, Val Acc: 100.00%\n",
            "Starting epoch 38\n",
            "Train Loss: 0.6268, Train Acc: 75.00%, Val Loss: 0.1465, Val Acc: 100.00%\n",
            "Starting epoch 39\n",
            "Train Loss: 0.3326, Train Acc: 82.50%, Val Loss: 0.1421, Val Acc: 100.00%\n",
            "Starting epoch 40\n",
            "Train Loss: 0.4099, Train Acc: 82.50%, Val Loss: 0.1503, Val Acc: 100.00%\n",
            "Starting epoch 41\n",
            "Train Loss: 0.2641, Train Acc: 90.00%, Val Loss: 0.1528, Val Acc: 100.00%\n",
            "Starting epoch 42\n",
            "Train Loss: 0.3007, Train Acc: 90.00%, Val Loss: 0.1539, Val Acc: 100.00%\n",
            "Starting epoch 43\n",
            "Train Loss: 0.3514, Train Acc: 90.00%, Val Loss: 0.1506, Val Acc: 100.00%\n",
            "Starting epoch 44\n",
            "Train Loss: 0.1922, Train Acc: 97.50%, Val Loss: 0.1522, Val Acc: 100.00%\n",
            "Starting epoch 45\n",
            "Train Loss: 0.2727, Train Acc: 87.50%, Val Loss: 0.1586, Val Acc: 100.00%\n",
            "Starting epoch 46\n",
            "Train Loss: 0.4640, Train Acc: 82.50%, Val Loss: 0.1604, Val Acc: 100.00%\n",
            "Starting epoch 47\n",
            "Train Loss: 0.6409, Train Acc: 80.00%, Val Loss: 0.1573, Val Acc: 100.00%\n",
            "Starting epoch 48\n",
            "Train Loss: 0.2292, Train Acc: 92.50%, Val Loss: 0.1537, Val Acc: 100.00%\n",
            "Starting epoch 49\n",
            "Train Loss: 0.3383, Train Acc: 85.00%, Val Loss: 0.1560, Val Acc: 100.00%\n",
            "Starting epoch 50\n",
            "Train Loss: 0.4029, Train Acc: 80.00%, Val Loss: 0.1597, Val Acc: 100.00%\n",
            "--------------------------------\n",
            "FOLD 2\n",
            "--------------------------------\n",
            "Starting epoch 1\n",
            "Train Loss: 1.0025, Train Acc: 62.50%, Val Loss: 0.2697, Val Acc: 80.00%\n",
            "Starting epoch 2\n",
            "Train Loss: 0.8677, Train Acc: 72.50%, Val Loss: 2.4118, Val Acc: 80.00%\n",
            "Starting epoch 3\n",
            "Train Loss: 1.5807, Train Acc: 67.50%, Val Loss: 0.4189, Val Acc: 80.00%\n",
            "Starting epoch 4\n",
            "Train Loss: 1.0286, Train Acc: 77.50%, Val Loss: 0.2917, Val Acc: 90.00%\n",
            "Starting epoch 5\n",
            "Train Loss: 0.9131, Train Acc: 57.50%, Val Loss: 0.3596, Val Acc: 80.00%\n",
            "Starting epoch 6\n",
            "Train Loss: 0.4849, Train Acc: 80.00%, Val Loss: 0.3636, Val Acc: 70.00%\n",
            "Starting epoch 7\n",
            "Train Loss: 0.3088, Train Acc: 87.50%, Val Loss: 0.3481, Val Acc: 70.00%\n",
            "Starting epoch 8\n",
            "Train Loss: 0.3175, Train Acc: 87.50%, Val Loss: 0.3307, Val Acc: 80.00%\n",
            "Starting epoch 9\n",
            "Train Loss: 0.3408, Train Acc: 87.50%, Val Loss: 0.3393, Val Acc: 80.00%\n",
            "Starting epoch 10\n",
            "Train Loss: 0.6372, Train Acc: 82.50%, Val Loss: 0.3381, Val Acc: 80.00%\n",
            "Starting epoch 11\n",
            "Train Loss: 0.6719, Train Acc: 65.00%, Val Loss: 0.3157, Val Acc: 80.00%\n",
            "Starting epoch 12\n",
            "Train Loss: 0.5654, Train Acc: 82.50%, Val Loss: 0.3208, Val Acc: 80.00%\n",
            "Starting epoch 13\n",
            "Train Loss: 0.5199, Train Acc: 80.00%, Val Loss: 0.3096, Val Acc: 80.00%\n",
            "Starting epoch 14\n",
            "Train Loss: 0.4849, Train Acc: 82.50%, Val Loss: 0.3064, Val Acc: 80.00%\n",
            "Starting epoch 15\n",
            "Train Loss: 0.7321, Train Acc: 72.50%, Val Loss: 0.3042, Val Acc: 80.00%\n",
            "Starting epoch 16\n",
            "Train Loss: 0.3671, Train Acc: 82.50%, Val Loss: 0.3123, Val Acc: 80.00%\n",
            "Starting epoch 17\n",
            "Train Loss: 0.7895, Train Acc: 77.50%, Val Loss: 0.3075, Val Acc: 80.00%\n",
            "Starting epoch 18\n",
            "Train Loss: 0.2747, Train Acc: 87.50%, Val Loss: 0.3235, Val Acc: 80.00%\n",
            "Starting epoch 19\n",
            "Train Loss: 0.6503, Train Acc: 77.50%, Val Loss: 0.3340, Val Acc: 80.00%\n",
            "Starting epoch 20\n",
            "Train Loss: 0.4194, Train Acc: 77.50%, Val Loss: 0.3265, Val Acc: 80.00%\n",
            "Starting epoch 21\n",
            "Train Loss: 0.4662, Train Acc: 82.50%, Val Loss: 0.3230, Val Acc: 80.00%\n",
            "Starting epoch 22\n",
            "Train Loss: 0.4403, Train Acc: 75.00%, Val Loss: 0.3188, Val Acc: 80.00%\n",
            "Starting epoch 23\n",
            "Train Loss: 0.3899, Train Acc: 90.00%, Val Loss: 0.3167, Val Acc: 80.00%\n",
            "Starting epoch 24\n",
            "Train Loss: 0.5734, Train Acc: 85.00%, Val Loss: 0.3188, Val Acc: 80.00%\n",
            "Starting epoch 25\n",
            "Train Loss: 0.6541, Train Acc: 75.00%, Val Loss: 0.3258, Val Acc: 80.00%\n",
            "Starting epoch 26\n",
            "Train Loss: 0.5779, Train Acc: 75.00%, Val Loss: 0.3192, Val Acc: 80.00%\n",
            "Early stopping triggered.\n",
            "--------------------------------\n",
            "FOLD 3\n",
            "--------------------------------\n",
            "Starting epoch 1\n",
            "Train Loss: 0.8442, Train Acc: 62.50%, Val Loss: 0.0024, Val Acc: 100.00%\n",
            "Starting epoch 2\n",
            "Train Loss: 1.4166, Train Acc: 65.00%, Val Loss: 5.1036, Val Acc: 60.00%\n",
            "Starting epoch 3\n",
            "Train Loss: 0.9857, Train Acc: 82.50%, Val Loss: 0.2139, Val Acc: 90.00%\n",
            "Starting epoch 4\n",
            "Train Loss: 0.7276, Train Acc: 72.50%, Val Loss: 0.8760, Val Acc: 80.00%\n",
            "Starting epoch 5\n",
            "Train Loss: 0.7079, Train Acc: 72.50%, Val Loss: 0.5129, Val Acc: 80.00%\n",
            "Starting epoch 6\n",
            "Train Loss: 0.5397, Train Acc: 87.50%, Val Loss: 0.3927, Val Acc: 80.00%\n",
            "Starting epoch 7\n",
            "Train Loss: 0.9238, Train Acc: 72.50%, Val Loss: 0.4158, Val Acc: 80.00%\n",
            "Starting epoch 8\n",
            "Train Loss: 0.3847, Train Acc: 85.00%, Val Loss: 0.4696, Val Acc: 80.00%\n",
            "Starting epoch 9\n",
            "Train Loss: 1.0630, Train Acc: 87.50%, Val Loss: 0.3810, Val Acc: 80.00%\n",
            "Starting epoch 10\n",
            "Train Loss: 0.3952, Train Acc: 90.00%, Val Loss: 0.4123, Val Acc: 80.00%\n",
            "Starting epoch 11\n",
            "Train Loss: 0.3594, Train Acc: 92.50%, Val Loss: 0.4224, Val Acc: 80.00%\n",
            "Starting epoch 12\n",
            "Train Loss: 0.4279, Train Acc: 82.50%, Val Loss: 0.4130, Val Acc: 80.00%\n",
            "Starting epoch 13\n",
            "Train Loss: 0.6340, Train Acc: 87.50%, Val Loss: 0.3916, Val Acc: 80.00%\n",
            "Starting epoch 14\n",
            "Train Loss: 0.5679, Train Acc: 80.00%, Val Loss: 0.4272, Val Acc: 80.00%\n",
            "Starting epoch 15\n",
            "Train Loss: 0.3802, Train Acc: 90.00%, Val Loss: 0.4493, Val Acc: 70.00%\n",
            "Starting epoch 16\n",
            "Train Loss: 0.7650, Train Acc: 77.50%, Val Loss: 0.4162, Val Acc: 80.00%\n",
            "Starting epoch 17\n",
            "Train Loss: 0.5536, Train Acc: 85.00%, Val Loss: 0.3979, Val Acc: 80.00%\n",
            "Starting epoch 18\n",
            "Train Loss: 0.2297, Train Acc: 92.50%, Val Loss: 0.4046, Val Acc: 80.00%\n",
            "Starting epoch 19\n",
            "Train Loss: 1.2265, Train Acc: 67.50%, Val Loss: 0.3993, Val Acc: 80.00%\n",
            "Starting epoch 20\n",
            "Train Loss: 0.4864, Train Acc: 82.50%, Val Loss: 0.3917, Val Acc: 80.00%\n",
            "Starting epoch 21\n",
            "Train Loss: 0.3833, Train Acc: 80.00%, Val Loss: 0.4119, Val Acc: 80.00%\n",
            "Starting epoch 22\n",
            "Train Loss: 0.8087, Train Acc: 77.50%, Val Loss: 0.4455, Val Acc: 80.00%\n",
            "Starting epoch 23\n",
            "Train Loss: 0.2386, Train Acc: 95.00%, Val Loss: 0.4232, Val Acc: 80.00%\n",
            "Starting epoch 24\n",
            "Train Loss: 0.3005, Train Acc: 87.50%, Val Loss: 0.4168, Val Acc: 80.00%\n",
            "Starting epoch 25\n",
            "Train Loss: 0.4712, Train Acc: 85.00%, Val Loss: 0.4531, Val Acc: 70.00%\n",
            "Starting epoch 26\n",
            "Train Loss: 0.3686, Train Acc: 85.00%, Val Loss: 0.4279, Val Acc: 80.00%\n",
            "Early stopping triggered.\n",
            "--------------------------------\n",
            "FOLD 4\n",
            "--------------------------------\n",
            "Starting epoch 1\n",
            "Train Loss: 1.2054, Train Acc: 60.00%, Val Loss: 5.2991, Val Acc: 70.00%\n",
            "Starting epoch 2\n",
            "Train Loss: 1.4173, Train Acc: 65.00%, Val Loss: 1.7529, Val Acc: 90.00%\n",
            "Starting epoch 3\n",
            "Train Loss: 1.3432, Train Acc: 72.50%, Val Loss: 0.0135, Val Acc: 100.00%\n",
            "Starting epoch 4\n",
            "Train Loss: 1.3325, Train Acc: 70.00%, Val Loss: 0.4131, Val Acc: 80.00%\n",
            "Starting epoch 5\n",
            "Train Loss: 1.0962, Train Acc: 67.50%, Val Loss: 0.8814, Val Acc: 70.00%\n",
            "Starting epoch 6\n",
            "Train Loss: 0.7752, Train Acc: 72.50%, Val Loss: 1.9103, Val Acc: 80.00%\n",
            "Starting epoch 7\n",
            "Train Loss: 0.6266, Train Acc: 87.50%, Val Loss: 0.5008, Val Acc: 80.00%\n",
            "Starting epoch 8\n",
            "Train Loss: 0.7445, Train Acc: 70.00%, Val Loss: 0.4068, Val Acc: 80.00%\n",
            "Starting epoch 9\n",
            "Train Loss: 1.1070, Train Acc: 72.50%, Val Loss: 0.3475, Val Acc: 80.00%\n",
            "Starting epoch 10\n",
            "Train Loss: 0.5302, Train Acc: 85.00%, Val Loss: 0.2933, Val Acc: 80.00%\n",
            "Starting epoch 11\n",
            "Train Loss: 0.4414, Train Acc: 85.00%, Val Loss: 0.2677, Val Acc: 80.00%\n",
            "Starting epoch 12\n",
            "Train Loss: 0.5797, Train Acc: 75.00%, Val Loss: 0.2597, Val Acc: 80.00%\n",
            "Starting epoch 13\n",
            "Train Loss: 0.6789, Train Acc: 75.00%, Val Loss: 0.3001, Val Acc: 80.00%\n",
            "Starting epoch 14\n",
            "Train Loss: 0.4510, Train Acc: 82.50%, Val Loss: 0.3440, Val Acc: 90.00%\n",
            "Starting epoch 15\n",
            "Train Loss: 0.5386, Train Acc: 72.50%, Val Loss: 0.3058, Val Acc: 90.00%\n",
            "Starting epoch 16\n",
            "Train Loss: 0.2908, Train Acc: 85.00%, Val Loss: 0.2482, Val Acc: 80.00%\n",
            "Starting epoch 17\n",
            "Train Loss: 0.4874, Train Acc: 82.50%, Val Loss: 0.2811, Val Acc: 80.00%\n",
            "Starting epoch 18\n",
            "Train Loss: 0.5648, Train Acc: 80.00%, Val Loss: 0.3133, Val Acc: 90.00%\n",
            "Starting epoch 19\n",
            "Train Loss: 0.4851, Train Acc: 87.50%, Val Loss: 0.3003, Val Acc: 90.00%\n",
            "Starting epoch 20\n",
            "Train Loss: 0.2521, Train Acc: 95.00%, Val Loss: 0.2950, Val Acc: 90.00%\n",
            "Starting epoch 21\n",
            "Train Loss: 0.2998, Train Acc: 87.50%, Val Loss: 0.2863, Val Acc: 90.00%\n",
            "Starting epoch 22\n",
            "Train Loss: 0.6903, Train Acc: 82.50%, Val Loss: 0.2913, Val Acc: 80.00%\n",
            "Starting epoch 23\n",
            "Train Loss: 0.4801, Train Acc: 85.00%, Val Loss: 0.3376, Val Acc: 90.00%\n",
            "Starting epoch 24\n",
            "Train Loss: 0.5091, Train Acc: 82.50%, Val Loss: 0.2821, Val Acc: 80.00%\n",
            "Starting epoch 25\n",
            "Train Loss: 0.6056, Train Acc: 80.00%, Val Loss: 0.2487, Val Acc: 80.00%\n",
            "Starting epoch 26\n",
            "Train Loss: 0.4277, Train Acc: 82.50%, Val Loss: 0.2853, Val Acc: 80.00%\n",
            "Starting epoch 27\n",
            "Train Loss: 0.6931, Train Acc: 75.00%, Val Loss: 0.2836, Val Acc: 80.00%\n",
            "Starting epoch 28\n",
            "Train Loss: 0.4746, Train Acc: 80.00%, Val Loss: 0.2731, Val Acc: 80.00%\n",
            "Early stopping triggered.\n",
            "--------------------------------\n",
            "Best validation accuracy of 0.00% achieved, model saved as CNN_best_model.pth\n"
          ]
        }
      ]
    },
    {
      "cell_type": "code",
      "source": [
        "model = CustomCNN().to(device)\n",
        "model.load_state_dict(torch.load('CNN_best_model.pth'))"
      ],
      "metadata": {
        "colab": {
          "base_uri": "https://localhost:8080/"
        },
        "id": "d26EESam0Ra_",
        "outputId": "56008348-0bf3-46ae-ce42-00b2762f7a18"
      },
      "execution_count": 32,
      "outputs": [
        {
          "output_type": "execute_result",
          "data": {
            "text/plain": [
              "<All keys matched successfully>"
            ]
          },
          "metadata": {},
          "execution_count": 32
        }
      ]
    },
    {
      "cell_type": "code",
      "source": [
        "test_indices = [i for i, (_, label) in enumerate(testset) if label in selected_classes]\n",
        "N = 1000\n",
        "class_counts = {label: 0 for label in selected_classes}\n",
        "filtered_train_indices = []\n",
        "\n",
        "for i in test_indices:\n",
        "    _, label = testset[i]\n",
        "    if class_counts[label] < N:\n",
        "        filtered_train_indices.append(i)\n",
        "        class_counts[label] += 1\n",
        "\n",
        "test_subset = Subset(testset, filtered_train_indices)\n",
        "test_loader = DataLoader(test_subset, batch_size=50, shuffle=False)"
      ],
      "metadata": {
        "id": "Q4lA20QG0VDj"
      },
      "execution_count": 33,
      "outputs": []
    },
    {
      "cell_type": "code",
      "source": [
        "# Ensure the model is in evaluation mode\n",
        "model.eval()\n",
        "\n",
        "# Assuming the test_loader and the device are already defined\n",
        "# Define the loss function\n",
        "criterion = nn.CrossEntropyLoss()\n",
        "\n",
        "# Evaluation\n",
        "test_loss = 0\n",
        "correct = 0\n",
        "total = 0\n",
        "\n",
        "# No gradient is needed for evaluation\n",
        "with torch.no_grad():\n",
        "    for data, targets in test_loader:\n",
        "        # Move data and targets to the correct device\n",
        "        data = data.to(device)\n",
        "        targets = targets.to(device)\n",
        "\n",
        "        # Compute the model output\n",
        "        output = model(data)\n",
        "        loss = criterion(output, targets)\n",
        "\n",
        "        # Accumulate the loss and calculate accuracy\n",
        "        test_loss += loss.item()\n",
        "        _, predicted = torch.max(output.data, 1)\n",
        "        total += targets.size(0)\n",
        "        correct += (predicted == targets).sum().item()\n",
        "\n",
        "# Calculate average loss and accuracy percentage\n",
        "Custom_CNN_avg_loss = test_loss / len(test_loader)\n",
        "Custom_CNN_accuracy = 100. * correct / total\n",
        "\n",
        "# Print the test loss and accuracy\n",
        "print(f'Test Loss: {Custom_CNN_avg_loss:.4f}, Test Accuracy: {Custom_CNN_accuracy:.2f}%')\n"
      ],
      "metadata": {
        "colab": {
          "base_uri": "https://localhost:8080/"
        },
        "id": "0U04_oE20Xoy",
        "outputId": "21619d35-4670-4e37-a011-22b2c66dd154"
      },
      "execution_count": 34,
      "outputs": [
        {
          "output_type": "stream",
          "name": "stdout",
          "text": [
            "Test Loss: 0.4922, Test Accuracy: 83.95%\n"
          ]
        }
      ]
    },
    {
      "cell_type": "markdown",
      "source": [
        "VIT"
      ],
      "metadata": {
        "id": "XebeXoNM08xo"
      }
    },
    {
      "cell_type": "code",
      "source": [
        "import torchvision.models as models\n",
        "from torch.optim.lr_scheduler import StepLR"
      ],
      "metadata": {
        "id": "Z6rplEZO1LtQ"
      },
      "execution_count": 35,
      "outputs": []
    },
    {
      "cell_type": "code",
      "source": [
        "train_transform = transforms.Compose([\n",
        "    transforms.Resize((224, 224)),\n",
        "    transforms.RandomHorizontalFlip(),\n",
        "    transforms.RandomCrop(224, padding=4),\n",
        "    transforms.RandomRotation(20),\n",
        "    transforms.ColorJitter(brightness=0.2, contrast=0.2, saturation=0.2, hue=0.1),\n",
        "    transforms.ToTensor(),\n",
        "    transforms.Normalize(mean=[0.4914, 0.4822, 0.4465], std=[0.247, 0.243, 0.261])\n",
        "])\n",
        "\n",
        "test_transform = transforms.Compose([\n",
        "    transforms.Resize((224, 224)),\n",
        "    transforms.ToTensor(),\n",
        "    transforms.Normalize(mean=[0.4914, 0.4822, 0.4465], std=[0.247, 0.243, 0.261])\n",
        "])"
      ],
      "metadata": {
        "id": "GSqrt1sI1kYn"
      },
      "execution_count": 36,
      "outputs": []
    },
    {
      "cell_type": "code",
      "source": [
        "model = models.vit_b_16(pretrained=False)\n",
        "\n",
        "num_classes = 10\n",
        "dropout_rate = 0.5\n",
        "\n",
        "model.heads = nn.Sequential(\n",
        "    nn.Dropout(p=dropout_rate),\n",
        "    nn.Linear(model.heads[0].in_features, num_classes)\n",
        ")"
      ],
      "metadata": {
        "colab": {
          "base_uri": "https://localhost:8080/"
        },
        "id": "g0eZmkGO08gt",
        "outputId": "204f72dc-cc9d-4054-fa77-ddfc39d7bdea"
      },
      "execution_count": 37,
      "outputs": [
        {
          "output_type": "stream",
          "name": "stderr",
          "text": [
            "/usr/local/lib/python3.10/dist-packages/torchvision/models/_utils.py:208: UserWarning: The parameter 'pretrained' is deprecated since 0.13 and may be removed in the future, please use 'weights' instead.\n",
            "  warnings.warn(\n",
            "/usr/local/lib/python3.10/dist-packages/torchvision/models/_utils.py:223: UserWarning: Arguments other than a weight enum or `None` for 'weights' are deprecated since 0.13 and may be removed in the future. The current behavior is equivalent to passing `weights=None`.\n",
            "  warnings.warn(msg)\n"
          ]
        }
      ]
    },
    {
      "cell_type": "code",
      "source": [
        "best_val_accuracy = 0\n",
        "best_model_weights = None"
      ],
      "metadata": {
        "id": "Spq1rIw20qNS"
      },
      "execution_count": 38,
      "outputs": []
    },
    {
      "cell_type": "code",
      "source": [
        "for fold, (train_ids, val_ids) in enumerate(kfold.split(trainset)):\n",
        "    print(f'FOLD {fold}')\n",
        "    print('--------------------------------')\n",
        "\n",
        "    train_indices = [i for i, (_, label) in enumerate(trainset) if label in selected_classes]\n",
        "\n",
        "    N = 25\n",
        "    class_counts = {label: 0 for label in selected_classes}\n",
        "    filtered_train_indices = []\n",
        "\n",
        "    for i in train_indices:\n",
        "        _, label = trainset[i]\n",
        "        if class_counts[label] < N:\n",
        "            filtered_train_indices.append(i)\n",
        "            class_counts[label] += 1\n",
        "\n",
        "\n",
        "    np.random.seed(42)\n",
        "    np.random.shuffle(filtered_train_indices)\n",
        "    split = int(0.8 * len(filtered_train_indices))\n",
        "    train_idx, val_idx = filtered_train_indices[:split], filtered_train_indices[split:]\n",
        "\n",
        "    train_subset = Subset(trainset, train_idx)\n",
        "    transformed_train_subset = TransformSubset(train_subset, transform=train_transform)\n",
        "\n",
        "    val_subset = Subset(trainset, val_idx)\n",
        "    transformed_val_subset = TransformSubset(val_subset, transform=test_transform)\n",
        "\n",
        "    train_loader = DataLoader(transformed_train_subset, batch_size=5, shuffle=True)\n",
        "    val_loader = DataLoader(transformed_val_subset, batch_size=5, shuffle=False)\n",
        "\n",
        "\n",
        "    # Init the neural network\n",
        "    model = model.to(device)\n",
        "\n",
        "    # Initialize optimizer\n",
        "    optimizer = optim.Adam(model.parameters(), lr=2e-5, betas=(0.9, 0.999), eps=1e-8, weight_decay=1e-5)\n",
        "    criterion = nn.CrossEntropyLoss()\n",
        "\n",
        "    scheduler = StepLR(optimizer, step_size=10, gamma=0.5)\n",
        "\n",
        "    best_val_loss = float('inf')\n",
        "    patience_counter = 0\n",
        "    patience = 25\n",
        "\n",
        "\n",
        "    # Run the training loop for defined number of epochs\n",
        "    num_epochs = 50\n",
        "    for epoch in range(num_epochs):\n",
        "        # Print epoch\n",
        "        print(f'Starting epoch {epoch+1}')\n",
        "\n",
        "        # Perform training and validation\n",
        "        train_loss, train_accuracy = train(model, device, train_loader, optimizer, criterion)\n",
        "        val_loss, val_accuracy = validate(model, device, val_loader, criterion)\n",
        "\n",
        "        print(f'Train Loss: {train_loss:.4f}, Train Acc: {train_accuracy:.2f}%, Val Loss: {val_loss:.4f}, Val Acc: {val_accuracy:.2f}%')\n",
        "\n",
        "        # Save the model if it has the best val accuracy so far\n",
        "        if val_loss < best_val_loss:\n",
        "            best_val_loss = val_loss\n",
        "            best_model_weights = model.state_dict().copy()  # Save the best model weights\n",
        "            patience_counter = 0  # Reset patience\n",
        "        else:\n",
        "            patience_counter += 1\n",
        "            if patience_counter >= patience:\n",
        "                print(\"Early stopping triggered.\")\n",
        "                break  # Stop training if no improvement\n",
        "\n",
        "        # Step the learning rate scheduler\n",
        "        scheduler.step()\n",
        "\n",
        "    print('--------------------------------')\n",
        "\n",
        "# Save the best model weights\n",
        "torch.save(best_model_weights, 'VIT_best_model.pth')\n",
        "print(f'Best validation accuracy of {best_val_accuracy:.2f}% achieved, model saved as VIT_best_model.pth')"
      ],
      "metadata": {
        "colab": {
          "base_uri": "https://localhost:8080/"
        },
        "id": "UP-3mRNA1V0w",
        "outputId": "4aa64729-a410-4342-cf1f-9bc415d4cf09"
      },
      "execution_count": 39,
      "outputs": [
        {
          "output_type": "stream",
          "name": "stdout",
          "text": [
            "FOLD 0\n",
            "--------------------------------\n",
            "Starting epoch 1\n",
            "Train Loss: 0.9218, Train Acc: 67.50%, Val Loss: 0.1587, Val Acc: 90.00%\n",
            "Starting epoch 2\n",
            "Train Loss: 0.2067, Train Acc: 87.50%, Val Loss: 0.1711, Val Acc: 90.00%\n",
            "Starting epoch 3\n",
            "Train Loss: 0.2526, Train Acc: 95.00%, Val Loss: 0.0976, Val Acc: 100.00%\n",
            "Starting epoch 4\n",
            "Train Loss: 0.2904, Train Acc: 90.00%, Val Loss: 0.0871, Val Acc: 100.00%\n",
            "Starting epoch 5\n",
            "Train Loss: 0.2953, Train Acc: 82.50%, Val Loss: 0.0653, Val Acc: 100.00%\n",
            "Starting epoch 6\n",
            "Train Loss: 0.1474, Train Acc: 95.00%, Val Loss: 0.1687, Val Acc: 90.00%\n",
            "Starting epoch 7\n",
            "Train Loss: 0.3307, Train Acc: 87.50%, Val Loss: 0.0576, Val Acc: 100.00%\n",
            "Starting epoch 8\n",
            "Train Loss: 0.2096, Train Acc: 90.00%, Val Loss: 0.0436, Val Acc: 100.00%\n",
            "Starting epoch 9\n",
            "Train Loss: 0.1899, Train Acc: 90.00%, Val Loss: 0.0357, Val Acc: 100.00%\n",
            "Starting epoch 10\n",
            "Train Loss: 0.1076, Train Acc: 97.50%, Val Loss: 0.0524, Val Acc: 100.00%\n",
            "Starting epoch 11\n",
            "Train Loss: 0.1804, Train Acc: 95.00%, Val Loss: 0.0433, Val Acc: 100.00%\n",
            "Starting epoch 12\n",
            "Train Loss: 0.0549, Train Acc: 100.00%, Val Loss: 0.0455, Val Acc: 100.00%\n",
            "Starting epoch 13\n",
            "Train Loss: 0.2015, Train Acc: 95.00%, Val Loss: 0.0497, Val Acc: 100.00%\n",
            "Starting epoch 14\n",
            "Train Loss: 0.2123, Train Acc: 90.00%, Val Loss: 0.0735, Val Acc: 100.00%\n",
            "Starting epoch 15\n",
            "Train Loss: 0.2447, Train Acc: 92.50%, Val Loss: 0.0525, Val Acc: 100.00%\n",
            "Starting epoch 16\n",
            "Train Loss: 0.1312, Train Acc: 92.50%, Val Loss: 0.0508, Val Acc: 100.00%\n",
            "Starting epoch 17\n",
            "Train Loss: 0.1863, Train Acc: 95.00%, Val Loss: 0.0568, Val Acc: 100.00%\n",
            "Starting epoch 18\n",
            "Train Loss: 0.0831, Train Acc: 100.00%, Val Loss: 0.0534, Val Acc: 100.00%\n",
            "Starting epoch 19\n",
            "Train Loss: 0.1872, Train Acc: 97.50%, Val Loss: 0.0378, Val Acc: 100.00%\n",
            "Starting epoch 20\n",
            "Train Loss: 0.1184, Train Acc: 95.00%, Val Loss: 0.0673, Val Acc: 100.00%\n",
            "Starting epoch 21\n",
            "Train Loss: 0.1285, Train Acc: 95.00%, Val Loss: 0.0264, Val Acc: 100.00%\n",
            "Starting epoch 22\n",
            "Train Loss: 0.0220, Train Acc: 100.00%, Val Loss: 0.0167, Val Acc: 100.00%\n",
            "Starting epoch 23\n",
            "Train Loss: 0.0701, Train Acc: 95.00%, Val Loss: 0.0127, Val Acc: 100.00%\n",
            "Starting epoch 24\n",
            "Train Loss: 0.1150, Train Acc: 97.50%, Val Loss: 0.0207, Val Acc: 100.00%\n",
            "Starting epoch 25\n",
            "Train Loss: 0.0814, Train Acc: 97.50%, Val Loss: 0.0327, Val Acc: 100.00%\n",
            "Starting epoch 26\n",
            "Train Loss: 0.0396, Train Acc: 100.00%, Val Loss: 0.0443, Val Acc: 100.00%\n",
            "Starting epoch 27\n",
            "Train Loss: 0.1029, Train Acc: 95.00%, Val Loss: 0.0499, Val Acc: 100.00%\n",
            "Starting epoch 28\n",
            "Train Loss: 0.0621, Train Acc: 97.50%, Val Loss: 0.0192, Val Acc: 100.00%\n",
            "Starting epoch 29\n",
            "Train Loss: 0.0584, Train Acc: 97.50%, Val Loss: 0.0104, Val Acc: 100.00%\n",
            "Starting epoch 30\n",
            "Train Loss: 0.0257, Train Acc: 97.50%, Val Loss: 0.0211, Val Acc: 100.00%\n",
            "Starting epoch 31\n",
            "Train Loss: 0.0208, Train Acc: 100.00%, Val Loss: 0.0425, Val Acc: 100.00%\n",
            "Starting epoch 32\n",
            "Train Loss: 0.0102, Train Acc: 100.00%, Val Loss: 0.0481, Val Acc: 100.00%\n",
            "Starting epoch 33\n",
            "Train Loss: 0.0199, Train Acc: 100.00%, Val Loss: 0.0399, Val Acc: 100.00%\n",
            "Starting epoch 34\n",
            "Train Loss: 0.0626, Train Acc: 97.50%, Val Loss: 0.0321, Val Acc: 100.00%\n",
            "Starting epoch 35\n",
            "Train Loss: 0.0191, Train Acc: 100.00%, Val Loss: 0.0315, Val Acc: 100.00%\n",
            "Starting epoch 36\n",
            "Train Loss: 0.0115, Train Acc: 100.00%, Val Loss: 0.0338, Val Acc: 100.00%\n",
            "Starting epoch 37\n",
            "Train Loss: 0.0455, Train Acc: 97.50%, Val Loss: 0.0370, Val Acc: 100.00%\n",
            "Starting epoch 38\n",
            "Train Loss: 0.0316, Train Acc: 97.50%, Val Loss: 0.0635, Val Acc: 100.00%\n",
            "Starting epoch 39\n",
            "Train Loss: 0.0184, Train Acc: 100.00%, Val Loss: 0.0809, Val Acc: 90.00%\n",
            "Starting epoch 40\n",
            "Train Loss: 0.0125, Train Acc: 100.00%, Val Loss: 0.0795, Val Acc: 90.00%\n",
            "Starting epoch 41\n",
            "Train Loss: 0.0239, Train Acc: 100.00%, Val Loss: 0.0854, Val Acc: 90.00%\n",
            "Starting epoch 42\n",
            "Train Loss: 0.0147, Train Acc: 100.00%, Val Loss: 0.0818, Val Acc: 90.00%\n",
            "Starting epoch 43\n",
            "Train Loss: 0.0125, Train Acc: 100.00%, Val Loss: 0.0704, Val Acc: 100.00%\n",
            "Starting epoch 44\n",
            "Train Loss: 0.0236, Train Acc: 100.00%, Val Loss: 0.0519, Val Acc: 100.00%\n",
            "Starting epoch 45\n",
            "Train Loss: 0.0079, Train Acc: 100.00%, Val Loss: 0.0373, Val Acc: 100.00%\n",
            "Starting epoch 46\n",
            "Train Loss: 0.0471, Train Acc: 97.50%, Val Loss: 0.0320, Val Acc: 100.00%\n",
            "Starting epoch 47\n",
            "Train Loss: 0.0289, Train Acc: 100.00%, Val Loss: 0.0236, Val Acc: 100.00%\n",
            "Starting epoch 48\n",
            "Train Loss: 0.0247, Train Acc: 100.00%, Val Loss: 0.0181, Val Acc: 100.00%\n",
            "Starting epoch 49\n",
            "Train Loss: 0.0496, Train Acc: 97.50%, Val Loss: 0.0230, Val Acc: 100.00%\n",
            "Starting epoch 50\n",
            "Train Loss: 0.0620, Train Acc: 97.50%, Val Loss: 0.0327, Val Acc: 100.00%\n",
            "--------------------------------\n",
            "FOLD 1\n",
            "--------------------------------\n",
            "Starting epoch 1\n",
            "Train Loss: 0.3356, Train Acc: 90.00%, Val Loss: 0.0086, Val Acc: 100.00%\n",
            "Starting epoch 2\n",
            "Train Loss: 0.0282, Train Acc: 100.00%, Val Loss: 0.0197, Val Acc: 100.00%\n",
            "Starting epoch 3\n",
            "Train Loss: 0.1529, Train Acc: 95.00%, Val Loss: 0.0840, Val Acc: 90.00%\n",
            "Starting epoch 4\n",
            "Train Loss: 0.1373, Train Acc: 92.50%, Val Loss: 0.1690, Val Acc: 90.00%\n",
            "Starting epoch 5\n",
            "Train Loss: 0.0935, Train Acc: 97.50%, Val Loss: 0.0783, Val Acc: 100.00%\n",
            "Starting epoch 6\n",
            "Train Loss: 0.0876, Train Acc: 97.50%, Val Loss: 0.0418, Val Acc: 100.00%\n",
            "Starting epoch 7\n",
            "Train Loss: 0.0219, Train Acc: 100.00%, Val Loss: 0.0203, Val Acc: 100.00%\n",
            "Starting epoch 8\n",
            "Train Loss: 0.0501, Train Acc: 97.50%, Val Loss: 0.0037, Val Acc: 100.00%\n",
            "Starting epoch 9\n",
            "Train Loss: 0.1998, Train Acc: 90.00%, Val Loss: 0.0083, Val Acc: 100.00%\n",
            "Starting epoch 10\n",
            "Train Loss: 0.0324, Train Acc: 100.00%, Val Loss: 0.0535, Val Acc: 100.00%\n",
            "Starting epoch 11\n",
            "Train Loss: 0.0338, Train Acc: 97.50%, Val Loss: 0.1130, Val Acc: 90.00%\n",
            "Starting epoch 12\n",
            "Train Loss: 0.0795, Train Acc: 97.50%, Val Loss: 0.0370, Val Acc: 100.00%\n",
            "Starting epoch 13\n",
            "Train Loss: 0.0157, Train Acc: 100.00%, Val Loss: 0.0090, Val Acc: 100.00%\n",
            "Starting epoch 14\n",
            "Train Loss: 0.0574, Train Acc: 97.50%, Val Loss: 0.0042, Val Acc: 100.00%\n",
            "Starting epoch 15\n",
            "Train Loss: 0.0108, Train Acc: 100.00%, Val Loss: 0.0032, Val Acc: 100.00%\n",
            "Starting epoch 16\n",
            "Train Loss: 0.0780, Train Acc: 97.50%, Val Loss: 0.0031, Val Acc: 100.00%\n",
            "Starting epoch 17\n",
            "Train Loss: 0.0355, Train Acc: 97.50%, Val Loss: 0.0042, Val Acc: 100.00%\n",
            "Starting epoch 18\n",
            "Train Loss: 0.0098, Train Acc: 100.00%, Val Loss: 0.0028, Val Acc: 100.00%\n",
            "Starting epoch 19\n",
            "Train Loss: 0.0171, Train Acc: 100.00%, Val Loss: 0.0018, Val Acc: 100.00%\n",
            "Starting epoch 20\n",
            "Train Loss: 0.0119, Train Acc: 100.00%, Val Loss: 0.0011, Val Acc: 100.00%\n",
            "Starting epoch 21\n",
            "Train Loss: 0.0138, Train Acc: 100.00%, Val Loss: 0.0010, Val Acc: 100.00%\n",
            "Starting epoch 22\n",
            "Train Loss: 0.0025, Train Acc: 100.00%, Val Loss: 0.0010, Val Acc: 100.00%\n",
            "Starting epoch 23\n",
            "Train Loss: 0.0565, Train Acc: 97.50%, Val Loss: 0.0009, Val Acc: 100.00%\n",
            "Starting epoch 24\n",
            "Train Loss: 0.0026, Train Acc: 100.00%, Val Loss: 0.0034, Val Acc: 100.00%\n",
            "Starting epoch 25\n",
            "Train Loss: 0.0310, Train Acc: 97.50%, Val Loss: 0.0062, Val Acc: 100.00%\n",
            "Starting epoch 26\n",
            "Train Loss: 0.0048, Train Acc: 100.00%, Val Loss: 0.0030, Val Acc: 100.00%\n",
            "Starting epoch 27\n",
            "Train Loss: 0.0095, Train Acc: 100.00%, Val Loss: 0.0023, Val Acc: 100.00%\n",
            "Starting epoch 28\n",
            "Train Loss: 0.0084, Train Acc: 100.00%, Val Loss: 0.0020, Val Acc: 100.00%\n",
            "Starting epoch 29\n",
            "Train Loss: 0.0017, Train Acc: 100.00%, Val Loss: 0.0019, Val Acc: 100.00%\n",
            "Starting epoch 30\n",
            "Train Loss: 0.1092, Train Acc: 97.50%, Val Loss: 0.0025, Val Acc: 100.00%\n",
            "Starting epoch 31\n",
            "Train Loss: 0.0013, Train Acc: 100.00%, Val Loss: 0.0031, Val Acc: 100.00%\n",
            "Starting epoch 32\n",
            "Train Loss: 0.0165, Train Acc: 100.00%, Val Loss: 0.0059, Val Acc: 100.00%\n",
            "Starting epoch 33\n",
            "Train Loss: 0.0074, Train Acc: 100.00%, Val Loss: 0.0066, Val Acc: 100.00%\n",
            "Starting epoch 34\n",
            "Train Loss: 0.0059, Train Acc: 100.00%, Val Loss: 0.0056, Val Acc: 100.00%\n",
            "Starting epoch 35\n",
            "Train Loss: 0.0020, Train Acc: 100.00%, Val Loss: 0.0050, Val Acc: 100.00%\n",
            "Starting epoch 36\n",
            "Train Loss: 0.0071, Train Acc: 100.00%, Val Loss: 0.0043, Val Acc: 100.00%\n",
            "Starting epoch 37\n",
            "Train Loss: 0.0023, Train Acc: 100.00%, Val Loss: 0.0038, Val Acc: 100.00%\n",
            "Starting epoch 38\n",
            "Train Loss: 0.0050, Train Acc: 100.00%, Val Loss: 0.0029, Val Acc: 100.00%\n",
            "Starting epoch 39\n",
            "Train Loss: 0.0008, Train Acc: 100.00%, Val Loss: 0.0023, Val Acc: 100.00%\n",
            "Starting epoch 40\n",
            "Train Loss: 0.0257, Train Acc: 97.50%, Val Loss: 0.0020, Val Acc: 100.00%\n",
            "Starting epoch 41\n",
            "Train Loss: 0.0021, Train Acc: 100.00%, Val Loss: 0.0021, Val Acc: 100.00%\n",
            "Starting epoch 42\n",
            "Train Loss: 0.0093, Train Acc: 100.00%, Val Loss: 0.0024, Val Acc: 100.00%\n",
            "Starting epoch 43\n",
            "Train Loss: 0.0052, Train Acc: 100.00%, Val Loss: 0.0029, Val Acc: 100.00%\n",
            "Starting epoch 44\n",
            "Train Loss: 0.0011, Train Acc: 100.00%, Val Loss: 0.0031, Val Acc: 100.00%\n",
            "Starting epoch 45\n",
            "Train Loss: 0.0090, Train Acc: 100.00%, Val Loss: 0.0033, Val Acc: 100.00%\n",
            "Starting epoch 46\n",
            "Train Loss: 0.0007, Train Acc: 100.00%, Val Loss: 0.0034, Val Acc: 100.00%\n",
            "Starting epoch 47\n",
            "Train Loss: 0.0106, Train Acc: 100.00%, Val Loss: 0.0036, Val Acc: 100.00%\n",
            "Starting epoch 48\n",
            "Train Loss: 0.0026, Train Acc: 100.00%, Val Loss: 0.0036, Val Acc: 100.00%\n",
            "Early stopping triggered.\n",
            "--------------------------------\n",
            "FOLD 2\n",
            "--------------------------------\n",
            "Starting epoch 1\n",
            "Train Loss: 0.2948, Train Acc: 90.00%, Val Loss: 0.1472, Val Acc: 90.00%\n",
            "Starting epoch 2\n",
            "Train Loss: 0.0322, Train Acc: 100.00%, Val Loss: 0.1396, Val Acc: 90.00%\n",
            "Starting epoch 3\n",
            "Train Loss: 0.0324, Train Acc: 97.50%, Val Loss: 0.3439, Val Acc: 90.00%\n",
            "Starting epoch 4\n",
            "Train Loss: 0.0313, Train Acc: 100.00%, Val Loss: 0.0753, Val Acc: 100.00%\n",
            "Starting epoch 5\n",
            "Train Loss: 0.1041, Train Acc: 97.50%, Val Loss: 0.0893, Val Acc: 100.00%\n",
            "Starting epoch 6\n",
            "Train Loss: 0.0357, Train Acc: 97.50%, Val Loss: 0.0500, Val Acc: 100.00%\n",
            "Starting epoch 7\n",
            "Train Loss: 0.1379, Train Acc: 95.00%, Val Loss: 0.0185, Val Acc: 100.00%\n",
            "Starting epoch 8\n",
            "Train Loss: 0.3087, Train Acc: 90.00%, Val Loss: 0.0004, Val Acc: 100.00%\n",
            "Starting epoch 9\n",
            "Train Loss: 0.1545, Train Acc: 92.50%, Val Loss: 0.0051, Val Acc: 100.00%\n",
            "Starting epoch 10\n",
            "Train Loss: 0.3998, Train Acc: 95.00%, Val Loss: 0.0013, Val Acc: 100.00%\n",
            "Starting epoch 11\n",
            "Train Loss: 0.1461, Train Acc: 95.00%, Val Loss: 0.0014, Val Acc: 100.00%\n",
            "Starting epoch 12\n",
            "Train Loss: 0.1189, Train Acc: 92.50%, Val Loss: 0.0038, Val Acc: 100.00%\n",
            "Starting epoch 13\n",
            "Train Loss: 0.1275, Train Acc: 97.50%, Val Loss: 0.0124, Val Acc: 100.00%\n",
            "Starting epoch 14\n",
            "Train Loss: 0.0902, Train Acc: 97.50%, Val Loss: 0.0063, Val Acc: 100.00%\n",
            "Starting epoch 15\n",
            "Train Loss: 0.0512, Train Acc: 97.50%, Val Loss: 0.0030, Val Acc: 100.00%\n",
            "Starting epoch 16\n",
            "Train Loss: 0.0205, Train Acc: 100.00%, Val Loss: 0.0017, Val Acc: 100.00%\n",
            "Starting epoch 17\n",
            "Train Loss: 0.0537, Train Acc: 97.50%, Val Loss: 0.0031, Val Acc: 100.00%\n",
            "Starting epoch 18\n",
            "Train Loss: 0.0293, Train Acc: 97.50%, Val Loss: 0.0020, Val Acc: 100.00%\n",
            "Starting epoch 19\n",
            "Train Loss: 0.0171, Train Acc: 100.00%, Val Loss: 0.0013, Val Acc: 100.00%\n",
            "Starting epoch 20\n",
            "Train Loss: 0.0847, Train Acc: 92.50%, Val Loss: 0.0012, Val Acc: 100.00%\n",
            "Starting epoch 21\n",
            "Train Loss: 0.0041, Train Acc: 100.00%, Val Loss: 0.0012, Val Acc: 100.00%\n",
            "Starting epoch 22\n",
            "Train Loss: 0.0035, Train Acc: 100.00%, Val Loss: 0.0011, Val Acc: 100.00%\n",
            "Starting epoch 23\n",
            "Train Loss: 0.0074, Train Acc: 100.00%, Val Loss: 0.0011, Val Acc: 100.00%\n",
            "Starting epoch 24\n",
            "Train Loss: 0.0026, Train Acc: 100.00%, Val Loss: 0.0010, Val Acc: 100.00%\n",
            "Starting epoch 25\n",
            "Train Loss: 0.0140, Train Acc: 100.00%, Val Loss: 0.0009, Val Acc: 100.00%\n",
            "Starting epoch 26\n",
            "Train Loss: 0.0045, Train Acc: 100.00%, Val Loss: 0.0008, Val Acc: 100.00%\n",
            "Starting epoch 27\n",
            "Train Loss: 0.0102, Train Acc: 100.00%, Val Loss: 0.0008, Val Acc: 100.00%\n",
            "Starting epoch 28\n",
            "Train Loss: 0.0077, Train Acc: 100.00%, Val Loss: 0.0009, Val Acc: 100.00%\n",
            "Starting epoch 29\n",
            "Train Loss: 0.0510, Train Acc: 97.50%, Val Loss: 0.0009, Val Acc: 100.00%\n",
            "Starting epoch 30\n",
            "Train Loss: 0.0086, Train Acc: 100.00%, Val Loss: 0.0019, Val Acc: 100.00%\n",
            "Starting epoch 31\n",
            "Train Loss: 0.0058, Train Acc: 100.00%, Val Loss: 0.0022, Val Acc: 100.00%\n",
            "Starting epoch 32\n",
            "Train Loss: 0.0282, Train Acc: 97.50%, Val Loss: 0.0012, Val Acc: 100.00%\n",
            "Starting epoch 33\n",
            "Train Loss: 0.0047, Train Acc: 100.00%, Val Loss: 0.0010, Val Acc: 100.00%\n",
            "Early stopping triggered.\n",
            "--------------------------------\n",
            "FOLD 3\n",
            "--------------------------------\n",
            "Starting epoch 1\n",
            "Train Loss: 0.3972, Train Acc: 95.00%, Val Loss: 0.3052, Val Acc: 90.00%\n",
            "Starting epoch 2\n",
            "Train Loss: 0.3693, Train Acc: 92.50%, Val Loss: 0.0009, Val Acc: 100.00%\n",
            "Starting epoch 3\n",
            "Train Loss: 0.2815, Train Acc: 97.50%, Val Loss: 0.0216, Val Acc: 100.00%\n",
            "Starting epoch 4\n",
            "Train Loss: 0.2806, Train Acc: 95.00%, Val Loss: 0.0034, Val Acc: 100.00%\n",
            "Starting epoch 5\n",
            "Train Loss: 0.0571, Train Acc: 97.50%, Val Loss: 0.0105, Val Acc: 100.00%\n",
            "Starting epoch 6\n",
            "Train Loss: 0.1601, Train Acc: 95.00%, Val Loss: 0.0155, Val Acc: 100.00%\n",
            "Starting epoch 7\n",
            "Train Loss: 0.0849, Train Acc: 97.50%, Val Loss: 0.0171, Val Acc: 100.00%\n",
            "Starting epoch 8\n",
            "Train Loss: 0.0393, Train Acc: 97.50%, Val Loss: 0.0047, Val Acc: 100.00%\n",
            "Starting epoch 9\n",
            "Train Loss: 0.0911, Train Acc: 95.00%, Val Loss: 0.0032, Val Acc: 100.00%\n",
            "Starting epoch 10\n",
            "Train Loss: 0.0393, Train Acc: 100.00%, Val Loss: 0.0381, Val Acc: 100.00%\n",
            "Starting epoch 11\n",
            "Train Loss: 0.0330, Train Acc: 100.00%, Val Loss: 0.0124, Val Acc: 100.00%\n",
            "Starting epoch 12\n",
            "Train Loss: 0.0126, Train Acc: 100.00%, Val Loss: 0.0044, Val Acc: 100.00%\n",
            "Starting epoch 13\n",
            "Train Loss: 0.0035, Train Acc: 100.00%, Val Loss: 0.0028, Val Acc: 100.00%\n",
            "Starting epoch 14\n",
            "Train Loss: 0.0343, Train Acc: 97.50%, Val Loss: 0.0113, Val Acc: 100.00%\n",
            "Starting epoch 15\n",
            "Train Loss: 0.0057, Train Acc: 100.00%, Val Loss: 0.0279, Val Acc: 100.00%\n",
            "Starting epoch 16\n",
            "Train Loss: 0.0079, Train Acc: 100.00%, Val Loss: 0.0194, Val Acc: 100.00%\n",
            "Starting epoch 17\n",
            "Train Loss: 0.0050, Train Acc: 100.00%, Val Loss: 0.0120, Val Acc: 100.00%\n",
            "Starting epoch 18\n",
            "Train Loss: 0.0039, Train Acc: 100.00%, Val Loss: 0.0057, Val Acc: 100.00%\n",
            "Starting epoch 19\n",
            "Train Loss: 0.0007, Train Acc: 100.00%, Val Loss: 0.0033, Val Acc: 100.00%\n",
            "Starting epoch 20\n",
            "Train Loss: 0.0020, Train Acc: 100.00%, Val Loss: 0.0025, Val Acc: 100.00%\n",
            "Starting epoch 21\n",
            "Train Loss: 0.0020, Train Acc: 100.00%, Val Loss: 0.0021, Val Acc: 100.00%\n",
            "Starting epoch 22\n",
            "Train Loss: 0.0020, Train Acc: 100.00%, Val Loss: 0.0019, Val Acc: 100.00%\n",
            "Starting epoch 23\n",
            "Train Loss: 0.0027, Train Acc: 100.00%, Val Loss: 0.0016, Val Acc: 100.00%\n",
            "Starting epoch 24\n",
            "Train Loss: 0.0035, Train Acc: 100.00%, Val Loss: 0.0014, Val Acc: 100.00%\n",
            "Starting epoch 25\n",
            "Train Loss: 0.0036, Train Acc: 100.00%, Val Loss: 0.0012, Val Acc: 100.00%\n",
            "Starting epoch 26\n",
            "Train Loss: 0.0028, Train Acc: 100.00%, Val Loss: 0.0012, Val Acc: 100.00%\n",
            "Starting epoch 27\n",
            "Train Loss: 0.0013, Train Acc: 100.00%, Val Loss: 0.0011, Val Acc: 100.00%\n",
            "Early stopping triggered.\n",
            "--------------------------------\n",
            "FOLD 4\n",
            "--------------------------------\n",
            "Starting epoch 1\n",
            "Train Loss: 0.3167, Train Acc: 95.00%, Val Loss: 0.0013, Val Acc: 100.00%\n",
            "Starting epoch 2\n",
            "Train Loss: 0.3024, Train Acc: 90.00%, Val Loss: 0.0014, Val Acc: 100.00%\n",
            "Starting epoch 3\n",
            "Train Loss: 0.0150, Train Acc: 100.00%, Val Loss: 0.0048, Val Acc: 100.00%\n",
            "Starting epoch 4\n",
            "Train Loss: 0.2027, Train Acc: 90.00%, Val Loss: 0.0006, Val Acc: 100.00%\n",
            "Starting epoch 5\n",
            "Train Loss: 0.0095, Train Acc: 100.00%, Val Loss: 0.0253, Val Acc: 100.00%\n",
            "Starting epoch 6\n",
            "Train Loss: 0.0312, Train Acc: 97.50%, Val Loss: 0.0431, Val Acc: 100.00%\n",
            "Starting epoch 7\n",
            "Train Loss: 0.2488, Train Acc: 95.00%, Val Loss: 0.0018, Val Acc: 100.00%\n",
            "Starting epoch 8\n",
            "Train Loss: 0.0461, Train Acc: 97.50%, Val Loss: 0.0011, Val Acc: 100.00%\n",
            "Starting epoch 9\n",
            "Train Loss: 0.0138, Train Acc: 100.00%, Val Loss: 0.0016, Val Acc: 100.00%\n",
            "Starting epoch 10\n",
            "Train Loss: 0.0103, Train Acc: 100.00%, Val Loss: 0.0024, Val Acc: 100.00%\n",
            "Starting epoch 11\n",
            "Train Loss: 0.0412, Train Acc: 97.50%, Val Loss: 0.0022, Val Acc: 100.00%\n",
            "Starting epoch 12\n",
            "Train Loss: 0.0251, Train Acc: 100.00%, Val Loss: 0.0008, Val Acc: 100.00%\n",
            "Starting epoch 13\n",
            "Train Loss: 0.0115, Train Acc: 100.00%, Val Loss: 0.0006, Val Acc: 100.00%\n",
            "Starting epoch 14\n",
            "Train Loss: 0.0077, Train Acc: 100.00%, Val Loss: 0.0005, Val Acc: 100.00%\n",
            "Starting epoch 15\n",
            "Train Loss: 0.0062, Train Acc: 100.00%, Val Loss: 0.0004, Val Acc: 100.00%\n",
            "Starting epoch 16\n",
            "Train Loss: 0.0065, Train Acc: 100.00%, Val Loss: 0.0003, Val Acc: 100.00%\n",
            "Starting epoch 17\n",
            "Train Loss: 0.0016, Train Acc: 100.00%, Val Loss: 0.0003, Val Acc: 100.00%\n",
            "Starting epoch 18\n",
            "Train Loss: 0.0015, Train Acc: 100.00%, Val Loss: 0.0003, Val Acc: 100.00%\n",
            "Starting epoch 19\n",
            "Train Loss: 0.0558, Train Acc: 97.50%, Val Loss: 0.0009, Val Acc: 100.00%\n",
            "Starting epoch 20\n",
            "Train Loss: 0.0600, Train Acc: 97.50%, Val Loss: 0.0076, Val Acc: 100.00%\n",
            "Starting epoch 21\n",
            "Train Loss: 0.1889, Train Acc: 97.50%, Val Loss: 0.0072, Val Acc: 100.00%\n",
            "Starting epoch 22\n",
            "Train Loss: 0.0050, Train Acc: 100.00%, Val Loss: 0.0032, Val Acc: 100.00%\n",
            "Starting epoch 23\n",
            "Train Loss: 0.0173, Train Acc: 100.00%, Val Loss: 0.0016, Val Acc: 100.00%\n",
            "Starting epoch 24\n",
            "Train Loss: 0.0193, Train Acc: 100.00%, Val Loss: 0.0011, Val Acc: 100.00%\n",
            "Starting epoch 25\n",
            "Train Loss: 0.0029, Train Acc: 100.00%, Val Loss: 0.0008, Val Acc: 100.00%\n",
            "Starting epoch 26\n",
            "Train Loss: 0.0036, Train Acc: 100.00%, Val Loss: 0.0007, Val Acc: 100.00%\n",
            "Starting epoch 27\n",
            "Train Loss: 0.0148, Train Acc: 100.00%, Val Loss: 0.0006, Val Acc: 100.00%\n",
            "Starting epoch 28\n",
            "Train Loss: 0.0018, Train Acc: 100.00%, Val Loss: 0.0006, Val Acc: 100.00%\n",
            "Starting epoch 29\n",
            "Train Loss: 0.0043, Train Acc: 100.00%, Val Loss: 0.0005, Val Acc: 100.00%\n",
            "Starting epoch 30\n",
            "Train Loss: 0.0262, Train Acc: 97.50%, Val Loss: 0.0004, Val Acc: 100.00%\n",
            "Starting epoch 31\n",
            "Train Loss: 0.0044, Train Acc: 100.00%, Val Loss: 0.0004, Val Acc: 100.00%\n",
            "Starting epoch 32\n",
            "Train Loss: 0.0179, Train Acc: 100.00%, Val Loss: 0.0004, Val Acc: 100.00%\n",
            "Starting epoch 33\n",
            "Train Loss: 0.0024, Train Acc: 100.00%, Val Loss: 0.0003, Val Acc: 100.00%\n",
            "Starting epoch 34\n",
            "Train Loss: 0.0020, Train Acc: 100.00%, Val Loss: 0.0003, Val Acc: 100.00%\n",
            "Starting epoch 35\n",
            "Train Loss: 0.0011, Train Acc: 100.00%, Val Loss: 0.0003, Val Acc: 100.00%\n",
            "Starting epoch 36\n",
            "Train Loss: 0.0004, Train Acc: 100.00%, Val Loss: 0.0003, Val Acc: 100.00%\n",
            "Starting epoch 37\n",
            "Train Loss: 0.0006, Train Acc: 100.00%, Val Loss: 0.0003, Val Acc: 100.00%\n",
            "Starting epoch 38\n",
            "Train Loss: 0.0008, Train Acc: 100.00%, Val Loss: 0.0003, Val Acc: 100.00%\n",
            "Starting epoch 39\n",
            "Train Loss: 0.0005, Train Acc: 100.00%, Val Loss: 0.0003, Val Acc: 100.00%\n",
            "Starting epoch 40\n",
            "Train Loss: 0.0004, Train Acc: 100.00%, Val Loss: 0.0003, Val Acc: 100.00%\n",
            "Starting epoch 41\n",
            "Train Loss: 0.0003, Train Acc: 100.00%, Val Loss: 0.0003, Val Acc: 100.00%\n",
            "Starting epoch 42\n",
            "Train Loss: 0.0007, Train Acc: 100.00%, Val Loss: 0.0003, Val Acc: 100.00%\n",
            "Starting epoch 43\n",
            "Train Loss: 0.0019, Train Acc: 100.00%, Val Loss: 0.0003, Val Acc: 100.00%\n",
            "Starting epoch 44\n",
            "Train Loss: 0.0004, Train Acc: 100.00%, Val Loss: 0.0003, Val Acc: 100.00%\n",
            "Starting epoch 45\n",
            "Train Loss: 0.0004, Train Acc: 100.00%, Val Loss: 0.0003, Val Acc: 100.00%\n",
            "Starting epoch 46\n",
            "Train Loss: 0.0010, Train Acc: 100.00%, Val Loss: 0.0003, Val Acc: 100.00%\n",
            "Starting epoch 47\n",
            "Train Loss: 0.0036, Train Acc: 100.00%, Val Loss: 0.0003, Val Acc: 100.00%\n",
            "Starting epoch 48\n",
            "Train Loss: 0.0012, Train Acc: 100.00%, Val Loss: 0.0003, Val Acc: 100.00%\n",
            "Starting epoch 49\n",
            "Train Loss: 0.0011, Train Acc: 100.00%, Val Loss: 0.0003, Val Acc: 100.00%\n",
            "Starting epoch 50\n",
            "Train Loss: 0.0011, Train Acc: 100.00%, Val Loss: 0.0003, Val Acc: 100.00%\n",
            "--------------------------------\n",
            "Best validation accuracy of 0.00% achieved, model saved as VIT_best_model.pth\n"
          ]
        }
      ]
    },
    {
      "cell_type": "code",
      "source": [
        "model = model.to(device)\n",
        "model.load_state_dict(torch.load('VIT_best_model.pth'))"
      ],
      "metadata": {
        "colab": {
          "base_uri": "https://localhost:8080/"
        },
        "id": "yWMb6wj110q0",
        "outputId": "b5efffab-d5a0-4ddb-e2b4-c0d2ba13a154"
      },
      "execution_count": 40,
      "outputs": [
        {
          "output_type": "execute_result",
          "data": {
            "text/plain": [
              "<All keys matched successfully>"
            ]
          },
          "metadata": {},
          "execution_count": 40
        }
      ]
    },
    {
      "cell_type": "code",
      "source": [
        "testset = datasets.CIFAR10(root='./data', train=False, download=True, transform=test_transform)"
      ],
      "metadata": {
        "colab": {
          "base_uri": "https://localhost:8080/"
        },
        "id": "2SkDQDL43-7i",
        "outputId": "a212d218-d49d-4966-b0d8-e0d2ddc60697"
      },
      "execution_count": 41,
      "outputs": [
        {
          "output_type": "stream",
          "name": "stdout",
          "text": [
            "Files already downloaded and verified\n"
          ]
        }
      ]
    },
    {
      "cell_type": "code",
      "source": [
        "test_indices = [i for i, (_, label) in enumerate(testset) if label in selected_classes]\n",
        "N = 1000\n",
        "class_counts = {label: 0 for label in selected_classes}\n",
        "filtered_train_indices = []\n",
        "\n",
        "for i in test_indices:\n",
        "    _, label = testset[i]\n",
        "    if class_counts[label] < N:\n",
        "        filtered_train_indices.append(i)\n",
        "        class_counts[label] += 1\n",
        "\n",
        "test_subset = Subset(testset, filtered_train_indices)\n",
        "test_loader = DataLoader(test_subset, batch_size=50, shuffle=False)"
      ],
      "metadata": {
        "id": "cwgkb-K814jT"
      },
      "execution_count": 42,
      "outputs": []
    },
    {
      "cell_type": "code",
      "source": [
        "# Ensure the model is in evaluation mode\n",
        "model.eval()\n",
        "\n",
        "# Assuming the test_loader and the device are already defined\n",
        "# Define the loss function\n",
        "criterion = nn.CrossEntropyLoss()\n",
        "\n",
        "# Evaluation\n",
        "test_loss = 0\n",
        "correct = 0\n",
        "total = 0\n",
        "\n",
        "# No gradient is needed for evaluation\n",
        "with torch.no_grad():\n",
        "    for data, targets in test_loader:\n",
        "        # Move data and targets to the correct device\n",
        "        data = data.to(device)\n",
        "        targets = targets.to(device)\n",
        "\n",
        "        # Compute the model output\n",
        "        output = model(data)\n",
        "        loss = criterion(output, targets)\n",
        "\n",
        "        # Accumulate the loss and calculate accuracy\n",
        "        test_loss += loss.item()\n",
        "        _, predicted = torch.max(output.data, 1)\n",
        "        total += targets.size(0)\n",
        "        correct += (predicted == targets).sum().item()\n",
        "\n",
        "# Calculate average loss and accuracy percentage\n",
        "VIT_avg_loss = test_loss / len(test_loader)\n",
        "VIT_accuracy = 100. * correct / total\n",
        "\n",
        "# Print the test loss and accuracy\n",
        "print(f'Test Loss: {VIT_avg_loss:.4f}, Test Accuracy: {VIT_accuracy:.2f}%')\n"
      ],
      "metadata": {
        "colab": {
          "base_uri": "https://localhost:8080/"
        },
        "id": "RohrSzM819eo",
        "outputId": "03853067-5743-4f61-b086-c2c4199176f9"
      },
      "execution_count": 43,
      "outputs": [
        {
          "output_type": "stream",
          "name": "stdout",
          "text": [
            "Test Loss: 0.7496, Test Accuracy: 87.80%\n"
          ]
        }
      ]
    },
    {
      "cell_type": "markdown",
      "source": [
        "Graphs"
      ],
      "metadata": {
        "id": "NVUnWfpS5Q6L"
      }
    },
    {
      "cell_type": "code",
      "source": [
        "selected_classes_mapping = {0: \"Cat\", 1: \"Dog\", 2: \"Bird\", 3: \"Horse\", 4: \"Ship\", 5: \"Truck\", 6: \"Frog\", 7: \"Airplane\", 8: \"Deer\", 9: \"Automobile\"}\n",
        "selected_classes = [selected_classes_mapping[class_num] for class_num in selected_classes]\n",
        "print(f'Randomly selected from CIFAR-10 are {selected_classes}')"
      ],
      "metadata": {
        "colab": {
          "base_uri": "https://localhost:8080/"
        },
        "id": "FATVgQSn6xRy",
        "outputId": "6302eeab-4898-4a56-e7f4-1a807eaa2a70"
      },
      "execution_count": 44,
      "outputs": [
        {
          "output_type": "stream",
          "name": "stdout",
          "text": [
            "Randomly selected from CIFAR-10 are ['Ship', 'Deer']\n"
          ]
        }
      ]
    },
    {
      "cell_type": "code",
      "source": [
        "import matplotlib.pyplot as plt\n",
        "import seaborn as sns"
      ],
      "metadata": {
        "id": "A502A3vS5SEq"
      },
      "execution_count": 45,
      "outputs": []
    },
    {
      "cell_type": "code",
      "source": [
        "plt.figure(figsize=(10, 6))\n",
        "\n",
        "plt.subplot(1, 2, 1)\n",
        "bars = plt.bar(['XGBoost', 'Custom CNN', 'Vision Transformer'], [XGBoost_accuracy * 100, Custom_CNN_accuracy, VIT_accuracy], color=['blue', 'orange', 'green'])\n",
        "plt.title('Accuracy Comparison')\n",
        "plt.ylabel('Accuracy (%)')\n",
        "plt.ylim(0, 110)\n",
        "\n",
        "# Annotate bars with values\n",
        "for bar in bars:\n",
        "    yval = bar.get_height()\n",
        "    plt.text(bar.get_x() + bar.get_width()/2.0, yval, round(yval, 2), va='bottom')\n",
        "\n",
        "# Loss comparison\n",
        "plt.subplot(1, 2, 2)\n",
        "bars = plt.bar(['Custom CNN', 'Vision Transformer'], [Custom_CNN_avg_loss, VIT_avg_loss], color=['orange', 'green'])\n",
        "plt.title('Average Loss Comparison')\n",
        "plt.ylabel('Average Loss')\n",
        "plt.ylim(0, 3.2)\n",
        "\n",
        "# Annotate bars with values\n",
        "for bar in bars:\n",
        "    yval = bar.get_height()\n",
        "    plt.text(bar.get_x() + bar.get_width()/2.0, yval, round(yval, 2), va='bottom')\n",
        "\n",
        "plt.tight_layout()\n",
        "plt.show()"
      ],
      "metadata": {
        "colab": {
          "base_uri": "https://localhost:8080/",
          "height": 607
        },
        "id": "GalqyuQl5S8K",
        "outputId": "7455a515-d80e-4bc9-eec6-2bbea5617eb3"
      },
      "execution_count": 52,
      "outputs": [
        {
          "output_type": "display_data",
          "data": {
            "text/plain": [
              "<Figure size 1000x600 with 2 Axes>"
            ],
            "image/png": "[encoded data removed]"
          },
          "metadata": {}
        }
      ]
    }
  ]
}