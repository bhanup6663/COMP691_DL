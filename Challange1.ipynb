{
  "nbformat": 4,
  "nbformat_minor": 0,
  "metadata": {
    "colab": {
      "provenance": [],
      "gpuType": "T4",
      "authorship_tag": "ABX9TyPAjoqpP/OaIwhiXXuO7Cku",
      "include_colab_link": true
    },
    "kernelspec": {
      "name": "python3",
      "display_name": "Python 3"
    },
    "language_info": {
      "name": "python"
    },
    "accelerator": "GPU"
  },
  "cells": [
    {
      "cell_type": "markdown",
      "metadata": {
        "id": "view-in-github",
        "colab_type": "text"
      },
      "source": [
        "<a href=\"https://colab.research.google.com/github/bhanup6663/COMP691_DL/blob/main/Challange1_.ipynb\" target=\"_parent\"><img src=\"https://colab.research.google.com/assets/colab-badge.svg\" alt=\"Open In Colab\"/></a>"
      ]
    },
    {
      "cell_type": "markdown",
      "source": [
        "XGBOOST-Bayesian"
      ],
      "metadata": {
        "id": "j8ADh8WJxZRN"
      }
    },
    {
      "cell_type": "code",
      "execution_count": 1,
      "metadata": {
        "id": "VL8nv8wixOh3"
      },
      "outputs": [],
      "source": [
        "import numpy as np\n",
        "import torchvision\n",
        "from torchvision import datasets, transforms\n",
        "from torchvision.transforms import Grayscale\n",
        "from sklearn.decomposition import PCA\n",
        "from sklearn.model_selection import train_test_split, GridSearchCV\n",
        "from hyperopt import hp, fmin, tpe, Trials, STATUS_OK\n",
        "from sklearn.metrics import accuracy_score\n",
        "from xgboost import XGBClassifier\n",
        "import torch"
      ]
    },
    {
      "cell_type": "code",
      "source": [
        "train_transform = transforms.Compose([\n",
        "    transforms.RandomHorizontalFlip(p=0.5),\n",
        "    transforms.RandomRotation(degrees=10),\n",
        "    transforms.RandomCrop(32, padding=4),\n",
        "    transforms.ColorJitter(brightness=0.2, contrast=0.2, saturation=0.2, hue=0.1),\n",
        "    transforms.ToTensor(),\n",
        "    transforms.Normalize(mean=[0.4914, 0.4822, 0.4465], std=[0.2023, 0.1994, 0.2010])\n",
        "])\n",
        "\n",
        "test_transform = transforms.Compose([\n",
        "    transforms.ToTensor(),\n",
        "    transforms.Normalize(mean=[0.4914, 0.4822, 0.4465], std=[0.2023, 0.1994, 0.2010])\n",
        "])"
      ],
      "metadata": {
        "id": "rwIaJhJuxVN4"
      },
      "execution_count": 2,
      "outputs": []
    },
    {
      "cell_type": "code",
      "source": [
        "trainset = datasets.CIFAR10(root='./data', train=True, download=True, transform=train_transform)\n",
        "testset = datasets.CIFAR10(root='./data', train=False, download=True, transform=test_transform)"
      ],
      "metadata": {
        "colab": {
          "base_uri": "https://localhost:8080/"
        },
        "id": "oZxA6OVqxpIA",
        "outputId": "afd869ca-b4d3-44ab-b6c0-e57140760203"
      },
      "execution_count": 3,
      "outputs": [
        {
          "output_type": "stream",
          "name": "stdout",
          "text": [
            "Downloading https://www.cs.toronto.edu/~kriz/cifar-10-python.tar.gz to ./data/cifar-10-python.tar.gz\n"
          ]
        },
        {
          "output_type": "stream",
          "name": "stderr",
          "text": [
            "100%|██████████| 170498071/170498071 [00:06<00:00, 28086393.03it/s]\n"
          ]
        },
        {
          "output_type": "stream",
          "name": "stdout",
          "text": [
            "Extracting ./data/cifar-10-python.tar.gz to ./data\n",
            "Files already downloaded and verified\n"
          ]
        }
      ]
    },
    {
      "cell_type": "code",
      "source": [
        "selected_classes = np.random.choice(range(10), 2, replace=False)"
      ],
      "metadata": {
        "id": "_3Uut8Yoxtkx"
      },
      "execution_count": 4,
      "outputs": []
    },
    {
      "cell_type": "code",
      "source": [
        "print(selected_classes)"
      ],
      "metadata": {
        "colab": {
          "base_uri": "https://localhost:8080/"
        },
        "id": "_FfOtNldxwm4",
        "outputId": "2cfc6735-34d3-414d-b68e-339e86f5774c"
      },
      "execution_count": 5,
      "outputs": [
        {
          "output_type": "stream",
          "name": "stdout",
          "text": [
            "[0 6]\n"
          ]
        }
      ]
    },
    {
      "cell_type": "code",
      "source": [
        "class_mapping = {original: new for new, original in enumerate(selected_classes)}"
      ],
      "metadata": {
        "id": "C-09supGx1rF"
      },
      "execution_count": 6,
      "outputs": []
    },
    {
      "cell_type": "code",
      "source": [
        "train_indices = []\n",
        "test_indices = []\n",
        "\n",
        "for idx, (image, label) in enumerate(trainset):\n",
        "    if label in selected_classes:\n",
        "        train_indices.append(idx)\n",
        "\n",
        "for idx, (image, label) in enumerate(testset):\n",
        "    if label in selected_classes:\n",
        "        test_indices.append(idx)\n",
        "\n",
        "# Shuffle the indices\n",
        "np.random.shuffle(train_indices)\n",
        "np.random.shuffle(test_indices)\n",
        "\n",
        "# Check if enough samples are found for training and testing\n",
        "if len(train_indices) < 25 or len(test_indices) < 2000:\n",
        "    raise ValueError(\"Insufficient samples found for training or testing.\")"
      ],
      "metadata": {
        "id": "dgKVgYbGx5_u"
      },
      "execution_count": 7,
      "outputs": []
    },
    {
      "cell_type": "code",
      "source": [
        "train_indices = train_indices[:25]\n",
        "test_indices = test_indices[:2000]\n",
        "\n",
        "trainloader = torch.utils.data.DataLoader(trainset, batch_size=25, sampler=torch.utils.data.SubsetRandomSampler(train_indices))\n",
        "testloader = torch.utils.data.DataLoader(testset, batch_size=2000, sampler=torch.utils.data.SubsetRandomSampler(test_indices))"
      ],
      "metadata": {
        "id": "HloGfVd9x-zw"
      },
      "execution_count": 8,
      "outputs": []
    },
    {
      "cell_type": "code",
      "source": [
        "train_data = []\n",
        "train_labels = []\n",
        "test_data = []\n",
        "test_labels = []\n",
        "\n",
        "for images, labels in trainloader:\n",
        "    for image, label in zip(images, labels):\n",
        "        train_data.append(image.numpy().flatten())\n",
        "        train_labels.append(label.item())\n",
        "\n",
        "for images, labels in testloader:\n",
        "    for image, label in zip(images, labels):\n",
        "        test_data.append(image.numpy().flatten())\n",
        "        test_labels.append(label.item())"
      ],
      "metadata": {
        "id": "XymWTPQcyCJA"
      },
      "execution_count": 9,
      "outputs": []
    },
    {
      "cell_type": "code",
      "source": [
        "train_data = np.array(train_data)\n",
        "train_labels = np.array(train_labels)\n",
        "test_data = np.array(test_data)\n",
        "test_labels = np.array(test_labels)\n",
        "\n",
        "train_remapped = np.array([class_mapping[label] for label in train_labels])\n",
        "test_remapped = np.array([class_mapping[label] for label in test_labels])"
      ],
      "metadata": {
        "id": "qI1e7kNHyLJz"
      },
      "execution_count": 10,
      "outputs": []
    },
    {
      "cell_type": "code",
      "source": [
        "pca = PCA(n_components=0.70)\n",
        "X_train_pca = pca.fit_transform(np.array(train_data))\n",
        "X_test_pca = pca.transform(np.array(test_data))"
      ],
      "metadata": {
        "id": "1vYml3vJyN1O"
      },
      "execution_count": 11,
      "outputs": []
    },
    {
      "cell_type": "code",
      "source": [
        "X_train, X_val, y_train, y_val = train_test_split(X_train_pca, np.array(train_remapped), test_size=0.2, stratify=train_remapped)"
      ],
      "metadata": {
        "id": "e6dyBUbTyQC0"
      },
      "execution_count": 12,
      "outputs": []
    },
    {
      "cell_type": "code",
      "source": [
        "def objective(space):\n",
        "    model = XGBClassifier(\n",
        "        n_estimators=int(space['n_estimators']),\n",
        "        max_depth=int(space['max_depth']),\n",
        "        learning_rate=space['learning_rate'],\n",
        "        subsample=space['subsample'],\n",
        "        colsample_bytree=space['colsample_bytree'],\n",
        "        reg_lambda=space['lambda'],\n",
        "        objective='multi:softmax',\n",
        "        eval_metric='mlogloss',\n",
        "        use_label_encoder=False,\n",
        "        num_class=2,  # Make sure this is correctly set\n",
        "        tree_method='gpu_hist',\n",
        "        device='gpu',  # Updated from gpu_id to device\n",
        "        seed=42,\n",
        "        early_stopping_rounds=10  # Moved here as per deprecation warning\n",
        "    )\n",
        "\n",
        "    eval_set = [(X_val, y_val)]\n",
        "    model.fit(X_train, y_train, eval_set=eval_set, verbose=False)\n",
        "\n",
        "    predictions = model.predict(X_val)\n",
        "    accuracy = accuracy_score(y_val, predictions)\n",
        "    return {'loss': -accuracy, 'status': STATUS_OK}"
      ],
      "metadata": {
        "id": "8VqQr4ShyUbv"
      },
      "execution_count": 13,
      "outputs": []
    },
    {
      "cell_type": "code",
      "source": [
        "space = {\n",
        "    'n_estimators': hp.quniform('n_estimators', 50, 300, 25),  # Widen the range to allow more trees\n",
        "    'max_depth': hp.choice('max_depth', [3, 4, 5, 6, 7]),  # Narrow down based on typical good performers\n",
        "    'learning_rate': hp.uniform('learning_rate', 0.01, 0.2),  # Focus on a range that's typically more effective\n",
        "    'subsample': hp.uniform('subsample', 0.5, 1.0),  # Narrow to focus on higher subsampling rates\n",
        "    'colsample_bytree': hp.uniform('colsample_bytree', 0.4, 0.8),  # Adjust to focus on a moderate range\n",
        "    'lambda': hp.uniform('lambda', 0.5, 2),  # Broaden to explore the impact of regularization more\n",
        "}\n"
      ],
      "metadata": {
        "id": "ReQ3YJPjyp4s"
      },
      "execution_count": 14,
      "outputs": []
    },
    {
      "cell_type": "code",
      "source": [
        "trials = Trials()\n",
        "best_hyperparams = fmin(fn=objective,\n",
        "                        space=space,\n",
        "                        algo=tpe.suggest,\n",
        "                        max_evals=100,\n",
        "                        trials=trials)\n",
        "\n",
        "print(f\"Best hyperparameters: {best_hyperparams}\")"
      ],
      "metadata": {
        "colab": {
          "base_uri": "https://localhost:8080/"
        },
        "id": "-yJNe-2wyt4Q",
        "outputId": "795988e4-5242-4879-8b43-cb2bddb9b902"
      },
      "execution_count": 15,
      "outputs": [
        {
          "output_type": "stream",
          "name": "stdout",
          "text": [
            "\r  0%|          | 0/100 [00:00<?, ?trial/s, best loss=?]"
          ]
        },
        {
          "output_type": "stream",
          "name": "stderr",
          "text": [
            "/usr/local/lib/python3.10/dist-packages/xgboost/core.py:160: UserWarning: [12:04:42] WARNING: /workspace/src/common/error_msg.cc:27: The tree method `gpu_hist` is deprecated since 2.0.0. To use GPU training, set the `device` parameter to CUDA instead.\n",
            "\n",
            "    E.g. tree_method = \"hist\", device = \"cuda\"\n",
            "\n",
            "  warnings.warn(smsg, UserWarning)\n",
            "\n"
          ]
        },
        {
          "output_type": "stream",
          "name": "stdout",
          "text": [
            "  2%|▏         | 2/100 [00:00<00:28,  3.38trial/s, best loss: -0.8]"
          ]
        },
        {
          "output_type": "stream",
          "name": "stderr",
          "text": [
            "/usr/local/lib/python3.10/dist-packages/xgboost/core.py:160: UserWarning: [12:04:43] WARNING: /workspace/src/common/error_msg.cc:27: The tree method `gpu_hist` is deprecated since 2.0.0. To use GPU training, set the `device` parameter to CUDA instead.\n",
            "\n",
            "    E.g. tree_method = \"hist\", device = \"cuda\"\n",
            "\n",
            "  warnings.warn(smsg, UserWarning)\n",
            "\n",
            "/usr/local/lib/python3.10/dist-packages/xgboost/core.py:160: UserWarning: [12:04:43] WARNING: /workspace/src/common/error_msg.cc:58: Falling back to prediction using DMatrix due to mismatched devices. This might lead to higher memory usage and slower performance. XGBoost is running on: cuda:0, while the input data is on: cpu.\n",
            "Potential solutions:\n",
            "- Use a data structure that matches the device ordinal in the booster.\n",
            "- Set the device for booster before call to inplace_predict.\n",
            "\n",
            "This warning will only be shown once.\n",
            "\n",
            "  warnings.warn(smsg, UserWarning)\n",
            "\n",
            "/usr/local/lib/python3.10/dist-packages/xgboost/core.py:160: UserWarning: [12:04:43] WARNING: /workspace/src/common/error_msg.cc:27: The tree method `gpu_hist` is deprecated since 2.0.0. To use GPU training, set the `device` parameter to CUDA instead.\n",
            "\n",
            "    E.g. tree_method = \"hist\", device = \"cuda\"\n",
            "\n",
            "  warnings.warn(smsg, UserWarning)\n",
            "\n",
            "/usr/local/lib/python3.10/dist-packages/xgboost/core.py:160: UserWarning: [12:04:43] WARNING: /workspace/src/common/error_msg.cc:27: The tree method `gpu_hist` is deprecated since 2.0.0. To use GPU training, set the `device` parameter to CUDA instead.\n",
            "\n",
            "    E.g. tree_method = \"hist\", device = \"cuda\"\n",
            "\n",
            "  warnings.warn(smsg, UserWarning)\n",
            "\n"
          ]
        },
        {
          "output_type": "stream",
          "name": "stdout",
          "text": [
            "  5%|▌         | 5/100 [00:01<00:14,  6.73trial/s, best loss: -1.0]"
          ]
        },
        {
          "output_type": "stream",
          "name": "stderr",
          "text": [
            "/usr/local/lib/python3.10/dist-packages/xgboost/core.py:160: UserWarning: [12:04:43] WARNING: /workspace/src/common/error_msg.cc:27: The tree method `gpu_hist` is deprecated since 2.0.0. To use GPU training, set the `device` parameter to CUDA instead.\n",
            "\n",
            "    E.g. tree_method = \"hist\", device = \"cuda\"\n",
            "\n",
            "  warnings.warn(smsg, UserWarning)\n",
            "\n",
            "/usr/local/lib/python3.10/dist-packages/xgboost/core.py:160: UserWarning: [12:04:43] WARNING: /workspace/src/common/error_msg.cc:27: The tree method `gpu_hist` is deprecated since 2.0.0. To use GPU training, set the `device` parameter to CUDA instead.\n",
            "\n",
            "    E.g. tree_method = \"hist\", device = \"cuda\"\n",
            "\n",
            "  warnings.warn(smsg, UserWarning)\n",
            "\n",
            "/usr/local/lib/python3.10/dist-packages/xgboost/core.py:160: UserWarning: [12:04:43] WARNING: /workspace/src/common/error_msg.cc:27: The tree method `gpu_hist` is deprecated since 2.0.0. To use GPU training, set the `device` parameter to CUDA instead.\n",
            "\n",
            "    E.g. tree_method = \"hist\", device = \"cuda\"\n",
            "\n",
            "  warnings.warn(smsg, UserWarning)\n",
            "\n"
          ]
        },
        {
          "output_type": "stream",
          "name": "stdout",
          "text": [
            "\r  6%|▌         | 6/100 [00:01<00:15,  5.98trial/s, best loss: -1.0]"
          ]
        },
        {
          "output_type": "stream",
          "name": "stderr",
          "text": [
            "/usr/local/lib/python3.10/dist-packages/xgboost/core.py:160: UserWarning: [12:04:43] WARNING: /workspace/src/common/error_msg.cc:27: The tree method `gpu_hist` is deprecated since 2.0.0. To use GPU training, set the `device` parameter to CUDA instead.\n",
            "\n",
            "    E.g. tree_method = \"hist\", device = \"cuda\"\n",
            "\n",
            "  warnings.warn(smsg, UserWarning)\n",
            "\n"
          ]
        },
        {
          "output_type": "stream",
          "name": "stdout",
          "text": [
            "  8%|▊         | 8/100 [00:01<00:18,  4.90trial/s, best loss: -1.0]"
          ]
        },
        {
          "output_type": "stream",
          "name": "stderr",
          "text": [
            "/usr/local/lib/python3.10/dist-packages/xgboost/core.py:160: UserWarning: [12:04:44] WARNING: /workspace/src/common/error_msg.cc:27: The tree method `gpu_hist` is deprecated since 2.0.0. To use GPU training, set the `device` parameter to CUDA instead.\n",
            "\n",
            "    E.g. tree_method = \"hist\", device = \"cuda\"\n",
            "\n",
            "  warnings.warn(smsg, UserWarning)\n",
            "\n",
            "/usr/local/lib/python3.10/dist-packages/xgboost/core.py:160: UserWarning: [12:04:44] WARNING: /workspace/src/common/error_msg.cc:27: The tree method `gpu_hist` is deprecated since 2.0.0. To use GPU training, set the `device` parameter to CUDA instead.\n",
            "\n",
            "    E.g. tree_method = \"hist\", device = \"cuda\"\n",
            "\n",
            "  warnings.warn(smsg, UserWarning)\n",
            "\n",
            "/usr/local/lib/python3.10/dist-packages/xgboost/core.py:160: UserWarning: [12:04:44] WARNING: /workspace/src/common/error_msg.cc:27: The tree method `gpu_hist` is deprecated since 2.0.0. To use GPU training, set the `device` parameter to CUDA instead.\n",
            "\n",
            "    E.g. tree_method = \"hist\", device = \"cuda\"\n",
            "\n",
            "  warnings.warn(smsg, UserWarning)\n",
            "\n"
          ]
        },
        {
          "output_type": "stream",
          "name": "stdout",
          "text": [
            "\r 10%|█         | 10/100 [00:01<00:14,  6.25trial/s, best loss: -1.0]"
          ]
        },
        {
          "output_type": "stream",
          "name": "stderr",
          "text": [
            "/usr/local/lib/python3.10/dist-packages/xgboost/core.py:160: UserWarning: [12:04:44] WARNING: /workspace/src/common/error_msg.cc:27: The tree method `gpu_hist` is deprecated since 2.0.0. To use GPU training, set the `device` parameter to CUDA instead.\n",
            "\n",
            "    E.g. tree_method = \"hist\", device = \"cuda\"\n",
            "\n",
            "  warnings.warn(smsg, UserWarning)\n",
            "\n",
            "/usr/local/lib/python3.10/dist-packages/xgboost/core.py:160: UserWarning: [12:04:44] WARNING: /workspace/src/common/error_msg.cc:27: The tree method `gpu_hist` is deprecated since 2.0.0. To use GPU training, set the `device` parameter to CUDA instead.\n",
            "\n",
            "    E.g. tree_method = \"hist\", device = \"cuda\"\n",
            "\n",
            "  warnings.warn(smsg, UserWarning)\n",
            "\n"
          ]
        },
        {
          "output_type": "stream",
          "name": "stdout",
          "text": [
            "\r 11%|█         | 11/100 [00:02<00:12,  6.85trial/s, best loss: -1.0]"
          ]
        },
        {
          "output_type": "stream",
          "name": "stderr",
          "text": [
            "/usr/local/lib/python3.10/dist-packages/xgboost/core.py:160: UserWarning: [12:04:44] WARNING: /workspace/src/common/error_msg.cc:27: The tree method `gpu_hist` is deprecated since 2.0.0. To use GPU training, set the `device` parameter to CUDA instead.\n",
            "\n",
            "    E.g. tree_method = \"hist\", device = \"cuda\"\n",
            "\n",
            "  warnings.warn(smsg, UserWarning)\n",
            "\n",
            "/usr/local/lib/python3.10/dist-packages/xgboost/core.py:160: UserWarning: [12:04:44] WARNING: /workspace/src/common/error_msg.cc:27: The tree method `gpu_hist` is deprecated since 2.0.0. To use GPU training, set the `device` parameter to CUDA instead.\n",
            "\n",
            "    E.g. tree_method = \"hist\", device = \"cuda\"\n",
            "\n",
            "  warnings.warn(smsg, UserWarning)\n",
            "\n"
          ]
        },
        {
          "output_type": "stream",
          "name": "stdout",
          "text": [
            "\r 13%|█▎        | 13/100 [00:02<00:15,  5.75trial/s, best loss: -1.0]"
          ]
        },
        {
          "output_type": "stream",
          "name": "stderr",
          "text": [
            "/usr/local/lib/python3.10/dist-packages/xgboost/core.py:160: UserWarning: [12:04:44] WARNING: /workspace/src/common/error_msg.cc:27: The tree method `gpu_hist` is deprecated since 2.0.0. To use GPU training, set the `device` parameter to CUDA instead.\n",
            "\n",
            "    E.g. tree_method = \"hist\", device = \"cuda\"\n",
            "\n",
            "  warnings.warn(smsg, UserWarning)\n",
            "\n",
            "/usr/local/lib/python3.10/dist-packages/xgboost/core.py:160: UserWarning: [12:04:45] WARNING: /workspace/src/common/error_msg.cc:27: The tree method `gpu_hist` is deprecated since 2.0.0. To use GPU training, set the `device` parameter to CUDA instead.\n",
            "\n",
            "    E.g. tree_method = \"hist\", device = \"cuda\"\n",
            "\n",
            "  warnings.warn(smsg, UserWarning)\n",
            "\n",
            "/usr/local/lib/python3.10/dist-packages/xgboost/core.py:160: UserWarning: [12:04:45] WARNING: /workspace/src/common/error_msg.cc:27: The tree method `gpu_hist` is deprecated since 2.0.0. To use GPU training, set the `device` parameter to CUDA instead.\n",
            "\n",
            "    E.g. tree_method = \"hist\", device = \"cuda\"\n",
            "\n",
            "  warnings.warn(smsg, UserWarning)\n",
            "\n"
          ]
        },
        {
          "output_type": "stream",
          "name": "stdout",
          "text": [
            " 16%|█▌        | 16/100 [00:03<00:14,  5.96trial/s, best loss: -1.0]"
          ]
        },
        {
          "output_type": "stream",
          "name": "stderr",
          "text": [
            "/usr/local/lib/python3.10/dist-packages/xgboost/core.py:160: UserWarning: [12:04:45] WARNING: /workspace/src/common/error_msg.cc:27: The tree method `gpu_hist` is deprecated since 2.0.0. To use GPU training, set the `device` parameter to CUDA instead.\n",
            "\n",
            "    E.g. tree_method = \"hist\", device = \"cuda\"\n",
            "\n",
            "  warnings.warn(smsg, UserWarning)\n",
            "\n",
            "/usr/local/lib/python3.10/dist-packages/xgboost/core.py:160: UserWarning: [12:04:45] WARNING: /workspace/src/common/error_msg.cc:27: The tree method `gpu_hist` is deprecated since 2.0.0. To use GPU training, set the `device` parameter to CUDA instead.\n",
            "\n",
            "    E.g. tree_method = \"hist\", device = \"cuda\"\n",
            "\n",
            "  warnings.warn(smsg, UserWarning)\n",
            "\n",
            "/usr/local/lib/python3.10/dist-packages/xgboost/core.py:160: UserWarning: [12:04:45] WARNING: /workspace/src/common/error_msg.cc:27: The tree method `gpu_hist` is deprecated since 2.0.0. To use GPU training, set the `device` parameter to CUDA instead.\n",
            "\n",
            "    E.g. tree_method = \"hist\", device = \"cuda\"\n",
            "\n",
            "  warnings.warn(smsg, UserWarning)\n",
            "\n"
          ]
        },
        {
          "output_type": "stream",
          "name": "stdout",
          "text": [
            " 19%|█▉        | 19/100 [00:03<00:12,  6.51trial/s, best loss: -1.0]"
          ]
        },
        {
          "output_type": "stream",
          "name": "stderr",
          "text": [
            "/usr/local/lib/python3.10/dist-packages/xgboost/core.py:160: UserWarning: [12:04:45] WARNING: /workspace/src/common/error_msg.cc:27: The tree method `gpu_hist` is deprecated since 2.0.0. To use GPU training, set the `device` parameter to CUDA instead.\n",
            "\n",
            "    E.g. tree_method = \"hist\", device = \"cuda\"\n",
            "\n",
            "  warnings.warn(smsg, UserWarning)\n",
            "\n",
            "/usr/local/lib/python3.10/dist-packages/xgboost/core.py:160: UserWarning: [12:04:45] WARNING: /workspace/src/common/error_msg.cc:27: The tree method `gpu_hist` is deprecated since 2.0.0. To use GPU training, set the `device` parameter to CUDA instead.\n",
            "\n",
            "    E.g. tree_method = \"hist\", device = \"cuda\"\n",
            "\n",
            "  warnings.warn(smsg, UserWarning)\n",
            "\n"
          ]
        },
        {
          "output_type": "stream",
          "name": "stdout",
          "text": [
            "\r 20%|██        | 20/100 [00:03<00:11,  6.98trial/s, best loss: -1.0]"
          ]
        },
        {
          "output_type": "stream",
          "name": "stderr",
          "text": [
            "/usr/local/lib/python3.10/dist-packages/xgboost/core.py:160: UserWarning: [12:04:46] WARNING: /workspace/src/common/error_msg.cc:27: The tree method `gpu_hist` is deprecated since 2.0.0. To use GPU training, set the `device` parameter to CUDA instead.\n",
            "\n",
            "    E.g. tree_method = \"hist\", device = \"cuda\"\n",
            "\n",
            "  warnings.warn(smsg, UserWarning)\n",
            "\n",
            "/usr/local/lib/python3.10/dist-packages/xgboost/core.py:160: UserWarning: [12:04:46] WARNING: /workspace/src/common/error_msg.cc:27: The tree method `gpu_hist` is deprecated since 2.0.0. To use GPU training, set the `device` parameter to CUDA instead.\n",
            "\n",
            "    E.g. tree_method = \"hist\", device = \"cuda\"\n",
            "\n",
            "  warnings.warn(smsg, UserWarning)\n",
            "\n"
          ]
        },
        {
          "output_type": "stream",
          "name": "stdout",
          "text": [
            " 22%|██▏       | 22/100 [00:03<00:11,  6.77trial/s, best loss: -1.0]"
          ]
        },
        {
          "output_type": "stream",
          "name": "stderr",
          "text": [
            "/usr/local/lib/python3.10/dist-packages/xgboost/core.py:160: UserWarning: [12:04:46] WARNING: /workspace/src/common/error_msg.cc:27: The tree method `gpu_hist` is deprecated since 2.0.0. To use GPU training, set the `device` parameter to CUDA instead.\n",
            "\n",
            "    E.g. tree_method = \"hist\", device = \"cuda\"\n",
            "\n",
            "  warnings.warn(smsg, UserWarning)\n",
            "\n",
            "/usr/local/lib/python3.10/dist-packages/xgboost/core.py:160: UserWarning: [12:04:46] WARNING: /workspace/src/common/error_msg.cc:27: The tree method `gpu_hist` is deprecated since 2.0.0. To use GPU training, set the `device` parameter to CUDA instead.\n",
            "\n",
            "    E.g. tree_method = \"hist\", device = \"cuda\"\n",
            "\n",
            "  warnings.warn(smsg, UserWarning)\n",
            "\n"
          ]
        },
        {
          "output_type": "stream",
          "name": "stdout",
          "text": [
            " 24%|██▍       | 24/100 [00:04<00:10,  7.27trial/s, best loss: -1.0]"
          ]
        },
        {
          "output_type": "stream",
          "name": "stderr",
          "text": [
            "/usr/local/lib/python3.10/dist-packages/xgboost/core.py:160: UserWarning: [12:04:46] WARNING: /workspace/src/common/error_msg.cc:27: The tree method `gpu_hist` is deprecated since 2.0.0. To use GPU training, set the `device` parameter to CUDA instead.\n",
            "\n",
            "    E.g. tree_method = \"hist\", device = \"cuda\"\n",
            "\n",
            "  warnings.warn(smsg, UserWarning)\n",
            "\n",
            "/usr/local/lib/python3.10/dist-packages/xgboost/core.py:160: UserWarning: [12:04:46] WARNING: /workspace/src/common/error_msg.cc:27: The tree method `gpu_hist` is deprecated since 2.0.0. To use GPU training, set the `device` parameter to CUDA instead.\n",
            "\n",
            "    E.g. tree_method = \"hist\", device = \"cuda\"\n",
            "\n",
            "  warnings.warn(smsg, UserWarning)\n",
            "\n"
          ]
        },
        {
          "output_type": "stream",
          "name": "stdout",
          "text": [
            " 26%|██▌       | 26/100 [00:04<00:10,  6.95trial/s, best loss: -1.0]"
          ]
        },
        {
          "output_type": "stream",
          "name": "stderr",
          "text": [
            "/usr/local/lib/python3.10/dist-packages/xgboost/core.py:160: UserWarning: [12:04:46] WARNING: /workspace/src/common/error_msg.cc:27: The tree method `gpu_hist` is deprecated since 2.0.0. To use GPU training, set the `device` parameter to CUDA instead.\n",
            "\n",
            "    E.g. tree_method = \"hist\", device = \"cuda\"\n",
            "\n",
            "  warnings.warn(smsg, UserWarning)\n",
            "\n",
            "/usr/local/lib/python3.10/dist-packages/xgboost/core.py:160: UserWarning: [12:04:46] WARNING: /workspace/src/common/error_msg.cc:27: The tree method `gpu_hist` is deprecated since 2.0.0. To use GPU training, set the `device` parameter to CUDA instead.\n",
            "\n",
            "    E.g. tree_method = \"hist\", device = \"cuda\"\n",
            "\n",
            "  warnings.warn(smsg, UserWarning)\n",
            "\n"
          ]
        },
        {
          "output_type": "stream",
          "name": "stdout",
          "text": [
            "\r 27%|██▋       | 27/100 [00:04<00:13,  5.38trial/s, best loss: -1.0]"
          ]
        },
        {
          "output_type": "stream",
          "name": "stderr",
          "text": [
            "/usr/local/lib/python3.10/dist-packages/xgboost/core.py:160: UserWarning: [12:04:47] WARNING: /workspace/src/common/error_msg.cc:27: The tree method `gpu_hist` is deprecated since 2.0.0. To use GPU training, set the `device` parameter to CUDA instead.\n",
            "\n",
            "    E.g. tree_method = \"hist\", device = \"cuda\"\n",
            "\n",
            "  warnings.warn(smsg, UserWarning)\n",
            "\n",
            "/usr/local/lib/python3.10/dist-packages/xgboost/core.py:160: UserWarning: [12:04:47] WARNING: /workspace/src/common/error_msg.cc:27: The tree method `gpu_hist` is deprecated since 2.0.0. To use GPU training, set the `device` parameter to CUDA instead.\n",
            "\n",
            "    E.g. tree_method = \"hist\", device = \"cuda\"\n",
            "\n",
            "  warnings.warn(smsg, UserWarning)\n",
            "\n"
          ]
        },
        {
          "output_type": "stream",
          "name": "stdout",
          "text": [
            " 29%|██▉       | 29/100 [00:05<00:13,  5.38trial/s, best loss: -1.0]"
          ]
        },
        {
          "output_type": "stream",
          "name": "stderr",
          "text": [
            "/usr/local/lib/python3.10/dist-packages/xgboost/core.py:160: UserWarning: [12:04:47] WARNING: /workspace/src/common/error_msg.cc:27: The tree method `gpu_hist` is deprecated since 2.0.0. To use GPU training, set the `device` parameter to CUDA instead.\n",
            "\n",
            "    E.g. tree_method = \"hist\", device = \"cuda\"\n",
            "\n",
            "  warnings.warn(smsg, UserWarning)\n",
            "\n",
            "/usr/local/lib/python3.10/dist-packages/xgboost/core.py:160: UserWarning: [12:04:47] WARNING: /workspace/src/common/error_msg.cc:27: The tree method `gpu_hist` is deprecated since 2.0.0. To use GPU training, set the `device` parameter to CUDA instead.\n",
            "\n",
            "    E.g. tree_method = \"hist\", device = \"cuda\"\n",
            "\n",
            "  warnings.warn(smsg, UserWarning)\n",
            "\n"
          ]
        },
        {
          "output_type": "stream",
          "name": "stdout",
          "text": [
            "\r 30%|███       | 30/100 [00:05<00:14,  4.97trial/s, best loss: -1.0]"
          ]
        },
        {
          "output_type": "stream",
          "name": "stderr",
          "text": [
            "/usr/local/lib/python3.10/dist-packages/xgboost/core.py:160: UserWarning: [12:04:47] WARNING: /workspace/src/common/error_msg.cc:27: The tree method `gpu_hist` is deprecated since 2.0.0. To use GPU training, set the `device` parameter to CUDA instead.\n",
            "\n",
            "    E.g. tree_method = \"hist\", device = \"cuda\"\n",
            "\n",
            "  warnings.warn(smsg, UserWarning)\n",
            "\n",
            "/usr/local/lib/python3.10/dist-packages/xgboost/core.py:160: UserWarning: [12:04:47] WARNING: /workspace/src/common/error_msg.cc:27: The tree method `gpu_hist` is deprecated since 2.0.0. To use GPU training, set the `device` parameter to CUDA instead.\n",
            "\n",
            "    E.g. tree_method = \"hist\", device = \"cuda\"\n",
            "\n",
            "  warnings.warn(smsg, UserWarning)\n",
            "\n"
          ]
        },
        {
          "output_type": "stream",
          "name": "stdout",
          "text": [
            "\r 32%|███▏      | 32/100 [00:05<00:15,  4.26trial/s, best loss: -1.0]"
          ]
        },
        {
          "output_type": "stream",
          "name": "stderr",
          "text": [
            "/usr/local/lib/python3.10/dist-packages/xgboost/core.py:160: UserWarning: [12:04:48] WARNING: /workspace/src/common/error_msg.cc:27: The tree method `gpu_hist` is deprecated since 2.0.0. To use GPU training, set the `device` parameter to CUDA instead.\n",
            "\n",
            "    E.g. tree_method = \"hist\", device = \"cuda\"\n",
            "\n",
            "  warnings.warn(smsg, UserWarning)\n",
            "\n",
            "/usr/local/lib/python3.10/dist-packages/xgboost/core.py:160: UserWarning: [12:04:48] WARNING: /workspace/src/common/error_msg.cc:27: The tree method `gpu_hist` is deprecated since 2.0.0. To use GPU training, set the `device` parameter to CUDA instead.\n",
            "\n",
            "    E.g. tree_method = \"hist\", device = \"cuda\"\n",
            "\n",
            "  warnings.warn(smsg, UserWarning)\n",
            "\n"
          ]
        },
        {
          "output_type": "stream",
          "name": "stdout",
          "text": [
            " 34%|███▍      | 34/100 [00:06<00:13,  4.72trial/s, best loss: -1.0]"
          ]
        },
        {
          "output_type": "stream",
          "name": "stderr",
          "text": [
            "/usr/local/lib/python3.10/dist-packages/xgboost/core.py:160: UserWarning: [12:04:48] WARNING: /workspace/src/common/error_msg.cc:27: The tree method `gpu_hist` is deprecated since 2.0.0. To use GPU training, set the `device` parameter to CUDA instead.\n",
            "\n",
            "    E.g. tree_method = \"hist\", device = \"cuda\"\n",
            "\n",
            "  warnings.warn(smsg, UserWarning)\n",
            "\n",
            "/usr/local/lib/python3.10/dist-packages/xgboost/core.py:160: UserWarning: [12:04:48] WARNING: /workspace/src/common/error_msg.cc:27: The tree method `gpu_hist` is deprecated since 2.0.0. To use GPU training, set the `device` parameter to CUDA instead.\n",
            "\n",
            "    E.g. tree_method = \"hist\", device = \"cuda\"\n",
            "\n",
            "  warnings.warn(smsg, UserWarning)\n",
            "\n"
          ]
        },
        {
          "output_type": "stream",
          "name": "stdout",
          "text": [
            " 36%|███▌      | 36/100 [00:06<00:12,  5.31trial/s, best loss: -1.0]"
          ]
        },
        {
          "output_type": "stream",
          "name": "stderr",
          "text": [
            "/usr/local/lib/python3.10/dist-packages/xgboost/core.py:160: UserWarning: [12:04:48] WARNING: /workspace/src/common/error_msg.cc:27: The tree method `gpu_hist` is deprecated since 2.0.0. To use GPU training, set the `device` parameter to CUDA instead.\n",
            "\n",
            "    E.g. tree_method = \"hist\", device = \"cuda\"\n",
            "\n",
            "  warnings.warn(smsg, UserWarning)\n",
            "\n",
            "/usr/local/lib/python3.10/dist-packages/xgboost/core.py:160: UserWarning: [12:04:49] WARNING: /workspace/src/common/error_msg.cc:27: The tree method `gpu_hist` is deprecated since 2.0.0. To use GPU training, set the `device` parameter to CUDA instead.\n",
            "\n",
            "    E.g. tree_method = \"hist\", device = \"cuda\"\n",
            "\n",
            "  warnings.warn(smsg, UserWarning)\n",
            "\n"
          ]
        },
        {
          "output_type": "stream",
          "name": "stdout",
          "text": [
            "\r 37%|███▋      | 37/100 [00:06<00:12,  5.24trial/s, best loss: -1.0]"
          ]
        },
        {
          "output_type": "stream",
          "name": "stderr",
          "text": [
            "/usr/local/lib/python3.10/dist-packages/xgboost/core.py:160: UserWarning: [12:04:49] WARNING: /workspace/src/common/error_msg.cc:27: The tree method `gpu_hist` is deprecated since 2.0.0. To use GPU training, set the `device` parameter to CUDA instead.\n",
            "\n",
            "    E.g. tree_method = \"hist\", device = \"cuda\"\n",
            "\n",
            "  warnings.warn(smsg, UserWarning)\n",
            "\n",
            "/usr/local/lib/python3.10/dist-packages/xgboost/core.py:160: UserWarning: [12:04:49] WARNING: /workspace/src/common/error_msg.cc:27: The tree method `gpu_hist` is deprecated since 2.0.0. To use GPU training, set the `device` parameter to CUDA instead.\n",
            "\n",
            "    E.g. tree_method = \"hist\", device = \"cuda\"\n",
            "\n",
            "  warnings.warn(smsg, UserWarning)\n",
            "\n"
          ]
        },
        {
          "output_type": "stream",
          "name": "stdout",
          "text": [
            "\r 38%|███▊      | 38/100 [00:06<00:10,  5.71trial/s, best loss: -1.0]"
          ]
        },
        {
          "output_type": "stream",
          "name": "stderr",
          "text": [
            "/usr/local/lib/python3.10/dist-packages/xgboost/core.py:160: UserWarning: [12:04:49] WARNING: /workspace/src/common/error_msg.cc:27: The tree method `gpu_hist` is deprecated since 2.0.0. To use GPU training, set the `device` parameter to CUDA instead.\n",
            "\n",
            "    E.g. tree_method = \"hist\", device = \"cuda\"\n",
            "\n",
            "  warnings.warn(smsg, UserWarning)\n",
            "\n"
          ]
        },
        {
          "output_type": "stream",
          "name": "stdout",
          "text": [
            "\r 39%|███▉      | 39/100 [00:07<00:14,  4.29trial/s, best loss: -1.0]"
          ]
        },
        {
          "output_type": "stream",
          "name": "stderr",
          "text": [
            "/usr/local/lib/python3.10/dist-packages/xgboost/core.py:160: UserWarning: [12:04:49] WARNING: /workspace/src/common/error_msg.cc:27: The tree method `gpu_hist` is deprecated since 2.0.0. To use GPU training, set the `device` parameter to CUDA instead.\n",
            "\n",
            "    E.g. tree_method = \"hist\", device = \"cuda\"\n",
            "\n",
            "  warnings.warn(smsg, UserWarning)\n",
            "\n"
          ]
        },
        {
          "output_type": "stream",
          "name": "stdout",
          "text": [
            " 41%|████      | 41/100 [00:07<00:12,  4.84trial/s, best loss: -1.0]"
          ]
        },
        {
          "output_type": "stream",
          "name": "stderr",
          "text": [
            "/usr/local/lib/python3.10/dist-packages/xgboost/core.py:160: UserWarning: [12:04:50] WARNING: /workspace/src/common/error_msg.cc:27: The tree method `gpu_hist` is deprecated since 2.0.0. To use GPU training, set the `device` parameter to CUDA instead.\n",
            "\n",
            "    E.g. tree_method = \"hist\", device = \"cuda\"\n",
            "\n",
            "  warnings.warn(smsg, UserWarning)\n",
            "\n",
            "/usr/local/lib/python3.10/dist-packages/xgboost/core.py:160: UserWarning: [12:04:50] WARNING: /workspace/src/common/error_msg.cc:27: The tree method `gpu_hist` is deprecated since 2.0.0. To use GPU training, set the `device` parameter to CUDA instead.\n",
            "\n",
            "    E.g. tree_method = \"hist\", device = \"cuda\"\n",
            "\n",
            "  warnings.warn(smsg, UserWarning)\n",
            "\n"
          ]
        },
        {
          "output_type": "stream",
          "name": "stdout",
          "text": [
            "\r 42%|████▏     | 42/100 [00:07<00:10,  5.31trial/s, best loss: -1.0]"
          ]
        },
        {
          "output_type": "stream",
          "name": "stderr",
          "text": [
            "/usr/local/lib/python3.10/dist-packages/xgboost/core.py:160: UserWarning: [12:04:50] WARNING: /workspace/src/common/error_msg.cc:27: The tree method `gpu_hist` is deprecated since 2.0.0. To use GPU training, set the `device` parameter to CUDA instead.\n",
            "\n",
            "    E.g. tree_method = \"hist\", device = \"cuda\"\n",
            "\n",
            "  warnings.warn(smsg, UserWarning)\n",
            "\n",
            "/usr/local/lib/python3.10/dist-packages/xgboost/core.py:160: UserWarning: [12:04:50] WARNING: /workspace/src/common/error_msg.cc:27: The tree method `gpu_hist` is deprecated since 2.0.0. To use GPU training, set the `device` parameter to CUDA instead.\n",
            "\n",
            "    E.g. tree_method = \"hist\", device = \"cuda\"\n",
            "\n",
            "  warnings.warn(smsg, UserWarning)\n",
            "\n"
          ]
        },
        {
          "output_type": "stream",
          "name": "stdout",
          "text": [
            " 45%|████▌     | 45/100 [00:08<00:08,  6.29trial/s, best loss: -1.0]"
          ]
        },
        {
          "output_type": "stream",
          "name": "stderr",
          "text": [
            "/usr/local/lib/python3.10/dist-packages/xgboost/core.py:160: UserWarning: [12:04:50] WARNING: /workspace/src/common/error_msg.cc:27: The tree method `gpu_hist` is deprecated since 2.0.0. To use GPU training, set the `device` parameter to CUDA instead.\n",
            "\n",
            "    E.g. tree_method = \"hist\", device = \"cuda\"\n",
            "\n",
            "  warnings.warn(smsg, UserWarning)\n",
            "\n",
            "/usr/local/lib/python3.10/dist-packages/xgboost/core.py:160: UserWarning: [12:04:50] WARNING: /workspace/src/common/error_msg.cc:27: The tree method `gpu_hist` is deprecated since 2.0.0. To use GPU training, set the `device` parameter to CUDA instead.\n",
            "\n",
            "    E.g. tree_method = \"hist\", device = \"cuda\"\n",
            "\n",
            "  warnings.warn(smsg, UserWarning)\n",
            "\n"
          ]
        },
        {
          "output_type": "stream",
          "name": "stdout",
          "text": [
            "\r 46%|████▌     | 46/100 [00:08<00:11,  4.82trial/s, best loss: -1.0]"
          ]
        },
        {
          "output_type": "stream",
          "name": "stderr",
          "text": [
            "/usr/local/lib/python3.10/dist-packages/xgboost/core.py:160: UserWarning: [12:04:51] WARNING: /workspace/src/common/error_msg.cc:27: The tree method `gpu_hist` is deprecated since 2.0.0. To use GPU training, set the `device` parameter to CUDA instead.\n",
            "\n",
            "    E.g. tree_method = \"hist\", device = \"cuda\"\n",
            "\n",
            "  warnings.warn(smsg, UserWarning)\n",
            "\n",
            "/usr/local/lib/python3.10/dist-packages/xgboost/core.py:160: UserWarning: [12:04:51] WARNING: /workspace/src/common/error_msg.cc:27: The tree method `gpu_hist` is deprecated since 2.0.0. To use GPU training, set the `device` parameter to CUDA instead.\n",
            "\n",
            "    E.g. tree_method = \"hist\", device = \"cuda\"\n",
            "\n",
            "  warnings.warn(smsg, UserWarning)\n",
            "\n"
          ]
        },
        {
          "output_type": "stream",
          "name": "stdout",
          "text": [
            "\r 47%|████▋     | 47/100 [00:08<00:11,  4.61trial/s, best loss: -1.0]"
          ]
        },
        {
          "output_type": "stream",
          "name": "stderr",
          "text": [
            "/usr/local/lib/python3.10/dist-packages/xgboost/core.py:160: UserWarning: [12:04:51] WARNING: /workspace/src/common/error_msg.cc:27: The tree method `gpu_hist` is deprecated since 2.0.0. To use GPU training, set the `device` parameter to CUDA instead.\n",
            "\n",
            "    E.g. tree_method = \"hist\", device = \"cuda\"\n",
            "\n",
            "  warnings.warn(smsg, UserWarning)\n",
            "\n"
          ]
        },
        {
          "output_type": "stream",
          "name": "stdout",
          "text": [
            " 49%|████▉     | 49/100 [00:09<00:10,  4.69trial/s, best loss: -1.0]"
          ]
        },
        {
          "output_type": "stream",
          "name": "stderr",
          "text": [
            "/usr/local/lib/python3.10/dist-packages/xgboost/core.py:160: UserWarning: [12:04:51] WARNING: /workspace/src/common/error_msg.cc:27: The tree method `gpu_hist` is deprecated since 2.0.0. To use GPU training, set the `device` parameter to CUDA instead.\n",
            "\n",
            "    E.g. tree_method = \"hist\", device = \"cuda\"\n",
            "\n",
            "  warnings.warn(smsg, UserWarning)\n",
            "\n",
            "/usr/local/lib/python3.10/dist-packages/xgboost/core.py:160: UserWarning: [12:04:51] WARNING: /workspace/src/common/error_msg.cc:27: The tree method `gpu_hist` is deprecated since 2.0.0. To use GPU training, set the `device` parameter to CUDA instead.\n",
            "\n",
            "    E.g. tree_method = \"hist\", device = \"cuda\"\n",
            "\n",
            "  warnings.warn(smsg, UserWarning)\n",
            "\n"
          ]
        },
        {
          "output_type": "stream",
          "name": "stdout",
          "text": [
            " 51%|█████     | 51/100 [00:09<00:08,  5.72trial/s, best loss: -1.0]"
          ]
        },
        {
          "output_type": "stream",
          "name": "stderr",
          "text": [
            "/usr/local/lib/python3.10/dist-packages/xgboost/core.py:160: UserWarning: [12:04:51] WARNING: /workspace/src/common/error_msg.cc:27: The tree method `gpu_hist` is deprecated since 2.0.0. To use GPU training, set the `device` parameter to CUDA instead.\n",
            "\n",
            "    E.g. tree_method = \"hist\", device = \"cuda\"\n",
            "\n",
            "  warnings.warn(smsg, UserWarning)\n",
            "\n",
            "/usr/local/lib/python3.10/dist-packages/xgboost/core.py:160: UserWarning: [12:04:52] WARNING: /workspace/src/common/error_msg.cc:27: The tree method `gpu_hist` is deprecated since 2.0.0. To use GPU training, set the `device` parameter to CUDA instead.\n",
            "\n",
            "    E.g. tree_method = \"hist\", device = \"cuda\"\n",
            "\n",
            "  warnings.warn(smsg, UserWarning)\n",
            "\n"
          ]
        },
        {
          "output_type": "stream",
          "name": "stdout",
          "text": [
            " 53%|█████▎    | 53/100 [00:09<00:07,  6.53trial/s, best loss: -1.0]"
          ]
        },
        {
          "output_type": "stream",
          "name": "stderr",
          "text": [
            "/usr/local/lib/python3.10/dist-packages/xgboost/core.py:160: UserWarning: [12:04:52] WARNING: /workspace/src/common/error_msg.cc:27: The tree method `gpu_hist` is deprecated since 2.0.0. To use GPU training, set the `device` parameter to CUDA instead.\n",
            "\n",
            "    E.g. tree_method = \"hist\", device = \"cuda\"\n",
            "\n",
            "  warnings.warn(smsg, UserWarning)\n",
            "\n",
            "/usr/local/lib/python3.10/dist-packages/xgboost/core.py:160: UserWarning: [12:04:52] WARNING: /workspace/src/common/error_msg.cc:27: The tree method `gpu_hist` is deprecated since 2.0.0. To use GPU training, set the `device` parameter to CUDA instead.\n",
            "\n",
            "    E.g. tree_method = \"hist\", device = \"cuda\"\n",
            "\n",
            "  warnings.warn(smsg, UserWarning)\n",
            "\n",
            "/usr/local/lib/python3.10/dist-packages/xgboost/core.py:160: UserWarning: [12:04:52] WARNING: /workspace/src/common/error_msg.cc:27: The tree method `gpu_hist` is deprecated since 2.0.0. To use GPU training, set the `device` parameter to CUDA instead.\n",
            "\n",
            "    E.g. tree_method = \"hist\", device = \"cuda\"\n",
            "\n",
            "  warnings.warn(smsg, UserWarning)\n",
            "\n"
          ]
        },
        {
          "output_type": "stream",
          "name": "stdout",
          "text": [
            "\r 55%|█████▌    | 55/100 [00:09<00:05,  7.94trial/s, best loss: -1.0]"
          ]
        },
        {
          "output_type": "stream",
          "name": "stderr",
          "text": [
            "/usr/local/lib/python3.10/dist-packages/xgboost/core.py:160: UserWarning: [12:04:52] WARNING: /workspace/src/common/error_msg.cc:27: The tree method `gpu_hist` is deprecated since 2.0.0. To use GPU training, set the `device` parameter to CUDA instead.\n",
            "\n",
            "    E.g. tree_method = \"hist\", device = \"cuda\"\n",
            "\n",
            "  warnings.warn(smsg, UserWarning)\n",
            "\n"
          ]
        },
        {
          "output_type": "stream",
          "name": "stdout",
          "text": [
            " 57%|█████▋    | 57/100 [00:10<00:08,  5.08trial/s, best loss: -1.0]"
          ]
        },
        {
          "output_type": "stream",
          "name": "stderr",
          "text": [
            "/usr/local/lib/python3.10/dist-packages/xgboost/core.py:160: UserWarning: [12:04:52] WARNING: /workspace/src/common/error_msg.cc:27: The tree method `gpu_hist` is deprecated since 2.0.0. To use GPU training, set the `device` parameter to CUDA instead.\n",
            "\n",
            "    E.g. tree_method = \"hist\", device = \"cuda\"\n",
            "\n",
            "  warnings.warn(smsg, UserWarning)\n",
            "\n",
            "/usr/local/lib/python3.10/dist-packages/xgboost/core.py:160: UserWarning: [12:04:53] WARNING: /workspace/src/common/error_msg.cc:27: The tree method `gpu_hist` is deprecated since 2.0.0. To use GPU training, set the `device` parameter to CUDA instead.\n",
            "\n",
            "    E.g. tree_method = \"hist\", device = \"cuda\"\n",
            "\n",
            "  warnings.warn(smsg, UserWarning)\n",
            "\n"
          ]
        },
        {
          "output_type": "stream",
          "name": "stdout",
          "text": [
            "\r 58%|█████▊    | 58/100 [00:10<00:08,  5.18trial/s, best loss: -1.0]"
          ]
        },
        {
          "output_type": "stream",
          "name": "stderr",
          "text": [
            "/usr/local/lib/python3.10/dist-packages/xgboost/core.py:160: UserWarning: [12:04:53] WARNING: /workspace/src/common/error_msg.cc:27: The tree method `gpu_hist` is deprecated since 2.0.0. To use GPU training, set the `device` parameter to CUDA instead.\n",
            "\n",
            "    E.g. tree_method = \"hist\", device = \"cuda\"\n",
            "\n",
            "  warnings.warn(smsg, UserWarning)\n",
            "\n",
            "/usr/local/lib/python3.10/dist-packages/xgboost/core.py:160: UserWarning: [12:04:53] WARNING: /workspace/src/common/error_msg.cc:27: The tree method `gpu_hist` is deprecated since 2.0.0. To use GPU training, set the `device` parameter to CUDA instead.\n",
            "\n",
            "    E.g. tree_method = \"hist\", device = \"cuda\"\n",
            "\n",
            "  warnings.warn(smsg, UserWarning)\n",
            "\n"
          ]
        },
        {
          "output_type": "stream",
          "name": "stdout",
          "text": [
            " 60%|██████    | 60/100 [00:11<00:06,  6.11trial/s, best loss: -1.0]"
          ]
        },
        {
          "output_type": "stream",
          "name": "stderr",
          "text": [
            "/usr/local/lib/python3.10/dist-packages/xgboost/core.py:160: UserWarning: [12:04:53] WARNING: /workspace/src/common/error_msg.cc:27: The tree method `gpu_hist` is deprecated since 2.0.0. To use GPU training, set the `device` parameter to CUDA instead.\n",
            "\n",
            "    E.g. tree_method = \"hist\", device = \"cuda\"\n",
            "\n",
            "  warnings.warn(smsg, UserWarning)\n",
            "\n",
            "/usr/local/lib/python3.10/dist-packages/xgboost/core.py:160: UserWarning: [12:04:53] WARNING: /workspace/src/common/error_msg.cc:27: The tree method `gpu_hist` is deprecated since 2.0.0. To use GPU training, set the `device` parameter to CUDA instead.\n",
            "\n",
            "    E.g. tree_method = \"hist\", device = \"cuda\"\n",
            "\n",
            "  warnings.warn(smsg, UserWarning)\n",
            "\n"
          ]
        },
        {
          "output_type": "stream",
          "name": "stdout",
          "text": [
            "\r 61%|██████    | 61/100 [00:11<00:07,  5.55trial/s, best loss: -1.0]"
          ]
        },
        {
          "output_type": "stream",
          "name": "stderr",
          "text": [
            "/usr/local/lib/python3.10/dist-packages/xgboost/core.py:160: UserWarning: [12:04:53] WARNING: /workspace/src/common/error_msg.cc:27: The tree method `gpu_hist` is deprecated since 2.0.0. To use GPU training, set the `device` parameter to CUDA instead.\n",
            "\n",
            "    E.g. tree_method = \"hist\", device = \"cuda\"\n",
            "\n",
            "  warnings.warn(smsg, UserWarning)\n",
            "\n"
          ]
        },
        {
          "output_type": "stream",
          "name": "stdout",
          "text": [
            "\r 62%|██████▏   | 62/100 [00:11<00:08,  4.60trial/s, best loss: -1.0]"
          ]
        },
        {
          "output_type": "stream",
          "name": "stderr",
          "text": [
            "/usr/local/lib/python3.10/dist-packages/xgboost/core.py:160: UserWarning: [12:04:54] WARNING: /workspace/src/common/error_msg.cc:27: The tree method `gpu_hist` is deprecated since 2.0.0. To use GPU training, set the `device` parameter to CUDA instead.\n",
            "\n",
            "    E.g. tree_method = \"hist\", device = \"cuda\"\n",
            "\n",
            "  warnings.warn(smsg, UserWarning)\n",
            "\n",
            "/usr/local/lib/python3.10/dist-packages/xgboost/core.py:160: UserWarning: [12:04:54] WARNING: /workspace/src/common/error_msg.cc:27: The tree method `gpu_hist` is deprecated since 2.0.0. To use GPU training, set the `device` parameter to CUDA instead.\n",
            "\n",
            "    E.g. tree_method = \"hist\", device = \"cuda\"\n",
            "\n",
            "  warnings.warn(smsg, UserWarning)\n",
            "\n"
          ]
        },
        {
          "output_type": "stream",
          "name": "stdout",
          "text": [
            " 64%|██████▍   | 64/100 [00:12<00:08,  4.43trial/s, best loss: -1.0]"
          ]
        },
        {
          "output_type": "stream",
          "name": "stderr",
          "text": [
            "/usr/local/lib/python3.10/dist-packages/xgboost/core.py:160: UserWarning: [12:04:54] WARNING: /workspace/src/common/error_msg.cc:27: The tree method `gpu_hist` is deprecated since 2.0.0. To use GPU training, set the `device` parameter to CUDA instead.\n",
            "\n",
            "    E.g. tree_method = \"hist\", device = \"cuda\"\n",
            "\n",
            "  warnings.warn(smsg, UserWarning)\n",
            "\n",
            "/usr/local/lib/python3.10/dist-packages/xgboost/core.py:160: UserWarning: [12:04:54] WARNING: /workspace/src/common/error_msg.cc:27: The tree method `gpu_hist` is deprecated since 2.0.0. To use GPU training, set the `device` parameter to CUDA instead.\n",
            "\n",
            "    E.g. tree_method = \"hist\", device = \"cuda\"\n",
            "\n",
            "  warnings.warn(smsg, UserWarning)\n",
            "\n"
          ]
        },
        {
          "output_type": "stream",
          "name": "stdout",
          "text": [
            " 66%|██████▌   | 66/100 [00:12<00:05,  5.89trial/s, best loss: -1.0]"
          ]
        },
        {
          "output_type": "stream",
          "name": "stderr",
          "text": [
            "/usr/local/lib/python3.10/dist-packages/xgboost/core.py:160: UserWarning: [12:04:54] WARNING: /workspace/src/common/error_msg.cc:27: The tree method `gpu_hist` is deprecated since 2.0.0. To use GPU training, set the `device` parameter to CUDA instead.\n",
            "\n",
            "    E.g. tree_method = \"hist\", device = \"cuda\"\n",
            "\n",
            "  warnings.warn(smsg, UserWarning)\n",
            "\n",
            "/usr/local/lib/python3.10/dist-packages/xgboost/core.py:160: UserWarning: [12:04:54] WARNING: /workspace/src/common/error_msg.cc:27: The tree method `gpu_hist` is deprecated since 2.0.0. To use GPU training, set the `device` parameter to CUDA instead.\n",
            "\n",
            "    E.g. tree_method = \"hist\", device = \"cuda\"\n",
            "\n",
            "  warnings.warn(smsg, UserWarning)\n",
            "\n"
          ]
        },
        {
          "output_type": "stream",
          "name": "stdout",
          "text": [
            " 68%|██████▊   | 68/100 [00:12<00:04,  6.47trial/s, best loss: -1.0]"
          ]
        },
        {
          "output_type": "stream",
          "name": "stderr",
          "text": [
            "/usr/local/lib/python3.10/dist-packages/xgboost/core.py:160: UserWarning: [12:04:54] WARNING: /workspace/src/common/error_msg.cc:27: The tree method `gpu_hist` is deprecated since 2.0.0. To use GPU training, set the `device` parameter to CUDA instead.\n",
            "\n",
            "    E.g. tree_method = \"hist\", device = \"cuda\"\n",
            "\n",
            "  warnings.warn(smsg, UserWarning)\n",
            "\n",
            "/usr/local/lib/python3.10/dist-packages/xgboost/core.py:160: UserWarning: [12:04:55] WARNING: /workspace/src/common/error_msg.cc:27: The tree method `gpu_hist` is deprecated since 2.0.0. To use GPU training, set the `device` parameter to CUDA instead.\n",
            "\n",
            "    E.g. tree_method = \"hist\", device = \"cuda\"\n",
            "\n",
            "  warnings.warn(smsg, UserWarning)\n",
            "\n",
            "/usr/local/lib/python3.10/dist-packages/xgboost/core.py:160: UserWarning: [12:04:55] WARNING: /workspace/src/common/error_msg.cc:27: The tree method `gpu_hist` is deprecated since 2.0.0. To use GPU training, set the `device` parameter to CUDA instead.\n",
            "\n",
            "    E.g. tree_method = \"hist\", device = \"cuda\"\n",
            "\n",
            "  warnings.warn(smsg, UserWarning)\n",
            "\n"
          ]
        },
        {
          "output_type": "stream",
          "name": "stdout",
          "text": [
            "\r 69%|██████▉   | 69/100 [00:12<00:04,  6.35trial/s, best loss: -1.0]"
          ]
        },
        {
          "output_type": "stream",
          "name": "stderr",
          "text": [
            "/usr/local/lib/python3.10/dist-packages/xgboost/core.py:160: UserWarning: [12:04:55] WARNING: /workspace/src/common/error_msg.cc:27: The tree method `gpu_hist` is deprecated since 2.0.0. To use GPU training, set the `device` parameter to CUDA instead.\n",
            "\n",
            "    E.g. tree_method = \"hist\", device = \"cuda\"\n",
            "\n",
            "  warnings.warn(smsg, UserWarning)\n",
            "\n"
          ]
        },
        {
          "output_type": "stream",
          "name": "stdout",
          "text": [
            " 71%|███████   | 71/100 [00:13<00:04,  5.86trial/s, best loss: -1.0]"
          ]
        },
        {
          "output_type": "stream",
          "name": "stderr",
          "text": [
            "/usr/local/lib/python3.10/dist-packages/xgboost/core.py:160: UserWarning: [12:04:55] WARNING: /workspace/src/common/error_msg.cc:27: The tree method `gpu_hist` is deprecated since 2.0.0. To use GPU training, set the `device` parameter to CUDA instead.\n",
            "\n",
            "    E.g. tree_method = \"hist\", device = \"cuda\"\n",
            "\n",
            "  warnings.warn(smsg, UserWarning)\n",
            "\n",
            "/usr/local/lib/python3.10/dist-packages/xgboost/core.py:160: UserWarning: [12:04:55] WARNING: /workspace/src/common/error_msg.cc:27: The tree method `gpu_hist` is deprecated since 2.0.0. To use GPU training, set the `device` parameter to CUDA instead.\n",
            "\n",
            "    E.g. tree_method = \"hist\", device = \"cuda\"\n",
            "\n",
            "  warnings.warn(smsg, UserWarning)\n",
            "\n"
          ]
        },
        {
          "output_type": "stream",
          "name": "stdout",
          "text": [
            " 73%|███████▎  | 73/100 [00:13<00:03,  7.04trial/s, best loss: -1.0]"
          ]
        },
        {
          "output_type": "stream",
          "name": "stderr",
          "text": [
            "/usr/local/lib/python3.10/dist-packages/xgboost/core.py:160: UserWarning: [12:04:55] WARNING: /workspace/src/common/error_msg.cc:27: The tree method `gpu_hist` is deprecated since 2.0.0. To use GPU training, set the `device` parameter to CUDA instead.\n",
            "\n",
            "    E.g. tree_method = \"hist\", device = \"cuda\"\n",
            "\n",
            "  warnings.warn(smsg, UserWarning)\n",
            "\n",
            "/usr/local/lib/python3.10/dist-packages/xgboost/core.py:160: UserWarning: [12:04:55] WARNING: /workspace/src/common/error_msg.cc:27: The tree method `gpu_hist` is deprecated since 2.0.0. To use GPU training, set the `device` parameter to CUDA instead.\n",
            "\n",
            "    E.g. tree_method = \"hist\", device = \"cuda\"\n",
            "\n",
            "  warnings.warn(smsg, UserWarning)\n",
            "\n"
          ]
        },
        {
          "output_type": "stream",
          "name": "stdout",
          "text": [
            " 75%|███████▌  | 75/100 [00:13<00:04,  6.00trial/s, best loss: -1.0]"
          ]
        },
        {
          "output_type": "stream",
          "name": "stderr",
          "text": [
            "/usr/local/lib/python3.10/dist-packages/xgboost/core.py:160: UserWarning: [12:04:56] WARNING: /workspace/src/common/error_msg.cc:27: The tree method `gpu_hist` is deprecated since 2.0.0. To use GPU training, set the `device` parameter to CUDA instead.\n",
            "\n",
            "    E.g. tree_method = \"hist\", device = \"cuda\"\n",
            "\n",
            "  warnings.warn(smsg, UserWarning)\n",
            "\n",
            "/usr/local/lib/python3.10/dist-packages/xgboost/core.py:160: UserWarning: [12:04:56] WARNING: /workspace/src/common/error_msg.cc:27: The tree method `gpu_hist` is deprecated since 2.0.0. To use GPU training, set the `device` parameter to CUDA instead.\n",
            "\n",
            "    E.g. tree_method = \"hist\", device = \"cuda\"\n",
            "\n",
            "  warnings.warn(smsg, UserWarning)\n",
            "\n"
          ]
        },
        {
          "output_type": "stream",
          "name": "stdout",
          "text": [
            "\r 76%|███████▌  | 76/100 [00:13<00:04,  5.49trial/s, best loss: -1.0]"
          ]
        },
        {
          "output_type": "stream",
          "name": "stderr",
          "text": [
            "/usr/local/lib/python3.10/dist-packages/xgboost/core.py:160: UserWarning: [12:04:56] WARNING: /workspace/src/common/error_msg.cc:27: The tree method `gpu_hist` is deprecated since 2.0.0. To use GPU training, set the `device` parameter to CUDA instead.\n",
            "\n",
            "    E.g. tree_method = \"hist\", device = \"cuda\"\n",
            "\n",
            "  warnings.warn(smsg, UserWarning)\n",
            "\n"
          ]
        },
        {
          "output_type": "stream",
          "name": "stdout",
          "text": [
            "\r 77%|███████▋  | 77/100 [00:14<00:03,  6.18trial/s, best loss: -1.0]"
          ]
        },
        {
          "output_type": "stream",
          "name": "stderr",
          "text": [
            "/usr/local/lib/python3.10/dist-packages/xgboost/core.py:160: UserWarning: [12:04:56] WARNING: /workspace/src/common/error_msg.cc:27: The tree method `gpu_hist` is deprecated since 2.0.0. To use GPU training, set the `device` parameter to CUDA instead.\n",
            "\n",
            "    E.g. tree_method = \"hist\", device = \"cuda\"\n",
            "\n",
            "  warnings.warn(smsg, UserWarning)\n",
            "\n",
            "/usr/local/lib/python3.10/dist-packages/xgboost/core.py:160: UserWarning: [12:04:56] WARNING: /workspace/src/common/error_msg.cc:27: The tree method `gpu_hist` is deprecated since 2.0.0. To use GPU training, set the `device` parameter to CUDA instead.\n",
            "\n",
            "    E.g. tree_method = \"hist\", device = \"cuda\"\n",
            "\n",
            "  warnings.warn(smsg, UserWarning)\n",
            "\n"
          ]
        },
        {
          "output_type": "stream",
          "name": "stdout",
          "text": [
            " 79%|███████▉  | 79/100 [00:14<00:03,  5.87trial/s, best loss: -1.0]"
          ]
        },
        {
          "output_type": "stream",
          "name": "stderr",
          "text": [
            "/usr/local/lib/python3.10/dist-packages/xgboost/core.py:160: UserWarning: [12:04:56] WARNING: /workspace/src/common/error_msg.cc:27: The tree method `gpu_hist` is deprecated since 2.0.0. To use GPU training, set the `device` parameter to CUDA instead.\n",
            "\n",
            "    E.g. tree_method = \"hist\", device = \"cuda\"\n",
            "\n",
            "  warnings.warn(smsg, UserWarning)\n",
            "\n",
            "/usr/local/lib/python3.10/dist-packages/xgboost/core.py:160: UserWarning: [12:04:56] WARNING: /workspace/src/common/error_msg.cc:27: The tree method `gpu_hist` is deprecated since 2.0.0. To use GPU training, set the `device` parameter to CUDA instead.\n",
            "\n",
            "    E.g. tree_method = \"hist\", device = \"cuda\"\n",
            "\n",
            "  warnings.warn(smsg, UserWarning)\n",
            "\n"
          ]
        },
        {
          "output_type": "stream",
          "name": "stdout",
          "text": [
            " 81%|████████  | 81/100 [00:14<00:02,  6.46trial/s, best loss: -1.0]"
          ]
        },
        {
          "output_type": "stream",
          "name": "stderr",
          "text": [
            "/usr/local/lib/python3.10/dist-packages/xgboost/core.py:160: UserWarning: [12:04:57] WARNING: /workspace/src/common/error_msg.cc:27: The tree method `gpu_hist` is deprecated since 2.0.0. To use GPU training, set the `device` parameter to CUDA instead.\n",
            "\n",
            "    E.g. tree_method = \"hist\", device = \"cuda\"\n",
            "\n",
            "  warnings.warn(smsg, UserWarning)\n",
            "\n",
            "/usr/local/lib/python3.10/dist-packages/xgboost/core.py:160: UserWarning: [12:04:57] WARNING: /workspace/src/common/error_msg.cc:27: The tree method `gpu_hist` is deprecated since 2.0.0. To use GPU training, set the `device` parameter to CUDA instead.\n",
            "\n",
            "    E.g. tree_method = \"hist\", device = \"cuda\"\n",
            "\n",
            "  warnings.warn(smsg, UserWarning)\n",
            "\n",
            "/usr/local/lib/python3.10/dist-packages/xgboost/core.py:160: UserWarning: [12:04:57] WARNING: /workspace/src/common/error_msg.cc:27: The tree method `gpu_hist` is deprecated since 2.0.0. To use GPU training, set the `device` parameter to CUDA instead.\n",
            "\n",
            "    E.g. tree_method = \"hist\", device = \"cuda\"\n",
            "\n",
            "  warnings.warn(smsg, UserWarning)\n",
            "\n"
          ]
        },
        {
          "output_type": "stream",
          "name": "stdout",
          "text": [
            " 83%|████████▎ | 83/100 [00:14<00:02,  6.95trial/s, best loss: -1.0]"
          ]
        },
        {
          "output_type": "stream",
          "name": "stderr",
          "text": [
            "/usr/local/lib/python3.10/dist-packages/xgboost/core.py:160: UserWarning: [12:04:57] WARNING: /workspace/src/common/error_msg.cc:27: The tree method `gpu_hist` is deprecated since 2.0.0. To use GPU training, set the `device` parameter to CUDA instead.\n",
            "\n",
            "    E.g. tree_method = \"hist\", device = \"cuda\"\n",
            "\n",
            "  warnings.warn(smsg, UserWarning)\n",
            "\n",
            "/usr/local/lib/python3.10/dist-packages/xgboost/core.py:160: UserWarning: [12:04:57] WARNING: /workspace/src/common/error_msg.cc:27: The tree method `gpu_hist` is deprecated since 2.0.0. To use GPU training, set the `device` parameter to CUDA instead.\n",
            "\n",
            "    E.g. tree_method = \"hist\", device = \"cuda\"\n",
            "\n",
            "  warnings.warn(smsg, UserWarning)\n",
            "\n"
          ]
        },
        {
          "output_type": "stream",
          "name": "stdout",
          "text": [
            " 85%|████████▌ | 85/100 [00:15<00:02,  6.97trial/s, best loss: -1.0]"
          ]
        },
        {
          "output_type": "stream",
          "name": "stderr",
          "text": [
            "/usr/local/lib/python3.10/dist-packages/xgboost/core.py:160: UserWarning: [12:04:57] WARNING: /workspace/src/common/error_msg.cc:27: The tree method `gpu_hist` is deprecated since 2.0.0. To use GPU training, set the `device` parameter to CUDA instead.\n",
            "\n",
            "    E.g. tree_method = \"hist\", device = \"cuda\"\n",
            "\n",
            "  warnings.warn(smsg, UserWarning)\n",
            "\n",
            "/usr/local/lib/python3.10/dist-packages/xgboost/core.py:160: UserWarning: [12:04:57] WARNING: /workspace/src/common/error_msg.cc:27: The tree method `gpu_hist` is deprecated since 2.0.0. To use GPU training, set the `device` parameter to CUDA instead.\n",
            "\n",
            "    E.g. tree_method = \"hist\", device = \"cuda\"\n",
            "\n",
            "  warnings.warn(smsg, UserWarning)\n",
            "\n"
          ]
        },
        {
          "output_type": "stream",
          "name": "stdout",
          "text": [
            "\r 86%|████████▌ | 86/100 [00:15<00:02,  6.02trial/s, best loss: -1.0]"
          ]
        },
        {
          "output_type": "stream",
          "name": "stderr",
          "text": [
            "/usr/local/lib/python3.10/dist-packages/xgboost/core.py:160: UserWarning: [12:04:57] WARNING: /workspace/src/common/error_msg.cc:27: The tree method `gpu_hist` is deprecated since 2.0.0. To use GPU training, set the `device` parameter to CUDA instead.\n",
            "\n",
            "    E.g. tree_method = \"hist\", device = \"cuda\"\n",
            "\n",
            "  warnings.warn(smsg, UserWarning)\n",
            "\n"
          ]
        },
        {
          "output_type": "stream",
          "name": "stdout",
          "text": [
            " 88%|████████▊ | 88/100 [00:15<00:02,  5.45trial/s, best loss: -1.0]"
          ]
        },
        {
          "output_type": "stream",
          "name": "stderr",
          "text": [
            "/usr/local/lib/python3.10/dist-packages/xgboost/core.py:160: UserWarning: [12:04:58] WARNING: /workspace/src/common/error_msg.cc:27: The tree method `gpu_hist` is deprecated since 2.0.0. To use GPU training, set the `device` parameter to CUDA instead.\n",
            "\n",
            "    E.g. tree_method = \"hist\", device = \"cuda\"\n",
            "\n",
            "  warnings.warn(smsg, UserWarning)\n",
            "\n",
            "/usr/local/lib/python3.10/dist-packages/xgboost/core.py:160: UserWarning: [12:04:58] WARNING: /workspace/src/common/error_msg.cc:27: The tree method `gpu_hist` is deprecated since 2.0.0. To use GPU training, set the `device` parameter to CUDA instead.\n",
            "\n",
            "    E.g. tree_method = \"hist\", device = \"cuda\"\n",
            "\n",
            "  warnings.warn(smsg, UserWarning)\n",
            "\n",
            "/usr/local/lib/python3.10/dist-packages/xgboost/core.py:160: UserWarning: [12:04:58] WARNING: /workspace/src/common/error_msg.cc:27: The tree method `gpu_hist` is deprecated since 2.0.0. To use GPU training, set the `device` parameter to CUDA instead.\n",
            "\n",
            "    E.g. tree_method = \"hist\", device = \"cuda\"\n",
            "\n",
            "  warnings.warn(smsg, UserWarning)\n",
            "\n"
          ]
        },
        {
          "output_type": "stream",
          "name": "stdout",
          "text": [
            " 90%|█████████ | 90/100 [00:16<00:01,  5.57trial/s, best loss: -1.0]"
          ]
        },
        {
          "output_type": "stream",
          "name": "stderr",
          "text": [
            "/usr/local/lib/python3.10/dist-packages/xgboost/core.py:160: UserWarning: [12:04:58] WARNING: /workspace/src/common/error_msg.cc:27: The tree method `gpu_hist` is deprecated since 2.0.0. To use GPU training, set the `device` parameter to CUDA instead.\n",
            "\n",
            "    E.g. tree_method = \"hist\", device = \"cuda\"\n",
            "\n",
            "  warnings.warn(smsg, UserWarning)\n",
            "\n",
            "/usr/local/lib/python3.10/dist-packages/xgboost/core.py:160: UserWarning: [12:04:58] WARNING: /workspace/src/common/error_msg.cc:27: The tree method `gpu_hist` is deprecated since 2.0.0. To use GPU training, set the `device` parameter to CUDA instead.\n",
            "\n",
            "    E.g. tree_method = \"hist\", device = \"cuda\"\n",
            "\n",
            "  warnings.warn(smsg, UserWarning)\n",
            "\n"
          ]
        },
        {
          "output_type": "stream",
          "name": "stdout",
          "text": [
            "\r 91%|█████████ | 91/100 [00:16<00:01,  5.81trial/s, best loss: -1.0]"
          ]
        },
        {
          "output_type": "stream",
          "name": "stderr",
          "text": [
            "/usr/local/lib/python3.10/dist-packages/xgboost/core.py:160: UserWarning: [12:04:58] WARNING: /workspace/src/common/error_msg.cc:27: The tree method `gpu_hist` is deprecated since 2.0.0. To use GPU training, set the `device` parameter to CUDA instead.\n",
            "\n",
            "    E.g. tree_method = \"hist\", device = \"cuda\"\n",
            "\n",
            "  warnings.warn(smsg, UserWarning)\n",
            "\n"
          ]
        },
        {
          "output_type": "stream",
          "name": "stdout",
          "text": [
            "\r 92%|█████████▏| 92/100 [00:16<00:01,  4.08trial/s, best loss: -1.0]"
          ]
        },
        {
          "output_type": "stream",
          "name": "stderr",
          "text": [
            "/usr/local/lib/python3.10/dist-packages/xgboost/core.py:160: UserWarning: [12:04:59] WARNING: /workspace/src/common/error_msg.cc:27: The tree method `gpu_hist` is deprecated since 2.0.0. To use GPU training, set the `device` parameter to CUDA instead.\n",
            "\n",
            "    E.g. tree_method = \"hist\", device = \"cuda\"\n",
            "\n",
            "  warnings.warn(smsg, UserWarning)\n",
            "\n",
            "/usr/local/lib/python3.10/dist-packages/xgboost/core.py:160: UserWarning: [12:04:59] WARNING: /workspace/src/common/error_msg.cc:27: The tree method `gpu_hist` is deprecated since 2.0.0. To use GPU training, set the `device` parameter to CUDA instead.\n",
            "\n",
            "    E.g. tree_method = \"hist\", device = \"cuda\"\n",
            "\n",
            "  warnings.warn(smsg, UserWarning)\n",
            "\n"
          ]
        },
        {
          "output_type": "stream",
          "name": "stdout",
          "text": [
            " 94%|█████████▍| 94/100 [00:17<00:01,  3.79trial/s, best loss: -1.0]"
          ]
        },
        {
          "output_type": "stream",
          "name": "stderr",
          "text": [
            "/usr/local/lib/python3.10/dist-packages/xgboost/core.py:160: UserWarning: [12:04:59] WARNING: /workspace/src/common/error_msg.cc:27: The tree method `gpu_hist` is deprecated since 2.0.0. To use GPU training, set the `device` parameter to CUDA instead.\n",
            "\n",
            "    E.g. tree_method = \"hist\", device = \"cuda\"\n",
            "\n",
            "  warnings.warn(smsg, UserWarning)\n",
            "\n"
          ]
        },
        {
          "output_type": "stream",
          "name": "stdout",
          "text": [
            "\r 95%|█████████▌| 95/100 [00:17<00:01,  4.49trial/s, best loss: -1.0]"
          ]
        },
        {
          "output_type": "stream",
          "name": "stderr",
          "text": [
            "/usr/local/lib/python3.10/dist-packages/xgboost/core.py:160: UserWarning: [12:04:59] WARNING: /workspace/src/common/error_msg.cc:27: The tree method `gpu_hist` is deprecated since 2.0.0. To use GPU training, set the `device` parameter to CUDA instead.\n",
            "\n",
            "    E.g. tree_method = \"hist\", device = \"cuda\"\n",
            "\n",
            "  warnings.warn(smsg, UserWarning)\n",
            "\n",
            "/usr/local/lib/python3.10/dist-packages/xgboost/core.py:160: UserWarning: [12:04:59] WARNING: /workspace/src/common/error_msg.cc:27: The tree method `gpu_hist` is deprecated since 2.0.0. To use GPU training, set the `device` parameter to CUDA instead.\n",
            "\n",
            "    E.g. tree_method = \"hist\", device = \"cuda\"\n",
            "\n",
            "  warnings.warn(smsg, UserWarning)\n",
            "\n"
          ]
        },
        {
          "output_type": "stream",
          "name": "stdout",
          "text": [
            "\r 96%|█████████▌| 96/100 [00:17<00:00,  4.85trial/s, best loss: -1.0]"
          ]
        },
        {
          "output_type": "stream",
          "name": "stderr",
          "text": [
            "/usr/local/lib/python3.10/dist-packages/xgboost/core.py:160: UserWarning: [12:05:00] WARNING: /workspace/src/common/error_msg.cc:27: The tree method `gpu_hist` is deprecated since 2.0.0. To use GPU training, set the `device` parameter to CUDA instead.\n",
            "\n",
            "    E.g. tree_method = \"hist\", device = \"cuda\"\n",
            "\n",
            "  warnings.warn(smsg, UserWarning)\n",
            "\n",
            "/usr/local/lib/python3.10/dist-packages/xgboost/core.py:160: UserWarning: [12:05:00] WARNING: /workspace/src/common/error_msg.cc:27: The tree method `gpu_hist` is deprecated since 2.0.0. To use GPU training, set the `device` parameter to CUDA instead.\n",
            "\n",
            "    E.g. tree_method = \"hist\", device = \"cuda\"\n",
            "\n",
            "  warnings.warn(smsg, UserWarning)\n",
            "\n",
            "/usr/local/lib/python3.10/dist-packages/xgboost/core.py:160: UserWarning: [12:05:00] WARNING: /workspace/src/common/error_msg.cc:27: The tree method `gpu_hist` is deprecated since 2.0.0. To use GPU training, set the `device` parameter to CUDA instead.\n",
            "\n",
            "    E.g. tree_method = \"hist\", device = \"cuda\"\n",
            "\n",
            "  warnings.warn(smsg, UserWarning)\n",
            "\n"
          ]
        },
        {
          "output_type": "stream",
          "name": "stdout",
          "text": [
            "100%|██████████| 100/100 [00:18<00:00,  5.53trial/s, best loss: -1.0]\n",
            "Best hyperparameters: {'colsample_bytree': 0.4545988285613425, 'lambda': 0.6241402514502195, 'learning_rate': 0.06071096159282887, 'max_depth': 2, 'n_estimators': 175.0, 'subsample': 0.5466893366576624}\n"
          ]
        },
        {
          "output_type": "stream",
          "name": "stderr",
          "text": [
            "/usr/local/lib/python3.10/dist-packages/xgboost/core.py:160: UserWarning: [12:05:00] WARNING: /workspace/src/common/error_msg.cc:27: The tree method `gpu_hist` is deprecated since 2.0.0. To use GPU training, set the `device` parameter to CUDA instead.\n",
            "\n",
            "    E.g. tree_method = \"hist\", device = \"cuda\"\n",
            "\n",
            "  warnings.warn(smsg, UserWarning)\n",
            "\n",
            "/usr/local/lib/python3.10/dist-packages/xgboost/core.py:160: UserWarning: [12:05:00] WARNING: /workspace/src/common/error_msg.cc:27: The tree method `gpu_hist` is deprecated since 2.0.0. To use GPU training, set the `device` parameter to CUDA instead.\n",
            "\n",
            "    E.g. tree_method = \"hist\", device = \"cuda\"\n",
            "\n",
            "  warnings.warn(smsg, UserWarning)\n",
            "\n"
          ]
        }
      ]
    },
    {
      "cell_type": "code",
      "source": [
        "best_n_estimators = int(best_hyperparams['n_estimators'])\n",
        "best_max_depth = int(best_hyperparams['max_depth'])\n",
        "best_learning_rate = best_hyperparams['learning_rate']\n",
        "best_subsample = best_hyperparams['subsample']\n",
        "best_colsample_bytree = best_hyperparams['colsample_bytree']\n",
        "best_lambda = best_hyperparams['lambda']"
      ],
      "metadata": {
        "id": "m8hb_33py0Nb"
      },
      "execution_count": 16,
      "outputs": []
    },
    {
      "cell_type": "code",
      "source": [
        "trained_model = XGBClassifier(\n",
        "    n_estimators=best_n_estimators,\n",
        "    max_depth=best_max_depth,\n",
        "    learning_rate=best_learning_rate,\n",
        "    subsample=best_subsample,\n",
        "    colsample_bytree=best_colsample_bytree,\n",
        "    reg_lambda=best_lambda,\n",
        "    objective='multi:softmax',\n",
        "    eval_metric='mlogloss',\n",
        "    use_label_encoder=False,\n",
        "    num_class=2,  # Assuming binary or two-class classification\n",
        "    tree_method='gpu_hist',\n",
        "    device='gpu',  # Or 'cpu' if not using GPU\n",
        "    seed=42\n",
        ")\n"
      ],
      "metadata": {
        "id": "4H0TsBMTy4Mg"
      },
      "execution_count": 17,
      "outputs": []
    },
    {
      "cell_type": "code",
      "source": [
        "trained_model.fit(X_train_pca, train_remapped)"
      ],
      "metadata": {
        "colab": {
          "base_uri": "https://localhost:8080/",
          "height": 361
        },
        "id": "SsLvD98Sy61T",
        "outputId": "43a8779e-b8e2-4aba-9acb-1b57df35e05a"
      },
      "execution_count": 18,
      "outputs": [
        {
          "output_type": "stream",
          "name": "stderr",
          "text": [
            "/usr/local/lib/python3.10/dist-packages/xgboost/core.py:160: UserWarning: [12:05:00] WARNING: /workspace/src/common/error_msg.cc:27: The tree method `gpu_hist` is deprecated since 2.0.0. To use GPU training, set the `device` parameter to CUDA instead.\n",
            "\n",
            "    E.g. tree_method = \"hist\", device = \"cuda\"\n",
            "\n",
            "  warnings.warn(smsg, UserWarning)\n"
          ]
        },
        {
          "output_type": "execute_result",
          "data": {
            "text/plain": [
              "XGBClassifier(base_score=None, booster=None, callbacks=None,\n",
              "              colsample_bylevel=None, colsample_bynode=None,\n",
              "              colsample_bytree=0.4545988285613425, device='gpu',\n",
              "              early_stopping_rounds=None, enable_categorical=False,\n",
              "              eval_metric='mlogloss', feature_types=None, gamma=None,\n",
              "              grow_policy=None, importance_type=None,\n",
              "              interaction_constraints=None, learning_rate=0.06071096159282887,\n",
              "              max_bin=None, max_cat_threshold=None, max_cat_to_onehot=None,\n",
              "              max_delta_step=None, max_depth=2, max_leaves=None,\n",
              "              min_child_weight=None, missing=nan, monotone_constraints=None,\n",
              "              multi_strategy=None, n_estimators=175, n_jobs=None, num_class=2,\n",
              "              num_parallel_tree=None, ...)"
            ],
            "text/html": [
              "<style>#sk-container-id-1 {color: black;background-color: white;}#sk-container-id-1 pre{padding: 0;}#sk-container-id-1 div.sk-toggleable {background-color: white;}#sk-container-id-1 label.sk-toggleable__label {cursor: pointer;display: block;width: 100%;margin-bottom: 0;padding: 0.3em;box-sizing: border-box;text-align: center;}#sk-container-id-1 label.sk-toggleable__label-arrow:before {content: \"▸\";float: left;margin-right: 0.25em;color: #696969;}#sk-container-id-1 label.sk-toggleable__label-arrow:hover:before {color: black;}#sk-container-id-1 div.sk-estimator:hover label.sk-toggleable__label-arrow:before {color: black;}#sk-container-id-1 div.sk-toggleable__content {max-height: 0;max-width: 0;overflow: hidden;text-align: left;background-color: #f0f8ff;}#sk-container-id-1 div.sk-toggleable__content pre {margin: 0.2em;color: black;border-radius: 0.25em;background-color: #f0f8ff;}#sk-container-id-1 input.sk-toggleable__control:checked~div.sk-toggleable__content {max-height: 200px;max-width: 100%;overflow: auto;}#sk-container-id-1 input.sk-toggleable__control:checked~label.sk-toggleable__label-arrow:before {content: \"▾\";}#sk-container-id-1 div.sk-estimator input.sk-toggleable__control:checked~label.sk-toggleable__label {background-color: #d4ebff;}#sk-container-id-1 div.sk-label input.sk-toggleable__control:checked~label.sk-toggleable__label {background-color: #d4ebff;}#sk-container-id-1 input.sk-hidden--visually {border: 0;clip: rect(1px 1px 1px 1px);clip: rect(1px, 1px, 1px, 1px);height: 1px;margin: -1px;overflow: hidden;padding: 0;position: absolute;width: 1px;}#sk-container-id-1 div.sk-estimator {font-family: monospace;background-color: #f0f8ff;border: 1px dotted black;border-radius: 0.25em;box-sizing: border-box;margin-bottom: 0.5em;}#sk-container-id-1 div.sk-estimator:hover {background-color: #d4ebff;}#sk-container-id-1 div.sk-parallel-item::after {content: \"\";width: 100%;border-bottom: 1px solid gray;flex-grow: 1;}#sk-container-id-1 div.sk-label:hover label.sk-toggleable__label {background-color: #d4ebff;}#sk-container-id-1 div.sk-serial::before {content: \"\";position: absolute;border-left: 1px solid gray;box-sizing: border-box;top: 0;bottom: 0;left: 50%;z-index: 0;}#sk-container-id-1 div.sk-serial {display: flex;flex-direction: column;align-items: center;background-color: white;padding-right: 0.2em;padding-left: 0.2em;position: relative;}#sk-container-id-1 div.sk-item {position: relative;z-index: 1;}#sk-container-id-1 div.sk-parallel {display: flex;align-items: stretch;justify-content: center;background-color: white;position: relative;}#sk-container-id-1 div.sk-item::before, #sk-container-id-1 div.sk-parallel-item::before {content: \"\";position: absolute;border-left: 1px solid gray;box-sizing: border-box;top: 0;bottom: 0;left: 50%;z-index: -1;}#sk-container-id-1 div.sk-parallel-item {display: flex;flex-direction: column;z-index: 1;position: relative;background-color: white;}#sk-container-id-1 div.sk-parallel-item:first-child::after {align-self: flex-end;width: 50%;}#sk-container-id-1 div.sk-parallel-item:last-child::after {align-self: flex-start;width: 50%;}#sk-container-id-1 div.sk-parallel-item:only-child::after {width: 0;}#sk-container-id-1 div.sk-dashed-wrapped {border: 1px dashed gray;margin: 0 0.4em 0.5em 0.4em;box-sizing: border-box;padding-bottom: 0.4em;background-color: white;}#sk-container-id-1 div.sk-label label {font-family: monospace;font-weight: bold;display: inline-block;line-height: 1.2em;}#sk-container-id-1 div.sk-label-container {text-align: center;}#sk-container-id-1 div.sk-container {/* jupyter's `normalize.less` sets `[hidden] { display: none; }` but bootstrap.min.css set `[hidden] { display: none !important; }` so we also need the `!important` here to be able to override the default hidden behavior on the sphinx rendered scikit-learn.org. See: https://github.com/scikit-learn/scikit-learn/issues/21755 */display: inline-block !important;position: relative;}#sk-container-id-1 div.sk-text-repr-fallback {display: none;}</style><div id=\"sk-container-id-1\" class=\"sk-top-container\"><div class=\"sk-text-repr-fallback\"><pre>XGBClassifier(base_score=None, booster=None, callbacks=None,\n",
              "              colsample_bylevel=None, colsample_bynode=None,\n",
              "              colsample_bytree=0.4545988285613425, device=&#x27;gpu&#x27;,\n",
              "              early_stopping_rounds=None, enable_categorical=False,\n",
              "              eval_metric=&#x27;mlogloss&#x27;, feature_types=None, gamma=None,\n",
              "              grow_policy=None, importance_type=None,\n",
              "              interaction_constraints=None, learning_rate=0.06071096159282887,\n",
              "              max_bin=None, max_cat_threshold=None, max_cat_to_onehot=None,\n",
              "              max_delta_step=None, max_depth=2, max_leaves=None,\n",
              "              min_child_weight=None, missing=nan, monotone_constraints=None,\n",
              "              multi_strategy=None, n_estimators=175, n_jobs=None, num_class=2,\n",
              "              num_parallel_tree=None, ...)</pre><b>In a Jupyter environment, please rerun this cell to show the HTML representation or trust the notebook. <br />On GitHub, the HTML representation is unable to render, please try loading this page with nbviewer.org.</b></div><div class=\"sk-container\" hidden><div class=\"sk-item\"><div class=\"sk-estimator sk-toggleable\"><input class=\"sk-toggleable__control sk-hidden--visually\" id=\"sk-estimator-id-1\" type=\"checkbox\" checked><label for=\"sk-estimator-id-1\" class=\"sk-toggleable__label sk-toggleable__label-arrow\">XGBClassifier</label><div class=\"sk-toggleable__content\"><pre>XGBClassifier(base_score=None, booster=None, callbacks=None,\n",
              "              colsample_bylevel=None, colsample_bynode=None,\n",
              "              colsample_bytree=0.4545988285613425, device=&#x27;gpu&#x27;,\n",
              "              early_stopping_rounds=None, enable_categorical=False,\n",
              "              eval_metric=&#x27;mlogloss&#x27;, feature_types=None, gamma=None,\n",
              "              grow_policy=None, importance_type=None,\n",
              "              interaction_constraints=None, learning_rate=0.06071096159282887,\n",
              "              max_bin=None, max_cat_threshold=None, max_cat_to_onehot=None,\n",
              "              max_delta_step=None, max_depth=2, max_leaves=None,\n",
              "              min_child_weight=None, missing=nan, monotone_constraints=None,\n",
              "              multi_strategy=None, n_estimators=175, n_jobs=None, num_class=2,\n",
              "              num_parallel_tree=None, ...)</pre></div></div></div></div></div>"
            ]
          },
          "metadata": {},
          "execution_count": 18
        }
      ]
    },
    {
      "cell_type": "code",
      "source": [
        "predictions = trained_model.predict(X_test_pca)"
      ],
      "metadata": {
        "id": "jiMP28U-y9pl"
      },
      "execution_count": 19,
      "outputs": []
    },
    {
      "cell_type": "code",
      "source": [
        "XGBoost_accuracy = accuracy_score(test_remapped, predictions)\n",
        "print(f'XGBoost Test Accuracy: {XGBoost_accuracy*100:.2f}%')"
      ],
      "metadata": {
        "colab": {
          "base_uri": "https://localhost:8080/"
        },
        "id": "wEHeXC4dzBMY",
        "outputId": "e526c1eb-52e1-4f47-f2d7-d9963b53fd74"
      },
      "execution_count": 20,
      "outputs": [
        {
          "output_type": "stream",
          "name": "stdout",
          "text": [
            "XGBoost Test Accuracy: 79.70%\n"
          ]
        }
      ]
    },
    {
      "cell_type": "markdown",
      "source": [
        "SVM"
      ],
      "metadata": {
        "id": "fLofRf2I-RyE"
      }
    },
    {
      "cell_type": "code",
      "source": [
        "from sklearn.svm import SVC\n",
        "from sklearn.metrics import accuracy_score\n",
        "from sklearn.preprocessing import StandardScaler\n",
        "from torch.utils.data import Subset"
      ],
      "metadata": {
        "id": "cZxAkytZ-xtL"
      },
      "execution_count": 25,
      "outputs": []
    },
    {
      "cell_type": "code",
      "source": [
        "mean = [0.4914, 0.4822, 0.4465]\n",
        "std = [0.2023, 0.1994, 0.2010]\n",
        "\n",
        "# Define transformations for training and validation data\n",
        "train_transform = transforms.Compose([\n",
        "    transforms.RandomHorizontalFlip(p=0.5),\n",
        "    transforms.RandomRotation(degrees=10),\n",
        "    transforms.RandomCrop(32, padding=4),\n",
        "    transforms.ColorJitter(brightness=0.2, contrast=0.2, saturation=0.2, hue=0.1),\n",
        "    transforms.ToTensor(),\n",
        "    transforms.Normalize(mean=mean, std=std)\n",
        "])\n",
        "\n",
        "val_transform = transforms.Compose([\n",
        "    transforms.ToTensor(),\n",
        "    transforms.Normalize(mean=mean, std=std)\n",
        "])"
      ],
      "metadata": {
        "id": "a5ObI7zq-TDj"
      },
      "execution_count": 26,
      "outputs": []
    },
    {
      "cell_type": "code",
      "source": [
        "num_classes = 2\n",
        "num_samples_per_class = 25\n",
        "\n",
        "# Load CIFAR-10 dataset\n",
        "cifar_data = torchvision.datasets.CIFAR10(root='./data', train=True, download=True, transform=train_transform)\n",
        "\n",
        "selected_indices_train = []\n",
        "selected_indices_val = []\n",
        "\n",
        "# Select samples for training and validation\n",
        "for i in selected_classes:\n",
        "    class_indices = np.where(np.array(cifar_data.targets) == i)[0]\n",
        "    selected_indices_train.extend(np.random.choice(class_indices, num_samples_per_class, replace=False))\n",
        "    remaining_indices = list(set(class_indices) - set(selected_indices_train))\n",
        "    selected_indices_val.extend(remaining_indices)"
      ],
      "metadata": {
        "colab": {
          "base_uri": "https://localhost:8080/"
        },
        "id": "lNR66FC4-T9v",
        "outputId": "7814374a-e92c-4c90-d24f-bdcc67694346"
      },
      "execution_count": 27,
      "outputs": [
        {
          "output_type": "stream",
          "name": "stdout",
          "text": [
            "Files already downloaded and verified\n"
          ]
        }
      ]
    },
    {
      "cell_type": "code",
      "source": [
        "# Create Subset datasets for training and validation\n",
        "train_data = Subset(cifar_data, selected_indices_train)\n",
        "val_data = Subset(cifar_data, selected_indices_val)\n",
        "\n",
        "# Create DataLoader for training and validation datasets\n",
        "train_loader = torch.utils.data.DataLoader(train_data, batch_size=len(train_data), shuffle=True)\n",
        "val_loader = torch.utils.data.DataLoader(val_data, batch_size=len(val_data), shuffle=False)\n",
        "\n",
        "# Extract features and labels from training and validation datasets\n",
        "train_features, train_labels = next(iter(train_loader))\n",
        "val_features, val_labels = next(iter(val_loader))\n",
        "\n",
        "train_features = train_features.view(train_features.size(0), -1).numpy()\n",
        "val_features = val_features.view(val_features.size(0), -1).numpy()\n",
        "\n",
        "# Normalize features using StandardScaler\n",
        "scaler = StandardScaler()\n",
        "train_features_scaled = scaler.fit_transform(train_features)\n",
        "val_features_scaled = scaler.transform(val_features)"
      ],
      "metadata": {
        "id": "xJjpBq7Q-rRh"
      },
      "execution_count": 28,
      "outputs": []
    },
    {
      "cell_type": "code",
      "source": [
        "hyperparameters = [\n",
        "    {'C': 0.5, 'gamma': 'scale', 'random_seed': 2},\n",
        "    {'C': 1.0, 'gamma': 'scale', 'random_seed': 1},\n",
        "    {'C': 2.0, 'gamma': 'scale', 'random_seed': 2},\n",
        "    {'C': 3.0, 'gamma': 'scale', 'random_seed': 1},\n",
        "    {'C': 0.5, 'gamma': 'scale', 'random_seed': 1},\n",
        "    {'C': 1.0, 'gamma': 'auto', 'random_seed': 2},\n",
        "    {'C': 2.0, 'gamma': 'auto', 'random_seed': 1},\n",
        "    {'C': 3.0, 'gamma': 'auto', 'random_seed': 2},\n",
        "]\n"
      ],
      "metadata": {
        "id": "2msUeanX-8Wa"
      },
      "execution_count": 29,
      "outputs": []
    },
    {
      "cell_type": "code",
      "source": [
        "# Train SVM models with different hyperparameters\n",
        "svm_models = []\n",
        "svm_accuracies = []\n",
        "for params in hyperparameters:\n",
        "    # Initialize SVM model with specified hyperparameters\n",
        "    model = SVC(kernel='rbf', C=params['C'], gamma=params['gamma'], random_state=params['random_seed'])\n",
        "\n",
        "    # Train model\n",
        "    model.fit(train_features_scaled, train_labels)\n",
        "\n",
        "    # Add trained model to list\n",
        "    svm_models.append(model)\n",
        "\n",
        "    # Predict on validation set\n",
        "    val_predictions = model.predict(val_features_scaled)\n",
        "\n",
        "    # Calculate accuracy\n",
        "    accuracy = accuracy_score(val_labels, val_predictions)\n",
        "    print(\"Taken Parameters: {}\".format(params))\n",
        "    print(\"Accuracy: {}\".format(accuracy))\n",
        "    svm_accuracies.append(accuracy)\n",
        "\n",
        "# Find the best hyperparameter combination and its accuracy\n",
        "best_idx = np.argmax(svm_accuracies)\n",
        "best_hyperparams = hyperparameters[best_idx]\n",
        "best_accuracy = svm_accuracies[best_idx]\n",
        "\n",
        "print(\"Best Hyperparameters:\")\n",
        "print(best_hyperparams)\n",
        "print(f\"Best Accuracy: {best_accuracy * 100:.2f}%\")"
      ],
      "metadata": {
        "colab": {
          "base_uri": "https://localhost:8080/"
        },
        "id": "D_XqISUt-s_5",
        "outputId": "bc375360-20f1-4306-faf6-f539a75101c2"
      },
      "execution_count": 30,
      "outputs": [
        {
          "output_type": "stream",
          "name": "stdout",
          "text": [
            "Taken Parameters: {'C': 0.5, 'gamma': 'scale', 'random_seed': 2}\n",
            "Accuracy: 0.7530653266331658\n",
            "Taken Parameters: {'C': 1.0, 'gamma': 'scale', 'random_seed': 1}\n",
            "Accuracy: 0.7839195979899497\n",
            "Taken Parameters: {'C': 2.0, 'gamma': 'scale', 'random_seed': 2}\n",
            "Accuracy: 0.7962814070351759\n",
            "Taken Parameters: {'C': 3.0, 'gamma': 'scale', 'random_seed': 1}\n",
            "Accuracy: 0.79356783919598\n",
            "Taken Parameters: {'C': 0.5, 'gamma': 'scale', 'random_seed': 1}\n",
            "Accuracy: 0.7530653266331658\n",
            "Taken Parameters: {'C': 1.0, 'gamma': 'auto', 'random_seed': 2}\n",
            "Accuracy: 0.7839195979899497\n",
            "Taken Parameters: {'C': 2.0, 'gamma': 'auto', 'random_seed': 1}\n",
            "Accuracy: 0.7962814070351759\n",
            "Taken Parameters: {'C': 3.0, 'gamma': 'auto', 'random_seed': 2}\n",
            "Accuracy: 0.79356783919598\n",
            "Best Hyperparameters:\n",
            "{'C': 2.0, 'gamma': 'scale', 'random_seed': 2}\n",
            "Best Accuracy: 79.63%\n"
          ]
        }
      ]
    },
    {
      "cell_type": "code",
      "source": [
        "# Predictions from individual SVM models\n",
        "individual_predictions = [model.predict(val_features_scaled) for model in svm_models]\n",
        "\n",
        "# Ensemble predictions by averaging\n",
        "ensemble_predictions_avg = np.mean(individual_predictions, axis=0)\n",
        "\n",
        "# Ensemble predictions by voting\n",
        "ensemble_predictions_vote = np.round(np.mean(individual_predictions, axis=0))\n",
        "\n",
        "# Convert ensemble predictions to discrete values (0 or 1)\n",
        "ensemble_predictions_avg_discrete = np.round(ensemble_predictions_avg)\n",
        "ensemble_predictions_vote_discrete = np.round(ensemble_predictions_vote)\n",
        "\n",
        "# Calculate accuracy for ensemble predictions\n",
        "accuracy_avg_discrete = accuracy_score(val_labels, ensemble_predictions_avg_discrete)\n",
        "SVM_accuracy_vote_discrete = accuracy_score(val_labels, ensemble_predictions_vote_discrete)\n",
        "\n",
        "print(\"Ensemble Accuracy (Averaging) after conversion: {:.2f}%\".format(accuracy_avg_discrete * 100))\n",
        "print(\"Ensemble Accuracy (Voting) after conversion: {:.2f}%\".format(SVM_accuracy_vote_discrete * 100))"
      ],
      "metadata": {
        "colab": {
          "base_uri": "https://localhost:8080/"
        },
        "id": "sw_Oi5P2_DUc",
        "outputId": "1a7da23a-be4d-4e84-9205-2e0b63e68a1c"
      },
      "execution_count": 31,
      "outputs": [
        {
          "output_type": "stream",
          "name": "stdout",
          "text": [
            "Ensemble Accuracy (Averaging) after conversion: 72.38%\n",
            "Ensemble Accuracy (Voting) after conversion: 72.38%\n"
          ]
        }
      ]
    },
    {
      "cell_type": "markdown",
      "source": [
        "Custom CNN"
      ],
      "metadata": {
        "id": "ae3e2NTgzaVf"
      }
    },
    {
      "cell_type": "code",
      "source": [
        "import torch\n",
        "import torch.nn as nn\n",
        "import torch.optim as optim\n",
        "from torchvision import datasets, transforms\n",
        "from torch.utils.data import Dataset,DataLoader, Subset, random_split\n",
        "from sklearn.decomposition import PCA\n",
        "import numpy as np\n",
        "import matplotlib.pyplot as plt\n",
        "from sklearn.model_selection import KFold\n",
        "import torch.nn.functional as F\n",
        "from torch.optim.lr_scheduler import ReduceLROnPlateau"
      ],
      "metadata": {
        "id": "Lv2lkstnzdke"
      },
      "execution_count": 32,
      "outputs": []
    },
    {
      "cell_type": "code",
      "source": [
        "device = \"cuda\" if torch.cuda.is_available() else \"cpu\"\n",
        "print(device)"
      ],
      "metadata": {
        "colab": {
          "base_uri": "https://localhost:8080/"
        },
        "id": "mT1zsMaRziqi",
        "outputId": "51443cf6-c680-4d24-d8e9-7945aba8f16d"
      },
      "execution_count": 33,
      "outputs": [
        {
          "output_type": "stream",
          "name": "stdout",
          "text": [
            "cuda\n"
          ]
        }
      ]
    },
    {
      "cell_type": "code",
      "source": [
        "train_transform = transforms.Compose([\n",
        "    transforms.RandomHorizontalFlip(),\n",
        "    transforms.RandomCrop(32, padding=4),\n",
        "    transforms.RandomRotation(20),\n",
        "    transforms.ColorJitter(brightness=0.2, contrast=0.2, saturation=0.2, hue=0.1),\n",
        "    transforms.ToTensor(),\n",
        "    transforms.Normalize(mean=[0.4914, 0.4822, 0.4465], std=[0.247, 0.243, 0.261])\n",
        "])\n",
        "\n",
        "test_transform = transforms.Compose([\n",
        "    transforms.ToTensor(),\n",
        "    transforms.Normalize(mean=[0.4914, 0.4822, 0.4465], std=[0.247, 0.243, 0.261])\n",
        "])"
      ],
      "metadata": {
        "id": "3PcZBRcczn3W"
      },
      "execution_count": 34,
      "outputs": []
    },
    {
      "cell_type": "code",
      "source": [
        "trainset = datasets.CIFAR10(root='./data', train=True, download=True)\n",
        "testset = datasets.CIFAR10(root='./data', train=False, download=True, transform=test_transform)"
      ],
      "metadata": {
        "colab": {
          "base_uri": "https://localhost:8080/"
        },
        "id": "AZLpijKXzr7w",
        "outputId": "25cd4afd-b387-486b-9aba-9e56c1a42301"
      },
      "execution_count": 35,
      "outputs": [
        {
          "output_type": "stream",
          "name": "stdout",
          "text": [
            "Files already downloaded and verified\n",
            "Files already downloaded and verified\n"
          ]
        }
      ]
    },
    {
      "cell_type": "code",
      "source": [
        "class TransformSubset(Dataset):\n",
        "    def __init__(self, subset, transform=None):\n",
        "        self.subset = subset\n",
        "        self.transform = transform\n",
        "\n",
        "    def __len__(self):\n",
        "        return len(self.subset)\n",
        "\n",
        "    def __getitem__(self, idx):\n",
        "        x, y = self.subset[idx]\n",
        "        if self.transform:\n",
        "            x = self.transform(x)\n",
        "        return x, y"
      ],
      "metadata": {
        "id": "xQrT2HiszunH"
      },
      "execution_count": 36,
      "outputs": []
    },
    {
      "cell_type": "code",
      "source": [
        "class CustomCNN(nn.Module):\n",
        "    def __init__(self):\n",
        "        super(CustomCNN, self).__init__()\n",
        "        self.conv_layers = nn.Sequential(\n",
        "            nn.Conv2d(3, 32, kernel_size=3, padding=1),\n",
        "            nn.BatchNorm2d(32),\n",
        "            nn.ReLU(),\n",
        "            nn.Conv2d(32, 64, kernel_size=3, padding=1),\n",
        "            nn.BatchNorm2d(64),\n",
        "            nn.ReLU(),\n",
        "            nn.Conv2d(64, 64, kernel_size=3, padding=1),\n",
        "            nn.BatchNorm2d(64),\n",
        "            nn.ReLU(),\n",
        "            nn.MaxPool2d(kernel_size=2, stride=2),\n",
        "            nn.Dropout(0.25),\n",
        "            nn.Conv2d(64, 128, kernel_size=3, padding=1),\n",
        "            nn.BatchNorm2d(128),\n",
        "            nn.ReLU(),\n",
        "            nn.MaxPool2d(kernel_size=2, stride=2),\n",
        "        )\n",
        "        self.global_avg_pool = nn.AdaptiveAvgPool2d((1, 1))\n",
        "        self.fc_layers = nn.Sequential(\n",
        "            nn.Dropout(0.5),\n",
        "            nn.Linear(128, 512),\n",
        "            nn.ReLU(),\n",
        "            nn.Dropout(0.5),\n",
        "            nn.Linear(512, 10)\n",
        "        )\n",
        "\n",
        "    def forward(self, x):\n",
        "        x = self.conv_layers(x)\n",
        "        x = self.global_avg_pool(x)\n",
        "        x = torch.flatten(x, 1)\n",
        "        x = self.fc_layers(x)\n",
        "        return x"
      ],
      "metadata": {
        "id": "iLk_Cfl8zxAK"
      },
      "execution_count": 37,
      "outputs": []
    },
    {
      "cell_type": "code",
      "source": [
        "k_folds = 5\n",
        "kfold = KFold(n_splits=k_folds, shuffle=True, random_state=42)"
      ],
      "metadata": {
        "id": "hi6Ppgnzz06v"
      },
      "execution_count": 38,
      "outputs": []
    },
    {
      "cell_type": "code",
      "source": [
        "best_val_accuracy = 0\n",
        "best_model_weights = None"
      ],
      "metadata": {
        "id": "-GnSzhulz3nF"
      },
      "execution_count": 39,
      "outputs": []
    },
    {
      "cell_type": "code",
      "source": [
        "def train(model, device, train_loader, optimizer, criterion):\n",
        "    model.train()\n",
        "    total_loss = 0\n",
        "    correct = 0\n",
        "    total = 0\n",
        "    for batch_idx, (data, targets) in enumerate(train_loader):\n",
        "        data, targets = data.to(device), targets.to(device)\n",
        "        optimizer.zero_grad()\n",
        "        output = model(data)\n",
        "        loss = criterion(output, targets)\n",
        "        loss.backward()\n",
        "        optimizer.step()\n",
        "\n",
        "        total_loss += loss.item()\n",
        "        _, predicted = torch.max(output.data, 1)\n",
        "        total += targets.size(0)\n",
        "        correct += (predicted == targets).sum().item()\n",
        "    avg_loss = total_loss / len(train_loader)\n",
        "    accuracy = 100. * correct / total\n",
        "    return avg_loss, accuracy"
      ],
      "metadata": {
        "id": "fsVuNHkcz6Gf"
      },
      "execution_count": 40,
      "outputs": []
    },
    {
      "cell_type": "code",
      "source": [
        "def validate(model, device, val_loader, criterion):\n",
        "    model.eval()\n",
        "    total_loss = 0\n",
        "    correct = 0\n",
        "    total = 0\n",
        "    with torch.no_grad():\n",
        "        for batch_idx, (data, targets) in enumerate(val_loader):\n",
        "            data, targets = data.to(device), targets.to(device)\n",
        "            output = model(data)\n",
        "            loss = criterion(output, targets)\n",
        "\n",
        "            total_loss += loss.item()\n",
        "            _, predicted = torch.max(output.data, 1)\n",
        "            total += targets.size(0)\n",
        "            correct += (predicted == targets).sum().item()\n",
        "    avg_loss = total_loss / len(val_loader)\n",
        "    accuracy = 100. * correct / total\n",
        "    return avg_loss, accuracy"
      ],
      "metadata": {
        "id": "95RXjepHz81S"
      },
      "execution_count": 41,
      "outputs": []
    },
    {
      "cell_type": "code",
      "source": [
        "for fold, (train_ids, val_ids) in enumerate(kfold.split(trainset)):\n",
        "    print(f'FOLD {fold}')\n",
        "    print('--------------------------------')\n",
        "\n",
        "    train_indices = [i for i, (_, label) in enumerate(trainset) if label in selected_classes]\n",
        "\n",
        "    N = 25\n",
        "    class_counts = {label: 0 for label in selected_classes}\n",
        "    filtered_train_indices = []\n",
        "\n",
        "    for i in train_indices:\n",
        "        _, label = trainset[i]\n",
        "        if class_counts[label] < N:\n",
        "            filtered_train_indices.append(i)\n",
        "            class_counts[label] += 1\n",
        "\n",
        "\n",
        "    np.random.seed(42)\n",
        "    np.random.shuffle(filtered_train_indices)\n",
        "    split = int(0.8 * len(filtered_train_indices))\n",
        "    train_idx, val_idx = filtered_train_indices[:split], filtered_train_indices[split:]\n",
        "\n",
        "    train_subset = Subset(trainset, train_idx)\n",
        "    transformed_train_subset = TransformSubset(train_subset, transform=train_transform)\n",
        "\n",
        "    val_subset = Subset(trainset, val_idx)\n",
        "    transformed_val_subset = TransformSubset(val_subset, transform=test_transform)\n",
        "\n",
        "    train_loader = DataLoader(transformed_train_subset, batch_size=5, shuffle=True)\n",
        "    val_loader = DataLoader(transformed_val_subset, batch_size=5, shuffle=False)\n",
        "\n",
        "\n",
        "    # Init the neural network\n",
        "    model = CustomCNN().to(device)\n",
        "\n",
        "    # Initialize optimizer\n",
        "    optimizer = optim.Adam(model.parameters(), lr=0.01, weight_decay=0.005)\n",
        "    criterion = nn.CrossEntropyLoss()\n",
        "\n",
        "    # Initilization of scheduler\n",
        "    scheduler = ReduceLROnPlateau(optimizer, mode='min', factor=0.1, patience=3, verbose=True)\n",
        "\n",
        "\n",
        "    best_val_loss = float('inf')\n",
        "    patience_counter = 0\n",
        "    patience = 25\n",
        "\n",
        "\n",
        "    # Run the training loop for defined number of epochs\n",
        "    num_epochs = 50\n",
        "    for epoch in range(num_epochs):\n",
        "        # Print epoch\n",
        "        print(f'Starting epoch {epoch+1}')\n",
        "\n",
        "        # Perform training and validation\n",
        "        train_loss, train_accuracy = train(model, device, train_loader, optimizer, criterion)\n",
        "        val_loss, val_accuracy = validate(model, device, val_loader, criterion)\n",
        "\n",
        "        print(f'Train Loss: {train_loss:.4f}, Train Acc: {train_accuracy:.2f}%, Val Loss: {val_loss:.4f}, Val Acc: {val_accuracy:.2f}%')\n",
        "\n",
        "        # Save the model if it has the best val accuracy so far\n",
        "        if val_loss < best_val_loss:\n",
        "            best_val_loss = val_loss\n",
        "             # Save the best model weights\n",
        "            best_model_weights = model.state_dict().copy()\n",
        "            patience_counter = 0\n",
        "        else:\n",
        "            patience_counter += 1\n",
        "            # Stop training if no improvement\n",
        "            if patience_counter >= patience:\n",
        "                print(\"Early stopping triggered.\")\n",
        "                break\n",
        "\n",
        "        # Step the learning rate scheduler\n",
        "        scheduler.step(val_loss)\n",
        "\n",
        "    print('--------------------------------')\n",
        "\n",
        "# Save the best model weights\n",
        "torch.save(best_model_weights, 'CNN_best_model.pth')\n",
        "print(f'Best validation accuracy of {best_val_accuracy:.2f}% achieved, model saved as CNN_best_model.pth')"
      ],
      "metadata": {
        "colab": {
          "base_uri": "https://localhost:8080/"
        },
        "id": "TqTLV2H6z_hT",
        "outputId": "c767f92a-6d39-4153-b6c9-3705d3221370"
      },
      "execution_count": 42,
      "outputs": [
        {
          "output_type": "stream",
          "name": "stdout",
          "text": [
            "FOLD 0\n",
            "--------------------------------\n"
          ]
        },
        {
          "output_type": "stream",
          "name": "stderr",
          "text": [
            "/usr/local/lib/python3.10/dist-packages/torch/optim/lr_scheduler.py:28: UserWarning: The verbose parameter is deprecated. Please use get_last_lr() to access the learning rate.\n",
            "  warnings.warn(\"The verbose parameter is deprecated. Please use get_last_lr() \"\n"
          ]
        },
        {
          "output_type": "stream",
          "name": "stdout",
          "text": [
            "Starting epoch 1\n",
            "Train Loss: 1.6392, Train Acc: 45.00%, Val Loss: 6.6432, Val Acc: 70.00%\n",
            "Starting epoch 2\n",
            "Train Loss: 1.3654, Train Acc: 57.50%, Val Loss: 4.9183, Val Acc: 50.00%\n",
            "Starting epoch 3\n",
            "Train Loss: 1.5111, Train Acc: 57.50%, Val Loss: 2.6562, Val Acc: 50.00%\n",
            "Starting epoch 4\n",
            "Train Loss: 1.7141, Train Acc: 60.00%, Val Loss: 1.9212, Val Acc: 30.00%\n",
            "Starting epoch 5\n",
            "Train Loss: 0.9353, Train Acc: 52.50%, Val Loss: 0.4701, Val Acc: 80.00%\n",
            "Starting epoch 6\n",
            "Train Loss: 1.1356, Train Acc: 47.50%, Val Loss: 0.4933, Val Acc: 70.00%\n",
            "Starting epoch 7\n",
            "Train Loss: 0.6907, Train Acc: 70.00%, Val Loss: 0.9504, Val Acc: 60.00%\n",
            "Starting epoch 8\n",
            "Train Loss: 0.6925, Train Acc: 65.00%, Val Loss: 0.7055, Val Acc: 60.00%\n",
            "Starting epoch 9\n",
            "Train Loss: 0.7149, Train Acc: 67.50%, Val Loss: 0.9551, Val Acc: 60.00%\n",
            "Starting epoch 10\n",
            "Train Loss: 0.5995, Train Acc: 77.50%, Val Loss: 0.8368, Val Acc: 60.00%\n",
            "Starting epoch 11\n",
            "Train Loss: 0.7980, Train Acc: 67.50%, Val Loss: 0.8053, Val Acc: 60.00%\n",
            "Starting epoch 12\n",
            "Train Loss: 0.4673, Train Acc: 85.00%, Val Loss: 0.8005, Val Acc: 60.00%\n",
            "Starting epoch 13\n",
            "Train Loss: 0.6421, Train Acc: 72.50%, Val Loss: 0.7122, Val Acc: 60.00%\n",
            "Starting epoch 14\n",
            "Train Loss: 0.6309, Train Acc: 72.50%, Val Loss: 0.7374, Val Acc: 60.00%\n",
            "Starting epoch 15\n",
            "Train Loss: 0.6384, Train Acc: 72.50%, Val Loss: 0.7016, Val Acc: 60.00%\n",
            "Starting epoch 16\n",
            "Train Loss: 0.7059, Train Acc: 57.50%, Val Loss: 0.7003, Val Acc: 60.00%\n",
            "Starting epoch 17\n",
            "Train Loss: 0.5029, Train Acc: 65.00%, Val Loss: 0.7248, Val Acc: 60.00%\n",
            "Starting epoch 18\n",
            "Train Loss: 0.4591, Train Acc: 82.50%, Val Loss: 0.6932, Val Acc: 70.00%\n",
            "Starting epoch 19\n",
            "Train Loss: 0.6376, Train Acc: 72.50%, Val Loss: 0.6875, Val Acc: 70.00%\n",
            "Starting epoch 20\n",
            "Train Loss: 0.7723, Train Acc: 62.50%, Val Loss: 0.6866, Val Acc: 70.00%\n",
            "Starting epoch 21\n",
            "Train Loss: 0.6437, Train Acc: 75.00%, Val Loss: 0.6912, Val Acc: 70.00%\n",
            "Starting epoch 22\n",
            "Train Loss: 0.4531, Train Acc: 77.50%, Val Loss: 0.7138, Val Acc: 60.00%\n",
            "Starting epoch 23\n",
            "Train Loss: 0.6104, Train Acc: 72.50%, Val Loss: 0.7573, Val Acc: 60.00%\n",
            "Starting epoch 24\n",
            "Train Loss: 0.6291, Train Acc: 70.00%, Val Loss: 0.7514, Val Acc: 60.00%\n",
            "Starting epoch 25\n",
            "Train Loss: 0.5812, Train Acc: 72.50%, Val Loss: 0.7419, Val Acc: 60.00%\n",
            "Starting epoch 26\n",
            "Train Loss: 0.6473, Train Acc: 77.50%, Val Loss: 0.7341, Val Acc: 60.00%\n",
            "Starting epoch 27\n",
            "Train Loss: 0.4316, Train Acc: 82.50%, Val Loss: 0.7140, Val Acc: 60.00%\n",
            "Starting epoch 28\n",
            "Train Loss: 0.5705, Train Acc: 72.50%, Val Loss: 0.7136, Val Acc: 60.00%\n",
            "Starting epoch 29\n",
            "Train Loss: 0.3763, Train Acc: 80.00%, Val Loss: 0.7234, Val Acc: 60.00%\n",
            "Starting epoch 30\n",
            "Train Loss: 0.5766, Train Acc: 72.50%, Val Loss: 0.6851, Val Acc: 70.00%\n",
            "Early stopping triggered.\n",
            "--------------------------------\n",
            "FOLD 1\n",
            "--------------------------------\n",
            "Starting epoch 1\n",
            "Train Loss: 1.2885, Train Acc: 57.50%, Val Loss: 4.7565, Val Acc: 70.00%\n",
            "Starting epoch 2\n",
            "Train Loss: 1.1910, Train Acc: 67.50%, Val Loss: 1.8745, Val Acc: 90.00%\n",
            "Starting epoch 3\n",
            "Train Loss: 1.9083, Train Acc: 45.00%, Val Loss: 1.6067, Val Acc: 70.00%\n",
            "Starting epoch 4\n",
            "Train Loss: 1.0026, Train Acc: 57.50%, Val Loss: 0.5079, Val Acc: 70.00%\n",
            "Starting epoch 5\n",
            "Train Loss: 0.9680, Train Acc: 67.50%, Val Loss: 0.5771, Val Acc: 80.00%\n",
            "Starting epoch 6\n",
            "Train Loss: 0.7429, Train Acc: 67.50%, Val Loss: 0.3475, Val Acc: 80.00%\n",
            "Starting epoch 7\n",
            "Train Loss: 0.7006, Train Acc: 72.50%, Val Loss: 1.0760, Val Acc: 60.00%\n",
            "Starting epoch 8\n",
            "Train Loss: 0.5784, Train Acc: 77.50%, Val Loss: 0.9373, Val Acc: 70.00%\n",
            "Starting epoch 9\n",
            "Train Loss: 0.6739, Train Acc: 72.50%, Val Loss: 0.7427, Val Acc: 70.00%\n",
            "Starting epoch 10\n",
            "Train Loss: 0.8267, Train Acc: 57.50%, Val Loss: 2.5974, Val Acc: 30.00%\n",
            "Starting epoch 11\n",
            "Train Loss: 0.7340, Train Acc: 65.00%, Val Loss: 1.1603, Val Acc: 30.00%\n",
            "Starting epoch 12\n",
            "Train Loss: 0.6724, Train Acc: 67.50%, Val Loss: 0.5327, Val Acc: 90.00%\n",
            "Starting epoch 13\n",
            "Train Loss: 0.6405, Train Acc: 67.50%, Val Loss: 0.3987, Val Acc: 90.00%\n",
            "Starting epoch 14\n",
            "Train Loss: 0.5449, Train Acc: 80.00%, Val Loss: 0.3985, Val Acc: 90.00%\n",
            "Starting epoch 15\n",
            "Train Loss: 0.7653, Train Acc: 72.50%, Val Loss: 0.3935, Val Acc: 90.00%\n",
            "Starting epoch 16\n",
            "Train Loss: 0.5712, Train Acc: 80.00%, Val Loss: 0.3945, Val Acc: 80.00%\n",
            "Starting epoch 17\n",
            "Train Loss: 0.5345, Train Acc: 77.50%, Val Loss: 0.3841, Val Acc: 80.00%\n",
            "Starting epoch 18\n",
            "Train Loss: 0.5915, Train Acc: 65.00%, Val Loss: 0.4056, Val Acc: 80.00%\n",
            "Starting epoch 19\n",
            "Train Loss: 0.6671, Train Acc: 70.00%, Val Loss: 0.3981, Val Acc: 80.00%\n",
            "Starting epoch 20\n",
            "Train Loss: 0.6044, Train Acc: 75.00%, Val Loss: 0.4046, Val Acc: 80.00%\n",
            "Starting epoch 21\n",
            "Train Loss: 0.5113, Train Acc: 75.00%, Val Loss: 0.4010, Val Acc: 80.00%\n",
            "Starting epoch 22\n",
            "Train Loss: 0.6263, Train Acc: 70.00%, Val Loss: 0.4099, Val Acc: 80.00%\n",
            "Starting epoch 23\n",
            "Train Loss: 0.6124, Train Acc: 75.00%, Val Loss: 0.4125, Val Acc: 80.00%\n",
            "Starting epoch 24\n",
            "Train Loss: 0.5106, Train Acc: 77.50%, Val Loss: 0.4051, Val Acc: 80.00%\n",
            "Starting epoch 25\n",
            "Train Loss: 0.3680, Train Acc: 90.00%, Val Loss: 0.4102, Val Acc: 80.00%\n",
            "Starting epoch 26\n",
            "Train Loss: 0.6680, Train Acc: 62.50%, Val Loss: 0.3963, Val Acc: 90.00%\n",
            "Starting epoch 27\n",
            "Train Loss: 0.6760, Train Acc: 72.50%, Val Loss: 0.3803, Val Acc: 80.00%\n",
            "Starting epoch 28\n",
            "Train Loss: 0.6960, Train Acc: 70.00%, Val Loss: 0.3997, Val Acc: 80.00%\n",
            "Starting epoch 29\n",
            "Train Loss: 0.4362, Train Acc: 77.50%, Val Loss: 0.3953, Val Acc: 80.00%\n",
            "Starting epoch 30\n",
            "Train Loss: 0.3937, Train Acc: 72.50%, Val Loss: 0.3890, Val Acc: 90.00%\n",
            "Starting epoch 31\n",
            "Train Loss: 0.4568, Train Acc: 77.50%, Val Loss: 0.3917, Val Acc: 80.00%\n",
            "Early stopping triggered.\n",
            "--------------------------------\n",
            "FOLD 2\n",
            "--------------------------------\n",
            "Starting epoch 1\n",
            "Train Loss: 1.5225, Train Acc: 47.50%, Val Loss: 4.6295, Val Acc: 70.00%\n",
            "Starting epoch 2\n",
            "Train Loss: 1.0351, Train Acc: 60.00%, Val Loss: 2.0230, Val Acc: 70.00%\n",
            "Starting epoch 3\n",
            "Train Loss: 1.2403, Train Acc: 67.50%, Val Loss: 1.4720, Val Acc: 60.00%\n",
            "Starting epoch 4\n",
            "Train Loss: 1.3446, Train Acc: 47.50%, Val Loss: 0.6442, Val Acc: 70.00%\n",
            "Starting epoch 5\n",
            "Train Loss: 1.0773, Train Acc: 65.00%, Val Loss: 0.4998, Val Acc: 70.00%\n",
            "Starting epoch 6\n",
            "Train Loss: 0.7123, Train Acc: 80.00%, Val Loss: 0.5734, Val Acc: 70.00%\n",
            "Starting epoch 7\n",
            "Train Loss: 0.4828, Train Acc: 80.00%, Val Loss: 0.7839, Val Acc: 60.00%\n",
            "Starting epoch 8\n",
            "Train Loss: 0.9296, Train Acc: 55.00%, Val Loss: 0.9670, Val Acc: 60.00%\n",
            "Starting epoch 9\n",
            "Train Loss: 0.6418, Train Acc: 72.50%, Val Loss: 1.8065, Val Acc: 30.00%\n",
            "Starting epoch 10\n",
            "Train Loss: 0.5273, Train Acc: 82.50%, Val Loss: 1.2695, Val Acc: 50.00%\n",
            "Starting epoch 11\n",
            "Train Loss: 0.5138, Train Acc: 77.50%, Val Loss: 0.9329, Val Acc: 60.00%\n",
            "Starting epoch 12\n",
            "Train Loss: 0.3917, Train Acc: 82.50%, Val Loss: 0.7480, Val Acc: 70.00%\n",
            "Starting epoch 13\n",
            "Train Loss: 0.5767, Train Acc: 82.50%, Val Loss: 0.7652, Val Acc: 60.00%\n",
            "Starting epoch 14\n",
            "Train Loss: 0.4298, Train Acc: 87.50%, Val Loss: 0.7098, Val Acc: 70.00%\n",
            "Starting epoch 15\n",
            "Train Loss: 0.4895, Train Acc: 77.50%, Val Loss: 0.6741, Val Acc: 70.00%\n",
            "Starting epoch 16\n",
            "Train Loss: 0.7669, Train Acc: 67.50%, Val Loss: 0.6809, Val Acc: 70.00%\n",
            "Starting epoch 17\n",
            "Train Loss: 0.4150, Train Acc: 82.50%, Val Loss: 0.7288, Val Acc: 70.00%\n",
            "Starting epoch 18\n",
            "Train Loss: 0.3459, Train Acc: 87.50%, Val Loss: 0.7451, Val Acc: 60.00%\n",
            "Starting epoch 19\n",
            "Train Loss: 0.4225, Train Acc: 85.00%, Val Loss: 0.7293, Val Acc: 60.00%\n",
            "Starting epoch 20\n",
            "Train Loss: 0.5045, Train Acc: 75.00%, Val Loss: 0.7315, Val Acc: 70.00%\n",
            "Starting epoch 21\n",
            "Train Loss: 0.6379, Train Acc: 70.00%, Val Loss: 0.7102, Val Acc: 70.00%\n",
            "Starting epoch 22\n",
            "Train Loss: 0.3087, Train Acc: 85.00%, Val Loss: 0.6909, Val Acc: 70.00%\n",
            "Starting epoch 23\n",
            "Train Loss: 0.6812, Train Acc: 62.50%, Val Loss: 0.6918, Val Acc: 70.00%\n",
            "Starting epoch 24\n",
            "Train Loss: 0.6042, Train Acc: 75.00%, Val Loss: 0.7081, Val Acc: 70.00%\n",
            "Starting epoch 25\n",
            "Train Loss: 0.4917, Train Acc: 82.50%, Val Loss: 0.7281, Val Acc: 70.00%\n",
            "Starting epoch 26\n",
            "Train Loss: 0.4526, Train Acc: 77.50%, Val Loss: 0.7285, Val Acc: 70.00%\n",
            "Starting epoch 27\n",
            "Train Loss: 0.4402, Train Acc: 82.50%, Val Loss: 0.7241, Val Acc: 70.00%\n",
            "Starting epoch 28\n",
            "Train Loss: 0.4652, Train Acc: 75.00%, Val Loss: 0.6920, Val Acc: 70.00%\n",
            "Starting epoch 29\n",
            "Train Loss: 0.3532, Train Acc: 82.50%, Val Loss: 0.6983, Val Acc: 70.00%\n",
            "Starting epoch 30\n",
            "Train Loss: 0.4336, Train Acc: 75.00%, Val Loss: 0.6952, Val Acc: 70.00%\n",
            "Early stopping triggered.\n",
            "--------------------------------\n",
            "FOLD 3\n",
            "--------------------------------\n",
            "Starting epoch 1\n",
            "Train Loss: 1.4446, Train Acc: 57.50%, Val Loss: 15.6496, Val Acc: 70.00%\n",
            "Starting epoch 2\n",
            "Train Loss: 1.7664, Train Acc: 60.00%, Val Loss: 1.1199, Val Acc: 70.00%\n",
            "Starting epoch 3\n",
            "Train Loss: 1.2073, Train Acc: 62.50%, Val Loss: 0.4106, Val Acc: 80.00%\n",
            "Starting epoch 4\n",
            "Train Loss: 0.8105, Train Acc: 72.50%, Val Loss: 0.6212, Val Acc: 80.00%\n",
            "Starting epoch 5\n",
            "Train Loss: 1.0008, Train Acc: 75.00%, Val Loss: 1.1036, Val Acc: 70.00%\n",
            "Starting epoch 6\n",
            "Train Loss: 0.8415, Train Acc: 67.50%, Val Loss: 0.6128, Val Acc: 70.00%\n",
            "Starting epoch 7\n",
            "Train Loss: 0.6092, Train Acc: 70.00%, Val Loss: 0.6838, Val Acc: 60.00%\n",
            "Starting epoch 8\n",
            "Train Loss: 0.9118, Train Acc: 52.50%, Val Loss: 0.5406, Val Acc: 70.00%\n",
            "Starting epoch 9\n",
            "Train Loss: 0.5141, Train Acc: 77.50%, Val Loss: 0.4869, Val Acc: 70.00%\n",
            "Starting epoch 10\n",
            "Train Loss: 1.1519, Train Acc: 65.00%, Val Loss: 0.5678, Val Acc: 70.00%\n",
            "Starting epoch 11\n",
            "Train Loss: 1.1708, Train Acc: 70.00%, Val Loss: 0.6936, Val Acc: 70.00%\n",
            "Starting epoch 12\n",
            "Train Loss: 0.8077, Train Acc: 77.50%, Val Loss: 0.6713, Val Acc: 70.00%\n",
            "Starting epoch 13\n",
            "Train Loss: 0.7038, Train Acc: 72.50%, Val Loss: 0.6363, Val Acc: 70.00%\n",
            "Starting epoch 14\n",
            "Train Loss: 0.9604, Train Acc: 67.50%, Val Loss: 0.6555, Val Acc: 70.00%\n",
            "Starting epoch 15\n",
            "Train Loss: 0.8569, Train Acc: 57.50%, Val Loss: 0.6661, Val Acc: 70.00%\n",
            "Starting epoch 16\n",
            "Train Loss: 0.5659, Train Acc: 82.50%, Val Loss: 0.6738, Val Acc: 70.00%\n",
            "Starting epoch 17\n",
            "Train Loss: 0.9920, Train Acc: 65.00%, Val Loss: 0.6151, Val Acc: 70.00%\n",
            "Starting epoch 18\n",
            "Train Loss: 0.9407, Train Acc: 70.00%, Val Loss: 0.6157, Val Acc: 70.00%\n",
            "Starting epoch 19\n",
            "Train Loss: 1.3168, Train Acc: 65.00%, Val Loss: 0.6479, Val Acc: 70.00%\n",
            "Starting epoch 20\n",
            "Train Loss: 0.9630, Train Acc: 72.50%, Val Loss: 0.6182, Val Acc: 70.00%\n",
            "Starting epoch 21\n",
            "Train Loss: 0.8140, Train Acc: 70.00%, Val Loss: 0.6370, Val Acc: 70.00%\n",
            "Starting epoch 22\n",
            "Train Loss: 0.6583, Train Acc: 72.50%, Val Loss: 0.6390, Val Acc: 70.00%\n",
            "Starting epoch 23\n",
            "Train Loss: 0.5270, Train Acc: 77.50%, Val Loss: 0.6696, Val Acc: 70.00%\n",
            "Starting epoch 24\n",
            "Train Loss: 0.9596, Train Acc: 65.00%, Val Loss: 0.6558, Val Acc: 70.00%\n",
            "Starting epoch 25\n",
            "Train Loss: 0.7958, Train Acc: 67.50%, Val Loss: 0.6475, Val Acc: 70.00%\n",
            "Starting epoch 26\n",
            "Train Loss: 0.7326, Train Acc: 65.00%, Val Loss: 0.6353, Val Acc: 70.00%\n",
            "Starting epoch 27\n",
            "Train Loss: 0.5075, Train Acc: 77.50%, Val Loss: 0.6462, Val Acc: 70.00%\n",
            "Starting epoch 28\n",
            "Train Loss: 0.6355, Train Acc: 70.00%, Val Loss: 0.6582, Val Acc: 70.00%\n",
            "Early stopping triggered.\n",
            "--------------------------------\n",
            "FOLD 4\n",
            "--------------------------------\n",
            "Starting epoch 1\n",
            "Train Loss: 1.5682, Train Acc: 42.50%, Val Loss: 3.0077, Val Acc: 70.00%\n",
            "Starting epoch 2\n",
            "Train Loss: 0.8816, Train Acc: 65.00%, Val Loss: 2.1984, Val Acc: 30.00%\n",
            "Starting epoch 3\n",
            "Train Loss: 0.9361, Train Acc: 62.50%, Val Loss: 0.3498, Val Acc: 80.00%\n",
            "Starting epoch 4\n",
            "Train Loss: 1.0867, Train Acc: 65.00%, Val Loss: 0.3372, Val Acc: 80.00%\n",
            "Starting epoch 5\n",
            "Train Loss: 0.8609, Train Acc: 67.50%, Val Loss: 1.4173, Val Acc: 50.00%\n",
            "Starting epoch 6\n",
            "Train Loss: 0.6725, Train Acc: 65.00%, Val Loss: 1.1454, Val Acc: 50.00%\n",
            "Starting epoch 7\n",
            "Train Loss: 0.9633, Train Acc: 65.00%, Val Loss: 0.5337, Val Acc: 70.00%\n",
            "Starting epoch 8\n",
            "Train Loss: 0.6535, Train Acc: 70.00%, Val Loss: 0.5347, Val Acc: 70.00%\n",
            "Starting epoch 9\n",
            "Train Loss: 0.6185, Train Acc: 70.00%, Val Loss: 0.4646, Val Acc: 80.00%\n",
            "Starting epoch 10\n",
            "Train Loss: 0.4427, Train Acc: 80.00%, Val Loss: 0.5360, Val Acc: 70.00%\n",
            "Starting epoch 11\n",
            "Train Loss: 0.9457, Train Acc: 65.00%, Val Loss: 0.6974, Val Acc: 60.00%\n",
            "Starting epoch 12\n",
            "Train Loss: 0.7541, Train Acc: 60.00%, Val Loss: 0.6000, Val Acc: 70.00%\n",
            "Starting epoch 13\n",
            "Train Loss: 0.7292, Train Acc: 60.00%, Val Loss: 0.5575, Val Acc: 70.00%\n",
            "Starting epoch 14\n",
            "Train Loss: 0.3713, Train Acc: 85.00%, Val Loss: 0.5738, Val Acc: 70.00%\n",
            "Starting epoch 15\n",
            "Train Loss: 0.5341, Train Acc: 72.50%, Val Loss: 0.5942, Val Acc: 70.00%\n",
            "Starting epoch 16\n",
            "Train Loss: 0.6960, Train Acc: 70.00%, Val Loss: 0.6279, Val Acc: 70.00%\n",
            "Starting epoch 17\n",
            "Train Loss: 0.4967, Train Acc: 80.00%, Val Loss: 0.5772, Val Acc: 70.00%\n",
            "Starting epoch 18\n",
            "Train Loss: 0.4736, Train Acc: 80.00%, Val Loss: 0.5797, Val Acc: 70.00%\n",
            "Starting epoch 19\n",
            "Train Loss: 0.6957, Train Acc: 70.00%, Val Loss: 0.5565, Val Acc: 70.00%\n",
            "Starting epoch 20\n",
            "Train Loss: 0.8675, Train Acc: 65.00%, Val Loss: 0.5796, Val Acc: 70.00%\n",
            "Starting epoch 21\n",
            "Train Loss: 0.5918, Train Acc: 72.50%, Val Loss: 0.6014, Val Acc: 70.00%\n",
            "Starting epoch 22\n",
            "Train Loss: 0.7134, Train Acc: 72.50%, Val Loss: 0.6272, Val Acc: 70.00%\n",
            "Starting epoch 23\n",
            "Train Loss: 0.4353, Train Acc: 82.50%, Val Loss: 0.5906, Val Acc: 70.00%\n",
            "Starting epoch 24\n",
            "Train Loss: 0.3399, Train Acc: 87.50%, Val Loss: 0.5886, Val Acc: 70.00%\n",
            "Starting epoch 25\n",
            "Train Loss: 0.5343, Train Acc: 82.50%, Val Loss: 0.6002, Val Acc: 70.00%\n",
            "Starting epoch 26\n",
            "Train Loss: 0.5629, Train Acc: 80.00%, Val Loss: 0.6076, Val Acc: 70.00%\n",
            "Starting epoch 27\n",
            "Train Loss: 0.5464, Train Acc: 75.00%, Val Loss: 0.6197, Val Acc: 70.00%\n",
            "Starting epoch 28\n",
            "Train Loss: 0.5527, Train Acc: 90.00%, Val Loss: 0.6213, Val Acc: 70.00%\n",
            "Starting epoch 29\n",
            "Train Loss: 0.8782, Train Acc: 65.00%, Val Loss: 0.5939, Val Acc: 70.00%\n",
            "Early stopping triggered.\n",
            "--------------------------------\n",
            "Best validation accuracy of 0.00% achieved, model saved as CNN_best_model.pth\n"
          ]
        }
      ]
    },
    {
      "cell_type": "code",
      "source": [
        "model = CustomCNN().to(device)\n",
        "model.load_state_dict(torch.load('CNN_best_model.pth'))"
      ],
      "metadata": {
        "colab": {
          "base_uri": "https://localhost:8080/"
        },
        "id": "d26EESam0Ra_",
        "outputId": "bb7faa36-295d-424d-b80e-b579788aa64a"
      },
      "execution_count": 43,
      "outputs": [
        {
          "output_type": "execute_result",
          "data": {
            "text/plain": [
              "<All keys matched successfully>"
            ]
          },
          "metadata": {},
          "execution_count": 43
        }
      ]
    },
    {
      "cell_type": "code",
      "source": [
        "test_indices = [i for i, (_, label) in enumerate(testset) if label in selected_classes]\n",
        "N = 1000\n",
        "class_counts = {label: 0 for label in selected_classes}\n",
        "filtered_train_indices = []\n",
        "\n",
        "for i in test_indices:\n",
        "    _, label = testset[i]\n",
        "    if class_counts[label] < N:\n",
        "        filtered_train_indices.append(i)\n",
        "        class_counts[label] += 1\n",
        "\n",
        "test_subset = Subset(testset, filtered_train_indices)\n",
        "test_loader = DataLoader(test_subset, batch_size=50, shuffle=False)"
      ],
      "metadata": {
        "id": "Q4lA20QG0VDj"
      },
      "execution_count": 44,
      "outputs": []
    },
    {
      "cell_type": "code",
      "source": [
        "# Ensure the model is in evaluation mode\n",
        "model.eval()\n",
        "\n",
        "# Assuming the test_loader and the device are already defined\n",
        "# Define the loss function\n",
        "criterion = nn.CrossEntropyLoss()\n",
        "\n",
        "# Evaluation\n",
        "test_loss = 0\n",
        "correct = 0\n",
        "total = 0\n",
        "\n",
        "# No gradient is needed for evaluation\n",
        "with torch.no_grad():\n",
        "    for data, targets in test_loader:\n",
        "        # Move data and targets to the correct device\n",
        "        data = data.to(device)\n",
        "        targets = targets.to(device)\n",
        "\n",
        "        # Compute the model output\n",
        "        output = model(data)\n",
        "        loss = criterion(output, targets)\n",
        "\n",
        "        # Accumulate the loss and calculate accuracy\n",
        "        test_loss += loss.item()\n",
        "        _, predicted = torch.max(output.data, 1)\n",
        "        total += targets.size(0)\n",
        "        correct += (predicted == targets).sum().item()\n",
        "\n",
        "# Calculate average loss and accuracy percentage\n",
        "Custom_CNN_avg_loss = test_loss / len(test_loader)\n",
        "Custom_CNN_accuracy = 100. * correct / total\n",
        "\n",
        "# Print the test loss and accuracy\n",
        "print(f'Test Loss: {Custom_CNN_avg_loss:.4f}, Test Accuracy: {Custom_CNN_accuracy:.2f}%')\n"
      ],
      "metadata": {
        "colab": {
          "base_uri": "https://localhost:8080/"
        },
        "id": "0U04_oE20Xoy",
        "outputId": "53eb3d34-d712-475a-87db-541324181c70"
      },
      "execution_count": 45,
      "outputs": [
        {
          "output_type": "stream",
          "name": "stdout",
          "text": [
            "Test Loss: 0.3441, Test Accuracy: 86.05%\n"
          ]
        }
      ]
    },
    {
      "cell_type": "markdown",
      "source": [
        "VIT"
      ],
      "metadata": {
        "id": "XebeXoNM08xo"
      }
    },
    {
      "cell_type": "code",
      "source": [
        "import torchvision.models as models\n",
        "from torch.optim.lr_scheduler import StepLR"
      ],
      "metadata": {
        "id": "Z6rplEZO1LtQ"
      },
      "execution_count": 46,
      "outputs": []
    },
    {
      "cell_type": "code",
      "source": [
        "train_transform = transforms.Compose([\n",
        "    transforms.Resize((224, 224)),\n",
        "    transforms.RandomHorizontalFlip(),\n",
        "    transforms.RandomCrop(224, padding=4),\n",
        "    transforms.RandomRotation(20),\n",
        "    transforms.ColorJitter(brightness=0.2, contrast=0.2, saturation=0.2, hue=0.1),\n",
        "    transforms.ToTensor(),\n",
        "    transforms.Normalize(mean=[0.4914, 0.4822, 0.4465], std=[0.247, 0.243, 0.261])\n",
        "])\n",
        "\n",
        "test_transform = transforms.Compose([\n",
        "    transforms.Resize((224, 224)),\n",
        "    transforms.ToTensor(),\n",
        "    transforms.Normalize(mean=[0.4914, 0.4822, 0.4465], std=[0.247, 0.243, 0.261])\n",
        "])"
      ],
      "metadata": {
        "id": "GSqrt1sI1kYn"
      },
      "execution_count": 47,
      "outputs": []
    },
    {
      "cell_type": "code",
      "source": [
        "model = models.vit_b_16(pretrained=False)\n",
        "\n",
        "num_classes = 10\n",
        "dropout_rate = 0.5\n",
        "\n",
        "model.heads = nn.Sequential(\n",
        "    nn.Dropout(p=dropout_rate),\n",
        "    nn.Linear(model.heads[0].in_features, num_classes)\n",
        ")"
      ],
      "metadata": {
        "colab": {
          "base_uri": "https://localhost:8080/"
        },
        "id": "g0eZmkGO08gt",
        "outputId": "a31edffc-9ec2-4544-e88f-b63b9b1f6d2e"
      },
      "execution_count": 48,
      "outputs": [
        {
          "output_type": "stream",
          "name": "stderr",
          "text": [
            "/usr/local/lib/python3.10/dist-packages/torchvision/models/_utils.py:208: UserWarning: The parameter 'pretrained' is deprecated since 0.13 and may be removed in the future, please use 'weights' instead.\n",
            "  warnings.warn(\n",
            "/usr/local/lib/python3.10/dist-packages/torchvision/models/_utils.py:223: UserWarning: Arguments other than a weight enum or `None` for 'weights' are deprecated since 0.13 and may be removed in the future. The current behavior is equivalent to passing `weights=None`.\n",
            "  warnings.warn(msg)\n"
          ]
        }
      ]
    },
    {
      "cell_type": "code",
      "source": [
        "best_val_accuracy = 0\n",
        "best_model_weights = None"
      ],
      "metadata": {
        "id": "Spq1rIw20qNS"
      },
      "execution_count": 49,
      "outputs": []
    },
    {
      "cell_type": "code",
      "source": [
        "for fold, (train_ids, val_ids) in enumerate(kfold.split(trainset)):\n",
        "    print(f'FOLD {fold}')\n",
        "    print('--------------------------------')\n",
        "\n",
        "    train_indices = [i for i, (_, label) in enumerate(trainset) if label in selected_classes]\n",
        "\n",
        "    N = 25\n",
        "    class_counts = {label: 0 for label in selected_classes}\n",
        "    filtered_train_indices = []\n",
        "\n",
        "    for i in train_indices:\n",
        "        _, label = trainset[i]\n",
        "        if class_counts[label] < N:\n",
        "            filtered_train_indices.append(i)\n",
        "            class_counts[label] += 1\n",
        "\n",
        "\n",
        "    np.random.seed(42)\n",
        "    np.random.shuffle(filtered_train_indices)\n",
        "    split = int(0.8 * len(filtered_train_indices))\n",
        "    train_idx, val_idx = filtered_train_indices[:split], filtered_train_indices[split:]\n",
        "\n",
        "    train_subset = Subset(trainset, train_idx)\n",
        "    transformed_train_subset = TransformSubset(train_subset, transform=train_transform)\n",
        "\n",
        "    val_subset = Subset(trainset, val_idx)\n",
        "    transformed_val_subset = TransformSubset(val_subset, transform=test_transform)\n",
        "\n",
        "    train_loader = DataLoader(transformed_train_subset, batch_size=5, shuffle=True)\n",
        "    val_loader = DataLoader(transformed_val_subset, batch_size=5, shuffle=False)\n",
        "\n",
        "\n",
        "    # Init the neural network\n",
        "    model = model.to(device)\n",
        "\n",
        "    # Initialize optimizer\n",
        "    optimizer = optim.Adam(model.parameters(), lr=2e-5, betas=(0.9, 0.999), eps=1e-8, weight_decay=1e-5)\n",
        "    criterion = nn.CrossEntropyLoss()\n",
        "\n",
        "    scheduler = StepLR(optimizer, step_size=10, gamma=0.5)\n",
        "\n",
        "    best_val_loss = float('inf')\n",
        "    patience_counter = 0\n",
        "    patience = 25\n",
        "\n",
        "\n",
        "    # Run the training loop for defined number of epochs\n",
        "    num_epochs = 50\n",
        "    for epoch in range(num_epochs):\n",
        "        # Print epoch\n",
        "        print(f'Starting epoch {epoch+1}')\n",
        "\n",
        "        # Perform training and validation\n",
        "        train_loss, train_accuracy = train(model, device, train_loader, optimizer, criterion)\n",
        "        val_loss, val_accuracy = validate(model, device, val_loader, criterion)\n",
        "\n",
        "        print(f'Train Loss: {train_loss:.4f}, Train Acc: {train_accuracy:.2f}%, Val Loss: {val_loss:.4f}, Val Acc: {val_accuracy:.2f}%')\n",
        "\n",
        "        # Save the model if it has the best val accuracy so far\n",
        "        if val_loss < best_val_loss:\n",
        "            best_val_loss = val_loss\n",
        "            best_model_weights = model.state_dict().copy()  # Save the best model weights\n",
        "            patience_counter = 0  # Reset patience\n",
        "        else:\n",
        "            patience_counter += 1\n",
        "            if patience_counter >= patience:\n",
        "                print(\"Early stopping triggered.\")\n",
        "                break  # Stop training if no improvement\n",
        "\n",
        "        # Step the learning rate scheduler\n",
        "        scheduler.step()\n",
        "\n",
        "    print('--------------------------------')\n",
        "\n",
        "# Save the best model weights\n",
        "torch.save(best_model_weights, 'VIT_best_model.pth')\n",
        "print(f'Best validation accuracy of {best_val_accuracy:.2f}% achieved, model saved as VIT_best_model.pth')"
      ],
      "metadata": {
        "colab": {
          "base_uri": "https://localhost:8080/"
        },
        "id": "UP-3mRNA1V0w",
        "outputId": "7c2014c2-26fb-42be-e86e-6740dc41679b"
      },
      "execution_count": 50,
      "outputs": [
        {
          "output_type": "stream",
          "name": "stdout",
          "text": [
            "FOLD 0\n",
            "--------------------------------\n",
            "Starting epoch 1\n",
            "Train Loss: 1.7342, Train Acc: 45.00%, Val Loss: 0.5150, Val Acc: 80.00%\n",
            "Starting epoch 2\n",
            "Train Loss: 0.8953, Train Acc: 75.00%, Val Loss: 1.3709, Val Acc: 60.00%\n",
            "Starting epoch 3\n",
            "Train Loss: 0.6972, Train Acc: 75.00%, Val Loss: 0.8361, Val Acc: 80.00%\n",
            "Starting epoch 4\n",
            "Train Loss: 0.5429, Train Acc: 77.50%, Val Loss: 0.5366, Val Acc: 90.00%\n",
            "Starting epoch 5\n",
            "Train Loss: 0.4767, Train Acc: 75.00%, Val Loss: 0.7198, Val Acc: 70.00%\n",
            "Starting epoch 6\n",
            "Train Loss: 0.3835, Train Acc: 87.50%, Val Loss: 0.5894, Val Acc: 70.00%\n",
            "Starting epoch 7\n",
            "Train Loss: 0.4077, Train Acc: 87.50%, Val Loss: 0.5540, Val Acc: 70.00%\n",
            "Starting epoch 8\n",
            "Train Loss: 0.4136, Train Acc: 80.00%, Val Loss: 0.6259, Val Acc: 70.00%\n",
            "Starting epoch 9\n",
            "Train Loss: 0.4256, Train Acc: 85.00%, Val Loss: 0.4823, Val Acc: 90.00%\n",
            "Starting epoch 10\n",
            "Train Loss: 0.3953, Train Acc: 87.50%, Val Loss: 0.7291, Val Acc: 70.00%\n",
            "Starting epoch 11\n",
            "Train Loss: 0.4295, Train Acc: 80.00%, Val Loss: 0.4934, Val Acc: 80.00%\n",
            "Starting epoch 12\n",
            "Train Loss: 0.3164, Train Acc: 82.50%, Val Loss: 0.4562, Val Acc: 70.00%\n",
            "Starting epoch 13\n",
            "Train Loss: 0.2407, Train Acc: 90.00%, Val Loss: 0.4193, Val Acc: 80.00%\n",
            "Starting epoch 14\n",
            "Train Loss: 0.2383, Train Acc: 90.00%, Val Loss: 0.3972, Val Acc: 80.00%\n",
            "Starting epoch 15\n",
            "Train Loss: 0.3632, Train Acc: 87.50%, Val Loss: 0.4216, Val Acc: 70.00%\n",
            "Starting epoch 16\n",
            "Train Loss: 0.2571, Train Acc: 90.00%, Val Loss: 0.3216, Val Acc: 80.00%\n",
            "Starting epoch 17\n",
            "Train Loss: 0.2423, Train Acc: 90.00%, Val Loss: 0.3472, Val Acc: 80.00%\n",
            "Starting epoch 18\n",
            "Train Loss: 0.2046, Train Acc: 90.00%, Val Loss: 0.3567, Val Acc: 80.00%\n",
            "Starting epoch 19\n",
            "Train Loss: 0.2318, Train Acc: 90.00%, Val Loss: 0.3305, Val Acc: 80.00%\n",
            "Starting epoch 20\n",
            "Train Loss: 0.2046, Train Acc: 90.00%, Val Loss: 0.3350, Val Acc: 80.00%\n",
            "Starting epoch 21\n",
            "Train Loss: 0.3331, Train Acc: 90.00%, Val Loss: 0.3257, Val Acc: 80.00%\n",
            "Starting epoch 22\n",
            "Train Loss: 0.2191, Train Acc: 95.00%, Val Loss: 0.3078, Val Acc: 80.00%\n",
            "Starting epoch 23\n",
            "Train Loss: 0.1895, Train Acc: 95.00%, Val Loss: 0.2310, Val Acc: 90.00%\n",
            "Starting epoch 24\n",
            "Train Loss: 0.1269, Train Acc: 97.50%, Val Loss: 0.2345, Val Acc: 90.00%\n",
            "Starting epoch 25\n",
            "Train Loss: 0.2759, Train Acc: 90.00%, Val Loss: 0.3782, Val Acc: 80.00%\n",
            "Starting epoch 26\n",
            "Train Loss: 0.1579, Train Acc: 97.50%, Val Loss: 0.3663, Val Acc: 80.00%\n",
            "Starting epoch 27\n",
            "Train Loss: 0.1707, Train Acc: 95.00%, Val Loss: 0.2227, Val Acc: 90.00%\n",
            "Starting epoch 28\n",
            "Train Loss: 0.1479, Train Acc: 95.00%, Val Loss: 0.2569, Val Acc: 80.00%\n",
            "Starting epoch 29\n",
            "Train Loss: 0.1904, Train Acc: 92.50%, Val Loss: 0.2694, Val Acc: 80.00%\n",
            "Starting epoch 30\n",
            "Train Loss: 0.2262, Train Acc: 92.50%, Val Loss: 0.2293, Val Acc: 80.00%\n",
            "Starting epoch 31\n",
            "Train Loss: 0.1429, Train Acc: 97.50%, Val Loss: 0.2140, Val Acc: 80.00%\n",
            "Starting epoch 32\n",
            "Train Loss: 0.1636, Train Acc: 95.00%, Val Loss: 0.2348, Val Acc: 80.00%\n",
            "Starting epoch 33\n",
            "Train Loss: 0.1622, Train Acc: 95.00%, Val Loss: 0.2744, Val Acc: 80.00%\n",
            "Starting epoch 34\n",
            "Train Loss: 0.1651, Train Acc: 92.50%, Val Loss: 0.2558, Val Acc: 80.00%\n",
            "Starting epoch 35\n",
            "Train Loss: 0.1774, Train Acc: 95.00%, Val Loss: 0.2440, Val Acc: 80.00%\n",
            "Starting epoch 36\n",
            "Train Loss: 0.1785, Train Acc: 95.00%, Val Loss: 0.2527, Val Acc: 80.00%\n",
            "Starting epoch 37\n",
            "Train Loss: 0.1268, Train Acc: 95.00%, Val Loss: 0.2157, Val Acc: 80.00%\n",
            "Starting epoch 38\n",
            "Train Loss: 0.1050, Train Acc: 100.00%, Val Loss: 0.1968, Val Acc: 90.00%\n",
            "Starting epoch 39\n",
            "Train Loss: 0.1458, Train Acc: 95.00%, Val Loss: 0.1821, Val Acc: 90.00%\n",
            "Starting epoch 40\n",
            "Train Loss: 0.0737, Train Acc: 100.00%, Val Loss: 0.1894, Val Acc: 80.00%\n",
            "Starting epoch 41\n",
            "Train Loss: 0.1064, Train Acc: 97.50%, Val Loss: 0.2142, Val Acc: 80.00%\n",
            "Starting epoch 42\n",
            "Train Loss: 0.1605, Train Acc: 95.00%, Val Loss: 0.2256, Val Acc: 80.00%\n",
            "Starting epoch 43\n",
            "Train Loss: 0.0737, Train Acc: 97.50%, Val Loss: 0.2510, Val Acc: 80.00%\n",
            "Starting epoch 44\n",
            "Train Loss: 0.1604, Train Acc: 95.00%, Val Loss: 0.2550, Val Acc: 80.00%\n",
            "Starting epoch 45\n",
            "Train Loss: 0.1401, Train Acc: 95.00%, Val Loss: 0.2531, Val Acc: 80.00%\n",
            "Starting epoch 46\n",
            "Train Loss: 0.1443, Train Acc: 95.00%, Val Loss: 0.2310, Val Acc: 80.00%\n",
            "Starting epoch 47\n",
            "Train Loss: 0.1868, Train Acc: 95.00%, Val Loss: 0.2524, Val Acc: 80.00%\n",
            "Starting epoch 48\n",
            "Train Loss: 0.1308, Train Acc: 95.00%, Val Loss: 0.2698, Val Acc: 90.00%\n",
            "Starting epoch 49\n",
            "Train Loss: 0.1132, Train Acc: 95.00%, Val Loss: 0.2762, Val Acc: 90.00%\n",
            "Starting epoch 50\n",
            "Train Loss: 0.1596, Train Acc: 92.50%, Val Loss: 0.2837, Val Acc: 90.00%\n",
            "--------------------------------\n",
            "FOLD 1\n",
            "--------------------------------\n",
            "Starting epoch 1\n",
            "Train Loss: 0.7317, Train Acc: 80.00%, Val Loss: 0.4026, Val Acc: 80.00%\n",
            "Starting epoch 2\n",
            "Train Loss: 0.5828, Train Acc: 80.00%, Val Loss: 0.7362, Val Acc: 70.00%\n",
            "Starting epoch 3\n",
            "Train Loss: 0.3696, Train Acc: 85.00%, Val Loss: 0.1758, Val Acc: 100.00%\n",
            "Starting epoch 4\n",
            "Train Loss: 0.2957, Train Acc: 82.50%, Val Loss: 0.3766, Val Acc: 80.00%\n",
            "Starting epoch 5\n",
            "Train Loss: 0.3360, Train Acc: 87.50%, Val Loss: 0.2486, Val Acc: 90.00%\n",
            "Starting epoch 6\n",
            "Train Loss: 0.2648, Train Acc: 90.00%, Val Loss: 0.3914, Val Acc: 80.00%\n",
            "Starting epoch 7\n",
            "Train Loss: 0.2384, Train Acc: 87.50%, Val Loss: 0.4305, Val Acc: 80.00%\n",
            "Starting epoch 8\n",
            "Train Loss: 0.1340, Train Acc: 95.00%, Val Loss: 0.3321, Val Acc: 80.00%\n",
            "Starting epoch 9\n",
            "Train Loss: 0.1344, Train Acc: 95.00%, Val Loss: 0.2874, Val Acc: 90.00%\n",
            "Starting epoch 10\n",
            "Train Loss: 0.3228, Train Acc: 92.50%, Val Loss: 0.1415, Val Acc: 90.00%\n",
            "Starting epoch 11\n",
            "Train Loss: 0.2348, Train Acc: 92.50%, Val Loss: 0.2073, Val Acc: 80.00%\n",
            "Starting epoch 12\n",
            "Train Loss: 0.1458, Train Acc: 95.00%, Val Loss: 0.2782, Val Acc: 80.00%\n",
            "Starting epoch 13\n",
            "Train Loss: 0.0829, Train Acc: 97.50%, Val Loss: 0.1841, Val Acc: 90.00%\n",
            "Starting epoch 14\n",
            "Train Loss: 0.1797, Train Acc: 97.50%, Val Loss: 0.1684, Val Acc: 90.00%\n",
            "Starting epoch 15\n",
            "Train Loss: 0.1051, Train Acc: 97.50%, Val Loss: 0.0937, Val Acc: 100.00%\n",
            "Starting epoch 16\n",
            "Train Loss: 0.0664, Train Acc: 100.00%, Val Loss: 0.0819, Val Acc: 100.00%\n",
            "Starting epoch 17\n",
            "Train Loss: 0.0598, Train Acc: 97.50%, Val Loss: 0.0738, Val Acc: 100.00%\n",
            "Starting epoch 18\n",
            "Train Loss: 0.1229, Train Acc: 92.50%, Val Loss: 0.0920, Val Acc: 90.00%\n",
            "Starting epoch 19\n",
            "Train Loss: 0.1364, Train Acc: 95.00%, Val Loss: 0.1746, Val Acc: 90.00%\n",
            "Starting epoch 20\n",
            "Train Loss: 0.1044, Train Acc: 95.00%, Val Loss: 0.2058, Val Acc: 90.00%\n",
            "Starting epoch 21\n",
            "Train Loss: 0.1613, Train Acc: 95.00%, Val Loss: 0.1171, Val Acc: 90.00%\n",
            "Starting epoch 22\n",
            "Train Loss: 0.0618, Train Acc: 100.00%, Val Loss: 0.0880, Val Acc: 100.00%\n",
            "Starting epoch 23\n",
            "Train Loss: 0.1323, Train Acc: 95.00%, Val Loss: 0.1775, Val Acc: 90.00%\n",
            "Starting epoch 24\n",
            "Train Loss: 0.1106, Train Acc: 95.00%, Val Loss: 0.1861, Val Acc: 90.00%\n",
            "Starting epoch 25\n",
            "Train Loss: 0.0719, Train Acc: 97.50%, Val Loss: 0.0953, Val Acc: 100.00%\n",
            "Starting epoch 26\n",
            "Train Loss: 0.0692, Train Acc: 100.00%, Val Loss: 0.0809, Val Acc: 100.00%\n",
            "Starting epoch 27\n",
            "Train Loss: 0.0573, Train Acc: 97.50%, Val Loss: 0.0898, Val Acc: 100.00%\n",
            "Starting epoch 28\n",
            "Train Loss: 0.0424, Train Acc: 100.00%, Val Loss: 0.0680, Val Acc: 100.00%\n",
            "Starting epoch 29\n",
            "Train Loss: 0.0200, Train Acc: 100.00%, Val Loss: 0.0578, Val Acc: 100.00%\n",
            "Starting epoch 30\n",
            "Train Loss: 0.0388, Train Acc: 100.00%, Val Loss: 0.0550, Val Acc: 100.00%\n",
            "Starting epoch 31\n",
            "Train Loss: 0.0518, Train Acc: 97.50%, Val Loss: 0.0581, Val Acc: 100.00%\n",
            "Starting epoch 32\n",
            "Train Loss: 0.0427, Train Acc: 97.50%, Val Loss: 0.0618, Val Acc: 100.00%\n",
            "Starting epoch 33\n",
            "Train Loss: 0.0448, Train Acc: 100.00%, Val Loss: 0.0578, Val Acc: 100.00%\n",
            "Starting epoch 34\n",
            "Train Loss: 0.0930, Train Acc: 97.50%, Val Loss: 0.0955, Val Acc: 100.00%\n",
            "Starting epoch 35\n",
            "Train Loss: 0.0777, Train Acc: 95.00%, Val Loss: 0.1232, Val Acc: 90.00%\n",
            "Starting epoch 36\n",
            "Train Loss: 0.0863, Train Acc: 97.50%, Val Loss: 0.0782, Val Acc: 100.00%\n",
            "Starting epoch 37\n",
            "Train Loss: 0.0251, Train Acc: 100.00%, Val Loss: 0.0512, Val Acc: 100.00%\n",
            "Starting epoch 38\n",
            "Train Loss: 0.0997, Train Acc: 95.00%, Val Loss: 0.2304, Val Acc: 90.00%\n",
            "Starting epoch 39\n",
            "Train Loss: 0.0352, Train Acc: 97.50%, Val Loss: 0.2901, Val Acc: 90.00%\n",
            "Starting epoch 40\n",
            "Train Loss: 0.0185, Train Acc: 100.00%, Val Loss: 0.3062, Val Acc: 90.00%\n",
            "Starting epoch 41\n",
            "Train Loss: 0.1261, Train Acc: 95.00%, Val Loss: 0.2421, Val Acc: 90.00%\n",
            "Starting epoch 42\n",
            "Train Loss: 0.0225, Train Acc: 100.00%, Val Loss: 0.2238, Val Acc: 90.00%\n",
            "Starting epoch 43\n",
            "Train Loss: 0.0386, Train Acc: 100.00%, Val Loss: 0.2031, Val Acc: 90.00%\n",
            "Starting epoch 44\n",
            "Train Loss: 0.0431, Train Acc: 100.00%, Val Loss: 0.1808, Val Acc: 90.00%\n",
            "Starting epoch 45\n",
            "Train Loss: 0.0189, Train Acc: 100.00%, Val Loss: 0.1564, Val Acc: 90.00%\n",
            "Starting epoch 46\n",
            "Train Loss: 0.0109, Train Acc: 100.00%, Val Loss: 0.1418, Val Acc: 90.00%\n",
            "Starting epoch 47\n",
            "Train Loss: 0.0139, Train Acc: 100.00%, Val Loss: 0.1356, Val Acc: 90.00%\n",
            "Starting epoch 48\n",
            "Train Loss: 0.0256, Train Acc: 100.00%, Val Loss: 0.1243, Val Acc: 90.00%\n",
            "Starting epoch 49\n",
            "Train Loss: 0.0162, Train Acc: 100.00%, Val Loss: 0.1173, Val Acc: 90.00%\n",
            "Starting epoch 50\n",
            "Train Loss: 0.0247, Train Acc: 100.00%, Val Loss: 0.0868, Val Acc: 100.00%\n",
            "--------------------------------\n",
            "FOLD 2\n",
            "--------------------------------\n",
            "Starting epoch 1\n",
            "Train Loss: 0.3372, Train Acc: 92.50%, Val Loss: 0.0662, Val Acc: 100.00%\n",
            "Starting epoch 2\n",
            "Train Loss: 0.1707, Train Acc: 95.00%, Val Loss: 0.0710, Val Acc: 100.00%\n",
            "Starting epoch 3\n",
            "Train Loss: 0.2315, Train Acc: 87.50%, Val Loss: 0.0307, Val Acc: 100.00%\n",
            "Starting epoch 4\n",
            "Train Loss: 0.3373, Train Acc: 95.00%, Val Loss: 0.0614, Val Acc: 100.00%\n",
            "Starting epoch 5\n",
            "Train Loss: 0.2427, Train Acc: 92.50%, Val Loss: 0.1183, Val Acc: 90.00%\n",
            "Starting epoch 6\n",
            "Train Loss: 0.0865, Train Acc: 97.50%, Val Loss: 0.0894, Val Acc: 100.00%\n",
            "Starting epoch 7\n",
            "Train Loss: 0.1205, Train Acc: 92.50%, Val Loss: 0.1274, Val Acc: 100.00%\n",
            "Starting epoch 8\n",
            "Train Loss: 0.1247, Train Acc: 95.00%, Val Loss: 0.0539, Val Acc: 100.00%\n",
            "Starting epoch 9\n",
            "Train Loss: 0.0582, Train Acc: 97.50%, Val Loss: 0.1000, Val Acc: 90.00%\n",
            "Starting epoch 10\n",
            "Train Loss: 0.0670, Train Acc: 97.50%, Val Loss: 0.1130, Val Acc: 90.00%\n",
            "Starting epoch 11\n",
            "Train Loss: 0.0293, Train Acc: 97.50%, Val Loss: 0.0318, Val Acc: 100.00%\n",
            "Starting epoch 12\n",
            "Train Loss: 0.0114, Train Acc: 100.00%, Val Loss: 0.0165, Val Acc: 100.00%\n",
            "Starting epoch 13\n",
            "Train Loss: 0.0564, Train Acc: 97.50%, Val Loss: 0.0189, Val Acc: 100.00%\n",
            "Starting epoch 14\n",
            "Train Loss: 0.0812, Train Acc: 95.00%, Val Loss: 0.0282, Val Acc: 100.00%\n",
            "Starting epoch 15\n",
            "Train Loss: 0.0576, Train Acc: 97.50%, Val Loss: 0.0298, Val Acc: 100.00%\n",
            "Starting epoch 16\n",
            "Train Loss: 0.0478, Train Acc: 97.50%, Val Loss: 0.0392, Val Acc: 100.00%\n",
            "Starting epoch 17\n",
            "Train Loss: 0.0216, Train Acc: 100.00%, Val Loss: 0.0473, Val Acc: 100.00%\n",
            "Starting epoch 18\n",
            "Train Loss: 0.0291, Train Acc: 100.00%, Val Loss: 0.0264, Val Acc: 100.00%\n",
            "Starting epoch 19\n",
            "Train Loss: 0.0323, Train Acc: 97.50%, Val Loss: 0.0933, Val Acc: 90.00%\n",
            "Starting epoch 20\n",
            "Train Loss: 0.0220, Train Acc: 100.00%, Val Loss: 0.2491, Val Acc: 90.00%\n",
            "Starting epoch 21\n",
            "Train Loss: 0.0092, Train Acc: 100.00%, Val Loss: 0.2380, Val Acc: 90.00%\n",
            "Starting epoch 22\n",
            "Train Loss: 0.0084, Train Acc: 100.00%, Val Loss: 0.2031, Val Acc: 90.00%\n",
            "Starting epoch 23\n",
            "Train Loss: 0.0542, Train Acc: 97.50%, Val Loss: 0.1558, Val Acc: 90.00%\n",
            "Starting epoch 24\n",
            "Train Loss: 0.0147, Train Acc: 100.00%, Val Loss: 0.2293, Val Acc: 90.00%\n",
            "Starting epoch 25\n",
            "Train Loss: 0.0084, Train Acc: 100.00%, Val Loss: 0.1808, Val Acc: 90.00%\n",
            "Starting epoch 26\n",
            "Train Loss: 0.0807, Train Acc: 97.50%, Val Loss: 0.1655, Val Acc: 90.00%\n",
            "Starting epoch 27\n",
            "Train Loss: 0.0123, Train Acc: 100.00%, Val Loss: 0.1714, Val Acc: 90.00%\n",
            "Starting epoch 28\n",
            "Train Loss: 0.0309, Train Acc: 100.00%, Val Loss: 0.0683, Val Acc: 100.00%\n",
            "Starting epoch 29\n",
            "Train Loss: 0.0181, Train Acc: 100.00%, Val Loss: 0.0155, Val Acc: 100.00%\n",
            "Starting epoch 30\n",
            "Train Loss: 0.0021, Train Acc: 100.00%, Val Loss: 0.0083, Val Acc: 100.00%\n",
            "Starting epoch 31\n",
            "Train Loss: 0.0195, Train Acc: 100.00%, Val Loss: 0.0077, Val Acc: 100.00%\n",
            "Starting epoch 32\n",
            "Train Loss: 0.0381, Train Acc: 97.50%, Val Loss: 0.0097, Val Acc: 100.00%\n",
            "Starting epoch 33\n",
            "Train Loss: 0.0203, Train Acc: 97.50%, Val Loss: 0.0126, Val Acc: 100.00%\n",
            "Starting epoch 34\n",
            "Train Loss: 0.0258, Train Acc: 97.50%, Val Loss: 0.0076, Val Acc: 100.00%\n",
            "Starting epoch 35\n",
            "Train Loss: 0.0200, Train Acc: 100.00%, Val Loss: 0.0067, Val Acc: 100.00%\n",
            "Starting epoch 36\n",
            "Train Loss: 0.0364, Train Acc: 97.50%, Val Loss: 0.0098, Val Acc: 100.00%\n",
            "Starting epoch 37\n",
            "Train Loss: 0.0143, Train Acc: 100.00%, Val Loss: 0.0298, Val Acc: 100.00%\n",
            "Starting epoch 38\n",
            "Train Loss: 0.0135, Train Acc: 100.00%, Val Loss: 0.0251, Val Acc: 100.00%\n",
            "Starting epoch 39\n",
            "Train Loss: 0.0039, Train Acc: 100.00%, Val Loss: 0.0190, Val Acc: 100.00%\n",
            "Starting epoch 40\n",
            "Train Loss: 0.0038, Train Acc: 100.00%, Val Loss: 0.0166, Val Acc: 100.00%\n",
            "Starting epoch 41\n",
            "Train Loss: 0.0061, Train Acc: 100.00%, Val Loss: 0.0161, Val Acc: 100.00%\n",
            "Starting epoch 42\n",
            "Train Loss: 0.0087, Train Acc: 100.00%, Val Loss: 0.0156, Val Acc: 100.00%\n",
            "Starting epoch 43\n",
            "Train Loss: 0.0087, Train Acc: 100.00%, Val Loss: 0.0148, Val Acc: 100.00%\n",
            "Starting epoch 44\n",
            "Train Loss: 0.0047, Train Acc: 100.00%, Val Loss: 0.0141, Val Acc: 100.00%\n",
            "Starting epoch 45\n",
            "Train Loss: 0.0078, Train Acc: 100.00%, Val Loss: 0.0130, Val Acc: 100.00%\n",
            "Starting epoch 46\n",
            "Train Loss: 0.0047, Train Acc: 100.00%, Val Loss: 0.0120, Val Acc: 100.00%\n",
            "Starting epoch 47\n",
            "Train Loss: 0.0033, Train Acc: 100.00%, Val Loss: 0.0116, Val Acc: 100.00%\n",
            "Starting epoch 48\n",
            "Train Loss: 0.0046, Train Acc: 100.00%, Val Loss: 0.0112, Val Acc: 100.00%\n",
            "Starting epoch 49\n",
            "Train Loss: 0.0061, Train Acc: 100.00%, Val Loss: 0.0109, Val Acc: 100.00%\n",
            "Starting epoch 50\n",
            "Train Loss: 0.0045, Train Acc: 100.00%, Val Loss: 0.0105, Val Acc: 100.00%\n",
            "--------------------------------\n",
            "FOLD 3\n",
            "--------------------------------\n",
            "Starting epoch 1\n",
            "Train Loss: 0.0274, Train Acc: 97.50%, Val Loss: 1.1271, Val Acc: 80.00%\n",
            "Starting epoch 2\n",
            "Train Loss: 0.3128, Train Acc: 87.50%, Val Loss: 0.0073, Val Acc: 100.00%\n",
            "Starting epoch 3\n",
            "Train Loss: 0.0580, Train Acc: 97.50%, Val Loss: 0.0191, Val Acc: 100.00%\n",
            "Starting epoch 4\n",
            "Train Loss: 0.1141, Train Acc: 92.50%, Val Loss: 0.0010, Val Acc: 100.00%\n",
            "Starting epoch 5\n",
            "Train Loss: 0.0146, Train Acc: 100.00%, Val Loss: 0.0043, Val Acc: 100.00%\n",
            "Starting epoch 6\n",
            "Train Loss: 0.0135, Train Acc: 100.00%, Val Loss: 0.1543, Val Acc: 90.00%\n",
            "Starting epoch 7\n",
            "Train Loss: 0.2200, Train Acc: 97.50%, Val Loss: 0.0245, Val Acc: 100.00%\n",
            "Starting epoch 8\n",
            "Train Loss: 0.0205, Train Acc: 100.00%, Val Loss: 0.0016, Val Acc: 100.00%\n",
            "Starting epoch 9\n",
            "Train Loss: 0.0351, Train Acc: 97.50%, Val Loss: 0.0026, Val Acc: 100.00%\n",
            "Starting epoch 10\n",
            "Train Loss: 0.0167, Train Acc: 100.00%, Val Loss: 0.0044, Val Acc: 100.00%\n",
            "Starting epoch 11\n",
            "Train Loss: 0.0097, Train Acc: 100.00%, Val Loss: 0.0021, Val Acc: 100.00%\n",
            "Starting epoch 12\n",
            "Train Loss: 0.0028, Train Acc: 100.00%, Val Loss: 0.0016, Val Acc: 100.00%\n",
            "Starting epoch 13\n",
            "Train Loss: 0.0859, Train Acc: 97.50%, Val Loss: 0.0014, Val Acc: 100.00%\n",
            "Starting epoch 14\n",
            "Train Loss: 0.0240, Train Acc: 97.50%, Val Loss: 0.0075, Val Acc: 100.00%\n",
            "Starting epoch 15\n",
            "Train Loss: 0.0106, Train Acc: 100.00%, Val Loss: 0.0141, Val Acc: 100.00%\n",
            "Starting epoch 16\n",
            "Train Loss: 0.0122, Train Acc: 100.00%, Val Loss: 0.0106, Val Acc: 100.00%\n",
            "Starting epoch 17\n",
            "Train Loss: 0.0026, Train Acc: 100.00%, Val Loss: 0.0088, Val Acc: 100.00%\n",
            "Starting epoch 18\n",
            "Train Loss: 0.0225, Train Acc: 100.00%, Val Loss: 0.0077, Val Acc: 100.00%\n",
            "Starting epoch 19\n",
            "Train Loss: 0.0361, Train Acc: 97.50%, Val Loss: 0.0038, Val Acc: 100.00%\n",
            "Starting epoch 20\n",
            "Train Loss: 0.0067, Train Acc: 100.00%, Val Loss: 0.0010, Val Acc: 100.00%\n",
            "Starting epoch 21\n",
            "Train Loss: 0.0019, Train Acc: 100.00%, Val Loss: 0.0008, Val Acc: 100.00%\n",
            "Starting epoch 22\n",
            "Train Loss: 0.0222, Train Acc: 97.50%, Val Loss: 0.0008, Val Acc: 100.00%\n",
            "Starting epoch 23\n",
            "Train Loss: 0.0051, Train Acc: 100.00%, Val Loss: 0.0017, Val Acc: 100.00%\n",
            "Starting epoch 24\n",
            "Train Loss: 0.0079, Train Acc: 100.00%, Val Loss: 0.0014, Val Acc: 100.00%\n",
            "Starting epoch 25\n",
            "Train Loss: 0.0030, Train Acc: 100.00%, Val Loss: 0.0011, Val Acc: 100.00%\n",
            "Starting epoch 26\n",
            "Train Loss: 0.0030, Train Acc: 100.00%, Val Loss: 0.0009, Val Acc: 100.00%\n",
            "Starting epoch 27\n",
            "Train Loss: 0.0089, Train Acc: 100.00%, Val Loss: 0.0006, Val Acc: 100.00%\n",
            "Starting epoch 28\n",
            "Train Loss: 0.0039, Train Acc: 100.00%, Val Loss: 0.0005, Val Acc: 100.00%\n",
            "Starting epoch 29\n",
            "Train Loss: 0.0051, Train Acc: 100.00%, Val Loss: 0.0005, Val Acc: 100.00%\n",
            "Starting epoch 30\n",
            "Train Loss: 0.0031, Train Acc: 100.00%, Val Loss: 0.0005, Val Acc: 100.00%\n",
            "Starting epoch 31\n",
            "Train Loss: 0.0031, Train Acc: 100.00%, Val Loss: 0.0005, Val Acc: 100.00%\n",
            "Starting epoch 32\n",
            "Train Loss: 0.0102, Train Acc: 100.00%, Val Loss: 0.0006, Val Acc: 100.00%\n",
            "Starting epoch 33\n",
            "Train Loss: 0.0116, Train Acc: 100.00%, Val Loss: 0.0009, Val Acc: 100.00%\n",
            "Starting epoch 34\n",
            "Train Loss: 0.0018, Train Acc: 100.00%, Val Loss: 0.0011, Val Acc: 100.00%\n",
            "Starting epoch 35\n",
            "Train Loss: 0.0049, Train Acc: 100.00%, Val Loss: 0.0011, Val Acc: 100.00%\n",
            "Starting epoch 36\n",
            "Train Loss: 0.0013, Train Acc: 100.00%, Val Loss: 0.0010, Val Acc: 100.00%\n",
            "Starting epoch 37\n",
            "Train Loss: 0.0014, Train Acc: 100.00%, Val Loss: 0.0010, Val Acc: 100.00%\n",
            "Starting epoch 38\n",
            "Train Loss: 0.0015, Train Acc: 100.00%, Val Loss: 0.0009, Val Acc: 100.00%\n",
            "Starting epoch 39\n",
            "Train Loss: 0.0011, Train Acc: 100.00%, Val Loss: 0.0009, Val Acc: 100.00%\n",
            "Starting epoch 40\n",
            "Train Loss: 0.0805, Train Acc: 97.50%, Val Loss: 0.0021, Val Acc: 100.00%\n",
            "Starting epoch 41\n",
            "Train Loss: 0.0107, Train Acc: 100.00%, Val Loss: 0.0036, Val Acc: 100.00%\n",
            "Starting epoch 42\n",
            "Train Loss: 0.0053, Train Acc: 100.00%, Val Loss: 0.0046, Val Acc: 100.00%\n",
            "Starting epoch 43\n",
            "Train Loss: 0.0031, Train Acc: 100.00%, Val Loss: 0.0048, Val Acc: 100.00%\n",
            "Starting epoch 44\n",
            "Train Loss: 0.0111, Train Acc: 100.00%, Val Loss: 0.0041, Val Acc: 100.00%\n",
            "Starting epoch 45\n",
            "Train Loss: 0.0024, Train Acc: 100.00%, Val Loss: 0.0033, Val Acc: 100.00%\n",
            "Starting epoch 46\n",
            "Train Loss: 0.0044, Train Acc: 100.00%, Val Loss: 0.0029, Val Acc: 100.00%\n",
            "Starting epoch 47\n",
            "Train Loss: 0.0022, Train Acc: 100.00%, Val Loss: 0.0027, Val Acc: 100.00%\n",
            "Starting epoch 48\n",
            "Train Loss: 0.0008, Train Acc: 100.00%, Val Loss: 0.0025, Val Acc: 100.00%\n",
            "Starting epoch 49\n",
            "Train Loss: 0.0048, Train Acc: 100.00%, Val Loss: 0.0024, Val Acc: 100.00%\n",
            "Starting epoch 50\n",
            "Train Loss: 0.0026, Train Acc: 100.00%, Val Loss: 0.0023, Val Acc: 100.00%\n",
            "--------------------------------\n",
            "FOLD 4\n",
            "--------------------------------\n",
            "Starting epoch 1\n",
            "Train Loss: 0.1392, Train Acc: 95.00%, Val Loss: 0.2538, Val Acc: 90.00%\n",
            "Starting epoch 2\n",
            "Train Loss: 0.0668, Train Acc: 97.50%, Val Loss: 0.0020, Val Acc: 100.00%\n",
            "Starting epoch 3\n",
            "Train Loss: 0.0261, Train Acc: 100.00%, Val Loss: 0.0020, Val Acc: 100.00%\n",
            "Starting epoch 4\n",
            "Train Loss: 0.1384, Train Acc: 92.50%, Val Loss: 0.0019, Val Acc: 100.00%\n",
            "Starting epoch 5\n",
            "Train Loss: 0.1625, Train Acc: 95.00%, Val Loss: 0.0135, Val Acc: 100.00%\n",
            "Starting epoch 6\n",
            "Train Loss: 0.0083, Train Acc: 100.00%, Val Loss: 0.1446, Val Acc: 90.00%\n",
            "Starting epoch 7\n",
            "Train Loss: 0.0597, Train Acc: 95.00%, Val Loss: 0.0041, Val Acc: 100.00%\n",
            "Starting epoch 8\n",
            "Train Loss: 0.1011, Train Acc: 97.50%, Val Loss: 0.0270, Val Acc: 100.00%\n",
            "Starting epoch 9\n",
            "Train Loss: 0.0537, Train Acc: 97.50%, Val Loss: 0.0057, Val Acc: 100.00%\n",
            "Starting epoch 10\n",
            "Train Loss: 0.2440, Train Acc: 95.00%, Val Loss: 0.0068, Val Acc: 100.00%\n",
            "Starting epoch 11\n",
            "Train Loss: 0.1045, Train Acc: 97.50%, Val Loss: 0.0076, Val Acc: 100.00%\n",
            "Starting epoch 12\n",
            "Train Loss: 0.0065, Train Acc: 100.00%, Val Loss: 0.0066, Val Acc: 100.00%\n",
            "Starting epoch 13\n",
            "Train Loss: 0.0071, Train Acc: 100.00%, Val Loss: 0.0070, Val Acc: 100.00%\n",
            "Starting epoch 14\n",
            "Train Loss: 0.0078, Train Acc: 100.00%, Val Loss: 0.0067, Val Acc: 100.00%\n",
            "Starting epoch 15\n",
            "Train Loss: 0.0150, Train Acc: 100.00%, Val Loss: 0.0188, Val Acc: 100.00%\n",
            "Starting epoch 16\n",
            "Train Loss: 0.0108, Train Acc: 100.00%, Val Loss: 0.0393, Val Acc: 100.00%\n",
            "Starting epoch 17\n",
            "Train Loss: 0.0052, Train Acc: 100.00%, Val Loss: 0.0547, Val Acc: 100.00%\n",
            "Starting epoch 18\n",
            "Train Loss: 0.0047, Train Acc: 100.00%, Val Loss: 0.0347, Val Acc: 100.00%\n",
            "Starting epoch 19\n",
            "Train Loss: 0.0041, Train Acc: 100.00%, Val Loss: 0.0212, Val Acc: 100.00%\n",
            "Starting epoch 20\n",
            "Train Loss: 0.0104, Train Acc: 100.00%, Val Loss: 0.0103, Val Acc: 100.00%\n",
            "Starting epoch 21\n",
            "Train Loss: 0.0183, Train Acc: 97.50%, Val Loss: 0.0089, Val Acc: 100.00%\n",
            "Starting epoch 22\n",
            "Train Loss: 0.0036, Train Acc: 100.00%, Val Loss: 0.0103, Val Acc: 100.00%\n",
            "Starting epoch 23\n",
            "Train Loss: 0.0197, Train Acc: 100.00%, Val Loss: 0.0128, Val Acc: 100.00%\n",
            "Starting epoch 24\n",
            "Train Loss: 0.0066, Train Acc: 100.00%, Val Loss: 0.0192, Val Acc: 100.00%\n",
            "Starting epoch 25\n",
            "Train Loss: 0.0007, Train Acc: 100.00%, Val Loss: 0.0248, Val Acc: 100.00%\n",
            "Starting epoch 26\n",
            "Train Loss: 0.0068, Train Acc: 100.00%, Val Loss: 0.0208, Val Acc: 100.00%\n",
            "Starting epoch 27\n",
            "Train Loss: 0.0050, Train Acc: 100.00%, Val Loss: 0.0180, Val Acc: 100.00%\n",
            "Starting epoch 28\n",
            "Train Loss: 0.0067, Train Acc: 100.00%, Val Loss: 0.0156, Val Acc: 100.00%\n",
            "Starting epoch 29\n",
            "Train Loss: 0.0009, Train Acc: 100.00%, Val Loss: 0.0143, Val Acc: 100.00%\n",
            "Early stopping triggered.\n",
            "--------------------------------\n",
            "Best validation accuracy of 0.00% achieved, model saved as VIT_best_model.pth\n"
          ]
        }
      ]
    },
    {
      "cell_type": "code",
      "source": [
        "model = model.to(device)\n",
        "model.load_state_dict(torch.load('VIT_best_model.pth'))"
      ],
      "metadata": {
        "colab": {
          "base_uri": "https://localhost:8080/"
        },
        "id": "yWMb6wj110q0",
        "outputId": "3971950e-0bf2-401b-f8ac-7e8d4aba19b8"
      },
      "execution_count": 51,
      "outputs": [
        {
          "output_type": "execute_result",
          "data": {
            "text/plain": [
              "<All keys matched successfully>"
            ]
          },
          "metadata": {},
          "execution_count": 51
        }
      ]
    },
    {
      "cell_type": "code",
      "source": [
        "testset = datasets.CIFAR10(root='./data', train=False, download=True, transform=test_transform)"
      ],
      "metadata": {
        "colab": {
          "base_uri": "https://localhost:8080/"
        },
        "id": "2SkDQDL43-7i",
        "outputId": "d925eba2-6a32-424c-e9b7-7e50bb1b087c"
      },
      "execution_count": 52,
      "outputs": [
        {
          "output_type": "stream",
          "name": "stdout",
          "text": [
            "Files already downloaded and verified\n"
          ]
        }
      ]
    },
    {
      "cell_type": "code",
      "source": [
        "test_indices = [i for i, (_, label) in enumerate(testset) if label in selected_classes]\n",
        "N = 1000\n",
        "class_counts = {label: 0 for label in selected_classes}\n",
        "filtered_train_indices = []\n",
        "\n",
        "for i in test_indices:\n",
        "    _, label = testset[i]\n",
        "    if class_counts[label] < N:\n",
        "        filtered_train_indices.append(i)\n",
        "        class_counts[label] += 1\n",
        "\n",
        "test_subset = Subset(testset, filtered_train_indices)\n",
        "test_loader = DataLoader(test_subset, batch_size=50, shuffle=False)"
      ],
      "metadata": {
        "id": "cwgkb-K814jT"
      },
      "execution_count": 53,
      "outputs": []
    },
    {
      "cell_type": "code",
      "source": [
        "# Ensure the model is in evaluation mode\n",
        "model.eval()\n",
        "\n",
        "# Assuming the test_loader and the device are already defined\n",
        "# Define the loss function\n",
        "criterion = nn.CrossEntropyLoss()\n",
        "\n",
        "# Evaluation\n",
        "test_loss = 0\n",
        "correct = 0\n",
        "total = 0\n",
        "\n",
        "# No gradient is needed for evaluation\n",
        "with torch.no_grad():\n",
        "    for data, targets in test_loader:\n",
        "        # Move data and targets to the correct device\n",
        "        data = data.to(device)\n",
        "        targets = targets.to(device)\n",
        "\n",
        "        # Compute the model output\n",
        "        output = model(data)\n",
        "        loss = criterion(output, targets)\n",
        "\n",
        "        # Accumulate the loss and calculate accuracy\n",
        "        test_loss += loss.item()\n",
        "        _, predicted = torch.max(output.data, 1)\n",
        "        total += targets.size(0)\n",
        "        correct += (predicted == targets).sum().item()\n",
        "\n",
        "# Calculate average loss and accuracy percentage\n",
        "VIT_avg_loss = test_loss / len(test_loader)\n",
        "VIT_accuracy = 100. * correct / total\n",
        "\n",
        "# Print the test loss and accuracy\n",
        "print(f'Test Loss: {VIT_avg_loss:.4f}, Test Accuracy: {VIT_accuracy:.2f}%')\n"
      ],
      "metadata": {
        "colab": {
          "base_uri": "https://localhost:8080/"
        },
        "id": "RohrSzM819eo",
        "outputId": "ea604256-e91a-4102-8e11-637a83f399cc"
      },
      "execution_count": 54,
      "outputs": [
        {
          "output_type": "stream",
          "name": "stdout",
          "text": [
            "Test Loss: 0.7818, Test Accuracy: 86.50%\n"
          ]
        }
      ]
    },
    {
      "cell_type": "markdown",
      "source": [
        "Graphs"
      ],
      "metadata": {
        "id": "NVUnWfpS5Q6L"
      }
    },
    {
      "cell_type": "code",
      "source": [
        "selected_classes_mapping = {0: \"Cat\", 1: \"Dog\", 2: \"Bird\", 3: \"Horse\", 4: \"Ship\", 5: \"Truck\", 6: \"Frog\", 7: \"Airplane\", 8: \"Deer\", 9: \"Automobile\"}\n",
        "selected_classes = [selected_classes_mapping[class_num] for class_num in selected_classes]\n",
        "print(f'Randomly selected from CIFAR-10 are {selected_classes}')"
      ],
      "metadata": {
        "colab": {
          "base_uri": "https://localhost:8080/"
        },
        "id": "FATVgQSn6xRy",
        "outputId": "cd30e0e2-0409-424f-a15e-7056bcab7073"
      },
      "execution_count": 55,
      "outputs": [
        {
          "output_type": "stream",
          "name": "stdout",
          "text": [
            "Randomly selected from CIFAR-10 are ['Cat', 'Frog']\n"
          ]
        }
      ]
    },
    {
      "cell_type": "code",
      "source": [
        "import matplotlib.pyplot as plt\n",
        "import seaborn as sns"
      ],
      "metadata": {
        "id": "A502A3vS5SEq"
      },
      "execution_count": 56,
      "outputs": []
    },
    {
      "cell_type": "code",
      "source": [
        "plt.figure(figsize=(10, 6))\n",
        "\n",
        "plt.subplot(1, 2, 1)\n",
        "bars = plt.bar(['SVM','XGBoost', 'Custom CNN', 'Vision Transformer'], [SVM_accuracy_vote_discrete*100,XGBoost_accuracy * 100, Custom_CNN_accuracy, VIT_accuracy], color=['red','blue', 'orange', 'green'])\n",
        "plt.title('Accuracy Comparison')\n",
        "plt.ylabel('Accuracy (%)')\n",
        "plt.ylim(0, 110)\n",
        "\n",
        "# Annotate bars with values\n",
        "for bar in bars:\n",
        "    yval = bar.get_height()\n",
        "    plt.text(bar.get_x() + bar.get_width()/2.0, yval, round(yval, 2), va='bottom')\n",
        "\n",
        "# Loss comparison\n",
        "plt.subplot(1, 2, 2)\n",
        "bars = plt.bar(['Custom CNN', 'Vision Transformer'], [Custom_CNN_avg_loss, VIT_avg_loss], color=['orange', 'green'])\n",
        "plt.title('Average Loss Comparison')\n",
        "plt.ylabel('Average Loss')\n",
        "plt.ylim(0, 3.2)\n",
        "\n",
        "# Annotate bars with values\n",
        "for bar in bars:\n",
        "    yval = bar.get_height()\n",
        "    plt.text(bar.get_x() + bar.get_width()/2.0, yval, round(yval, 2), va='bottom')\n",
        "\n",
        "plt.tight_layout()\n",
        "plt.show()"
      ],
      "metadata": {
        "colab": {
          "base_uri": "https://localhost:8080/",
          "height": 607
        },
        "id": "GalqyuQl5S8K",
        "outputId": "b092a639-fd1c-467d-f375-4805c4b58839"
      },
      "execution_count": 61,
      "outputs": [
        {
          "output_type": "display_data",
          "data": {
            "text/plain": [
              "<Figure size 1000x600 with 2 Axes>"
            ],
            "image/png": "[encoded data removed]"
          },
          "metadata": {}
        }
      ]
    }
  ]
}